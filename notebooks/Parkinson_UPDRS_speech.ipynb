{
  "nbformat": 4,
  "nbformat_minor": 0,
  "metadata": {
    "colab": {
      "provenance": []
    },
    "kernelspec": {
      "name": "python3",
      "display_name": "Python 3"
    },
    "language_info": {
      "name": "python"
    }
  },
  "cells": [
    {
      "cell_type": "code",
      "metadata": {
        "id": "5bDJGsbKoqTu",
        "colab": {
          "base_uri": "https://localhost:8080/"
        },
        "outputId": "ca5a3a6f-b735-4579-c27c-b2e16fe95052"
      },
      "source": [
        "%matplotlib inline\n",
        "import pandas as pd\n",
        "import matplotlib.pyplot as plt\n",
        "import numpy as np\n",
        "from scipy import stats\n",
        "import seaborn as sns\n",
        "import statsmodels.api as sm\n",
        "from sklearn import linear_model\n",
        "from sklearn import svm\n",
        "from sklearn.preprocessing import StandardScaler\n",
        "from sklearn.metrics import accuracy_score\n",
        "from sklearn.model_selection import train_test_split"
      ],
      "execution_count": null,
      "outputs": [
        {
          "output_type": "stream",
          "name": "stderr",
          "text": [
            "/usr/local/lib/python3.7/dist-packages/statsmodels/tools/_testing.py:19: FutureWarning: pandas.util.testing is deprecated. Use the functions in the public API at pandas.testing instead.\n",
            "  import pandas.util.testing as tm\n"
          ]
        }
      ]
    },
    {
      "cell_type": "markdown",
      "metadata": {
        "id": "BJvBwru4o6X2"
      },
      "source": [
        "Data Analysis and Data Preprocessing"
      ]
    },
    {
      "cell_type": "code",
      "metadata": {
        "id": "dhCvU6WKo86Y"
      },
      "source": [
        "psu_data = pd.read_csv('/content/parkinsons_updrs.csv')"
      ],
      "execution_count": null,
      "outputs": []
    },
    {
      "cell_type": "code",
      "metadata": {
        "colab": {
          "base_uri": "https://localhost:8080/",
          "height": 437
        },
        "id": "1XJi3EklpKY0",
        "outputId": "5fbbccd8-76a1-4512-92b3-f39214a0cf56"
      },
      "source": [
        "psu_data"
      ],
      "execution_count": null,
      "outputs": [
        {
          "output_type": "execute_result",
          "data": {
            "text/html": [
              "<div>\n",
              "<style scoped>\n",
              "    .dataframe tbody tr th:only-of-type {\n",
              "        vertical-align: middle;\n",
              "    }\n",
              "\n",
              "    .dataframe tbody tr th {\n",
              "        vertical-align: top;\n",
              "    }\n",
              "\n",
              "    .dataframe thead th {\n",
              "        text-align: right;\n",
              "    }\n",
              "</style>\n",
              "<table border=\"1\" class=\"dataframe\">\n",
              "  <thead>\n",
              "    <tr style=\"text-align: right;\">\n",
              "      <th></th>\n",
              "      <th>subject#</th>\n",
              "      <th>age</th>\n",
              "      <th>sex</th>\n",
              "      <th>test_time</th>\n",
              "      <th>motor_UPDRS</th>\n",
              "      <th>total_UPDRS</th>\n",
              "      <th>Jitter(%)</th>\n",
              "      <th>Jitter(Abs)</th>\n",
              "      <th>Jitter:RAP</th>\n",
              "      <th>Jitter:PPQ5</th>\n",
              "      <th>Jitter:DDP</th>\n",
              "      <th>Shimmer</th>\n",
              "      <th>Shimmer(dB)</th>\n",
              "      <th>Shimmer:APQ3</th>\n",
              "      <th>Shimmer:APQ5</th>\n",
              "      <th>Shimmer:APQ11</th>\n",
              "      <th>Shimmer:DDA</th>\n",
              "      <th>NHR</th>\n",
              "      <th>HNR</th>\n",
              "      <th>RPDE</th>\n",
              "      <th>DFA</th>\n",
              "      <th>PPE</th>\n",
              "    </tr>\n",
              "  </thead>\n",
              "  <tbody>\n",
              "    <tr>\n",
              "      <th>0</th>\n",
              "      <td>1</td>\n",
              "      <td>72</td>\n",
              "      <td>0</td>\n",
              "      <td>5.6431</td>\n",
              "      <td>28.199</td>\n",
              "      <td>34.398</td>\n",
              "      <td>0.00662</td>\n",
              "      <td>0.000034</td>\n",
              "      <td>0.00401</td>\n",
              "      <td>0.00317</td>\n",
              "      <td>0.01204</td>\n",
              "      <td>0.02565</td>\n",
              "      <td>0.230</td>\n",
              "      <td>0.01438</td>\n",
              "      <td>0.01309</td>\n",
              "      <td>0.01662</td>\n",
              "      <td>0.04314</td>\n",
              "      <td>0.014290</td>\n",
              "      <td>21.640</td>\n",
              "      <td>0.41888</td>\n",
              "      <td>0.54842</td>\n",
              "      <td>0.16006</td>\n",
              "    </tr>\n",
              "    <tr>\n",
              "      <th>1</th>\n",
              "      <td>1</td>\n",
              "      <td>72</td>\n",
              "      <td>0</td>\n",
              "      <td>12.6660</td>\n",
              "      <td>28.447</td>\n",
              "      <td>34.894</td>\n",
              "      <td>0.00300</td>\n",
              "      <td>0.000017</td>\n",
              "      <td>0.00132</td>\n",
              "      <td>0.00150</td>\n",
              "      <td>0.00395</td>\n",
              "      <td>0.02024</td>\n",
              "      <td>0.179</td>\n",
              "      <td>0.00994</td>\n",
              "      <td>0.01072</td>\n",
              "      <td>0.01689</td>\n",
              "      <td>0.02982</td>\n",
              "      <td>0.011112</td>\n",
              "      <td>27.183</td>\n",
              "      <td>0.43493</td>\n",
              "      <td>0.56477</td>\n",
              "      <td>0.10810</td>\n",
              "    </tr>\n",
              "    <tr>\n",
              "      <th>2</th>\n",
              "      <td>1</td>\n",
              "      <td>72</td>\n",
              "      <td>0</td>\n",
              "      <td>19.6810</td>\n",
              "      <td>28.695</td>\n",
              "      <td>35.389</td>\n",
              "      <td>0.00481</td>\n",
              "      <td>0.000025</td>\n",
              "      <td>0.00205</td>\n",
              "      <td>0.00208</td>\n",
              "      <td>0.00616</td>\n",
              "      <td>0.01675</td>\n",
              "      <td>0.181</td>\n",
              "      <td>0.00734</td>\n",
              "      <td>0.00844</td>\n",
              "      <td>0.01458</td>\n",
              "      <td>0.02202</td>\n",
              "      <td>0.020220</td>\n",
              "      <td>23.047</td>\n",
              "      <td>0.46222</td>\n",
              "      <td>0.54405</td>\n",
              "      <td>0.21014</td>\n",
              "    </tr>\n",
              "    <tr>\n",
              "      <th>3</th>\n",
              "      <td>1</td>\n",
              "      <td>72</td>\n",
              "      <td>0</td>\n",
              "      <td>25.6470</td>\n",
              "      <td>28.905</td>\n",
              "      <td>35.810</td>\n",
              "      <td>0.00528</td>\n",
              "      <td>0.000027</td>\n",
              "      <td>0.00191</td>\n",
              "      <td>0.00264</td>\n",
              "      <td>0.00573</td>\n",
              "      <td>0.02309</td>\n",
              "      <td>0.327</td>\n",
              "      <td>0.01106</td>\n",
              "      <td>0.01265</td>\n",
              "      <td>0.01963</td>\n",
              "      <td>0.03317</td>\n",
              "      <td>0.027837</td>\n",
              "      <td>24.445</td>\n",
              "      <td>0.48730</td>\n",
              "      <td>0.57794</td>\n",
              "      <td>0.33277</td>\n",
              "    </tr>\n",
              "    <tr>\n",
              "      <th>4</th>\n",
              "      <td>1</td>\n",
              "      <td>72</td>\n",
              "      <td>0</td>\n",
              "      <td>33.6420</td>\n",
              "      <td>29.187</td>\n",
              "      <td>36.375</td>\n",
              "      <td>0.00335</td>\n",
              "      <td>0.000020</td>\n",
              "      <td>0.00093</td>\n",
              "      <td>0.00130</td>\n",
              "      <td>0.00278</td>\n",
              "      <td>0.01703</td>\n",
              "      <td>0.176</td>\n",
              "      <td>0.00679</td>\n",
              "      <td>0.00929</td>\n",
              "      <td>0.01819</td>\n",
              "      <td>0.02036</td>\n",
              "      <td>0.011625</td>\n",
              "      <td>26.126</td>\n",
              "      <td>0.47188</td>\n",
              "      <td>0.56122</td>\n",
              "      <td>0.19361</td>\n",
              "    </tr>\n",
              "    <tr>\n",
              "      <th>...</th>\n",
              "      <td>...</td>\n",
              "      <td>...</td>\n",
              "      <td>...</td>\n",
              "      <td>...</td>\n",
              "      <td>...</td>\n",
              "      <td>...</td>\n",
              "      <td>...</td>\n",
              "      <td>...</td>\n",
              "      <td>...</td>\n",
              "      <td>...</td>\n",
              "      <td>...</td>\n",
              "      <td>...</td>\n",
              "      <td>...</td>\n",
              "      <td>...</td>\n",
              "      <td>...</td>\n",
              "      <td>...</td>\n",
              "      <td>...</td>\n",
              "      <td>...</td>\n",
              "      <td>...</td>\n",
              "      <td>...</td>\n",
              "      <td>...</td>\n",
              "      <td>...</td>\n",
              "    </tr>\n",
              "    <tr>\n",
              "      <th>5870</th>\n",
              "      <td>42</td>\n",
              "      <td>61</td>\n",
              "      <td>0</td>\n",
              "      <td>142.7900</td>\n",
              "      <td>22.485</td>\n",
              "      <td>33.485</td>\n",
              "      <td>0.00406</td>\n",
              "      <td>0.000031</td>\n",
              "      <td>0.00167</td>\n",
              "      <td>0.00168</td>\n",
              "      <td>0.00500</td>\n",
              "      <td>0.01896</td>\n",
              "      <td>0.160</td>\n",
              "      <td>0.00973</td>\n",
              "      <td>0.01133</td>\n",
              "      <td>0.01549</td>\n",
              "      <td>0.02920</td>\n",
              "      <td>0.025137</td>\n",
              "      <td>22.369</td>\n",
              "      <td>0.64215</td>\n",
              "      <td>0.55314</td>\n",
              "      <td>0.21367</td>\n",
              "    </tr>\n",
              "    <tr>\n",
              "      <th>5871</th>\n",
              "      <td>42</td>\n",
              "      <td>61</td>\n",
              "      <td>0</td>\n",
              "      <td>149.8400</td>\n",
              "      <td>21.988</td>\n",
              "      <td>32.988</td>\n",
              "      <td>0.00297</td>\n",
              "      <td>0.000025</td>\n",
              "      <td>0.00119</td>\n",
              "      <td>0.00147</td>\n",
              "      <td>0.00358</td>\n",
              "      <td>0.02315</td>\n",
              "      <td>0.215</td>\n",
              "      <td>0.01052</td>\n",
              "      <td>0.01277</td>\n",
              "      <td>0.01904</td>\n",
              "      <td>0.03157</td>\n",
              "      <td>0.011927</td>\n",
              "      <td>22.886</td>\n",
              "      <td>0.52598</td>\n",
              "      <td>0.56518</td>\n",
              "      <td>0.12621</td>\n",
              "    </tr>\n",
              "    <tr>\n",
              "      <th>5872</th>\n",
              "      <td>42</td>\n",
              "      <td>61</td>\n",
              "      <td>0</td>\n",
              "      <td>156.8200</td>\n",
              "      <td>21.495</td>\n",
              "      <td>32.495</td>\n",
              "      <td>0.00349</td>\n",
              "      <td>0.000025</td>\n",
              "      <td>0.00152</td>\n",
              "      <td>0.00187</td>\n",
              "      <td>0.00456</td>\n",
              "      <td>0.02499</td>\n",
              "      <td>0.244</td>\n",
              "      <td>0.01371</td>\n",
              "      <td>0.01456</td>\n",
              "      <td>0.01877</td>\n",
              "      <td>0.04112</td>\n",
              "      <td>0.017701</td>\n",
              "      <td>25.065</td>\n",
              "      <td>0.47792</td>\n",
              "      <td>0.57888</td>\n",
              "      <td>0.14157</td>\n",
              "    </tr>\n",
              "    <tr>\n",
              "      <th>5873</th>\n",
              "      <td>42</td>\n",
              "      <td>61</td>\n",
              "      <td>0</td>\n",
              "      <td>163.7300</td>\n",
              "      <td>21.007</td>\n",
              "      <td>32.007</td>\n",
              "      <td>0.00281</td>\n",
              "      <td>0.000020</td>\n",
              "      <td>0.00128</td>\n",
              "      <td>0.00151</td>\n",
              "      <td>0.00383</td>\n",
              "      <td>0.01484</td>\n",
              "      <td>0.131</td>\n",
              "      <td>0.00693</td>\n",
              "      <td>0.00870</td>\n",
              "      <td>0.01307</td>\n",
              "      <td>0.02078</td>\n",
              "      <td>0.007984</td>\n",
              "      <td>24.422</td>\n",
              "      <td>0.56865</td>\n",
              "      <td>0.56327</td>\n",
              "      <td>0.14204</td>\n",
              "    </tr>\n",
              "    <tr>\n",
              "      <th>5874</th>\n",
              "      <td>42</td>\n",
              "      <td>61</td>\n",
              "      <td>0</td>\n",
              "      <td>170.7300</td>\n",
              "      <td>20.513</td>\n",
              "      <td>31.513</td>\n",
              "      <td>0.00282</td>\n",
              "      <td>0.000021</td>\n",
              "      <td>0.00135</td>\n",
              "      <td>0.00166</td>\n",
              "      <td>0.00406</td>\n",
              "      <td>0.01907</td>\n",
              "      <td>0.171</td>\n",
              "      <td>0.00946</td>\n",
              "      <td>0.01154</td>\n",
              "      <td>0.01470</td>\n",
              "      <td>0.02839</td>\n",
              "      <td>0.008172</td>\n",
              "      <td>23.259</td>\n",
              "      <td>0.58608</td>\n",
              "      <td>0.57077</td>\n",
              "      <td>0.15336</td>\n",
              "    </tr>\n",
              "  </tbody>\n",
              "</table>\n",
              "<p>5875 rows × 22 columns</p>\n",
              "</div>"
            ],
            "text/plain": [
              "      subject#  age  sex  test_time  ...     HNR     RPDE      DFA      PPE\n",
              "0            1   72    0     5.6431  ...  21.640  0.41888  0.54842  0.16006\n",
              "1            1   72    0    12.6660  ...  27.183  0.43493  0.56477  0.10810\n",
              "2            1   72    0    19.6810  ...  23.047  0.46222  0.54405  0.21014\n",
              "3            1   72    0    25.6470  ...  24.445  0.48730  0.57794  0.33277\n",
              "4            1   72    0    33.6420  ...  26.126  0.47188  0.56122  0.19361\n",
              "...        ...  ...  ...        ...  ...     ...      ...      ...      ...\n",
              "5870        42   61    0   142.7900  ...  22.369  0.64215  0.55314  0.21367\n",
              "5871        42   61    0   149.8400  ...  22.886  0.52598  0.56518  0.12621\n",
              "5872        42   61    0   156.8200  ...  25.065  0.47792  0.57888  0.14157\n",
              "5873        42   61    0   163.7300  ...  24.422  0.56865  0.56327  0.14204\n",
              "5874        42   61    0   170.7300  ...  23.259  0.58608  0.57077  0.15336\n",
              "\n",
              "[5875 rows x 22 columns]"
            ]
          },
          "metadata": {},
          "execution_count": 3
        }
      ]
    },
    {
      "cell_type": "code",
      "metadata": {
        "colab": {
          "base_uri": "https://localhost:8080/",
          "height": 223
        },
        "id": "cQqeLgGbpTmX",
        "outputId": "30420eee-ca85-47d8-e222-2627ad36fda5"
      },
      "source": [
        "psu_data.head()"
      ],
      "execution_count": null,
      "outputs": [
        {
          "output_type": "execute_result",
          "data": {
            "text/html": [
              "<div>\n",
              "<style scoped>\n",
              "    .dataframe tbody tr th:only-of-type {\n",
              "        vertical-align: middle;\n",
              "    }\n",
              "\n",
              "    .dataframe tbody tr th {\n",
              "        vertical-align: top;\n",
              "    }\n",
              "\n",
              "    .dataframe thead th {\n",
              "        text-align: right;\n",
              "    }\n",
              "</style>\n",
              "<table border=\"1\" class=\"dataframe\">\n",
              "  <thead>\n",
              "    <tr style=\"text-align: right;\">\n",
              "      <th></th>\n",
              "      <th>subject#</th>\n",
              "      <th>age</th>\n",
              "      <th>sex</th>\n",
              "      <th>test_time</th>\n",
              "      <th>motor_UPDRS</th>\n",
              "      <th>total_UPDRS</th>\n",
              "      <th>Jitter(%)</th>\n",
              "      <th>Jitter(Abs)</th>\n",
              "      <th>Jitter:RAP</th>\n",
              "      <th>Jitter:PPQ5</th>\n",
              "      <th>Jitter:DDP</th>\n",
              "      <th>Shimmer</th>\n",
              "      <th>Shimmer(dB)</th>\n",
              "      <th>Shimmer:APQ3</th>\n",
              "      <th>Shimmer:APQ5</th>\n",
              "      <th>Shimmer:APQ11</th>\n",
              "      <th>Shimmer:DDA</th>\n",
              "      <th>NHR</th>\n",
              "      <th>HNR</th>\n",
              "      <th>RPDE</th>\n",
              "      <th>DFA</th>\n",
              "      <th>PPE</th>\n",
              "    </tr>\n",
              "  </thead>\n",
              "  <tbody>\n",
              "    <tr>\n",
              "      <th>0</th>\n",
              "      <td>1</td>\n",
              "      <td>72</td>\n",
              "      <td>0</td>\n",
              "      <td>5.6431</td>\n",
              "      <td>28.199</td>\n",
              "      <td>34.398</td>\n",
              "      <td>0.00662</td>\n",
              "      <td>0.000034</td>\n",
              "      <td>0.00401</td>\n",
              "      <td>0.00317</td>\n",
              "      <td>0.01204</td>\n",
              "      <td>0.02565</td>\n",
              "      <td>0.230</td>\n",
              "      <td>0.01438</td>\n",
              "      <td>0.01309</td>\n",
              "      <td>0.01662</td>\n",
              "      <td>0.04314</td>\n",
              "      <td>0.014290</td>\n",
              "      <td>21.640</td>\n",
              "      <td>0.41888</td>\n",
              "      <td>0.54842</td>\n",
              "      <td>0.16006</td>\n",
              "    </tr>\n",
              "    <tr>\n",
              "      <th>1</th>\n",
              "      <td>1</td>\n",
              "      <td>72</td>\n",
              "      <td>0</td>\n",
              "      <td>12.6660</td>\n",
              "      <td>28.447</td>\n",
              "      <td>34.894</td>\n",
              "      <td>0.00300</td>\n",
              "      <td>0.000017</td>\n",
              "      <td>0.00132</td>\n",
              "      <td>0.00150</td>\n",
              "      <td>0.00395</td>\n",
              "      <td>0.02024</td>\n",
              "      <td>0.179</td>\n",
              "      <td>0.00994</td>\n",
              "      <td>0.01072</td>\n",
              "      <td>0.01689</td>\n",
              "      <td>0.02982</td>\n",
              "      <td>0.011112</td>\n",
              "      <td>27.183</td>\n",
              "      <td>0.43493</td>\n",
              "      <td>0.56477</td>\n",
              "      <td>0.10810</td>\n",
              "    </tr>\n",
              "    <tr>\n",
              "      <th>2</th>\n",
              "      <td>1</td>\n",
              "      <td>72</td>\n",
              "      <td>0</td>\n",
              "      <td>19.6810</td>\n",
              "      <td>28.695</td>\n",
              "      <td>35.389</td>\n",
              "      <td>0.00481</td>\n",
              "      <td>0.000025</td>\n",
              "      <td>0.00205</td>\n",
              "      <td>0.00208</td>\n",
              "      <td>0.00616</td>\n",
              "      <td>0.01675</td>\n",
              "      <td>0.181</td>\n",
              "      <td>0.00734</td>\n",
              "      <td>0.00844</td>\n",
              "      <td>0.01458</td>\n",
              "      <td>0.02202</td>\n",
              "      <td>0.020220</td>\n",
              "      <td>23.047</td>\n",
              "      <td>0.46222</td>\n",
              "      <td>0.54405</td>\n",
              "      <td>0.21014</td>\n",
              "    </tr>\n",
              "    <tr>\n",
              "      <th>3</th>\n",
              "      <td>1</td>\n",
              "      <td>72</td>\n",
              "      <td>0</td>\n",
              "      <td>25.6470</td>\n",
              "      <td>28.905</td>\n",
              "      <td>35.810</td>\n",
              "      <td>0.00528</td>\n",
              "      <td>0.000027</td>\n",
              "      <td>0.00191</td>\n",
              "      <td>0.00264</td>\n",
              "      <td>0.00573</td>\n",
              "      <td>0.02309</td>\n",
              "      <td>0.327</td>\n",
              "      <td>0.01106</td>\n",
              "      <td>0.01265</td>\n",
              "      <td>0.01963</td>\n",
              "      <td>0.03317</td>\n",
              "      <td>0.027837</td>\n",
              "      <td>24.445</td>\n",
              "      <td>0.48730</td>\n",
              "      <td>0.57794</td>\n",
              "      <td>0.33277</td>\n",
              "    </tr>\n",
              "    <tr>\n",
              "      <th>4</th>\n",
              "      <td>1</td>\n",
              "      <td>72</td>\n",
              "      <td>0</td>\n",
              "      <td>33.6420</td>\n",
              "      <td>29.187</td>\n",
              "      <td>36.375</td>\n",
              "      <td>0.00335</td>\n",
              "      <td>0.000020</td>\n",
              "      <td>0.00093</td>\n",
              "      <td>0.00130</td>\n",
              "      <td>0.00278</td>\n",
              "      <td>0.01703</td>\n",
              "      <td>0.176</td>\n",
              "      <td>0.00679</td>\n",
              "      <td>0.00929</td>\n",
              "      <td>0.01819</td>\n",
              "      <td>0.02036</td>\n",
              "      <td>0.011625</td>\n",
              "      <td>26.126</td>\n",
              "      <td>0.47188</td>\n",
              "      <td>0.56122</td>\n",
              "      <td>0.19361</td>\n",
              "    </tr>\n",
              "  </tbody>\n",
              "</table>\n",
              "</div>"
            ],
            "text/plain": [
              "   subject#  age  sex  test_time  ...     HNR     RPDE      DFA      PPE\n",
              "0         1   72    0     5.6431  ...  21.640  0.41888  0.54842  0.16006\n",
              "1         1   72    0    12.6660  ...  27.183  0.43493  0.56477  0.10810\n",
              "2         1   72    0    19.6810  ...  23.047  0.46222  0.54405  0.21014\n",
              "3         1   72    0    25.6470  ...  24.445  0.48730  0.57794  0.33277\n",
              "4         1   72    0    33.6420  ...  26.126  0.47188  0.56122  0.19361\n",
              "\n",
              "[5 rows x 22 columns]"
            ]
          },
          "metadata": {},
          "execution_count": 5
        }
      ]
    },
    {
      "cell_type": "markdown",
      "metadata": {
        "id": "TZ-XkJe5p0KH"
      },
      "source": [
        "There is a status column which has two entries:\n",
        "1: Parkinson's patient\n",
        "0: Healthy patient\n",
        "\n",
        "This dataset is composed of a range of biomedical voice measurements from 31 people, 23 with Parkinson's disease (PD). Each column in the table is a particular voice measure, and each row corresponds one of 195 voice recording from these individuals (\"name\" column). The main aim of the data is to discriminate healthy people from those with PD, according to \"status\" column which is set to 0 for healthy and 1 for PD.\n"
      ]
    },
    {
      "cell_type": "code",
      "metadata": {
        "colab": {
          "base_uri": "https://localhost:8080/"
        },
        "id": "vIwcBd6XC_nb",
        "outputId": "ecc3d993-dbc5-4577-9a57-570b33e254fc"
      },
      "source": [
        "ps_data['status'].value_counts()"
      ],
      "execution_count": null,
      "outputs": [
        {
          "output_type": "execute_result",
          "data": {
            "text/plain": [
              "1    147\n",
              "0     48\n",
              "Name: status, dtype: int64"
            ]
          },
          "metadata": {},
          "execution_count": 49
        }
      ]
    },
    {
      "cell_type": "code",
      "metadata": {
        "colab": {
          "base_uri": "https://localhost:8080/"
        },
        "id": "q1DtzmZ9phBj",
        "outputId": "e378652a-857a-4012-9390-9527d1ee74cd"
      },
      "source": [
        "ps_data.info()"
      ],
      "execution_count": null,
      "outputs": [
        {
          "output_type": "stream",
          "name": "stdout",
          "text": [
            "<class 'pandas.core.frame.DataFrame'>\n",
            "RangeIndex: 195 entries, 0 to 194\n",
            "Data columns (total 24 columns):\n",
            " #   Column            Non-Null Count  Dtype  \n",
            "---  ------            --------------  -----  \n",
            " 0   name              195 non-null    object \n",
            " 1   MDVP:Fo(Hz)       195 non-null    float64\n",
            " 2   MDVP:Fhi(Hz)      195 non-null    float64\n",
            " 3   MDVP:Flo(Hz)      195 non-null    float64\n",
            " 4   MDVP:Jitter(%)    195 non-null    float64\n",
            " 5   MDVP:Jitter(Abs)  195 non-null    float64\n",
            " 6   MDVP:RAP          195 non-null    float64\n",
            " 7   MDVP:PPQ          195 non-null    float64\n",
            " 8   Jitter:DDP        195 non-null    float64\n",
            " 9   MDVP:Shimmer      195 non-null    float64\n",
            " 10  MDVP:Shimmer(dB)  195 non-null    float64\n",
            " 11  Shimmer:APQ3      195 non-null    float64\n",
            " 12  Shimmer:APQ5      195 non-null    float64\n",
            " 13  MDVP:APQ          195 non-null    float64\n",
            " 14  Shimmer:DDA       195 non-null    float64\n",
            " 15  NHR               195 non-null    float64\n",
            " 16  HNR               195 non-null    float64\n",
            " 17  status            195 non-null    int64  \n",
            " 18  RPDE              195 non-null    float64\n",
            " 19  DFA               195 non-null    float64\n",
            " 20  spread1           195 non-null    float64\n",
            " 21  spread2           195 non-null    float64\n",
            " 22  D2                195 non-null    float64\n",
            " 23  PPE               195 non-null    float64\n",
            "dtypes: float64(22), int64(1), object(1)\n",
            "memory usage: 36.7+ KB\n"
          ]
        }
      ]
    },
    {
      "cell_type": "code",
      "metadata": {
        "colab": {
          "base_uri": "https://localhost:8080/"
        },
        "id": "jp_-RELVrlEa",
        "outputId": "2c6480dc-ea52-4dbf-abf1-ca03ba44983f"
      },
      "source": [
        "q = ps_data.shape\n",
        "print(q)\n",
        "print(\"Checking for null values\")\n",
        "ps_data.isnull().sum()"
      ],
      "execution_count": null,
      "outputs": [
        {
          "output_type": "stream",
          "name": "stdout",
          "text": [
            "(195, 24)\n",
            "Checking for null values\n"
          ]
        },
        {
          "output_type": "execute_result",
          "data": {
            "text/plain": [
              "name                0\n",
              "MDVP:Fo(Hz)         0\n",
              "MDVP:Fhi(Hz)        0\n",
              "MDVP:Flo(Hz)        0\n",
              "MDVP:Jitter(%)      0\n",
              "MDVP:Jitter(Abs)    0\n",
              "MDVP:RAP            0\n",
              "MDVP:PPQ            0\n",
              "Jitter:DDP          0\n",
              "MDVP:Shimmer        0\n",
              "MDVP:Shimmer(dB)    0\n",
              "Shimmer:APQ3        0\n",
              "Shimmer:APQ5        0\n",
              "MDVP:APQ            0\n",
              "Shimmer:DDA         0\n",
              "NHR                 0\n",
              "HNR                 0\n",
              "status              0\n",
              "RPDE                0\n",
              "DFA                 0\n",
              "spread1             0\n",
              "spread2             0\n",
              "D2                  0\n",
              "PPE                 0\n",
              "dtype: int64"
            ]
          },
          "metadata": {},
          "execution_count": 51
        }
      ]
    },
    {
      "cell_type": "code",
      "metadata": {
        "colab": {
          "base_uri": "https://localhost:8080/",
          "height": 315
        },
        "id": "CyloGoOPru9q",
        "outputId": "53419e57-f1b7-4ddc-987c-eee6fa9aef04"
      },
      "source": [
        "ps_data.describe()"
      ],
      "execution_count": null,
      "outputs": [
        {
          "output_type": "execute_result",
          "data": {
            "text/html": [
              "<div>\n",
              "<style scoped>\n",
              "    .dataframe tbody tr th:only-of-type {\n",
              "        vertical-align: middle;\n",
              "    }\n",
              "\n",
              "    .dataframe tbody tr th {\n",
              "        vertical-align: top;\n",
              "    }\n",
              "\n",
              "    .dataframe thead th {\n",
              "        text-align: right;\n",
              "    }\n",
              "</style>\n",
              "<table border=\"1\" class=\"dataframe\">\n",
              "  <thead>\n",
              "    <tr style=\"text-align: right;\">\n",
              "      <th></th>\n",
              "      <th>MDVP:Fo(Hz)</th>\n",
              "      <th>MDVP:Fhi(Hz)</th>\n",
              "      <th>MDVP:Flo(Hz)</th>\n",
              "      <th>MDVP:Jitter(%)</th>\n",
              "      <th>MDVP:Jitter(Abs)</th>\n",
              "      <th>MDVP:RAP</th>\n",
              "      <th>MDVP:PPQ</th>\n",
              "      <th>Jitter:DDP</th>\n",
              "      <th>MDVP:Shimmer</th>\n",
              "      <th>MDVP:Shimmer(dB)</th>\n",
              "      <th>Shimmer:APQ3</th>\n",
              "      <th>Shimmer:APQ5</th>\n",
              "      <th>MDVP:APQ</th>\n",
              "      <th>Shimmer:DDA</th>\n",
              "      <th>NHR</th>\n",
              "      <th>HNR</th>\n",
              "      <th>status</th>\n",
              "      <th>RPDE</th>\n",
              "      <th>DFA</th>\n",
              "      <th>spread1</th>\n",
              "      <th>spread2</th>\n",
              "      <th>D2</th>\n",
              "      <th>PPE</th>\n",
              "    </tr>\n",
              "  </thead>\n",
              "  <tbody>\n",
              "    <tr>\n",
              "      <th>count</th>\n",
              "      <td>195.000000</td>\n",
              "      <td>195.000000</td>\n",
              "      <td>195.000000</td>\n",
              "      <td>195.000000</td>\n",
              "      <td>195.000000</td>\n",
              "      <td>195.000000</td>\n",
              "      <td>195.000000</td>\n",
              "      <td>195.000000</td>\n",
              "      <td>195.000000</td>\n",
              "      <td>195.000000</td>\n",
              "      <td>195.000000</td>\n",
              "      <td>195.000000</td>\n",
              "      <td>195.000000</td>\n",
              "      <td>195.000000</td>\n",
              "      <td>195.000000</td>\n",
              "      <td>195.000000</td>\n",
              "      <td>195.000000</td>\n",
              "      <td>195.000000</td>\n",
              "      <td>195.000000</td>\n",
              "      <td>195.000000</td>\n",
              "      <td>195.000000</td>\n",
              "      <td>195.000000</td>\n",
              "      <td>195.000000</td>\n",
              "    </tr>\n",
              "    <tr>\n",
              "      <th>mean</th>\n",
              "      <td>154.228641</td>\n",
              "      <td>197.104918</td>\n",
              "      <td>116.324631</td>\n",
              "      <td>0.006220</td>\n",
              "      <td>0.000044</td>\n",
              "      <td>0.003306</td>\n",
              "      <td>0.003446</td>\n",
              "      <td>0.009920</td>\n",
              "      <td>0.029709</td>\n",
              "      <td>0.282251</td>\n",
              "      <td>0.015664</td>\n",
              "      <td>0.017878</td>\n",
              "      <td>0.024081</td>\n",
              "      <td>0.046993</td>\n",
              "      <td>0.024847</td>\n",
              "      <td>21.885974</td>\n",
              "      <td>0.753846</td>\n",
              "      <td>0.498536</td>\n",
              "      <td>0.718099</td>\n",
              "      <td>-5.684397</td>\n",
              "      <td>0.226510</td>\n",
              "      <td>2.381826</td>\n",
              "      <td>0.206552</td>\n",
              "    </tr>\n",
              "    <tr>\n",
              "      <th>std</th>\n",
              "      <td>41.390065</td>\n",
              "      <td>91.491548</td>\n",
              "      <td>43.521413</td>\n",
              "      <td>0.004848</td>\n",
              "      <td>0.000035</td>\n",
              "      <td>0.002968</td>\n",
              "      <td>0.002759</td>\n",
              "      <td>0.008903</td>\n",
              "      <td>0.018857</td>\n",
              "      <td>0.194877</td>\n",
              "      <td>0.010153</td>\n",
              "      <td>0.012024</td>\n",
              "      <td>0.016947</td>\n",
              "      <td>0.030459</td>\n",
              "      <td>0.040418</td>\n",
              "      <td>4.425764</td>\n",
              "      <td>0.431878</td>\n",
              "      <td>0.103942</td>\n",
              "      <td>0.055336</td>\n",
              "      <td>1.090208</td>\n",
              "      <td>0.083406</td>\n",
              "      <td>0.382799</td>\n",
              "      <td>0.090119</td>\n",
              "    </tr>\n",
              "    <tr>\n",
              "      <th>min</th>\n",
              "      <td>88.333000</td>\n",
              "      <td>102.145000</td>\n",
              "      <td>65.476000</td>\n",
              "      <td>0.001680</td>\n",
              "      <td>0.000007</td>\n",
              "      <td>0.000680</td>\n",
              "      <td>0.000920</td>\n",
              "      <td>0.002040</td>\n",
              "      <td>0.009540</td>\n",
              "      <td>0.085000</td>\n",
              "      <td>0.004550</td>\n",
              "      <td>0.005700</td>\n",
              "      <td>0.007190</td>\n",
              "      <td>0.013640</td>\n",
              "      <td>0.000650</td>\n",
              "      <td>8.441000</td>\n",
              "      <td>0.000000</td>\n",
              "      <td>0.256570</td>\n",
              "      <td>0.574282</td>\n",
              "      <td>-7.964984</td>\n",
              "      <td>0.006274</td>\n",
              "      <td>1.423287</td>\n",
              "      <td>0.044539</td>\n",
              "    </tr>\n",
              "    <tr>\n",
              "      <th>25%</th>\n",
              "      <td>117.572000</td>\n",
              "      <td>134.862500</td>\n",
              "      <td>84.291000</td>\n",
              "      <td>0.003460</td>\n",
              "      <td>0.000020</td>\n",
              "      <td>0.001660</td>\n",
              "      <td>0.001860</td>\n",
              "      <td>0.004985</td>\n",
              "      <td>0.016505</td>\n",
              "      <td>0.148500</td>\n",
              "      <td>0.008245</td>\n",
              "      <td>0.009580</td>\n",
              "      <td>0.013080</td>\n",
              "      <td>0.024735</td>\n",
              "      <td>0.005925</td>\n",
              "      <td>19.198000</td>\n",
              "      <td>1.000000</td>\n",
              "      <td>0.421306</td>\n",
              "      <td>0.674758</td>\n",
              "      <td>-6.450096</td>\n",
              "      <td>0.174351</td>\n",
              "      <td>2.099125</td>\n",
              "      <td>0.137451</td>\n",
              "    </tr>\n",
              "    <tr>\n",
              "      <th>50%</th>\n",
              "      <td>148.790000</td>\n",
              "      <td>175.829000</td>\n",
              "      <td>104.315000</td>\n",
              "      <td>0.004940</td>\n",
              "      <td>0.000030</td>\n",
              "      <td>0.002500</td>\n",
              "      <td>0.002690</td>\n",
              "      <td>0.007490</td>\n",
              "      <td>0.022970</td>\n",
              "      <td>0.221000</td>\n",
              "      <td>0.012790</td>\n",
              "      <td>0.013470</td>\n",
              "      <td>0.018260</td>\n",
              "      <td>0.038360</td>\n",
              "      <td>0.011660</td>\n",
              "      <td>22.085000</td>\n",
              "      <td>1.000000</td>\n",
              "      <td>0.495954</td>\n",
              "      <td>0.722254</td>\n",
              "      <td>-5.720868</td>\n",
              "      <td>0.218885</td>\n",
              "      <td>2.361532</td>\n",
              "      <td>0.194052</td>\n",
              "    </tr>\n",
              "    <tr>\n",
              "      <th>75%</th>\n",
              "      <td>182.769000</td>\n",
              "      <td>224.205500</td>\n",
              "      <td>140.018500</td>\n",
              "      <td>0.007365</td>\n",
              "      <td>0.000060</td>\n",
              "      <td>0.003835</td>\n",
              "      <td>0.003955</td>\n",
              "      <td>0.011505</td>\n",
              "      <td>0.037885</td>\n",
              "      <td>0.350000</td>\n",
              "      <td>0.020265</td>\n",
              "      <td>0.022380</td>\n",
              "      <td>0.029400</td>\n",
              "      <td>0.060795</td>\n",
              "      <td>0.025640</td>\n",
              "      <td>25.075500</td>\n",
              "      <td>1.000000</td>\n",
              "      <td>0.587562</td>\n",
              "      <td>0.761881</td>\n",
              "      <td>-5.046192</td>\n",
              "      <td>0.279234</td>\n",
              "      <td>2.636456</td>\n",
              "      <td>0.252980</td>\n",
              "    </tr>\n",
              "    <tr>\n",
              "      <th>max</th>\n",
              "      <td>260.105000</td>\n",
              "      <td>592.030000</td>\n",
              "      <td>239.170000</td>\n",
              "      <td>0.033160</td>\n",
              "      <td>0.000260</td>\n",
              "      <td>0.021440</td>\n",
              "      <td>0.019580</td>\n",
              "      <td>0.064330</td>\n",
              "      <td>0.119080</td>\n",
              "      <td>1.302000</td>\n",
              "      <td>0.056470</td>\n",
              "      <td>0.079400</td>\n",
              "      <td>0.137780</td>\n",
              "      <td>0.169420</td>\n",
              "      <td>0.314820</td>\n",
              "      <td>33.047000</td>\n",
              "      <td>1.000000</td>\n",
              "      <td>0.685151</td>\n",
              "      <td>0.825288</td>\n",
              "      <td>-2.434031</td>\n",
              "      <td>0.450493</td>\n",
              "      <td>3.671155</td>\n",
              "      <td>0.527367</td>\n",
              "    </tr>\n",
              "  </tbody>\n",
              "</table>\n",
              "</div>"
            ],
            "text/plain": [
              "       MDVP:Fo(Hz)  MDVP:Fhi(Hz)  ...          D2         PPE\n",
              "count   195.000000    195.000000  ...  195.000000  195.000000\n",
              "mean    154.228641    197.104918  ...    2.381826    0.206552\n",
              "std      41.390065     91.491548  ...    0.382799    0.090119\n",
              "min      88.333000    102.145000  ...    1.423287    0.044539\n",
              "25%     117.572000    134.862500  ...    2.099125    0.137451\n",
              "50%     148.790000    175.829000  ...    2.361532    0.194052\n",
              "75%     182.769000    224.205500  ...    2.636456    0.252980\n",
              "max     260.105000    592.030000  ...    3.671155    0.527367\n",
              "\n",
              "[8 rows x 23 columns]"
            ]
          },
          "metadata": {},
          "execution_count": 52
        }
      ]
    },
    {
      "cell_type": "markdown",
      "metadata": {
        "id": "QnMkIaH6sdC5"
      },
      "source": [
        "Count: number of values in each column\n",
        "\n",
        "Mean: mean value of all the values of that column\n",
        "\n",
        "std: standard Deviation\n",
        "\n",
        "25% : 25% values less than the value mentioned for the column\n",
        "\n",
        "50% : 50% values less than the value mentioned for the column\n",
        "\n",
        "75% : 75% values less than the value mentioned for the column"
      ]
    },
    {
      "cell_type": "code",
      "metadata": {
        "colab": {
          "base_uri": "https://localhost:8080/",
          "height": 162
        },
        "id": "m16x5iiasPqm",
        "outputId": "3a1bd34b-12b7-4515-d3e8-1dc1c559b6f5"
      },
      "source": [
        "ps_data.groupby('status').mean()"
      ],
      "execution_count": null,
      "outputs": [
        {
          "output_type": "execute_result",
          "data": {
            "text/html": [
              "<div>\n",
              "<style scoped>\n",
              "    .dataframe tbody tr th:only-of-type {\n",
              "        vertical-align: middle;\n",
              "    }\n",
              "\n",
              "    .dataframe tbody tr th {\n",
              "        vertical-align: top;\n",
              "    }\n",
              "\n",
              "    .dataframe thead th {\n",
              "        text-align: right;\n",
              "    }\n",
              "</style>\n",
              "<table border=\"1\" class=\"dataframe\">\n",
              "  <thead>\n",
              "    <tr style=\"text-align: right;\">\n",
              "      <th></th>\n",
              "      <th>MDVP:Fo(Hz)</th>\n",
              "      <th>MDVP:Fhi(Hz)</th>\n",
              "      <th>MDVP:Flo(Hz)</th>\n",
              "      <th>MDVP:Jitter(%)</th>\n",
              "      <th>MDVP:Jitter(Abs)</th>\n",
              "      <th>MDVP:RAP</th>\n",
              "      <th>MDVP:PPQ</th>\n",
              "      <th>Jitter:DDP</th>\n",
              "      <th>MDVP:Shimmer</th>\n",
              "      <th>MDVP:Shimmer(dB)</th>\n",
              "      <th>Shimmer:APQ3</th>\n",
              "      <th>Shimmer:APQ5</th>\n",
              "      <th>MDVP:APQ</th>\n",
              "      <th>Shimmer:DDA</th>\n",
              "      <th>NHR</th>\n",
              "      <th>HNR</th>\n",
              "      <th>RPDE</th>\n",
              "      <th>DFA</th>\n",
              "      <th>spread1</th>\n",
              "      <th>spread2</th>\n",
              "      <th>D2</th>\n",
              "      <th>PPE</th>\n",
              "    </tr>\n",
              "    <tr>\n",
              "      <th>status</th>\n",
              "      <th></th>\n",
              "      <th></th>\n",
              "      <th></th>\n",
              "      <th></th>\n",
              "      <th></th>\n",
              "      <th></th>\n",
              "      <th></th>\n",
              "      <th></th>\n",
              "      <th></th>\n",
              "      <th></th>\n",
              "      <th></th>\n",
              "      <th></th>\n",
              "      <th></th>\n",
              "      <th></th>\n",
              "      <th></th>\n",
              "      <th></th>\n",
              "      <th></th>\n",
              "      <th></th>\n",
              "      <th></th>\n",
              "      <th></th>\n",
              "      <th></th>\n",
              "      <th></th>\n",
              "    </tr>\n",
              "  </thead>\n",
              "  <tbody>\n",
              "    <tr>\n",
              "      <th>0</th>\n",
              "      <td>181.937771</td>\n",
              "      <td>223.636750</td>\n",
              "      <td>145.207292</td>\n",
              "      <td>0.003866</td>\n",
              "      <td>0.000023</td>\n",
              "      <td>0.001925</td>\n",
              "      <td>0.002056</td>\n",
              "      <td>0.005776</td>\n",
              "      <td>0.017615</td>\n",
              "      <td>0.162958</td>\n",
              "      <td>0.009504</td>\n",
              "      <td>0.010509</td>\n",
              "      <td>0.013305</td>\n",
              "      <td>0.028511</td>\n",
              "      <td>0.011483</td>\n",
              "      <td>24.678750</td>\n",
              "      <td>0.442552</td>\n",
              "      <td>0.695716</td>\n",
              "      <td>-6.759264</td>\n",
              "      <td>0.160292</td>\n",
              "      <td>2.154491</td>\n",
              "      <td>0.123017</td>\n",
              "    </tr>\n",
              "    <tr>\n",
              "      <th>1</th>\n",
              "      <td>145.180762</td>\n",
              "      <td>188.441463</td>\n",
              "      <td>106.893558</td>\n",
              "      <td>0.006989</td>\n",
              "      <td>0.000051</td>\n",
              "      <td>0.003757</td>\n",
              "      <td>0.003900</td>\n",
              "      <td>0.011273</td>\n",
              "      <td>0.033658</td>\n",
              "      <td>0.321204</td>\n",
              "      <td>0.017676</td>\n",
              "      <td>0.020285</td>\n",
              "      <td>0.027600</td>\n",
              "      <td>0.053027</td>\n",
              "      <td>0.029211</td>\n",
              "      <td>20.974048</td>\n",
              "      <td>0.516816</td>\n",
              "      <td>0.725408</td>\n",
              "      <td>-5.333420</td>\n",
              "      <td>0.248133</td>\n",
              "      <td>2.456058</td>\n",
              "      <td>0.233828</td>\n",
              "    </tr>\n",
              "  </tbody>\n",
              "</table>\n",
              "</div>"
            ],
            "text/plain": [
              "        MDVP:Fo(Hz)  MDVP:Fhi(Hz)  MDVP:Flo(Hz)  ...   spread2        D2       PPE\n",
              "status                                           ...                              \n",
              "0        181.937771    223.636750    145.207292  ...  0.160292  2.154491  0.123017\n",
              "1        145.180762    188.441463    106.893558  ...  0.248133  2.456058  0.233828\n",
              "\n",
              "[2 rows x 22 columns]"
            ]
          },
          "metadata": {},
          "execution_count": 53
        }
      ]
    },
    {
      "cell_type": "code",
      "metadata": {
        "colab": {
          "base_uri": "https://localhost:8080/",
          "height": 375
        },
        "id": "eYGBiwHFD56q",
        "outputId": "aa46a6b6-ed0f-4c01-e71c-aab4722c4d4e"
      },
      "source": [
        "corr = ps_data.corr()\n",
        "cmap = sns.diverging_palette(240,10, as_cmap=True)\n",
        "print (sns.heatmap(corr, cmap=cmap))"
      ],
      "execution_count": null,
      "outputs": [
        {
          "output_type": "stream",
          "name": "stdout",
          "text": [
            "AxesSubplot(0.125,0.125;0.62x0.755)\n"
          ]
        },
        {
          "output_type": "display_data",
          "data": {
            "image/png": "[encoded data removed]",
            "text/plain": [
              "<Figure size 432x288 with 2 Axes>"
            ]
          },
          "metadata": {
            "needs_background": "light"
          }
        }
      ]
    },
    {
      "cell_type": "code",
      "metadata": {
        "colab": {
          "base_uri": "https://localhost:8080/",
          "height": 542
        },
        "id": "ZNBKNpkJs8OX",
        "outputId": "3ceae236-346e-4759-af20-da939414cd2d"
      },
      "source": [
        "import plotly\n",
        "import plotly.graph_objs as go\n",
        "import plotly.express as px\n",
        "fig = px.scatter_matrix(ps_data, dimensions=['MDVP:Fo(Hz)', 'MDVP:Fhi(Hz)', 'MDVP:Flo(Hz)', 'MDVP:Jitter(Abs)', 'status'], color=\"status\")\n",
        "fig.show()"
      ],
      "execution_count": null,
      "outputs": [
        {
          "output_type": "display_data",
          "data": {
            "text/html": [
              "<html>\n",
              "<head><meta charset=\"utf-8\" /></head>\n",
              "<body>\n",
              "    <div>\n",
              "            <script src=\"https://cdnjs.cloudflare.com/ajax/libs/mathjax/2.7.5/MathJax.js?config=TeX-AMS-MML_SVG\"></script><script type=\"text/javascript\">if (window.MathJax) {MathJax.Hub.Config({SVG: {font: \"STIX-Web\"}});}</script>\n",
              "                <script type=\"text/javascript\">window.PlotlyConfig = {MathJaxConfig: 'local'};</script>\n",
              "        <script src=\"https://cdn.plot.ly/plotly-latest.min.js\"></script>    \n",
              "            <div id=\"b159a475-b156-4a4c-9ea5-138c843719f4\" class=\"plotly-graph-div\" style=\"height:525px; width:100%;\"></div>\n",
              "            <script type=\"text/javascript\">\n",
              "                \n",
              "                    window.PLOTLYENV=window.PLOTLYENV || {};\n",
              "                    \n",
              "                if (document.getElementById(\"b159a475-b156-4a4c-9ea5-138c843719f4\")) {\n",
              "                    Plotly.newPlot(\n",
              "                        'b159a475-b156-4a4c-9ea5-138c843719f4',\n",
              "                        [{\"dimensions\": [{\"axis\": {\"matches\": true}, \"label\": \"MDVP:Fo(Hz)\", \"values\": [119.992, 122.4, 116.682, 116.676, 116.014, 120.552, 120.267, 107.332, 95.73, 95.056, 88.333, 91.904, 136.926, 139.173, 152.845, 142.167, 144.188, 168.778, 153.046, 156.405, 153.848, 153.88, 167.93, 173.917, 163.656, 104.4, 171.041, 146.845, 155.358, 162.568, 197.076, 199.228, 198.383, 202.266, 203.184, 201.464, 177.876, 176.17, 180.198, 187.733, 186.163, 184.055, 237.226, 241.404, 243.439, 242.852, 245.51, 252.455, 122.188, 122.964, 124.445, 126.344, 128.001, 129.336, 108.807, 109.86, 110.417, 117.274, 116.879, 114.847, 209.144, 223.365, 222.236, 228.832, 229.401, 228.969, 140.341, 136.969, 143.533, 148.09, 142.729, 136.358, 120.08, 112.014, 110.793, 110.707, 112.876, 110.568, 95.385, 100.77, 96.106, 95.605, 100.96, 98.804, 176.858, 180.978, 178.222, 176.281, 173.898, 179.711, 166.605, 151.955, 148.272, 152.125, 157.821, 157.447, 159.116, 125.036, 125.791, 126.512, 125.641, 128.451, 139.224, 150.258, 154.003, 149.689, 155.078, 151.884, 151.989, 193.03, 200.714, 208.519, 204.664, 210.141, 206.327, 151.872, 158.219, 170.756, 178.285, 217.116, 128.94, 176.824, 138.19, 182.018, 156.239, 145.174, 138.145, 166.888, 119.031, 120.078, 120.289, 120.256, 119.056, 118.747, 106.516, 110.453, 113.4, 113.166, 112.239, 116.15, 170.368, 208.083, 198.458, 202.805, 202.544, 223.361, 169.774, 183.52, 188.62, 202.632, 186.695, 192.818, 198.116, 121.345, 119.1, 117.87, 122.336, 117.963, 126.144, 127.93, 114.238, 115.322, 114.554, 112.15, 102.273, 236.2, 237.323, 260.105, 197.569, 240.301, 244.99, 112.547, 110.739, 113.715, 117.004, 115.38, 116.388, 151.737, 148.79, 148.143, 150.44, 148.462, 149.818, 117.226, 116.848, 116.286, 116.556, 116.342, 114.563, 201.774, 174.188, 209.516, 174.688, 198.764, 214.289]}, {\"axis\": {\"matches\": true}, \"label\": \"MDVP:Fhi(Hz)\", \"values\": [157.302, 148.65, 131.111, 137.871, 141.781, 131.162, 137.244, 113.84, 132.068, 120.103, 112.24, 115.871, 159.866, 179.139, 163.305, 217.455, 349.259, 232.181, 175.829, 189.398, 165.738, 172.86, 193.221, 192.735, 200.841, 206.002, 208.313, 208.701, 227.383, 198.346, 206.896, 209.512, 215.203, 211.604, 211.526, 210.565, 192.921, 185.604, 201.249, 202.324, 197.724, 196.537, 247.326, 248.834, 250.912, 255.034, 262.09, 261.487, 128.611, 130.049, 135.069, 134.231, 138.052, 139.867, 134.656, 126.358, 131.067, 129.916, 131.897, 271.314, 237.494, 238.987, 231.345, 234.619, 252.221, 239.541, 159.774, 166.607, 162.215, 162.824, 162.408, 176.595, 139.71, 588.518, 128.101, 122.611, 148.826, 125.394, 102.145, 115.697, 108.664, 107.715, 110.019, 102.305, 205.56, 200.125, 202.45, 227.381, 211.35, 225.93, 206.008, 163.335, 164.989, 161.469, 172.975, 163.267, 168.913, 143.946, 140.557, 141.756, 141.068, 150.449, 586.567, 154.609, 160.267, 160.368, 163.736, 157.765, 157.339, 208.9, 223.982, 220.315, 221.3, 232.706, 226.355, 492.892, 442.557, 450.247, 442.824, 233.481, 479.697, 215.293, 203.522, 197.173, 195.107, 198.109, 197.238, 198.966, 127.533, 126.632, 128.143, 125.306, 125.213, 123.723, 112.777, 127.611, 133.344, 130.27, 126.609, 131.731, 268.796, 253.792, 219.29, 231.508, 241.35, 263.872, 191.759, 216.814, 216.302, 565.74, 211.961, 224.429, 233.099, 139.644, 128.442, 127.349, 142.369, 134.209, 154.284, 138.752, 124.393, 135.738, 126.778, 131.669, 142.83, 244.663, 243.709, 264.919, 217.627, 245.135, 272.21, 133.374, 113.597, 116.443, 144.466, 123.109, 129.038, 190.204, 158.359, 155.982, 163.441, 161.078, 163.417, 123.925, 217.552, 177.291, 592.03, 581.289, 119.167, 262.707, 230.978, 253.017, 240.005, 396.961, 260.277]}, {\"axis\": {\"matches\": true}, \"label\": \"MDVP:Flo(Hz)\", \"values\": [74.997, 113.819, 111.555, 111.366, 110.655, 113.787, 114.82, 104.315, 91.754, 91.226, 84.072, 86.292, 131.276, 76.556, 75.836, 83.159, 82.764, 75.603, 68.623, 142.822, 65.782, 78.128, 79.068, 86.18, 76.779, 77.968, 75.501, 81.737, 80.055, 77.63, 192.055, 192.091, 193.104, 197.079, 196.16, 195.708, 168.013, 163.564, 175.456, 173.015, 177.584, 166.977, 225.227, 232.483, 232.435, 227.911, 231.848, 182.786, 115.765, 114.676, 117.495, 112.773, 122.08, 118.604, 102.874, 104.437, 103.37, 110.402, 108.153, 104.68, 109.379, 98.664, 205.495, 223.634, 221.156, 113.201, 67.021, 66.004, 65.809, 67.343, 65.476, 65.75, 111.208, 107.024, 107.316, 105.007, 106.981, 106.821, 90.264, 85.545, 84.51, 87.549, 95.628, 87.804, 75.344, 155.495, 141.047, 125.61, 74.677, 144.878, 78.032, 147.226, 142.299, 76.596, 68.401, 149.605, 144.811, 116.187, 96.206, 99.77, 116.346, 75.632, 66.157, 75.349, 128.621, 133.608, 144.148, 133.751, 132.857, 80.297, 89.686, 199.02, 189.621, 185.258, 92.02, 69.085, 71.948, 79.032, 82.063, 93.978, 88.251, 83.961, 83.34, 79.187, 79.82, 80.637, 81.114, 79.512, 109.216, 105.667, 100.209, 104.773, 86.795, 109.836, 93.105, 105.554, 107.816, 100.673, 104.095, 109.815, 79.543, 91.802, 148.691, 86.232, 164.168, 87.638, 151.451, 161.34, 165.982, 177.258, 149.442, 168.793, 174.478, 98.25, 88.833, 95.654, 94.794, 100.757, 97.543, 112.173, 77.022, 107.802, 91.121, 97.527, 85.902, 102.137, 229.256, 237.303, 90.794, 219.783, 239.17, 105.715, 100.139, 96.913, 99.923, 108.634, 108.97, 129.859, 138.99, 135.041, 144.736, 141.998, 144.786, 106.656, 99.503, 96.983, 86.228, 94.246, 86.647, 78.228, 94.261, 89.488, 74.287, 74.904, 77.973]}, {\"axis\": {\"matches\": true}, \"label\": \"MDVP:Jitter(Abs)\", \"values\": [7e-05, 8e-05, 9e-05, 9e-05, 0.00011, 8e-05, 2.9999999999999997e-05, 2.9999999999999997e-05, 5.9999999999999995e-05, 5.9999999999999995e-05, 5.9999999999999995e-05, 5.9999999999999995e-05, 2e-05, 2.9999999999999997e-05, 2e-05, 2.9999999999999997e-05, 4e-05, 4e-05, 5e-05, 5e-05, 5e-05, 2.9999999999999997e-05, 2.9999999999999997e-05, 2.9999999999999997e-05, 5e-05, 5.9999999999999995e-05, 2.9999999999999997e-05, 2.9999999999999997e-05, 2e-05, 2.9999999999999997e-05, 1e-05, 1e-05, 1e-05, 9e-06, 9e-06, 1e-05, 2e-05, 2e-05, 2e-05, 2e-05, 2e-05, 1e-05, 1e-05, 1e-05, 9e-06, 9e-06, 1e-05, 7.000000000000001e-06, 4e-05, 2.9999999999999997e-05, 2.9999999999999997e-05, 4e-05, 2.9999999999999997e-05, 4e-05, 7e-05, 8e-05, 7e-05, 5.9999999999999995e-05, 7e-05, 8e-05, 1e-05, 1e-05, 1e-05, 1e-05, 9e-06, 1e-05, 5.9999999999999995e-05, 7e-05, 8e-05, 5e-05, 5.9999999999999995e-05, 7e-05, 2.9999999999999997e-05, 5e-05, 4e-05, 5e-05, 4e-05, 4e-05, 5.9999999999999995e-05, 0.0001, 7e-05, 7e-05, 5.9999999999999995e-05, 4e-05, 4e-05, 2e-05, 2e-05, 2.9999999999999997e-05, 2.9999999999999997e-05, 4e-05, 4e-05, 2.9999999999999997e-05, 2.9999999999999997e-05, 2.9999999999999997e-05, 2e-05, 2e-05, 2e-05, 0.0001, 0.00011, 0.00015, 0.00026000000000000003, 0.00011999999999999999, 0.00022, 2e-05, 1e-05, 2e-05, 1e-05, 2e-05, 1e-05, 4e-05, 2.9999999999999997e-05, 2.9999999999999997e-05, 4e-05, 2.9999999999999997e-05, 2e-05, 5.9999999999999995e-05, 2.9999999999999997e-05, 2.9999999999999997e-05, 2.9999999999999997e-05, 2e-05, 5e-05, 2.9999999999999997e-05, 5e-05, 5e-05, 4e-05, 5e-05, 4e-05, 4e-05, 4e-05, 2e-05, 4e-05, 2.9999999999999997e-05, 2.9999999999999997e-05, 2.9999999999999997e-05, 5.9999999999999995e-05, 4e-05, 4e-05, 4e-05, 4e-05, 2.9999999999999997e-05, 2.9999999999999997e-05, 4e-05, 2e-05, 2e-05, 1e-05, 2e-05, 9e-05, 8e-05, 9e-05, 8e-05, 0.0001, 0.00016, 0.00014, 5.9999999999999995e-05, 5.9999999999999995e-05, 5e-05, 5.9999999999999995e-05, 0.00015, 8e-05, 5e-05, 5e-05, 5e-05, 5.9999999999999995e-05, 5e-05, 9e-05, 1e-05, 1e-05, 1e-05, 4e-05, 2e-05, 2e-05, 2.9999999999999997e-05, 2.9999999999999997e-05, 2.9999999999999997e-05, 2.9999999999999997e-05, 2.9999999999999997e-05, 2.9999999999999997e-05, 2e-05, 2e-05, 2.9999999999999997e-05, 2.9999999999999997e-05, 2.9999999999999997e-05, 2e-05, 4e-05, 5e-05, 2.9999999999999997e-05, 4e-05, 2e-05, 2.9999999999999997e-05, 2.9999999999999997e-05, 2.9999999999999997e-05, 2.9999999999999997e-05, 8e-05, 4e-05, 2.9999999999999997e-05]}, {\"axis\": {\"matches\": true}, \"label\": \"status\", \"values\": [1, 1, 1, 1, 1, 1, 1, 1, 1, 1, 1, 1, 1, 1, 1, 1, 1, 1, 1, 1, 1, 1, 1, 1, 1, 1, 1, 1, 1, 1, 0, 0, 0, 0, 0, 0, 1, 1, 1, 1, 1, 1, 0, 0, 0, 0, 0, 0, 0, 0, 0, 0, 0, 0, 1, 1, 1, 1, 1, 1, 0, 0, 0, 0, 0, 0, 1, 1, 1, 1, 1, 1, 1, 1, 1, 1, 1, 1, 1, 1, 1, 1, 1, 1, 1, 1, 1, 1, 1, 1, 1, 1, 1, 1, 1, 1, 1, 1, 1, 1, 1, 1, 1, 1, 1, 1, 1, 1, 1, 1, 1, 1, 1, 1, 1, 1, 1, 1, 1, 1, 1, 1, 1, 1, 1, 1, 1, 1, 1, 1, 1, 1, 1, 1, 1, 1, 1, 1, 1, 1, 1, 1, 1, 1, 1, 1, 1, 1, 1, 1, 1, 1, 1, 1, 1, 1, 1, 1, 1, 1, 1, 1, 1, 1, 1, 0, 0, 0, 0, 0, 0, 0, 0, 0, 0, 0, 0, 1, 1, 1, 1, 1, 1, 0, 0, 0, 0, 0, 0, 0, 0, 0, 0, 0, 0]}], \"hoverlabel\": {\"namelength\": 0}, \"hovertemplate\": \"%{xaxis.title.text}=%{x}<br>%{yaxis.title.text}=%{y}<br>status=%{marker.color}\", \"legendgroup\": \"\", \"marker\": {\"color\": [1, 1, 1, 1, 1, 1, 1, 1, 1, 1, 1, 1, 1, 1, 1, 1, 1, 1, 1, 1, 1, 1, 1, 1, 1, 1, 1, 1, 1, 1, 0, 0, 0, 0, 0, 0, 1, 1, 1, 1, 1, 1, 0, 0, 0, 0, 0, 0, 0, 0, 0, 0, 0, 0, 1, 1, 1, 1, 1, 1, 0, 0, 0, 0, 0, 0, 1, 1, 1, 1, 1, 1, 1, 1, 1, 1, 1, 1, 1, 1, 1, 1, 1, 1, 1, 1, 1, 1, 1, 1, 1, 1, 1, 1, 1, 1, 1, 1, 1, 1, 1, 1, 1, 1, 1, 1, 1, 1, 1, 1, 1, 1, 1, 1, 1, 1, 1, 1, 1, 1, 1, 1, 1, 1, 1, 1, 1, 1, 1, 1, 1, 1, 1, 1, 1, 1, 1, 1, 1, 1, 1, 1, 1, 1, 1, 1, 1, 1, 1, 1, 1, 1, 1, 1, 1, 1, 1, 1, 1, 1, 1, 1, 1, 1, 1, 0, 0, 0, 0, 0, 0, 0, 0, 0, 0, 0, 0, 1, 1, 1, 1, 1, 1, 0, 0, 0, 0, 0, 0, 0, 0, 0, 0, 0, 0], \"coloraxis\": \"coloraxis\", \"symbol\": \"circle\"}, \"name\": \"\", \"showlegend\": false, \"type\": \"splom\"}],\n",
              "                        {\"coloraxis\": {\"colorbar\": {\"title\": {\"text\": \"status\"}}, \"colorscale\": [[0.0, \"#0d0887\"], [0.1111111111111111, \"#46039f\"], [0.2222222222222222, \"#7201a8\"], [0.3333333333333333, \"#9c179e\"], [0.4444444444444444, \"#bd3786\"], [0.5555555555555556, \"#d8576b\"], [0.6666666666666666, \"#ed7953\"], [0.7777777777777778, \"#fb9f3a\"], [0.8888888888888888, \"#fdca26\"], [1.0, \"#f0f921\"]]}, \"dragmode\": \"select\", \"legend\": {\"tracegroupgap\": 0}, \"margin\": {\"t\": 60}, \"template\": {\"data\": {\"bar\": [{\"error_x\": {\"color\": \"#2a3f5f\"}, \"error_y\": {\"color\": \"#2a3f5f\"}, \"marker\": {\"line\": {\"color\": \"#E5ECF6\", \"width\": 0.5}}, \"type\": \"bar\"}], \"barpolar\": [{\"marker\": {\"line\": {\"color\": \"#E5ECF6\", \"width\": 0.5}}, \"type\": \"barpolar\"}], \"carpet\": [{\"aaxis\": {\"endlinecolor\": \"#2a3f5f\", \"gridcolor\": \"white\", \"linecolor\": \"white\", \"minorgridcolor\": \"white\", \"startlinecolor\": \"#2a3f5f\"}, \"baxis\": {\"endlinecolor\": \"#2a3f5f\", \"gridcolor\": \"white\", \"linecolor\": \"white\", \"minorgridcolor\": \"white\", \"startlinecolor\": \"#2a3f5f\"}, \"type\": \"carpet\"}], \"choropleth\": [{\"colorbar\": {\"outlinewidth\": 0, \"ticks\": \"\"}, \"type\": \"choropleth\"}], \"contour\": [{\"colorbar\": {\"outlinewidth\": 0, \"ticks\": \"\"}, \"colorscale\": [[0.0, \"#0d0887\"], [0.1111111111111111, \"#46039f\"], [0.2222222222222222, \"#7201a8\"], [0.3333333333333333, \"#9c179e\"], [0.4444444444444444, \"#bd3786\"], [0.5555555555555556, \"#d8576b\"], [0.6666666666666666, \"#ed7953\"], [0.7777777777777778, \"#fb9f3a\"], [0.8888888888888888, \"#fdca26\"], [1.0, \"#f0f921\"]], \"type\": \"contour\"}], \"contourcarpet\": [{\"colorbar\": {\"outlinewidth\": 0, \"ticks\": \"\"}, \"type\": \"contourcarpet\"}], \"heatmap\": [{\"colorbar\": {\"outlinewidth\": 0, \"ticks\": \"\"}, \"colorscale\": [[0.0, \"#0d0887\"], [0.1111111111111111, \"#46039f\"], [0.2222222222222222, \"#7201a8\"], [0.3333333333333333, \"#9c179e\"], [0.4444444444444444, \"#bd3786\"], [0.5555555555555556, \"#d8576b\"], [0.6666666666666666, \"#ed7953\"], [0.7777777777777778, \"#fb9f3a\"], [0.8888888888888888, \"#fdca26\"], [1.0, \"#f0f921\"]], \"type\": \"heatmap\"}], \"heatmapgl\": [{\"colorbar\": {\"outlinewidth\": 0, \"ticks\": \"\"}, \"colorscale\": [[0.0, \"#0d0887\"], [0.1111111111111111, \"#46039f\"], [0.2222222222222222, \"#7201a8\"], [0.3333333333333333, \"#9c179e\"], [0.4444444444444444, \"#bd3786\"], [0.5555555555555556, \"#d8576b\"], [0.6666666666666666, \"#ed7953\"], [0.7777777777777778, \"#fb9f3a\"], [0.8888888888888888, \"#fdca26\"], [1.0, \"#f0f921\"]], \"type\": \"heatmapgl\"}], \"histogram\": [{\"marker\": {\"colorbar\": {\"outlinewidth\": 0, \"ticks\": \"\"}}, \"type\": \"histogram\"}], \"histogram2d\": [{\"colorbar\": {\"outlinewidth\": 0, \"ticks\": \"\"}, \"colorscale\": [[0.0, \"#0d0887\"], [0.1111111111111111, \"#46039f\"], [0.2222222222222222, \"#7201a8\"], [0.3333333333333333, \"#9c179e\"], [0.4444444444444444, \"#bd3786\"], [0.5555555555555556, \"#d8576b\"], [0.6666666666666666, \"#ed7953\"], [0.7777777777777778, \"#fb9f3a\"], [0.8888888888888888, \"#fdca26\"], [1.0, \"#f0f921\"]], \"type\": \"histogram2d\"}], \"histogram2dcontour\": [{\"colorbar\": {\"outlinewidth\": 0, \"ticks\": \"\"}, \"colorscale\": [[0.0, \"#0d0887\"], [0.1111111111111111, \"#46039f\"], [0.2222222222222222, \"#7201a8\"], [0.3333333333333333, \"#9c179e\"], [0.4444444444444444, \"#bd3786\"], [0.5555555555555556, \"#d8576b\"], [0.6666666666666666, \"#ed7953\"], [0.7777777777777778, \"#fb9f3a\"], [0.8888888888888888, \"#fdca26\"], [1.0, \"#f0f921\"]], \"type\": \"histogram2dcontour\"}], \"mesh3d\": [{\"colorbar\": {\"outlinewidth\": 0, \"ticks\": \"\"}, \"type\": \"mesh3d\"}], \"parcoords\": [{\"line\": {\"colorbar\": {\"outlinewidth\": 0, \"ticks\": \"\"}}, \"type\": \"parcoords\"}], \"pie\": [{\"automargin\": true, \"type\": \"pie\"}], \"scatter\": [{\"marker\": {\"colorbar\": {\"outlinewidth\": 0, \"ticks\": \"\"}}, \"type\": \"scatter\"}], \"scatter3d\": [{\"line\": {\"colorbar\": {\"outlinewidth\": 0, \"ticks\": \"\"}}, \"marker\": {\"colorbar\": {\"outlinewidth\": 0, \"ticks\": \"\"}}, \"type\": \"scatter3d\"}], \"scattercarpet\": [{\"marker\": {\"colorbar\": {\"outlinewidth\": 0, \"ticks\": \"\"}}, \"type\": \"scattercarpet\"}], \"scattergeo\": [{\"marker\": {\"colorbar\": {\"outlinewidth\": 0, \"ticks\": \"\"}}, \"type\": \"scattergeo\"}], \"scattergl\": [{\"marker\": {\"colorbar\": {\"outlinewidth\": 0, \"ticks\": \"\"}}, \"type\": \"scattergl\"}], \"scattermapbox\": [{\"marker\": {\"colorbar\": {\"outlinewidth\": 0, \"ticks\": \"\"}}, \"type\": \"scattermapbox\"}], \"scatterpolar\": [{\"marker\": {\"colorbar\": {\"outlinewidth\": 0, \"ticks\": \"\"}}, \"type\": \"scatterpolar\"}], \"scatterpolargl\": [{\"marker\": {\"colorbar\": {\"outlinewidth\": 0, \"ticks\": \"\"}}, \"type\": \"scatterpolargl\"}], \"scatterternary\": [{\"marker\": {\"colorbar\": {\"outlinewidth\": 0, \"ticks\": \"\"}}, \"type\": \"scatterternary\"}], \"surface\": [{\"colorbar\": {\"outlinewidth\": 0, \"ticks\": \"\"}, \"colorscale\": [[0.0, \"#0d0887\"], [0.1111111111111111, \"#46039f\"], [0.2222222222222222, \"#7201a8\"], [0.3333333333333333, \"#9c179e\"], [0.4444444444444444, \"#bd3786\"], [0.5555555555555556, \"#d8576b\"], [0.6666666666666666, \"#ed7953\"], [0.7777777777777778, \"#fb9f3a\"], [0.8888888888888888, \"#fdca26\"], [1.0, \"#f0f921\"]], \"type\": \"surface\"}], \"table\": [{\"cells\": {\"fill\": {\"color\": \"#EBF0F8\"}, \"line\": {\"color\": \"white\"}}, \"header\": {\"fill\": {\"color\": \"#C8D4E3\"}, \"line\": {\"color\": \"white\"}}, \"type\": \"table\"}]}, \"layout\": {\"annotationdefaults\": {\"arrowcolor\": \"#2a3f5f\", \"arrowhead\": 0, \"arrowwidth\": 1}, \"coloraxis\": {\"colorbar\": {\"outlinewidth\": 0, \"ticks\": \"\"}}, \"colorscale\": {\"diverging\": [[0, \"#8e0152\"], [0.1, \"#c51b7d\"], [0.2, \"#de77ae\"], [0.3, \"#f1b6da\"], [0.4, \"#fde0ef\"], [0.5, \"#f7f7f7\"], [0.6, \"#e6f5d0\"], [0.7, \"#b8e186\"], [0.8, \"#7fbc41\"], [0.9, \"#4d9221\"], [1, \"#276419\"]], \"sequential\": [[0.0, \"#0d0887\"], [0.1111111111111111, \"#46039f\"], [0.2222222222222222, \"#7201a8\"], [0.3333333333333333, \"#9c179e\"], [0.4444444444444444, \"#bd3786\"], [0.5555555555555556, \"#d8576b\"], [0.6666666666666666, \"#ed7953\"], [0.7777777777777778, \"#fb9f3a\"], [0.8888888888888888, \"#fdca26\"], [1.0, \"#f0f921\"]], \"sequentialminus\": [[0.0, \"#0d0887\"], [0.1111111111111111, \"#46039f\"], [0.2222222222222222, \"#7201a8\"], [0.3333333333333333, \"#9c179e\"], [0.4444444444444444, \"#bd3786\"], [0.5555555555555556, \"#d8576b\"], [0.6666666666666666, \"#ed7953\"], [0.7777777777777778, \"#fb9f3a\"], [0.8888888888888888, \"#fdca26\"], [1.0, \"#f0f921\"]]}, \"colorway\": [\"#636efa\", \"#EF553B\", \"#00cc96\", \"#ab63fa\", \"#FFA15A\", \"#19d3f3\", \"#FF6692\", \"#B6E880\", \"#FF97FF\", \"#FECB52\"], \"font\": {\"color\": \"#2a3f5f\"}, \"geo\": {\"bgcolor\": \"white\", \"lakecolor\": \"white\", \"landcolor\": \"#E5ECF6\", \"showlakes\": true, \"showland\": true, \"subunitcolor\": \"white\"}, \"hoverlabel\": {\"align\": \"left\"}, \"hovermode\": \"closest\", \"mapbox\": {\"style\": \"light\"}, \"paper_bgcolor\": \"white\", \"plot_bgcolor\": \"#E5ECF6\", \"polar\": {\"angularaxis\": {\"gridcolor\": \"white\", \"linecolor\": \"white\", \"ticks\": \"\"}, \"bgcolor\": \"#E5ECF6\", \"radialaxis\": {\"gridcolor\": \"white\", \"linecolor\": \"white\", \"ticks\": \"\"}}, \"scene\": {\"xaxis\": {\"backgroundcolor\": \"#E5ECF6\", \"gridcolor\": \"white\", \"gridwidth\": 2, \"linecolor\": \"white\", \"showbackground\": true, \"ticks\": \"\", \"zerolinecolor\": \"white\"}, \"yaxis\": {\"backgroundcolor\": \"#E5ECF6\", \"gridcolor\": \"white\", \"gridwidth\": 2, \"linecolor\": \"white\", \"showbackground\": true, \"ticks\": \"\", \"zerolinecolor\": \"white\"}, \"zaxis\": {\"backgroundcolor\": \"#E5ECF6\", \"gridcolor\": \"white\", \"gridwidth\": 2, \"linecolor\": \"white\", \"showbackground\": true, \"ticks\": \"\", \"zerolinecolor\": \"white\"}}, \"shapedefaults\": {\"line\": {\"color\": \"#2a3f5f\"}}, \"ternary\": {\"aaxis\": {\"gridcolor\": \"white\", \"linecolor\": \"white\", \"ticks\": \"\"}, \"baxis\": {\"gridcolor\": \"white\", \"linecolor\": \"white\", \"ticks\": \"\"}, \"bgcolor\": \"#E5ECF6\", \"caxis\": {\"gridcolor\": \"white\", \"linecolor\": \"white\", \"ticks\": \"\"}}, \"title\": {\"x\": 0.05}, \"xaxis\": {\"automargin\": true, \"gridcolor\": \"white\", \"linecolor\": \"white\", \"ticks\": \"\", \"title\": {\"standoff\": 15}, \"zerolinecolor\": \"white\", \"zerolinewidth\": 2}, \"yaxis\": {\"automargin\": true, \"gridcolor\": \"white\", \"linecolor\": \"white\", \"ticks\": \"\", \"title\": {\"standoff\": 15}, \"zerolinecolor\": \"white\", \"zerolinewidth\": 2}}}},\n",
              "                        {\"responsive\": true}\n",
              "                    ).then(function(){\n",
              "                            \n",
              "var gd = document.getElementById('b159a475-b156-4a4c-9ea5-138c843719f4');\n",
              "var x = new MutationObserver(function (mutations, observer) {{\n",
              "        var display = window.getComputedStyle(gd).display;\n",
              "        if (!display || display === 'none') {{\n",
              "            console.log([gd, 'removed!']);\n",
              "            Plotly.purge(gd);\n",
              "            observer.disconnect();\n",
              "        }}\n",
              "}});\n",
              "\n",
              "// Listen for the removal of the full notebook cells\n",
              "var notebookContainer = gd.closest('#notebook-container');\n",
              "if (notebookContainer) {{\n",
              "    x.observe(notebookContainer, {childList: true});\n",
              "}}\n",
              "\n",
              "// Listen for the clearing of the current output cell\n",
              "var outputEl = gd.closest('.output');\n",
              "if (outputEl) {{\n",
              "    x.observe(outputEl, {childList: true});\n",
              "}}\n",
              "\n",
              "                        })\n",
              "                };\n",
              "                \n",
              "            </script>\n",
              "        </div>\n",
              "</body>\n",
              "</html>"
            ]
          },
          "metadata": {}
        }
      ]
    },
    {
      "cell_type": "code",
      "metadata": {
        "colab": {
          "base_uri": "https://localhost:8080/",
          "height": 542
        },
        "id": "X6gmo4_zsh4X",
        "outputId": "190e7541-82d0-4a53-e774-10b55616bd88"
      },
      "source": [
        "import plotly\n",
        "import plotly.graph_objs as go\n",
        "import plotly.express as px\n",
        "fig = px.scatter_matrix(ps_data, dimensions=['Jitter:DDP', 'MDVP:Shimmer', 'Shimmer:APQ5', 'MDVP:APQ', 'Shimmer:DDA', 'status'], color=\"status\")\n",
        "fig.show()"
      ],
      "execution_count": null,
      "outputs": [
        {
          "output_type": "display_data",
          "data": {
            "text/html": [
              "<html>\n",
              "<head><meta charset=\"utf-8\" /></head>\n",
              "<body>\n",
              "    <div>\n",
              "            <script src=\"https://cdnjs.cloudflare.com/ajax/libs/mathjax/2.7.5/MathJax.js?config=TeX-AMS-MML_SVG\"></script><script type=\"text/javascript\">if (window.MathJax) {MathJax.Hub.Config({SVG: {font: \"STIX-Web\"}});}</script>\n",
              "                <script type=\"text/javascript\">window.PlotlyConfig = {MathJaxConfig: 'local'};</script>\n",
              "        <script src=\"https://cdn.plot.ly/plotly-latest.min.js\"></script>    \n",
              "            <div id=\"a0d6cf85-6fe1-411c-85e2-fd9ef4488c46\" class=\"plotly-graph-div\" style=\"height:525px; width:100%;\"></div>\n",
              "            <script type=\"text/javascript\">\n",
              "                \n",
              "                    window.PLOTLYENV=window.PLOTLYENV || {};\n",
              "                    \n",
              "                if (document.getElementById(\"a0d6cf85-6fe1-411c-85e2-fd9ef4488c46\")) {\n",
              "                    Plotly.newPlot(\n",
              "                        'a0d6cf85-6fe1-411c-85e2-fd9ef4488c46',\n",
              "                        [{\"dimensions\": [{\"axis\": {\"matches\": true}, \"label\": \"Jitter:DDP\", \"values\": [0.011090000000000001, 0.013940000000000001, 0.01633, 0.01505, 0.01966, 0.013880000000000002, 0.00466, 0.0043100000000000005, 0.0088, 0.008029999999999999, 0.00763, 0.008440000000000001, 0.00355, 0.00496, 0.00364, 0.00471, 0.00632, 0.00853, 0.010920000000000001, 0.01116, 0.01285, 0.006959999999999999, 0.0066099999999999996, 0.00663, 0.0114, 0.00948, 0.0075, 0.007490000000000001, 0.00476, 0.008409999999999999, 0.00498, 0.00402, 0.00339, 0.00278, 0.00283, 0.00314, 0.007, 0.0061600000000000005, 0.0045899999999999995, 0.00504, 0.00496, 0.00403, 0.00507, 0.0047, 0.0032700000000000003, 0.0035, 0.0038, 0.0027600000000000003, 0.00507, 0.00373, 0.004220000000000001, 0.0039299999999999995, 0.00411, 0.00495, 0.010459999999999999, 0.01193, 0.01056, 0.00898, 0.010029999999999999, 0.0112, 0.00442, 0.00461, 0.00457, 0.00526, 0.0034200000000000003, 0.004079999999999999, 0.01289, 0.0152, 0.01941, 0.014, 0.01407, 0.01601, 0.0054, 0.00805, 0.0078, 0.00831, 0.0081, 0.00677, 0.009940000000000001, 0.01865, 0.01168, 0.012830000000000001, 0.01053, 0.00742, 0.01254, 0.00659, 0.00488, 0.008620000000000001, 0.0071, 0.01172, 0.011609999999999999, 0.00672, 0.0075, 0.0057399999999999994, 0.00587, 0.00602, 0.00535, 0.02228, 0.02478, 0.03476, 0.06433, 0.027160000000000004, 0.05563, 0.00315, 0.00229, 0.00349, 0.0020399999999999997, 0.00346, 0.00225, 0.01351, 0.01112, 0.01105, 0.015059999999999999, 0.009640000000000001, 0.00905, 0.01211, 0.00642, 0.00731, 0.00472, 0.00381, 0.0072299999999999994, 0.00628, 0.01218, 0.01517, 0.01209, 0.01242, 0.00883, 0.011040000000000001, 0.006409999999999999, 0.00349, 0.00808, 0.00671, 0.0050799999999999994, 0.00504, 0.00873, 0.00731, 0.00658, 0.00772, 0.00715, 0.00542, 0.006959999999999999, 0.01285, 0.0054600000000000004, 0.005679999999999999, 0.00301, 0.00506, 0.025889999999999996, 0.02546, 0.029869999999999997, 0.02756, 0.03225, 0.05401, 0.04705, 0.011640000000000001, 0.01179, 0.01067, 0.012459999999999999, 0.033510000000000005, 0.01778, 0.00962, 0.00896, 0.01057, 0.01097, 0.00873, 0.0148, 0.00462, 0.00519, 0.0061600000000000005, 0.0147, 0.00949, 0.00837, 0.00499, 0.0051, 0.00514, 0.00528, 0.0048, 0.00507, 0.00406, 0.00456, 0.0061200000000000004, 0.00619, 0.00605, 0.00521, 0.00558, 0.0078, 0.00403, 0.00762, 0.00345, 0.00439, 0.01235, 0.0079, 0.009940000000000001, 0.01873, 0.011090000000000001, 0.00885]}, {\"axis\": {\"matches\": true}, \"label\": \"MDVP:Shimmer\", \"values\": [0.04374, 0.06134, 0.052329999999999995, 0.054920000000000004, 0.06425, 0.04701, 0.01608, 0.01567, 0.02093, 0.028380000000000002, 0.02143, 0.02752, 0.01259, 0.01642, 0.01828, 0.015030000000000002, 0.02047, 0.03327, 0.055170000000000004, 0.03995, 0.0381, 0.04137, 0.04351, 0.04192, 0.01659, 0.03767, 0.01966, 0.019190000000000002, 0.01718, 0.01791, 0.01098, 0.01015, 0.012629999999999999, 0.00954, 0.00958, 0.011940000000000001, 0.02126, 0.01851, 0.01444, 0.016630000000000002, 0.01495, 0.01463, 0.017519999999999997, 0.0176, 0.014190000000000001, 0.01494, 0.01608, 0.01152, 0.016130000000000002, 0.01681, 0.021840000000000002, 0.02033, 0.022969999999999997, 0.024980000000000002, 0.02719, 0.03209, 0.03715, 0.022930000000000002, 0.02645, 0.03225, 0.018609999999999998, 0.01906, 0.01643, 0.01644, 0.01457, 0.01745, 0.03198, 0.031110000000000002, 0.05384, 0.054279999999999995, 0.03485, 0.04978, 0.01706, 0.024480000000000002, 0.024419999999999997, 0.02215, 0.03999, 0.02199, 0.03202, 0.03121, 0.04024, 0.031560000000000005, 0.02427, 0.02223, 0.04795, 0.03852, 0.03759, 0.06511, 0.06727000000000001, 0.04313, 0.0664, 0.07959, 0.0419, 0.05925, 0.037160000000000006, 0.03272, 0.03381, 0.038860000000000006, 0.04689, 0.06734, 0.09178, 0.0617, 0.09419, 0.011309999999999999, 0.0103, 0.01346, 0.01064, 0.0145, 0.01024, 0.03044, 0.02286, 0.01761, 0.023780000000000003, 0.0168, 0.02105, 0.018430000000000002, 0.014580000000000001, 0.01725, 0.012790000000000001, 0.01299, 0.02008, 0.01169, 0.044789999999999996, 0.02503, 0.02343, 0.02362, 0.02791, 0.028569999999999998, 0.010329999999999999, 0.01022, 0.014119999999999999, 0.01516, 0.01201, 0.01043, 0.049319999999999996, 0.041280000000000004, 0.04879, 0.05279, 0.056429999999999994, 0.030260000000000002, 0.03273, 0.06725, 0.035269999999999996, 0.019969999999999998, 0.026619999999999998, 0.02536, 0.08143, 0.0605, 0.07118, 0.0717, 0.0583, 0.11907999999999999, 0.08684, 0.02534, 0.02682, 0.030869999999999998, 0.022930000000000002, 0.04912, 0.02852, 0.03235, 0.04009, 0.03273, 0.03658, 0.01756, 0.02814, 0.024480000000000002, 0.01242, 0.0203, 0.021769999999999998, 0.02018, 0.018969999999999997, 0.013580000000000002, 0.01484, 0.014719999999999999, 0.016569999999999998, 0.015030000000000002, 0.01725, 0.01469, 0.01574, 0.0145, 0.025509999999999998, 0.01831, 0.02145, 0.01909, 0.01795, 0.01564, 0.0166, 0.013, 0.01185, 0.02574, 0.04087, 0.027510000000000003, 0.02308, 0.022959999999999998, 0.01884]}, {\"axis\": {\"matches\": true}, \"label\": \"Shimmer:APQ5\", \"values\": [0.0313, 0.04518, 0.03858, 0.04005, 0.04825, 0.03526, 0.00937, 0.00946, 0.01277, 0.01725, 0.01342, 0.01641, 0.00717, 0.00932, 0.00972, 0.008879999999999999, 0.012, 0.018930000000000002, 0.03572, 0.02374, 0.02383, 0.025910000000000002, 0.0254, 0.0247, 0.00948, 0.02245, 0.01169, 0.01144, 0.01012, 0.01057, 0.0068, 0.006409999999999999, 0.00825, 0.00606, 0.0061, 0.0076, 0.01347, 0.0116, 0.00885, 0.010029999999999999, 0.00941, 0.009009999999999999, 0.01024, 0.01038, 0.00898, 0.008790000000000001, 0.009770000000000001, 0.0073, 0.0077599999999999995, 0.008020000000000001, 0.01024, 0.009590000000000001, 0.01072, 0.012190000000000001, 0.01609, 0.01992, 0.02302, 0.01459, 0.01625, 0.01974, 0.01258, 0.01296, 0.01108, 0.01075, 0.00957, 0.0116, 0.0181, 0.01759, 0.02422, 0.02494, 0.01906, 0.024659999999999998, 0.00925, 0.01375, 0.01325, 0.012190000000000001, 0.02231, 0.01199, 0.01886, 0.017830000000000002, 0.02451, 0.01841, 0.014209999999999999, 0.013430000000000001, 0.03022, 0.02493, 0.02415, 0.041589999999999995, 0.042539999999999994, 0.02768, 0.04282, 0.04962, 0.02521, 0.037939999999999995, 0.023209999999999998, 0.01909, 0.02024, 0.02174, 0.0263, 0.03963, 0.04791, 0.036719999999999996, 0.05005, 0.00659, 0.0058200000000000005, 0.00818, 0.00632, 0.00788, 0.00576, 0.01815, 0.01439, 0.010579999999999999, 0.014830000000000001, 0.01017, 0.01284, 0.008320000000000001, 0.00747, 0.00971, 0.00744, 0.0063100000000000005, 0.011170000000000001, 0.0063, 0.02567, 0.0158, 0.0142, 0.01495, 0.01805, 0.01859, 0.0057, 0.00588, 0.0082, 0.00815, 0.00701, 0.00621, 0.03112, 0.02592, 0.02973, 0.03347, 0.0353, 0.018119999999999997, 0.01964, 0.04003, 0.02076, 0.011770000000000001, 0.015580000000000002, 0.014780000000000001, 0.05426, 0.041010000000000005, 0.0458, 0.04265, 0.03714, 0.0794, 0.055560000000000005, 0.01399, 0.01405, 0.01804, 0.01289, 0.02161, 0.01581, 0.0165, 0.01994, 0.01722, 0.0194, 0.010329999999999999, 0.01553, 0.01426, 0.00747, 0.0123, 0.01272, 0.011909999999999999, 0.01121, 0.007859999999999999, 0.0095, 0.00905, 0.010620000000000001, 0.00933, 0.010209999999999999, 0.00886, 0.009559999999999999, 0.008759999999999999, 0.01574, 0.01103, 0.01341, 0.01223, 0.01144, 0.0099, 0.00972, 0.007890000000000001, 0.007209999999999999, 0.015819999999999997, 0.024980000000000002, 0.016569999999999998, 0.01365, 0.01321, 0.011609999999999999]}, {\"axis\": {\"matches\": true}, \"label\": \"MDVP:APQ\", \"values\": [0.029710000000000004, 0.043680000000000004, 0.0359, 0.03772, 0.04465, 0.03243, 0.01351, 0.01256, 0.017169999999999998, 0.02444, 0.01892, 0.02214, 0.0114, 0.01797, 0.012459999999999999, 0.013590000000000001, 0.02074, 0.0343, 0.057670000000000006, 0.0431, 0.04055, 0.04525, 0.042460000000000005, 0.03772, 0.014969999999999999, 0.0378, 0.01872, 0.01826, 0.01661, 0.01799, 0.008020000000000001, 0.00762, 0.00951, 0.00719, 0.007259999999999999, 0.00957, 0.01612, 0.01491, 0.0119, 0.01366, 0.012329999999999999, 0.01234, 0.01133, 0.01251, 0.010329999999999999, 0.01014, 0.01149, 0.0086, 0.01433, 0.014, 0.01685, 0.01614, 0.01677, 0.019469999999999998, 0.020669999999999997, 0.02454, 0.02802, 0.01948, 0.02137, 0.02519, 0.013819999999999999, 0.0134, 0.012, 0.01179, 0.010159999999999999, 0.01234, 0.02428, 0.02603, 0.03392, 0.03635, 0.02949, 0.037360000000000004, 0.01345, 0.01956, 0.01831, 0.01715, 0.027039999999999998, 0.01636, 0.02455, 0.02139, 0.02876, 0.0219, 0.017509999999999998, 0.015519999999999999, 0.0351, 0.02877, 0.027839999999999997, 0.046830000000000004, 0.04802, 0.03455, 0.05114, 0.0569, 0.030510000000000002, 0.04398, 0.027639999999999998, 0.025710000000000004, 0.028089999999999997, 0.03088, 0.039080000000000004, 0.05782999999999999, 0.06196, 0.051739999999999994, 0.06023, 0.01009, 0.008709999999999999, 0.01059, 0.00928, 0.01267, 0.00993, 0.02084, 0.01852, 0.013069999999999998, 0.017669999999999998, 0.013009999999999999, 0.016040000000000002, 0.012709999999999999, 0.01312, 0.01652, 0.01151, 0.01075, 0.01734, 0.011040000000000001, 0.0322, 0.01931, 0.0172, 0.01944, 0.02259, 0.02301, 0.00811, 0.00903, 0.011940000000000001, 0.0131, 0.00915, 0.00903, 0.03651, 0.03316, 0.0437, 0.041339999999999995, 0.04451, 0.0277, 0.028239999999999998, 0.04464, 0.0253, 0.015059999999999999, 0.020059999999999998, 0.01909, 0.08807999999999999, 0.06359, 0.06824, 0.0646, 0.06258999999999999, 0.13777999999999999, 0.08317999999999999, 0.02056, 0.02018, 0.02402, 0.01771, 0.029160000000000002, 0.02157, 0.03105, 0.041139999999999996, 0.029310000000000003, 0.030910000000000003, 0.013630000000000001, 0.020730000000000002, 0.01621, 0.00882, 0.013669999999999998, 0.01439, 0.01344, 0.01255, 0.0114, 0.01285, 0.011479999999999999, 0.01318, 0.01133, 0.013309999999999999, 0.0123, 0.013090000000000001, 0.012629999999999999, 0.021480000000000003, 0.015590000000000001, 0.016659999999999998, 0.01949, 0.01756, 0.016909999999999998, 0.01491, 0.01144, 0.01095, 0.017580000000000002, 0.02745, 0.01879, 0.016669999999999997, 0.015880000000000002, 0.013730000000000001]}, {\"axis\": {\"matches\": true}, \"label\": \"Shimmer:DDA\", \"values\": [0.06545, 0.09402999999999999, 0.0827, 0.08771, 0.1047, 0.06985, 0.02337, 0.02487, 0.03218, 0.04324, 0.032369999999999996, 0.04272, 0.01968, 0.021840000000000002, 0.03191, 0.02316, 0.02908, 0.04322, 0.07413, 0.05164, 0.05, 0.06062000000000001, 0.06685, 0.06562, 0.02214, 0.05197, 0.026660000000000003, 0.0265, 0.02307, 0.0238, 0.016890000000000002, 0.015130000000000001, 0.019190000000000002, 0.01407, 0.01403, 0.017580000000000002, 0.03463, 0.02814, 0.021769999999999998, 0.024880000000000003, 0.023209999999999998, 0.02226, 0.031039999999999998, 0.03017, 0.0233, 0.025419999999999998, 0.02719, 0.01841, 0.025660000000000002, 0.027889999999999998, 0.037239999999999995, 0.03429, 0.039689999999999996, 0.04188, 0.0445, 0.05368, 0.06097, 0.03568, 0.04183, 0.05414, 0.02925, 0.030389999999999997, 0.026019999999999998, 0.02647, 0.02308, 0.02827, 0.0549, 0.049139999999999996, 0.09455, 0.1007, 0.05605, 0.08247, 0.029210000000000003, 0.0412, 0.04295, 0.03851, 0.07238, 0.03852, 0.054079999999999996, 0.0532, 0.06799, 0.053770000000000005, 0.041139999999999996, 0.038310000000000004, 0.08037000000000001, 0.06321, 0.062189999999999995, 0.11012000000000001, 0.11363, 0.06892000000000001, 0.10949, 0.13262000000000002, 0.0715, 0.10024, 0.06185, 0.05439, 0.05417, 0.06406, 0.07625, 0.10833, 0.16074000000000002, 0.09669, 0.16654000000000002, 0.01567, 0.01406, 0.019790000000000002, 0.01567, 0.01898, 0.013640000000000001, 0.05312000000000001, 0.03576, 0.02855, 0.038310000000000004, 0.025830000000000002, 0.0332, 0.02389, 0.01818, 0.0227, 0.01851, 0.020380000000000002, 0.025480000000000003, 0.016030000000000003, 0.07761, 0.04115, 0.038669999999999996, 0.03706, 0.04451, 0.04641, 0.01614, 0.014280000000000001, 0.0211, 0.02164, 0.01898, 0.014709999999999999, 0.0805, 0.06688, 0.07153999999999999, 0.08689, 0.09211, 0.04543, 0.05139, 0.12047000000000001, 0.06165, 0.0335, 0.04426, 0.04137, 0.11410999999999999, 0.08595, 0.10422000000000001, 0.10545999999999998, 0.08096, 0.16942000000000002, 0.12850999999999999, 0.04019, 0.04451, 0.04977, 0.03615, 0.0783, 0.044989999999999995, 0.04079, 0.04736, 0.04933, 0.055920000000000004, 0.029019999999999997, 0.04736, 0.04231, 0.02089, 0.03557, 0.038360000000000005, 0.035289999999999995, 0.03253, 0.01992, 0.022609999999999998, 0.02245, 0.026430000000000002, 0.02436, 0.02623, 0.021840000000000002, 0.02518, 0.02175, 0.039639999999999995, 0.028489999999999998, 0.03464, 0.02592, 0.02429, 0.02001, 0.0246, 0.01892, 0.01672, 0.04363, 0.07007999999999999, 0.048119999999999996, 0.03804, 0.037939999999999995, 0.030780000000000002]}, {\"axis\": {\"matches\": true}, \"label\": \"status\", \"values\": [1, 1, 1, 1, 1, 1, 1, 1, 1, 1, 1, 1, 1, 1, 1, 1, 1, 1, 1, 1, 1, 1, 1, 1, 1, 1, 1, 1, 1, 1, 0, 0, 0, 0, 0, 0, 1, 1, 1, 1, 1, 1, 0, 0, 0, 0, 0, 0, 0, 0, 0, 0, 0, 0, 1, 1, 1, 1, 1, 1, 0, 0, 0, 0, 0, 0, 1, 1, 1, 1, 1, 1, 1, 1, 1, 1, 1, 1, 1, 1, 1, 1, 1, 1, 1, 1, 1, 1, 1, 1, 1, 1, 1, 1, 1, 1, 1, 1, 1, 1, 1, 1, 1, 1, 1, 1, 1, 1, 1, 1, 1, 1, 1, 1, 1, 1, 1, 1, 1, 1, 1, 1, 1, 1, 1, 1, 1, 1, 1, 1, 1, 1, 1, 1, 1, 1, 1, 1, 1, 1, 1, 1, 1, 1, 1, 1, 1, 1, 1, 1, 1, 1, 1, 1, 1, 1, 1, 1, 1, 1, 1, 1, 1, 1, 1, 0, 0, 0, 0, 0, 0, 0, 0, 0, 0, 0, 0, 1, 1, 1, 1, 1, 1, 0, 0, 0, 0, 0, 0, 0, 0, 0, 0, 0, 0]}], \"hoverlabel\": {\"namelength\": 0}, \"hovertemplate\": \"%{xaxis.title.text}=%{x}<br>%{yaxis.title.text}=%{y}<br>status=%{marker.color}\", \"legendgroup\": \"\", \"marker\": {\"color\": [1, 1, 1, 1, 1, 1, 1, 1, 1, 1, 1, 1, 1, 1, 1, 1, 1, 1, 1, 1, 1, 1, 1, 1, 1, 1, 1, 1, 1, 1, 0, 0, 0, 0, 0, 0, 1, 1, 1, 1, 1, 1, 0, 0, 0, 0, 0, 0, 0, 0, 0, 0, 0, 0, 1, 1, 1, 1, 1, 1, 0, 0, 0, 0, 0, 0, 1, 1, 1, 1, 1, 1, 1, 1, 1, 1, 1, 1, 1, 1, 1, 1, 1, 1, 1, 1, 1, 1, 1, 1, 1, 1, 1, 1, 1, 1, 1, 1, 1, 1, 1, 1, 1, 1, 1, 1, 1, 1, 1, 1, 1, 1, 1, 1, 1, 1, 1, 1, 1, 1, 1, 1, 1, 1, 1, 1, 1, 1, 1, 1, 1, 1, 1, 1, 1, 1, 1, 1, 1, 1, 1, 1, 1, 1, 1, 1, 1, 1, 1, 1, 1, 1, 1, 1, 1, 1, 1, 1, 1, 1, 1, 1, 1, 1, 1, 0, 0, 0, 0, 0, 0, 0, 0, 0, 0, 0, 0, 1, 1, 1, 1, 1, 1, 0, 0, 0, 0, 0, 0, 0, 0, 0, 0, 0, 0], \"coloraxis\": \"coloraxis\", \"symbol\": \"circle\"}, \"name\": \"\", \"showlegend\": false, \"type\": \"splom\"}],\n",
              "                        {\"coloraxis\": {\"colorbar\": {\"title\": {\"text\": \"status\"}}, \"colorscale\": [[0.0, \"#0d0887\"], [0.1111111111111111, \"#46039f\"], [0.2222222222222222, \"#7201a8\"], [0.3333333333333333, \"#9c179e\"], [0.4444444444444444, \"#bd3786\"], [0.5555555555555556, \"#d8576b\"], [0.6666666666666666, \"#ed7953\"], [0.7777777777777778, \"#fb9f3a\"], [0.8888888888888888, \"#fdca26\"], [1.0, \"#f0f921\"]]}, \"dragmode\": \"select\", \"legend\": {\"tracegroupgap\": 0}, \"margin\": {\"t\": 60}, \"template\": {\"data\": {\"bar\": [{\"error_x\": {\"color\": \"#2a3f5f\"}, \"error_y\": {\"color\": \"#2a3f5f\"}, \"marker\": {\"line\": {\"color\": \"#E5ECF6\", \"width\": 0.5}}, \"type\": \"bar\"}], \"barpolar\": [{\"marker\": {\"line\": {\"color\": \"#E5ECF6\", \"width\": 0.5}}, \"type\": \"barpolar\"}], \"carpet\": [{\"aaxis\": {\"endlinecolor\": \"#2a3f5f\", \"gridcolor\": \"white\", \"linecolor\": \"white\", \"minorgridcolor\": \"white\", \"startlinecolor\": \"#2a3f5f\"}, \"baxis\": {\"endlinecolor\": \"#2a3f5f\", \"gridcolor\": \"white\", \"linecolor\": \"white\", \"minorgridcolor\": \"white\", \"startlinecolor\": \"#2a3f5f\"}, \"type\": \"carpet\"}], \"choropleth\": [{\"colorbar\": {\"outlinewidth\": 0, \"ticks\": \"\"}, \"type\": \"choropleth\"}], \"contour\": [{\"colorbar\": {\"outlinewidth\": 0, \"ticks\": \"\"}, \"colorscale\": [[0.0, \"#0d0887\"], [0.1111111111111111, \"#46039f\"], [0.2222222222222222, \"#7201a8\"], [0.3333333333333333, \"#9c179e\"], [0.4444444444444444, \"#bd3786\"], [0.5555555555555556, \"#d8576b\"], [0.6666666666666666, \"#ed7953\"], [0.7777777777777778, \"#fb9f3a\"], [0.8888888888888888, \"#fdca26\"], [1.0, \"#f0f921\"]], \"type\": \"contour\"}], \"contourcarpet\": [{\"colorbar\": {\"outlinewidth\": 0, \"ticks\": \"\"}, \"type\": \"contourcarpet\"}], \"heatmap\": [{\"colorbar\": {\"outlinewidth\": 0, \"ticks\": \"\"}, \"colorscale\": [[0.0, \"#0d0887\"], [0.1111111111111111, \"#46039f\"], [0.2222222222222222, \"#7201a8\"], [0.3333333333333333, \"#9c179e\"], [0.4444444444444444, \"#bd3786\"], [0.5555555555555556, \"#d8576b\"], [0.6666666666666666, \"#ed7953\"], [0.7777777777777778, \"#fb9f3a\"], [0.8888888888888888, \"#fdca26\"], [1.0, \"#f0f921\"]], \"type\": \"heatmap\"}], \"heatmapgl\": [{\"colorbar\": {\"outlinewidth\": 0, \"ticks\": \"\"}, \"colorscale\": [[0.0, \"#0d0887\"], [0.1111111111111111, \"#46039f\"], [0.2222222222222222, \"#7201a8\"], [0.3333333333333333, \"#9c179e\"], [0.4444444444444444, \"#bd3786\"], [0.5555555555555556, \"#d8576b\"], [0.6666666666666666, \"#ed7953\"], [0.7777777777777778, \"#fb9f3a\"], [0.8888888888888888, \"#fdca26\"], [1.0, \"#f0f921\"]], \"type\": \"heatmapgl\"}], \"histogram\": [{\"marker\": {\"colorbar\": {\"outlinewidth\": 0, \"ticks\": \"\"}}, \"type\": \"histogram\"}], \"histogram2d\": [{\"colorbar\": {\"outlinewidth\": 0, \"ticks\": \"\"}, \"colorscale\": [[0.0, \"#0d0887\"], [0.1111111111111111, \"#46039f\"], [0.2222222222222222, \"#7201a8\"], [0.3333333333333333, \"#9c179e\"], [0.4444444444444444, \"#bd3786\"], [0.5555555555555556, \"#d8576b\"], [0.6666666666666666, \"#ed7953\"], [0.7777777777777778, \"#fb9f3a\"], [0.8888888888888888, \"#fdca26\"], [1.0, \"#f0f921\"]], \"type\": \"histogram2d\"}], \"histogram2dcontour\": [{\"colorbar\": {\"outlinewidth\": 0, \"ticks\": \"\"}, \"colorscale\": [[0.0, \"#0d0887\"], [0.1111111111111111, \"#46039f\"], [0.2222222222222222, \"#7201a8\"], [0.3333333333333333, \"#9c179e\"], [0.4444444444444444, \"#bd3786\"], [0.5555555555555556, \"#d8576b\"], [0.6666666666666666, \"#ed7953\"], [0.7777777777777778, \"#fb9f3a\"], [0.8888888888888888, \"#fdca26\"], [1.0, \"#f0f921\"]], \"type\": \"histogram2dcontour\"}], \"mesh3d\": [{\"colorbar\": {\"outlinewidth\": 0, \"ticks\": \"\"}, \"type\": \"mesh3d\"}], \"parcoords\": [{\"line\": {\"colorbar\": {\"outlinewidth\": 0, \"ticks\": \"\"}}, \"type\": \"parcoords\"}], \"pie\": [{\"automargin\": true, \"type\": \"pie\"}], \"scatter\": [{\"marker\": {\"colorbar\": {\"outlinewidth\": 0, \"ticks\": \"\"}}, \"type\": \"scatter\"}], \"scatter3d\": [{\"line\": {\"colorbar\": {\"outlinewidth\": 0, \"ticks\": \"\"}}, \"marker\": {\"colorbar\": {\"outlinewidth\": 0, \"ticks\": \"\"}}, \"type\": \"scatter3d\"}], \"scattercarpet\": [{\"marker\": {\"colorbar\": {\"outlinewidth\": 0, \"ticks\": \"\"}}, \"type\": \"scattercarpet\"}], \"scattergeo\": [{\"marker\": {\"colorbar\": {\"outlinewidth\": 0, \"ticks\": \"\"}}, \"type\": \"scattergeo\"}], \"scattergl\": [{\"marker\": {\"colorbar\": {\"outlinewidth\": 0, \"ticks\": \"\"}}, \"type\": \"scattergl\"}], \"scattermapbox\": [{\"marker\": {\"colorbar\": {\"outlinewidth\": 0, \"ticks\": \"\"}}, \"type\": \"scattermapbox\"}], \"scatterpolar\": [{\"marker\": {\"colorbar\": {\"outlinewidth\": 0, \"ticks\": \"\"}}, \"type\": \"scatterpolar\"}], \"scatterpolargl\": [{\"marker\": {\"colorbar\": {\"outlinewidth\": 0, \"ticks\": \"\"}}, \"type\": \"scatterpolargl\"}], \"scatterternary\": [{\"marker\": {\"colorbar\": {\"outlinewidth\": 0, \"ticks\": \"\"}}, \"type\": \"scatterternary\"}], \"surface\": [{\"colorbar\": {\"outlinewidth\": 0, \"ticks\": \"\"}, \"colorscale\": [[0.0, \"#0d0887\"], [0.1111111111111111, \"#46039f\"], [0.2222222222222222, \"#7201a8\"], [0.3333333333333333, \"#9c179e\"], [0.4444444444444444, \"#bd3786\"], [0.5555555555555556, \"#d8576b\"], [0.6666666666666666, \"#ed7953\"], [0.7777777777777778, \"#fb9f3a\"], [0.8888888888888888, \"#fdca26\"], [1.0, \"#f0f921\"]], \"type\": \"surface\"}], \"table\": [{\"cells\": {\"fill\": {\"color\": \"#EBF0F8\"}, \"line\": {\"color\": \"white\"}}, \"header\": {\"fill\": {\"color\": \"#C8D4E3\"}, \"line\": {\"color\": \"white\"}}, \"type\": \"table\"}]}, \"layout\": {\"annotationdefaults\": {\"arrowcolor\": \"#2a3f5f\", \"arrowhead\": 0, \"arrowwidth\": 1}, \"coloraxis\": {\"colorbar\": {\"outlinewidth\": 0, \"ticks\": \"\"}}, \"colorscale\": {\"diverging\": [[0, \"#8e0152\"], [0.1, \"#c51b7d\"], [0.2, \"#de77ae\"], [0.3, \"#f1b6da\"], [0.4, \"#fde0ef\"], [0.5, \"#f7f7f7\"], [0.6, \"#e6f5d0\"], [0.7, \"#b8e186\"], [0.8, \"#7fbc41\"], [0.9, \"#4d9221\"], [1, \"#276419\"]], \"sequential\": [[0.0, \"#0d0887\"], [0.1111111111111111, \"#46039f\"], [0.2222222222222222, \"#7201a8\"], [0.3333333333333333, \"#9c179e\"], [0.4444444444444444, \"#bd3786\"], [0.5555555555555556, \"#d8576b\"], [0.6666666666666666, \"#ed7953\"], [0.7777777777777778, \"#fb9f3a\"], [0.8888888888888888, \"#fdca26\"], [1.0, \"#f0f921\"]], \"sequentialminus\": [[0.0, \"#0d0887\"], [0.1111111111111111, \"#46039f\"], [0.2222222222222222, \"#7201a8\"], [0.3333333333333333, \"#9c179e\"], [0.4444444444444444, \"#bd3786\"], [0.5555555555555556, \"#d8576b\"], [0.6666666666666666, \"#ed7953\"], [0.7777777777777778, \"#fb9f3a\"], [0.8888888888888888, \"#fdca26\"], [1.0, \"#f0f921\"]]}, \"colorway\": [\"#636efa\", \"#EF553B\", \"#00cc96\", \"#ab63fa\", \"#FFA15A\", \"#19d3f3\", \"#FF6692\", \"#B6E880\", \"#FF97FF\", \"#FECB52\"], \"font\": {\"color\": \"#2a3f5f\"}, \"geo\": {\"bgcolor\": \"white\", \"lakecolor\": \"white\", \"landcolor\": \"#E5ECF6\", \"showlakes\": true, \"showland\": true, \"subunitcolor\": \"white\"}, \"hoverlabel\": {\"align\": \"left\"}, \"hovermode\": \"closest\", \"mapbox\": {\"style\": \"light\"}, \"paper_bgcolor\": \"white\", \"plot_bgcolor\": \"#E5ECF6\", \"polar\": {\"angularaxis\": {\"gridcolor\": \"white\", \"linecolor\": \"white\", \"ticks\": \"\"}, \"bgcolor\": \"#E5ECF6\", \"radialaxis\": {\"gridcolor\": \"white\", \"linecolor\": \"white\", \"ticks\": \"\"}}, \"scene\": {\"xaxis\": {\"backgroundcolor\": \"#E5ECF6\", \"gridcolor\": \"white\", \"gridwidth\": 2, \"linecolor\": \"white\", \"showbackground\": true, \"ticks\": \"\", \"zerolinecolor\": \"white\"}, \"yaxis\": {\"backgroundcolor\": \"#E5ECF6\", \"gridcolor\": \"white\", \"gridwidth\": 2, \"linecolor\": \"white\", \"showbackground\": true, \"ticks\": \"\", \"zerolinecolor\": \"white\"}, \"zaxis\": {\"backgroundcolor\": \"#E5ECF6\", \"gridcolor\": \"white\", \"gridwidth\": 2, \"linecolor\": \"white\", \"showbackground\": true, \"ticks\": \"\", \"zerolinecolor\": \"white\"}}, \"shapedefaults\": {\"line\": {\"color\": \"#2a3f5f\"}}, \"ternary\": {\"aaxis\": {\"gridcolor\": \"white\", \"linecolor\": \"white\", \"ticks\": \"\"}, \"baxis\": {\"gridcolor\": \"white\", \"linecolor\": \"white\", \"ticks\": \"\"}, \"bgcolor\": \"#E5ECF6\", \"caxis\": {\"gridcolor\": \"white\", \"linecolor\": \"white\", \"ticks\": \"\"}}, \"title\": {\"x\": 0.05}, \"xaxis\": {\"automargin\": true, \"gridcolor\": \"white\", \"linecolor\": \"white\", \"ticks\": \"\", \"title\": {\"standoff\": 15}, \"zerolinecolor\": \"white\", \"zerolinewidth\": 2}, \"yaxis\": {\"automargin\": true, \"gridcolor\": \"white\", \"linecolor\": \"white\", \"ticks\": \"\", \"title\": {\"standoff\": 15}, \"zerolinecolor\": \"white\", \"zerolinewidth\": 2}}}},\n",
              "                        {\"responsive\": true}\n",
              "                    ).then(function(){\n",
              "                            \n",
              "var gd = document.getElementById('a0d6cf85-6fe1-411c-85e2-fd9ef4488c46');\n",
              "var x = new MutationObserver(function (mutations, observer) {{\n",
              "        var display = window.getComputedStyle(gd).display;\n",
              "        if (!display || display === 'none') {{\n",
              "            console.log([gd, 'removed!']);\n",
              "            Plotly.purge(gd);\n",
              "            observer.disconnect();\n",
              "        }}\n",
              "}});\n",
              "\n",
              "// Listen for the removal of the full notebook cells\n",
              "var notebookContainer = gd.closest('#notebook-container');\n",
              "if (notebookContainer) {{\n",
              "    x.observe(notebookContainer, {childList: true});\n",
              "}}\n",
              "\n",
              "// Listen for the clearing of the current output cell\n",
              "var outputEl = gd.closest('.output');\n",
              "if (outputEl) {{\n",
              "    x.observe(outputEl, {childList: true});\n",
              "}}\n",
              "\n",
              "                        })\n",
              "                };\n",
              "                \n",
              "            </script>\n",
              "        </div>\n",
              "</body>\n",
              "</html>"
            ]
          },
          "metadata": {}
        }
      ]
    },
    {
      "cell_type": "code",
      "metadata": {
        "colab": {
          "base_uri": "https://localhost:8080/",
          "height": 542
        },
        "id": "J72fZ1RNJxT4",
        "outputId": "fd5aa9fa-b5cc-45e9-fc9e-c636f18aaf70"
      },
      "source": [
        "\n",
        "import plotly\n",
        "import plotly.graph_objs as go\n",
        "import plotly.express as px\n",
        "fig = px.scatter_matrix(ps_data, dimensions=[ 'NHR', 'HNR', 'RPDE', 'DFA', 'status'], color=\"status\")\n",
        "fig.show()"
      ],
      "execution_count": null,
      "outputs": [
        {
          "output_type": "display_data",
          "data": {
            "text/html": [
              "<html>\n",
              "<head><meta charset=\"utf-8\" /></head>\n",
              "<body>\n",
              "    <div>\n",
              "            <script src=\"https://cdnjs.cloudflare.com/ajax/libs/mathjax/2.7.5/MathJax.js?config=TeX-AMS-MML_SVG\"></script><script type=\"text/javascript\">if (window.MathJax) {MathJax.Hub.Config({SVG: {font: \"STIX-Web\"}});}</script>\n",
              "                <script type=\"text/javascript\">window.PlotlyConfig = {MathJaxConfig: 'local'};</script>\n",
              "        <script src=\"https://cdn.plot.ly/plotly-latest.min.js\"></script>    \n",
              "            <div id=\"3ca03feb-b927-49ed-ac44-1d2d52d90cc8\" class=\"plotly-graph-div\" style=\"height:525px; width:100%;\"></div>\n",
              "            <script type=\"text/javascript\">\n",
              "                \n",
              "                    window.PLOTLYENV=window.PLOTLYENV || {};\n",
              "                    \n",
              "                if (document.getElementById(\"3ca03feb-b927-49ed-ac44-1d2d52d90cc8\")) {\n",
              "                    Plotly.newPlot(\n",
              "                        '3ca03feb-b927-49ed-ac44-1d2d52d90cc8',\n",
              "                        [{\"dimensions\": [{\"axis\": {\"matches\": true}, \"label\": \"NHR\", \"values\": [0.022109999999999998, 0.01929, 0.013090000000000001, 0.01353, 0.017669999999999998, 0.01222, 0.00607, 0.00344, 0.0107, 0.01022, 0.01166, 0.01141, 0.00581, 0.010409999999999999, 0.00609, 0.00839, 0.01859, 0.029189999999999997, 0.0316, 0.03365, 0.03871, 0.01849, 0.0128, 0.0184, 0.01778, 0.02887, 0.01095, 0.013280000000000002, 0.00677, 0.0117, 0.00339, 0.0016699999999999998, 0.00119, 0.00072, 0.00065, 0.00135, 0.00586, 0.0034, 0.00231, 0.00265, 0.00231, 0.00257, 0.0074, 0.00675, 0.00454, 0.00476, 0.00476, 0.00432, 0.00839, 0.00462, 0.00479, 0.00474, 0.00481, 0.00484, 0.01036, 0.0118, 0.00969, 0.006809999999999999, 0.007859999999999999, 0.01143, 0.008709999999999999, 0.00301, 0.0034, 0.00351, 0.003, 0.0042, 0.021830000000000002, 0.02659, 0.04882, 0.02431, 0.02599, 0.03361, 0.00442, 0.006229999999999999, 0.00479, 0.00472, 0.00905, 0.0042, 0.010620000000000001, 0.0222, 0.01823, 0.01825, 0.01237, 0.00882, 0.0547, 0.027819999999999998, 0.03151, 0.04824, 0.04214, 0.07222999999999999, 0.08725, 0.01658, 0.01914, 0.01211, 0.0085, 0.01018, 0.00852, 0.08151, 0.10323, 0.16744, 0.31482, 0.11843, 0.2593, 0.00495, 0.00243, 0.0057799999999999995, 0.00233, 0.00659, 0.00238, 0.009470000000000001, 0.00704, 0.0083, 0.01316, 0.0062, 0.01048, 0.06051, 0.01554, 0.018019999999999998, 0.00856, 0.006809999999999999, 0.0235, 0.011609999999999999, 0.01968, 0.01813, 0.0202, 0.01874, 0.01794, 0.01796, 0.017240000000000002, 0.00487, 0.0161, 0.01015, 0.00903, 0.00504, 0.030310000000000004, 0.02529, 0.02278, 0.0369, 0.026289999999999997, 0.018269999999999998, 0.02485, 0.04238, 0.01728, 0.0201, 0.010490000000000001, 0.01493, 0.0753, 0.060570000000000006, 0.08069, 0.07889, 0.10952, 0.21713000000000002, 0.16265, 0.04179, 0.046110000000000005, 0.026310000000000004, 0.03191, 0.10747999999999999, 0.03828, 0.02663, 0.020730000000000002, 0.0281, 0.02707, 0.01435, 0.03882, 0.0062, 0.00533, 0.0091, 0.013369999999999998, 0.00965, 0.010490000000000001, 0.00435, 0.0043, 0.0047799999999999995, 0.0059, 0.0040100000000000005, 0.00415, 0.0057, 0.00488, 0.0054, 0.00611, 0.00639, 0.00595, 0.00955, 0.01179, 0.007370000000000001, 0.013969999999999998, 0.0068, 0.00703, 0.044410000000000005, 0.027639999999999998, 0.0181, 0.10715, 0.07222999999999999, 0.04398]}, {\"axis\": {\"matches\": true}, \"label\": \"HNR\", \"values\": [21.033, 19.085, 20.651, 20.644, 19.649, 21.378, 24.886, 26.892, 21.812, 21.862, 21.118, 21.414, 25.703, 24.889, 24.922, 25.175, 22.333, 20.376, 17.28, 17.153, 17.536, 19.493, 22.468, 20.422, 23.831, 22.066, 25.908, 25.119, 25.97, 25.678, 26.775, 30.94, 30.775, 32.684, 33.047, 31.732, 23.216, 24.951, 26.738, 26.31, 26.822, 26.453, 22.736, 23.145, 25.368, 25.032, 24.602, 26.805, 23.162, 24.971, 25.135, 25.03, 24.692, 25.429, 21.028, 20.767, 21.422, 22.817, 22.603, 21.66, 25.554, 26.138, 25.856, 25.964, 26.415, 24.547, 19.56, 19.979, 20.338, 21.718, 20.264, 18.57, 25.742, 24.178, 25.438, 25.197, 23.37, 25.82, 21.875, 19.2, 19.055, 19.659, 20.536, 22.244, 13.893, 16.176, 15.924, 13.922, 14.739, 11.866, 11.744, 19.664, 18.78, 20.969, 22.219, 21.693, 22.663, 15.338, 15.433, 12.435, 8.867, 15.06, 10.489, 26.759, 28.409, 27.421, 29.746, 26.833, 29.928, 21.934, 23.239, 22.407, 21.305, 23.671, 21.864, 23.693, 26.356, 25.69, 25.02, 24.581, 24.743, 27.166, 18.305, 18.784, 19.196, 18.857, 18.178, 18.33, 26.842, 26.369, 23.949, 26.017, 23.389, 25.619, 17.06, 17.707, 19.013, 16.747, 17.366, 18.801, 18.54, 15.648, 18.702, 18.687, 20.68, 20.366, 12.359, 14.367, 12.298, 14.989, 12.529, 8.441, 9.449, 21.52, 21.824, 22.431, 22.953, 19.075, 21.534, 19.651, 20.437, 19.388, 18.954, 21.219, 18.447, 24.078, 24.679, 21.083, 19.269, 21.02, 21.528, 26.436, 26.55, 26.547, 25.445, 26.005, 26.143, 24.151, 24.412, 23.683, 23.133, 22.866, 23.008, 23.079, 22.085, 24.199, 23.958, 25.023, 24.775, 19.368, 19.517, 19.147, 17.883, 19.02, 21.209]}, {\"axis\": {\"matches\": true}, \"label\": \"RPDE\", \"values\": [0.414783, 0.458359, 0.42989499999999997, 0.43496899999999994, 0.41735600000000006, 0.41556400000000004, 0.59604, 0.63742, 0.6155510000000001, 0.547037, 0.611137, 0.58339, 0.4606, 0.430166, 0.47479099999999996, 0.565924, 0.56738, 0.631099, 0.6653180000000001, 0.649554, 0.660125, 0.629017, 0.61906, 0.5372640000000001, 0.397937, 0.522746, 0.41862200000000005, 0.358773, 0.47047799999999995, 0.427785, 0.422229, 0.432439, 0.465946, 0.368535, 0.340068, 0.344252, 0.360148, 0.341435, 0.403884, 0.396793, 0.32648, 0.30644299999999997, 0.305062, 0.45770200000000005, 0.438296, 0.43128500000000003, 0.46748900000000004, 0.610367, 0.579597, 0.5386880000000001, 0.553134, 0.507504, 0.459766, 0.420383, 0.5360090000000001, 0.5585859999999999, 0.5417810000000001, 0.530529, 0.540049, 0.547975, 0.34178800000000004, 0.447979, 0.364867, 0.25656999999999996, 0.27685, 0.305429, 0.460139, 0.498133, 0.5132369999999999, 0.487407, 0.489345, 0.543299, 0.495954, 0.509127, 0.43703100000000006, 0.46351400000000004, 0.48953800000000003, 0.42948400000000003, 0.644954, 0.594387, 0.544805, 0.576084, 0.55461, 0.5766439999999999, 0.5564939999999999, 0.5835739999999999, 0.5987140000000001, 0.602874, 0.599371, 0.590951, 0.65341, 0.501037, 0.45444399999999996, 0.447456, 0.50238, 0.44728500000000004, 0.366329, 0.629574, 0.57101, 0.638545, 0.671299, 0.639808, 0.596362, 0.296888, 0.263654, 0.36548800000000004, 0.334171, 0.393563, 0.311369, 0.497554, 0.436084, 0.338097, 0.49887700000000007, 0.441097, 0.33150799999999997, 0.40770100000000004, 0.450798, 0.486738, 0.470422, 0.462516, 0.487756, 0.400088, 0.5380159999999999, 0.589956, 0.618663, 0.637518, 0.623209, 0.5851689999999999, 0.457541, 0.491345, 0.46716, 0.468621, 0.470972, 0.482296, 0.637814, 0.6534270000000001, 0.6479, 0.625362, 0.640945, 0.624811, 0.677131, 0.606344, 0.606273, 0.5361020000000001, 0.49748000000000003, 0.5668489999999999, 0.56161, 0.478024, 0.55287, 0.42762700000000003, 0.507826, 0.625866, 0.584164, 0.566867, 0.65168, 0.6283, 0.611679, 0.6305470000000001, 0.635015, 0.654945, 0.653139, 0.577802, 0.6851510000000001, 0.557045, 0.6713779999999999, 0.46992799999999996, 0.384868, 0.440988, 0.372222, 0.371837, 0.5228119999999999, 0.41329499999999997, 0.36909000000000003, 0.380253, 0.387482, 0.405991, 0.361232, 0.39661, 0.402591, 0.398499, 0.352396, 0.408598, 0.329577, 0.6035149999999999, 0.663842, 0.5985149999999999, 0.5664239999999999, 0.528485, 0.555303, 0.508479, 0.44843900000000003, 0.431674, 0.407567, 0.451221, 0.46280299999999996]}, {\"axis\": {\"matches\": true}, \"label\": \"DFA\", \"values\": [0.815285, 0.8195209999999999, 0.8252879999999999, 0.819235, 0.823484, 0.825069, 0.764112, 0.763262, 0.773587, 0.798463, 0.7761560000000001, 0.79252, 0.646846, 0.665833, 0.654027, 0.658245, 0.644692, 0.605417, 0.719467, 0.68608, 0.704087, 0.698951, 0.679834, 0.686894, 0.732479, 0.7379479999999999, 0.720916, 0.7266520000000001, 0.676258, 0.723797, 0.741367, 0.742055, 0.738703, 0.742133, 0.741899, 0.742737, 0.778834, 0.783626, 0.766209, 0.758324, 0.7656229999999999, 0.759203, 0.654172, 0.634267, 0.635285, 0.6389279999999999, 0.631653, 0.635204, 0.7336590000000001, 0.754073, 0.775933, 0.760361, 0.766204, 0.785714, 0.819032, 0.811843, 0.821364, 0.817756, 0.8134319999999999, 0.817396, 0.678874, 0.686264, 0.694399, 0.683296, 0.673636, 0.681811, 0.720908, 0.729067, 0.731444, 0.727313, 0.730387, 0.733232, 0.762959, 0.789532, 0.815908, 0.807217, 0.789977, 0.81634, 0.779612, 0.790117, 0.770466, 0.7787470000000001, 0.787896, 0.772416, 0.729586, 0.727747, 0.712199, 0.740837, 0.743937, 0.745526, 0.733165, 0.71436, 0.734504, 0.6977899999999999, 0.71217, 0.705658, 0.693429, 0.714485, 0.6908920000000001, 0.674953, 0.656846, 0.6433270000000001, 0.641418, 0.722356, 0.691483, 0.719974, 0.67793, 0.700246, 0.676066, 0.7405390000000001, 0.727863, 0.7124659999999999, 0.7220850000000001, 0.722254, 0.715121, 0.662668, 0.6538229999999999, 0.6760229999999999, 0.655239, 0.5827100000000001, 0.68413, 0.6561819999999999, 0.74148, 0.732903, 0.728421, 0.735546, 0.7382449999999999, 0.7369640000000001, 0.6997869999999999, 0.718839, 0.7240449999999999, 0.735136, 0.721308, 0.723096, 0.7440640000000001, 0.706687, 0.708144, 0.708617, 0.701404, 0.696049, 0.6850569999999999, 0.665945, 0.6617350000000001, 0.632631, 0.630409, 0.574282, 0.793509, 0.7689739999999999, 0.7640359999999999, 0.775708, 0.762726, 0.76832, 0.7544489999999999, 0.670475, 0.659333, 0.652025, 0.623731, 0.646786, 0.627337, 0.6758649999999999, 0.694571, 0.684373, 0.719576, 0.673086, 0.674562, 0.628232, 0.62671, 0.628058, 0.725216, 0.646167, 0.646818, 0.7567, 0.776158, 0.7667, 0.756482, 0.761255, 0.763242, 0.745957, 0.762508, 0.778349, 0.75932, 0.768845, 0.75718, 0.669565, 0.656516, 0.654331, 0.667654, 0.663884, 0.6591319999999999, 0.683761, 0.657899, 0.683244, 0.655683, 0.6439560000000001, 0.664357]}, {\"axis\": {\"matches\": true}, \"label\": \"status\", \"values\": [1, 1, 1, 1, 1, 1, 1, 1, 1, 1, 1, 1, 1, 1, 1, 1, 1, 1, 1, 1, 1, 1, 1, 1, 1, 1, 1, 1, 1, 1, 0, 0, 0, 0, 0, 0, 1, 1, 1, 1, 1, 1, 0, 0, 0, 0, 0, 0, 0, 0, 0, 0, 0, 0, 1, 1, 1, 1, 1, 1, 0, 0, 0, 0, 0, 0, 1, 1, 1, 1, 1, 1, 1, 1, 1, 1, 1, 1, 1, 1, 1, 1, 1, 1, 1, 1, 1, 1, 1, 1, 1, 1, 1, 1, 1, 1, 1, 1, 1, 1, 1, 1, 1, 1, 1, 1, 1, 1, 1, 1, 1, 1, 1, 1, 1, 1, 1, 1, 1, 1, 1, 1, 1, 1, 1, 1, 1, 1, 1, 1, 1, 1, 1, 1, 1, 1, 1, 1, 1, 1, 1, 1, 1, 1, 1, 1, 1, 1, 1, 1, 1, 1, 1, 1, 1, 1, 1, 1, 1, 1, 1, 1, 1, 1, 1, 0, 0, 0, 0, 0, 0, 0, 0, 0, 0, 0, 0, 1, 1, 1, 1, 1, 1, 0, 0, 0, 0, 0, 0, 0, 0, 0, 0, 0, 0]}], \"hoverlabel\": {\"namelength\": 0}, \"hovertemplate\": \"%{xaxis.title.text}=%{x}<br>%{yaxis.title.text}=%{y}<br>status=%{marker.color}\", \"legendgroup\": \"\", \"marker\": {\"color\": [1, 1, 1, 1, 1, 1, 1, 1, 1, 1, 1, 1, 1, 1, 1, 1, 1, 1, 1, 1, 1, 1, 1, 1, 1, 1, 1, 1, 1, 1, 0, 0, 0, 0, 0, 0, 1, 1, 1, 1, 1, 1, 0, 0, 0, 0, 0, 0, 0, 0, 0, 0, 0, 0, 1, 1, 1, 1, 1, 1, 0, 0, 0, 0, 0, 0, 1, 1, 1, 1, 1, 1, 1, 1, 1, 1, 1, 1, 1, 1, 1, 1, 1, 1, 1, 1, 1, 1, 1, 1, 1, 1, 1, 1, 1, 1, 1, 1, 1, 1, 1, 1, 1, 1, 1, 1, 1, 1, 1, 1, 1, 1, 1, 1, 1, 1, 1, 1, 1, 1, 1, 1, 1, 1, 1, 1, 1, 1, 1, 1, 1, 1, 1, 1, 1, 1, 1, 1, 1, 1, 1, 1, 1, 1, 1, 1, 1, 1, 1, 1, 1, 1, 1, 1, 1, 1, 1, 1, 1, 1, 1, 1, 1, 1, 1, 0, 0, 0, 0, 0, 0, 0, 0, 0, 0, 0, 0, 1, 1, 1, 1, 1, 1, 0, 0, 0, 0, 0, 0, 0, 0, 0, 0, 0, 0], \"coloraxis\": \"coloraxis\", \"symbol\": \"circle\"}, \"name\": \"\", \"showlegend\": false, \"type\": \"splom\"}],\n",
              "                        {\"coloraxis\": {\"colorbar\": {\"title\": {\"text\": \"status\"}}, \"colorscale\": [[0.0, \"#0d0887\"], [0.1111111111111111, \"#46039f\"], [0.2222222222222222, \"#7201a8\"], [0.3333333333333333, \"#9c179e\"], [0.4444444444444444, \"#bd3786\"], [0.5555555555555556, \"#d8576b\"], [0.6666666666666666, \"#ed7953\"], [0.7777777777777778, \"#fb9f3a\"], [0.8888888888888888, \"#fdca26\"], [1.0, \"#f0f921\"]]}, \"dragmode\": \"select\", \"legend\": {\"tracegroupgap\": 0}, \"margin\": {\"t\": 60}, \"template\": {\"data\": {\"bar\": [{\"error_x\": {\"color\": \"#2a3f5f\"}, \"error_y\": {\"color\": \"#2a3f5f\"}, \"marker\": {\"line\": {\"color\": \"#E5ECF6\", \"width\": 0.5}}, \"type\": \"bar\"}], \"barpolar\": [{\"marker\": {\"line\": {\"color\": \"#E5ECF6\", \"width\": 0.5}}, \"type\": \"barpolar\"}], \"carpet\": [{\"aaxis\": {\"endlinecolor\": \"#2a3f5f\", \"gridcolor\": \"white\", \"linecolor\": \"white\", \"minorgridcolor\": \"white\", \"startlinecolor\": \"#2a3f5f\"}, \"baxis\": {\"endlinecolor\": \"#2a3f5f\", \"gridcolor\": \"white\", \"linecolor\": \"white\", \"minorgridcolor\": \"white\", \"startlinecolor\": \"#2a3f5f\"}, \"type\": \"carpet\"}], \"choropleth\": [{\"colorbar\": {\"outlinewidth\": 0, \"ticks\": \"\"}, \"type\": \"choropleth\"}], \"contour\": [{\"colorbar\": {\"outlinewidth\": 0, \"ticks\": \"\"}, \"colorscale\": [[0.0, \"#0d0887\"], [0.1111111111111111, \"#46039f\"], [0.2222222222222222, \"#7201a8\"], [0.3333333333333333, \"#9c179e\"], [0.4444444444444444, \"#bd3786\"], [0.5555555555555556, \"#d8576b\"], [0.6666666666666666, \"#ed7953\"], [0.7777777777777778, \"#fb9f3a\"], [0.8888888888888888, \"#fdca26\"], [1.0, \"#f0f921\"]], \"type\": \"contour\"}], \"contourcarpet\": [{\"colorbar\": {\"outlinewidth\": 0, \"ticks\": \"\"}, \"type\": \"contourcarpet\"}], \"heatmap\": [{\"colorbar\": {\"outlinewidth\": 0, \"ticks\": \"\"}, \"colorscale\": [[0.0, \"#0d0887\"], [0.1111111111111111, \"#46039f\"], [0.2222222222222222, \"#7201a8\"], [0.3333333333333333, \"#9c179e\"], [0.4444444444444444, \"#bd3786\"], [0.5555555555555556, \"#d8576b\"], [0.6666666666666666, \"#ed7953\"], [0.7777777777777778, \"#fb9f3a\"], [0.8888888888888888, \"#fdca26\"], [1.0, \"#f0f921\"]], \"type\": \"heatmap\"}], \"heatmapgl\": [{\"colorbar\": {\"outlinewidth\": 0, \"ticks\": \"\"}, \"colorscale\": [[0.0, \"#0d0887\"], [0.1111111111111111, \"#46039f\"], [0.2222222222222222, \"#7201a8\"], [0.3333333333333333, \"#9c179e\"], [0.4444444444444444, \"#bd3786\"], [0.5555555555555556, \"#d8576b\"], [0.6666666666666666, \"#ed7953\"], [0.7777777777777778, \"#fb9f3a\"], [0.8888888888888888, \"#fdca26\"], [1.0, \"#f0f921\"]], \"type\": \"heatmapgl\"}], \"histogram\": [{\"marker\": {\"colorbar\": {\"outlinewidth\": 0, \"ticks\": \"\"}}, \"type\": \"histogram\"}], \"histogram2d\": [{\"colorbar\": {\"outlinewidth\": 0, \"ticks\": \"\"}, \"colorscale\": [[0.0, \"#0d0887\"], [0.1111111111111111, \"#46039f\"], [0.2222222222222222, \"#7201a8\"], [0.3333333333333333, \"#9c179e\"], [0.4444444444444444, \"#bd3786\"], [0.5555555555555556, \"#d8576b\"], [0.6666666666666666, \"#ed7953\"], [0.7777777777777778, \"#fb9f3a\"], [0.8888888888888888, \"#fdca26\"], [1.0, \"#f0f921\"]], \"type\": \"histogram2d\"}], \"histogram2dcontour\": [{\"colorbar\": {\"outlinewidth\": 0, \"ticks\": \"\"}, \"colorscale\": [[0.0, \"#0d0887\"], [0.1111111111111111, \"#46039f\"], [0.2222222222222222, \"#7201a8\"], [0.3333333333333333, \"#9c179e\"], [0.4444444444444444, \"#bd3786\"], [0.5555555555555556, \"#d8576b\"], [0.6666666666666666, \"#ed7953\"], [0.7777777777777778, \"#fb9f3a\"], [0.8888888888888888, \"#fdca26\"], [1.0, \"#f0f921\"]], \"type\": \"histogram2dcontour\"}], \"mesh3d\": [{\"colorbar\": {\"outlinewidth\": 0, \"ticks\": \"\"}, \"type\": \"mesh3d\"}], \"parcoords\": [{\"line\": {\"colorbar\": {\"outlinewidth\": 0, \"ticks\": \"\"}}, \"type\": \"parcoords\"}], \"pie\": [{\"automargin\": true, \"type\": \"pie\"}], \"scatter\": [{\"marker\": {\"colorbar\": {\"outlinewidth\": 0, \"ticks\": \"\"}}, \"type\": \"scatter\"}], \"scatter3d\": [{\"line\": {\"colorbar\": {\"outlinewidth\": 0, \"ticks\": \"\"}}, \"marker\": {\"colorbar\": {\"outlinewidth\": 0, \"ticks\": \"\"}}, \"type\": \"scatter3d\"}], \"scattercarpet\": [{\"marker\": {\"colorbar\": {\"outlinewidth\": 0, \"ticks\": \"\"}}, \"type\": \"scattercarpet\"}], \"scattergeo\": [{\"marker\": {\"colorbar\": {\"outlinewidth\": 0, \"ticks\": \"\"}}, \"type\": \"scattergeo\"}], \"scattergl\": [{\"marker\": {\"colorbar\": {\"outlinewidth\": 0, \"ticks\": \"\"}}, \"type\": \"scattergl\"}], \"scattermapbox\": [{\"marker\": {\"colorbar\": {\"outlinewidth\": 0, \"ticks\": \"\"}}, \"type\": \"scattermapbox\"}], \"scatterpolar\": [{\"marker\": {\"colorbar\": {\"outlinewidth\": 0, \"ticks\": \"\"}}, \"type\": \"scatterpolar\"}], \"scatterpolargl\": [{\"marker\": {\"colorbar\": {\"outlinewidth\": 0, \"ticks\": \"\"}}, \"type\": \"scatterpolargl\"}], \"scatterternary\": [{\"marker\": {\"colorbar\": {\"outlinewidth\": 0, \"ticks\": \"\"}}, \"type\": \"scatterternary\"}], \"surface\": [{\"colorbar\": {\"outlinewidth\": 0, \"ticks\": \"\"}, \"colorscale\": [[0.0, \"#0d0887\"], [0.1111111111111111, \"#46039f\"], [0.2222222222222222, \"#7201a8\"], [0.3333333333333333, \"#9c179e\"], [0.4444444444444444, \"#bd3786\"], [0.5555555555555556, \"#d8576b\"], [0.6666666666666666, \"#ed7953\"], [0.7777777777777778, \"#fb9f3a\"], [0.8888888888888888, \"#fdca26\"], [1.0, \"#f0f921\"]], \"type\": \"surface\"}], \"table\": [{\"cells\": {\"fill\": {\"color\": \"#EBF0F8\"}, \"line\": {\"color\": \"white\"}}, \"header\": {\"fill\": {\"color\": \"#C8D4E3\"}, \"line\": {\"color\": \"white\"}}, \"type\": \"table\"}]}, \"layout\": {\"annotationdefaults\": {\"arrowcolor\": \"#2a3f5f\", \"arrowhead\": 0, \"arrowwidth\": 1}, \"coloraxis\": {\"colorbar\": {\"outlinewidth\": 0, \"ticks\": \"\"}}, \"colorscale\": {\"diverging\": [[0, \"#8e0152\"], [0.1, \"#c51b7d\"], [0.2, \"#de77ae\"], [0.3, \"#f1b6da\"], [0.4, \"#fde0ef\"], [0.5, \"#f7f7f7\"], [0.6, \"#e6f5d0\"], [0.7, \"#b8e186\"], [0.8, \"#7fbc41\"], [0.9, \"#4d9221\"], [1, \"#276419\"]], \"sequential\": [[0.0, \"#0d0887\"], [0.1111111111111111, \"#46039f\"], [0.2222222222222222, \"#7201a8\"], [0.3333333333333333, \"#9c179e\"], [0.4444444444444444, \"#bd3786\"], [0.5555555555555556, \"#d8576b\"], [0.6666666666666666, \"#ed7953\"], [0.7777777777777778, \"#fb9f3a\"], [0.8888888888888888, \"#fdca26\"], [1.0, \"#f0f921\"]], \"sequentialminus\": [[0.0, \"#0d0887\"], [0.1111111111111111, \"#46039f\"], [0.2222222222222222, \"#7201a8\"], [0.3333333333333333, \"#9c179e\"], [0.4444444444444444, \"#bd3786\"], [0.5555555555555556, \"#d8576b\"], [0.6666666666666666, \"#ed7953\"], [0.7777777777777778, \"#fb9f3a\"], [0.8888888888888888, \"#fdca26\"], [1.0, \"#f0f921\"]]}, \"colorway\": [\"#636efa\", \"#EF553B\", \"#00cc96\", \"#ab63fa\", \"#FFA15A\", \"#19d3f3\", \"#FF6692\", \"#B6E880\", \"#FF97FF\", \"#FECB52\"], \"font\": {\"color\": \"#2a3f5f\"}, \"geo\": {\"bgcolor\": \"white\", \"lakecolor\": \"white\", \"landcolor\": \"#E5ECF6\", \"showlakes\": true, \"showland\": true, \"subunitcolor\": \"white\"}, \"hoverlabel\": {\"align\": \"left\"}, \"hovermode\": \"closest\", \"mapbox\": {\"style\": \"light\"}, \"paper_bgcolor\": \"white\", \"plot_bgcolor\": \"#E5ECF6\", \"polar\": {\"angularaxis\": {\"gridcolor\": \"white\", \"linecolor\": \"white\", \"ticks\": \"\"}, \"bgcolor\": \"#E5ECF6\", \"radialaxis\": {\"gridcolor\": \"white\", \"linecolor\": \"white\", \"ticks\": \"\"}}, \"scene\": {\"xaxis\": {\"backgroundcolor\": \"#E5ECF6\", \"gridcolor\": \"white\", \"gridwidth\": 2, \"linecolor\": \"white\", \"showbackground\": true, \"ticks\": \"\", \"zerolinecolor\": \"white\"}, \"yaxis\": {\"backgroundcolor\": \"#E5ECF6\", \"gridcolor\": \"white\", \"gridwidth\": 2, \"linecolor\": \"white\", \"showbackground\": true, \"ticks\": \"\", \"zerolinecolor\": \"white\"}, \"zaxis\": {\"backgroundcolor\": \"#E5ECF6\", \"gridcolor\": \"white\", \"gridwidth\": 2, \"linecolor\": \"white\", \"showbackground\": true, \"ticks\": \"\", \"zerolinecolor\": \"white\"}}, \"shapedefaults\": {\"line\": {\"color\": \"#2a3f5f\"}}, \"ternary\": {\"aaxis\": {\"gridcolor\": \"white\", \"linecolor\": \"white\", \"ticks\": \"\"}, \"baxis\": {\"gridcolor\": \"white\", \"linecolor\": \"white\", \"ticks\": \"\"}, \"bgcolor\": \"#E5ECF6\", \"caxis\": {\"gridcolor\": \"white\", \"linecolor\": \"white\", \"ticks\": \"\"}}, \"title\": {\"x\": 0.05}, \"xaxis\": {\"automargin\": true, \"gridcolor\": \"white\", \"linecolor\": \"white\", \"ticks\": \"\", \"title\": {\"standoff\": 15}, \"zerolinecolor\": \"white\", \"zerolinewidth\": 2}, \"yaxis\": {\"automargin\": true, \"gridcolor\": \"white\", \"linecolor\": \"white\", \"ticks\": \"\", \"title\": {\"standoff\": 15}, \"zerolinecolor\": \"white\", \"zerolinewidth\": 2}}}},\n",
              "                        {\"responsive\": true}\n",
              "                    ).then(function(){\n",
              "                            \n",
              "var gd = document.getElementById('3ca03feb-b927-49ed-ac44-1d2d52d90cc8');\n",
              "var x = new MutationObserver(function (mutations, observer) {{\n",
              "        var display = window.getComputedStyle(gd).display;\n",
              "        if (!display || display === 'none') {{\n",
              "            console.log([gd, 'removed!']);\n",
              "            Plotly.purge(gd);\n",
              "            observer.disconnect();\n",
              "        }}\n",
              "}});\n",
              "\n",
              "// Listen for the removal of the full notebook cells\n",
              "var notebookContainer = gd.closest('#notebook-container');\n",
              "if (notebookContainer) {{\n",
              "    x.observe(notebookContainer, {childList: true});\n",
              "}}\n",
              "\n",
              "// Listen for the clearing of the current output cell\n",
              "var outputEl = gd.closest('.output');\n",
              "if (outputEl) {{\n",
              "    x.observe(outputEl, {childList: true});\n",
              "}}\n",
              "\n",
              "                        })\n",
              "                };\n",
              "                \n",
              "            </script>\n",
              "        </div>\n",
              "</body>\n",
              "</html>"
            ]
          },
          "metadata": {}
        }
      ]
    },
    {
      "cell_type": "code",
      "metadata": {
        "colab": {
          "base_uri": "https://localhost:8080/",
          "height": 542
        },
        "id": "9Rc-vCKvu-_i",
        "outputId": "30a91f39-2cec-4fa0-a763-b17a5392c6b0"
      },
      "source": [
        "import plotly\n",
        "import plotly.graph_objs as go\n",
        "import plotly.express as px\n",
        "fig = px.scatter_matrix(ps_data, dimensions=['spread2', 'D2', 'PPE','status'], color=\"status\")\n",
        "fig.show()"
      ],
      "execution_count": null,
      "outputs": [
        {
          "output_type": "display_data",
          "data": {
            "text/html": [
              "<html>\n",
              "<head><meta charset=\"utf-8\" /></head>\n",
              "<body>\n",
              "    <div>\n",
              "            <script src=\"https://cdnjs.cloudflare.com/ajax/libs/mathjax/2.7.5/MathJax.js?config=TeX-AMS-MML_SVG\"></script><script type=\"text/javascript\">if (window.MathJax) {MathJax.Hub.Config({SVG: {font: \"STIX-Web\"}});}</script>\n",
              "                <script type=\"text/javascript\">window.PlotlyConfig = {MathJaxConfig: 'local'};</script>\n",
              "        <script src=\"https://cdn.plot.ly/plotly-latest.min.js\"></script>    \n",
              "            <div id=\"e2c2a76f-8429-46ed-953f-82c67331f8e6\" class=\"plotly-graph-div\" style=\"height:525px; width:100%;\"></div>\n",
              "            <script type=\"text/javascript\">\n",
              "                \n",
              "                    window.PLOTLYENV=window.PLOTLYENV || {};\n",
              "                    \n",
              "                if (document.getElementById(\"e2c2a76f-8429-46ed-953f-82c67331f8e6\")) {\n",
              "                    Plotly.newPlot(\n",
              "                        'e2c2a76f-8429-46ed-953f-82c67331f8e6',\n",
              "                        [{\"dimensions\": [{\"axis\": {\"matches\": true}, \"label\": \"spread2\", \"values\": [0.266482, 0.33559, 0.311173, 0.33414699999999997, 0.234513, 0.299111, 0.257682, 0.183721, 0.32776900000000003, 0.325996, 0.391002, 0.363566, 0.152813, 0.25498899999999997, 0.203653, 0.21018499999999998, 0.23976399999999998, 0.43432600000000005, 0.35786999999999997, 0.34017600000000003, 0.26256399999999996, 0.23762199999999997, 0.262384, 0.210279, 0.22089, 0.236853, 0.226278, 0.196102, 0.279789, 0.209866, 0.177551, 0.173319, 0.175181, 0.17854, 0.163519, 0.170183, 0.21803699999999998, 0.196371, 0.212294, 0.266892, 0.201095, 0.063412, 0.098648, 0.15826600000000002, 0.09160800000000001, 0.10208300000000001, 0.127642, 0.200873, 0.266392, 0.264967, 0.254498, 0.291954, 0.22043400000000002, 0.269866, 0.205558, 0.221727, 0.238298, 0.290024, 0.262633, 0.22171100000000002, 0.06699400000000001, 0.086372, 0.09588200000000001, 0.018688999999999997, 0.056844000000000006, 0.006274, 0.22685, 0.20565999999999998, 0.151814, 0.120956, 0.15883, 0.224852, 0.32906599999999997, 0.306636, 0.20186099999999998, 0.31507399999999997, 0.341169, 0.25057199999999996, 0.249494, 0.26569899999999996, 0.155097, 0.210458, 0.146948, 0.078202, 0.343073, 0.31590300000000004, 0.335753, 0.29954899999999995, 0.299793, 0.375531, 0.389232, 0.207156, 0.08784, 0.17352, 0.188056, 0.180528, 0.194627, 0.265315, 0.202146, 0.24286100000000002, 0.260481, 0.310163, 0.27064099999999996, 0.089267, 0.14478, 0.210279, 0.18455, 0.24917199999999998, 0.160686, 0.278679, 0.256454, 0.184378, 0.212054, 0.250283, 0.181701, 0.261549, 0.27328, 0.372114, 0.393056, 0.389295, 0.279933, 0.281618, 0.16026700000000002, 0.142466, 0.143359, 0.12795, 0.08716499999999999, 0.11569700000000001, 0.15294100000000002, 0.195976, 0.20363, 0.217013, 0.254909, 0.178713, 0.320385, 0.322044, 0.30006700000000003, 0.304107, 0.306014, 0.23306999999999997, 0.39774899999999996, 0.28891700000000003, 0.310746, 0.21335300000000001, 0.220617, 0.345238, 0.414758, 0.355736, 0.335357, 0.262281, 0.340256, 0.45049300000000003, 0.356224, 0.24640399999999998, 0.175691, 0.207914, 0.23053200000000001, 0.303214, 0.280091, 0.23419600000000002, 0.259229, 0.226528, 0.24275, 0.184896, 0.396746, 0.17227, 0.176316, 0.160414, 0.164529, 0.073298, 0.17108800000000002, 0.218885, 0.192375, 0.19215, 0.229298, 0.197938, 0.10925599999999999, 0.197919, 0.18245899999999998, 0.240875, 0.18321800000000002, 0.216204, 0.10939700000000001, 0.191576, 0.20676799999999998, 0.133917, 0.15331, 0.11663599999999999, 0.149694, 0.15989, 0.121952, 0.129303, 0.158453, 0.207454, 0.190667]}, {\"axis\": {\"matches\": true}, \"label\": \"D2\", \"values\": [2.3014419999999998, 2.486855, 2.342259, 2.405554, 2.33218, 2.18756, 1.854785, 2.064693, 2.322511, 2.4327919999999996, 2.4073130000000003, 2.642476, 2.041277, 2.519422, 2.1256180000000002, 2.205546, 2.2645009999999997, 3.007463, 3.10901, 2.8566759999999998, 2.7397099999999996, 2.5575360000000003, 2.916777, 2.547508, 2.692176, 2.8463689999999997, 2.589702, 2.314209, 2.241742, 1.957961, 1.7438669999999998, 2.103106, 1.512275, 1.5446090000000001, 1.4232870000000002, 2.447064, 2.477082, 2.536527, 2.269398, 2.3825439999999998, 2.374073, 2.361532, 2.4168380000000003, 2.2566990000000002, 2.330716, 2.3658, 2.392122, 2.028612, 2.0799220000000003, 2.0544189999999998, 1.840198, 2.431854, 1.9722970000000002, 2.223719, 1.9868990000000002, 2.014606, 1.92294, 2.021591, 1.8270119999999999, 1.831691, 2.460791, 2.32156, 2.2786869999999997, 2.498224, 2.003032, 2.1185959999999997, 2.359973, 2.291558, 2.118496, 2.137075, 2.277927, 2.642276, 2.2050240000000003, 1.928708, 2.2258150000000003, 1.8620919999999999, 2.007923, 1.7779009999999997, 2.017753, 2.398422, 2.645959, 2.232576, 2.428306, 2.053601, 3.0993009999999996, 3.098256, 2.654271, 3.13655, 3.0070959999999998, 3.671155, 3.317586, 2.3448759999999997, 2.344336, 2.080121, 2.1438509999999997, 2.344348, 2.473239, 2.671825, 2.441612, 2.634633, 2.991063, 2.6382790000000003, 2.690917, 2.004055, 2.065477, 1.994387, 2.1299240000000004, 2.499148, 2.296873, 2.608749, 2.550961, 2.502336, 2.3767490000000002, 2.489191, 2.938114, 2.702355, 2.6407979999999998, 2.975889, 2.816781, 2.925862, 2.68624, 2.655744, 2.0904380000000002, 2.174306, 1.929715, 1.765957, 1.8212970000000002, 1.996146, 2.328513, 2.108873, 2.539724, 2.527742, 2.51632, 2.034827, 2.375138, 2.631793, 2.445502, 2.6723619999999997, 2.419253, 2.445646, 2.9637990000000003, 2.665133, 2.465528, 2.470746, 2.576563, 2.8405560000000003, 3.413649, 3.142364, 3.274865, 2.910213, 2.958815, 3.079221, 3.184027, 2.01353, 2.45113, 2.439597, 2.6996450000000003, 2.964568, 2.8923, 2.103014, 2.151121, 2.4429060000000002, 2.408689, 1.8718709999999998, 2.560422, 2.2351970000000003, 1.852402, 1.8817669999999997, 2.88245, 2.266432, 2.095237, 2.193412, 1.889002, 1.852542, 1.872946, 1.9748569999999999, 2.0047189999999997, 2.449763, 2.251553, 2.845109, 2.264226, 2.679185, 2.209021, 2.027228, 2.120412, 2.0586580000000003, 2.161936, 2.152083, 1.91399, 2.316346, 2.657476, 2.784312, 2.6797720000000003, 2.138608, 2.555477]}, {\"axis\": {\"matches\": true}, \"label\": \"PPE\", \"values\": [0.284654, 0.368674, 0.33263400000000004, 0.368975, 0.41033500000000006, 0.357775, 0.211756, 0.16375499999999998, 0.231571, 0.271362, 0.24974000000000002, 0.275931, 0.138512, 0.199889, 0.1701, 0.234589, 0.218164, 0.430788, 0.377429, 0.32211100000000004, 0.36539099999999997, 0.259765, 0.285695, 0.253556, 0.21596100000000001, 0.219514, 0.147403, 0.162999, 0.10851400000000001, 0.135242, 0.085569, 0.06850099999999999, 0.09632, 0.056140999999999996, 0.044538999999999995, 0.05761, 0.165827, 0.173218, 0.141929, 0.160691, 0.130554, 0.11573, 0.095032, 0.117399, 0.09147000000000001, 0.10270599999999999, 0.097336, 0.086398, 0.133867, 0.12887200000000001, 0.10356099999999999, 0.105993, 0.119308, 0.147491, 0.3167, 0.34483400000000003, 0.335041, 0.31446399999999997, 0.32619699999999996, 0.316395, 0.101516, 0.09855499999999999, 0.103224, 0.093534, 0.073581, 0.091546, 0.226156, 0.22624699999999998, 0.18558, 0.141958, 0.180828, 0.242981, 0.18818, 0.22546100000000002, 0.24451199999999998, 0.22862399999999997, 0.193918, 0.232744, 0.260015, 0.27794800000000003, 0.32797800000000005, 0.260633, 0.264666, 0.177275, 0.242119, 0.200423, 0.14461400000000002, 0.22096799999999997, 0.194052, 0.332086, 0.301952, 0.13412000000000002, 0.18648900000000002, 0.16080899999999998, 0.16081199999999998, 0.164916, 0.15170899999999998, 0.340623, 0.260375, 0.378483, 0.370961, 0.356881, 0.444774, 0.113942, 0.093193, 0.11287799999999999, 0.106802, 0.105306, 0.11513, 0.185668, 0.23251999999999998, 0.13639, 0.268144, 0.177807, 0.115515, 0.274407, 0.170106, 0.28278000000000003, 0.251972, 0.22065700000000002, 0.152428, 0.23480900000000002, 0.229892, 0.215558, 0.181988, 0.222716, 0.214075, 0.196535, 0.112856, 0.183572, 0.169923, 0.17063299999999998, 0.23220900000000003, 0.141422, 0.24308000000000002, 0.228319, 0.25945100000000004, 0.274387, 0.209191, 0.18498499999999998, 0.277227, 0.231723, 0.20986300000000002, 0.189032, 0.159777, 0.232861, 0.45753299999999997, 0.33608499999999997, 0.418646, 0.270173, 0.301487, 0.527367, 0.454721, 0.16858099999999998, 0.247455, 0.206256, 0.220546, 0.261305, 0.249703, 0.216638, 0.244948, 0.238281, 0.22052, 0.21238600000000002, 0.367233, 0.119652, 0.09160399999999999, 0.075587, 0.202879, 0.100881, 0.09622, 0.160376, 0.174152, 0.179677, 0.163118, 0.184067, 0.174429, 0.132703, 0.160306, 0.19272999999999998, 0.14410499999999998, 0.19771, 0.156368, 0.21572399999999997, 0.252404, 0.214346, 0.12060499999999999, 0.13886800000000002, 0.121777, 0.11283800000000001, 0.13305, 0.16889500000000002, 0.13172799999999998, 0.123306, 0.148569]}, {\"axis\": {\"matches\": true}, \"label\": \"status\", \"values\": [1, 1, 1, 1, 1, 1, 1, 1, 1, 1, 1, 1, 1, 1, 1, 1, 1, 1, 1, 1, 1, 1, 1, 1, 1, 1, 1, 1, 1, 1, 0, 0, 0, 0, 0, 0, 1, 1, 1, 1, 1, 1, 0, 0, 0, 0, 0, 0, 0, 0, 0, 0, 0, 0, 1, 1, 1, 1, 1, 1, 0, 0, 0, 0, 0, 0, 1, 1, 1, 1, 1, 1, 1, 1, 1, 1, 1, 1, 1, 1, 1, 1, 1, 1, 1, 1, 1, 1, 1, 1, 1, 1, 1, 1, 1, 1, 1, 1, 1, 1, 1, 1, 1, 1, 1, 1, 1, 1, 1, 1, 1, 1, 1, 1, 1, 1, 1, 1, 1, 1, 1, 1, 1, 1, 1, 1, 1, 1, 1, 1, 1, 1, 1, 1, 1, 1, 1, 1, 1, 1, 1, 1, 1, 1, 1, 1, 1, 1, 1, 1, 1, 1, 1, 1, 1, 1, 1, 1, 1, 1, 1, 1, 1, 1, 1, 0, 0, 0, 0, 0, 0, 0, 0, 0, 0, 0, 0, 1, 1, 1, 1, 1, 1, 0, 0, 0, 0, 0, 0, 0, 0, 0, 0, 0, 0]}], \"hoverlabel\": {\"namelength\": 0}, \"hovertemplate\": \"%{xaxis.title.text}=%{x}<br>%{yaxis.title.text}=%{y}<br>status=%{marker.color}\", \"legendgroup\": \"\", \"marker\": {\"color\": [1, 1, 1, 1, 1, 1, 1, 1, 1, 1, 1, 1, 1, 1, 1, 1, 1, 1, 1, 1, 1, 1, 1, 1, 1, 1, 1, 1, 1, 1, 0, 0, 0, 0, 0, 0, 1, 1, 1, 1, 1, 1, 0, 0, 0, 0, 0, 0, 0, 0, 0, 0, 0, 0, 1, 1, 1, 1, 1, 1, 0, 0, 0, 0, 0, 0, 1, 1, 1, 1, 1, 1, 1, 1, 1, 1, 1, 1, 1, 1, 1, 1, 1, 1, 1, 1, 1, 1, 1, 1, 1, 1, 1, 1, 1, 1, 1, 1, 1, 1, 1, 1, 1, 1, 1, 1, 1, 1, 1, 1, 1, 1, 1, 1, 1, 1, 1, 1, 1, 1, 1, 1, 1, 1, 1, 1, 1, 1, 1, 1, 1, 1, 1, 1, 1, 1, 1, 1, 1, 1, 1, 1, 1, 1, 1, 1, 1, 1, 1, 1, 1, 1, 1, 1, 1, 1, 1, 1, 1, 1, 1, 1, 1, 1, 1, 0, 0, 0, 0, 0, 0, 0, 0, 0, 0, 0, 0, 1, 1, 1, 1, 1, 1, 0, 0, 0, 0, 0, 0, 0, 0, 0, 0, 0, 0], \"coloraxis\": \"coloraxis\", \"symbol\": \"circle\"}, \"name\": \"\", \"showlegend\": false, \"type\": \"splom\"}],\n",
              "                        {\"coloraxis\": {\"colorbar\": {\"title\": {\"text\": \"status\"}}, \"colorscale\": [[0.0, \"#0d0887\"], [0.1111111111111111, \"#46039f\"], [0.2222222222222222, \"#7201a8\"], [0.3333333333333333, \"#9c179e\"], [0.4444444444444444, \"#bd3786\"], [0.5555555555555556, \"#d8576b\"], [0.6666666666666666, \"#ed7953\"], [0.7777777777777778, \"#fb9f3a\"], [0.8888888888888888, \"#fdca26\"], [1.0, \"#f0f921\"]]}, \"dragmode\": \"select\", \"legend\": {\"tracegroupgap\": 0}, \"margin\": {\"t\": 60}, \"template\": {\"data\": {\"bar\": [{\"error_x\": {\"color\": \"#2a3f5f\"}, \"error_y\": {\"color\": \"#2a3f5f\"}, \"marker\": {\"line\": {\"color\": \"#E5ECF6\", \"width\": 0.5}}, \"type\": \"bar\"}], \"barpolar\": [{\"marker\": {\"line\": {\"color\": \"#E5ECF6\", \"width\": 0.5}}, \"type\": \"barpolar\"}], \"carpet\": [{\"aaxis\": {\"endlinecolor\": \"#2a3f5f\", \"gridcolor\": \"white\", \"linecolor\": \"white\", \"minorgridcolor\": \"white\", \"startlinecolor\": \"#2a3f5f\"}, \"baxis\": {\"endlinecolor\": \"#2a3f5f\", \"gridcolor\": \"white\", \"linecolor\": \"white\", \"minorgridcolor\": \"white\", \"startlinecolor\": \"#2a3f5f\"}, \"type\": \"carpet\"}], \"choropleth\": [{\"colorbar\": {\"outlinewidth\": 0, \"ticks\": \"\"}, \"type\": \"choropleth\"}], \"contour\": [{\"colorbar\": {\"outlinewidth\": 0, \"ticks\": \"\"}, \"colorscale\": [[0.0, \"#0d0887\"], [0.1111111111111111, \"#46039f\"], [0.2222222222222222, \"#7201a8\"], [0.3333333333333333, \"#9c179e\"], [0.4444444444444444, \"#bd3786\"], [0.5555555555555556, \"#d8576b\"], [0.6666666666666666, \"#ed7953\"], [0.7777777777777778, \"#fb9f3a\"], [0.8888888888888888, \"#fdca26\"], [1.0, \"#f0f921\"]], \"type\": \"contour\"}], \"contourcarpet\": [{\"colorbar\": {\"outlinewidth\": 0, \"ticks\": \"\"}, \"type\": \"contourcarpet\"}], \"heatmap\": [{\"colorbar\": {\"outlinewidth\": 0, \"ticks\": \"\"}, \"colorscale\": [[0.0, \"#0d0887\"], [0.1111111111111111, \"#46039f\"], [0.2222222222222222, \"#7201a8\"], [0.3333333333333333, \"#9c179e\"], [0.4444444444444444, \"#bd3786\"], [0.5555555555555556, \"#d8576b\"], [0.6666666666666666, \"#ed7953\"], [0.7777777777777778, \"#fb9f3a\"], [0.8888888888888888, \"#fdca26\"], [1.0, \"#f0f921\"]], \"type\": \"heatmap\"}], \"heatmapgl\": [{\"colorbar\": {\"outlinewidth\": 0, \"ticks\": \"\"}, \"colorscale\": [[0.0, \"#0d0887\"], [0.1111111111111111, \"#46039f\"], [0.2222222222222222, \"#7201a8\"], [0.3333333333333333, \"#9c179e\"], [0.4444444444444444, \"#bd3786\"], [0.5555555555555556, \"#d8576b\"], [0.6666666666666666, \"#ed7953\"], [0.7777777777777778, \"#fb9f3a\"], [0.8888888888888888, \"#fdca26\"], [1.0, \"#f0f921\"]], \"type\": \"heatmapgl\"}], \"histogram\": [{\"marker\": {\"colorbar\": {\"outlinewidth\": 0, \"ticks\": \"\"}}, \"type\": \"histogram\"}], \"histogram2d\": [{\"colorbar\": {\"outlinewidth\": 0, \"ticks\": \"\"}, \"colorscale\": [[0.0, \"#0d0887\"], [0.1111111111111111, \"#46039f\"], [0.2222222222222222, \"#7201a8\"], [0.3333333333333333, \"#9c179e\"], [0.4444444444444444, \"#bd3786\"], [0.5555555555555556, \"#d8576b\"], [0.6666666666666666, \"#ed7953\"], [0.7777777777777778, \"#fb9f3a\"], [0.8888888888888888, \"#fdca26\"], [1.0, \"#f0f921\"]], \"type\": \"histogram2d\"}], \"histogram2dcontour\": [{\"colorbar\": {\"outlinewidth\": 0, \"ticks\": \"\"}, \"colorscale\": [[0.0, \"#0d0887\"], [0.1111111111111111, \"#46039f\"], [0.2222222222222222, \"#7201a8\"], [0.3333333333333333, \"#9c179e\"], [0.4444444444444444, \"#bd3786\"], [0.5555555555555556, \"#d8576b\"], [0.6666666666666666, \"#ed7953\"], [0.7777777777777778, \"#fb9f3a\"], [0.8888888888888888, \"#fdca26\"], [1.0, \"#f0f921\"]], \"type\": \"histogram2dcontour\"}], \"mesh3d\": [{\"colorbar\": {\"outlinewidth\": 0, \"ticks\": \"\"}, \"type\": \"mesh3d\"}], \"parcoords\": [{\"line\": {\"colorbar\": {\"outlinewidth\": 0, \"ticks\": \"\"}}, \"type\": \"parcoords\"}], \"pie\": [{\"automargin\": true, \"type\": \"pie\"}], \"scatter\": [{\"marker\": {\"colorbar\": {\"outlinewidth\": 0, \"ticks\": \"\"}}, \"type\": \"scatter\"}], \"scatter3d\": [{\"line\": {\"colorbar\": {\"outlinewidth\": 0, \"ticks\": \"\"}}, \"marker\": {\"colorbar\": {\"outlinewidth\": 0, \"ticks\": \"\"}}, \"type\": \"scatter3d\"}], \"scattercarpet\": [{\"marker\": {\"colorbar\": {\"outlinewidth\": 0, \"ticks\": \"\"}}, \"type\": \"scattercarpet\"}], \"scattergeo\": [{\"marker\": {\"colorbar\": {\"outlinewidth\": 0, \"ticks\": \"\"}}, \"type\": \"scattergeo\"}], \"scattergl\": [{\"marker\": {\"colorbar\": {\"outlinewidth\": 0, \"ticks\": \"\"}}, \"type\": \"scattergl\"}], \"scattermapbox\": [{\"marker\": {\"colorbar\": {\"outlinewidth\": 0, \"ticks\": \"\"}}, \"type\": \"scattermapbox\"}], \"scatterpolar\": [{\"marker\": {\"colorbar\": {\"outlinewidth\": 0, \"ticks\": \"\"}}, \"type\": \"scatterpolar\"}], \"scatterpolargl\": [{\"marker\": {\"colorbar\": {\"outlinewidth\": 0, \"ticks\": \"\"}}, \"type\": \"scatterpolargl\"}], \"scatterternary\": [{\"marker\": {\"colorbar\": {\"outlinewidth\": 0, \"ticks\": \"\"}}, \"type\": \"scatterternary\"}], \"surface\": [{\"colorbar\": {\"outlinewidth\": 0, \"ticks\": \"\"}, \"colorscale\": [[0.0, \"#0d0887\"], [0.1111111111111111, \"#46039f\"], [0.2222222222222222, \"#7201a8\"], [0.3333333333333333, \"#9c179e\"], [0.4444444444444444, \"#bd3786\"], [0.5555555555555556, \"#d8576b\"], [0.6666666666666666, \"#ed7953\"], [0.7777777777777778, \"#fb9f3a\"], [0.8888888888888888, \"#fdca26\"], [1.0, \"#f0f921\"]], \"type\": \"surface\"}], \"table\": [{\"cells\": {\"fill\": {\"color\": \"#EBF0F8\"}, \"line\": {\"color\": \"white\"}}, \"header\": {\"fill\": {\"color\": \"#C8D4E3\"}, \"line\": {\"color\": \"white\"}}, \"type\": \"table\"}]}, \"layout\": {\"annotationdefaults\": {\"arrowcolor\": \"#2a3f5f\", \"arrowhead\": 0, \"arrowwidth\": 1}, \"coloraxis\": {\"colorbar\": {\"outlinewidth\": 0, \"ticks\": \"\"}}, \"colorscale\": {\"diverging\": [[0, \"#8e0152\"], [0.1, \"#c51b7d\"], [0.2, \"#de77ae\"], [0.3, \"#f1b6da\"], [0.4, \"#fde0ef\"], [0.5, \"#f7f7f7\"], [0.6, \"#e6f5d0\"], [0.7, \"#b8e186\"], [0.8, \"#7fbc41\"], [0.9, \"#4d9221\"], [1, \"#276419\"]], \"sequential\": [[0.0, \"#0d0887\"], [0.1111111111111111, \"#46039f\"], [0.2222222222222222, \"#7201a8\"], [0.3333333333333333, \"#9c179e\"], [0.4444444444444444, \"#bd3786\"], [0.5555555555555556, \"#d8576b\"], [0.6666666666666666, \"#ed7953\"], [0.7777777777777778, \"#fb9f3a\"], [0.8888888888888888, \"#fdca26\"], [1.0, \"#f0f921\"]], \"sequentialminus\": [[0.0, \"#0d0887\"], [0.1111111111111111, \"#46039f\"], [0.2222222222222222, \"#7201a8\"], [0.3333333333333333, \"#9c179e\"], [0.4444444444444444, \"#bd3786\"], [0.5555555555555556, \"#d8576b\"], [0.6666666666666666, \"#ed7953\"], [0.7777777777777778, \"#fb9f3a\"], [0.8888888888888888, \"#fdca26\"], [1.0, \"#f0f921\"]]}, \"colorway\": [\"#636efa\", \"#EF553B\", \"#00cc96\", \"#ab63fa\", \"#FFA15A\", \"#19d3f3\", \"#FF6692\", \"#B6E880\", \"#FF97FF\", \"#FECB52\"], \"font\": {\"color\": \"#2a3f5f\"}, \"geo\": {\"bgcolor\": \"white\", \"lakecolor\": \"white\", \"landcolor\": \"#E5ECF6\", \"showlakes\": true, \"showland\": true, \"subunitcolor\": \"white\"}, \"hoverlabel\": {\"align\": \"left\"}, \"hovermode\": \"closest\", \"mapbox\": {\"style\": \"light\"}, \"paper_bgcolor\": \"white\", \"plot_bgcolor\": \"#E5ECF6\", \"polar\": {\"angularaxis\": {\"gridcolor\": \"white\", \"linecolor\": \"white\", \"ticks\": \"\"}, \"bgcolor\": \"#E5ECF6\", \"radialaxis\": {\"gridcolor\": \"white\", \"linecolor\": \"white\", \"ticks\": \"\"}}, \"scene\": {\"xaxis\": {\"backgroundcolor\": \"#E5ECF6\", \"gridcolor\": \"white\", \"gridwidth\": 2, \"linecolor\": \"white\", \"showbackground\": true, \"ticks\": \"\", \"zerolinecolor\": \"white\"}, \"yaxis\": {\"backgroundcolor\": \"#E5ECF6\", \"gridcolor\": \"white\", \"gridwidth\": 2, \"linecolor\": \"white\", \"showbackground\": true, \"ticks\": \"\", \"zerolinecolor\": \"white\"}, \"zaxis\": {\"backgroundcolor\": \"#E5ECF6\", \"gridcolor\": \"white\", \"gridwidth\": 2, \"linecolor\": \"white\", \"showbackground\": true, \"ticks\": \"\", \"zerolinecolor\": \"white\"}}, \"shapedefaults\": {\"line\": {\"color\": \"#2a3f5f\"}}, \"ternary\": {\"aaxis\": {\"gridcolor\": \"white\", \"linecolor\": \"white\", \"ticks\": \"\"}, \"baxis\": {\"gridcolor\": \"white\", \"linecolor\": \"white\", \"ticks\": \"\"}, \"bgcolor\": \"#E5ECF6\", \"caxis\": {\"gridcolor\": \"white\", \"linecolor\": \"white\", \"ticks\": \"\"}}, \"title\": {\"x\": 0.05}, \"xaxis\": {\"automargin\": true, \"gridcolor\": \"white\", \"linecolor\": \"white\", \"ticks\": \"\", \"title\": {\"standoff\": 15}, \"zerolinecolor\": \"white\", \"zerolinewidth\": 2}, \"yaxis\": {\"automargin\": true, \"gridcolor\": \"white\", \"linecolor\": \"white\", \"ticks\": \"\", \"title\": {\"standoff\": 15}, \"zerolinecolor\": \"white\", \"zerolinewidth\": 2}}}},\n",
              "                        {\"responsive\": true}\n",
              "                    ).then(function(){\n",
              "                            \n",
              "var gd = document.getElementById('e2c2a76f-8429-46ed-953f-82c67331f8e6');\n",
              "var x = new MutationObserver(function (mutations, observer) {{\n",
              "        var display = window.getComputedStyle(gd).display;\n",
              "        if (!display || display === 'none') {{\n",
              "            console.log([gd, 'removed!']);\n",
              "            Plotly.purge(gd);\n",
              "            observer.disconnect();\n",
              "        }}\n",
              "}});\n",
              "\n",
              "// Listen for the removal of the full notebook cells\n",
              "var notebookContainer = gd.closest('#notebook-container');\n",
              "if (notebookContainer) {{\n",
              "    x.observe(notebookContainer, {childList: true});\n",
              "}}\n",
              "\n",
              "// Listen for the clearing of the current output cell\n",
              "var outputEl = gd.closest('.output');\n",
              "if (outputEl) {{\n",
              "    x.observe(outputEl, {childList: true});\n",
              "}}\n",
              "\n",
              "                        })\n",
              "                };\n",
              "                \n",
              "            </script>\n",
              "        </div>\n",
              "</body>\n",
              "</html>"
            ]
          },
          "metadata": {}
        }
      ]
    },
    {
      "cell_type": "code",
      "metadata": {
        "id": "PvJcm4SeMMPc"
      },
      "source": [
        "X = ps_data.drop(columns=['name','status'],axis=1)\n",
        "Y = ps_data['status']"
      ],
      "execution_count": null,
      "outputs": []
    },
    {
      "cell_type": "code",
      "metadata": {
        "colab": {
          "base_uri": "https://localhost:8080/"
        },
        "id": "wqroYfDwsMIU",
        "outputId": "4c5d1f6f-0238-490e-9c18-c177974f29d0"
      },
      "source": [
        "print(X)\n",
        "print(Y)"
      ],
      "execution_count": null,
      "outputs": [
        {
          "output_type": "stream",
          "name": "stdout",
          "text": [
            "     MDVP:Fo(Hz)  MDVP:Fhi(Hz)  MDVP:Flo(Hz)  ...   spread2        D2       PPE\n",
            "0        119.992       157.302        74.997  ...  0.266482  2.301442  0.284654\n",
            "1        122.400       148.650       113.819  ...  0.335590  2.486855  0.368674\n",
            "2        116.682       131.111       111.555  ...  0.311173  2.342259  0.332634\n",
            "3        116.676       137.871       111.366  ...  0.334147  2.405554  0.368975\n",
            "4        116.014       141.781       110.655  ...  0.234513  2.332180  0.410335\n",
            "..           ...           ...           ...  ...       ...       ...       ...\n",
            "190      174.188       230.978        94.261  ...  0.121952  2.657476  0.133050\n",
            "191      209.516       253.017        89.488  ...  0.129303  2.784312  0.168895\n",
            "192      174.688       240.005        74.287  ...  0.158453  2.679772  0.131728\n",
            "193      198.764       396.961        74.904  ...  0.207454  2.138608  0.123306\n",
            "194      214.289       260.277        77.973  ...  0.190667  2.555477  0.148569\n",
            "\n",
            "[195 rows x 22 columns]\n",
            "0      1\n",
            "1      1\n",
            "2      1\n",
            "3      1\n",
            "4      1\n",
            "      ..\n",
            "190    0\n",
            "191    0\n",
            "192    0\n",
            "193    0\n",
            "194    0\n",
            "Name: status, Length: 195, dtype: int64\n"
          ]
        }
      ]
    },
    {
      "cell_type": "code",
      "metadata": {
        "id": "FUzlifb1sPJL"
      },
      "source": [
        "X_train, X_test, Y_train, Y_test = train_test_split(X,Y,test_size=0.15,random_state=2)"
      ],
      "execution_count": null,
      "outputs": []
    },
    {
      "cell_type": "code",
      "metadata": {
        "colab": {
          "base_uri": "https://localhost:8080/"
        },
        "id": "fheP4ZVOwfyC",
        "outputId": "6c1aff18-a7d1-489a-80f9-526c998c7133"
      },
      "source": [
        "print(X.shape,X_train.shape,X_test.shape)"
      ],
      "execution_count": null,
      "outputs": [
        {
          "output_type": "stream",
          "name": "stdout",
          "text": [
            "(195, 22) (165, 22) (30, 22)\n"
          ]
        }
      ]
    },
    {
      "cell_type": "markdown",
      "metadata": {
        "id": "_A0YyDjzxedd"
      },
      "source": [
        "####Standardizing the data"
      ]
    },
    {
      "cell_type": "code",
      "metadata": {
        "id": "tT0afu7NwwxJ"
      },
      "source": [
        "scaler = StandardScaler()"
      ],
      "execution_count": null,
      "outputs": []
    },
    {
      "cell_type": "code",
      "metadata": {
        "colab": {
          "base_uri": "https://localhost:8080/"
        },
        "id": "L87zZE2MxmHN",
        "outputId": "835b35cd-a64b-40ea-85aa-f15c37cc8120"
      },
      "source": [
        "scaler.fit(X_train)"
      ],
      "execution_count": null,
      "outputs": [
        {
          "output_type": "execute_result",
          "data": {
            "text/plain": [
              "StandardScaler(copy=True, with_mean=True, with_std=True)"
            ]
          },
          "metadata": {},
          "execution_count": 70
        }
      ]
    },
    {
      "cell_type": "code",
      "metadata": {
        "id": "ZHhe9GTexovw"
      },
      "source": [
        "X_train = scaler.transform(X_train)\n",
        "X_test = scaler.transform(X_test)"
      ],
      "execution_count": null,
      "outputs": []
    },
    {
      "cell_type": "code",
      "metadata": {
        "colab": {
          "base_uri": "https://localhost:8080/"
        },
        "id": "bwPy2Coaxx0E",
        "outputId": "5cad7811-6af0-4a92-9894-d3bd2257a635"
      },
      "source": [
        "print(X_train)"
      ],
      "execution_count": null,
      "outputs": [
        {
          "output_type": "stream",
          "name": "stdout",
          "text": [
            "[[-1.17019022 -0.7196696  -0.33023438 ... -0.22568351 -1.0456428\n",
            "   1.17870509]\n",
            " [-0.42865712 -0.21909191 -0.91902999 ...  0.36354622  0.31121179\n",
            "  -0.08860216]\n",
            " [ 0.88652261  0.11581564 -0.83533502 ...  0.64593687  0.53881464\n",
            "  -0.24288879]\n",
            " ...\n",
            " [-0.89490527 -0.66279574 -0.14378319 ...  1.24656234 -0.48986604\n",
            "  -0.21563557]\n",
            " [-0.3555441   0.21208708 -0.77130534 ... -0.17052852 -0.488536\n",
            "   0.28786548]\n",
            " [ 0.99736429  0.21402263 -0.60049242 ... -0.71475931  1.23619759\n",
            "  -0.05616301]]\n"
          ]
        }
      ]
    },
    {
      "cell_type": "markdown",
      "metadata": {
        "id": "XrUKimjk0H7w"
      },
      "source": [
        "#MODEL : SVM"
      ]
    },
    {
      "cell_type": "code",
      "metadata": {
        "id": "ivA2-K4zx0up"
      },
      "source": [
        "model = svm.SVC(kernel='linear')"
      ],
      "execution_count": null,
      "outputs": []
    },
    {
      "cell_type": "code",
      "metadata": {
        "colab": {
          "base_uri": "https://localhost:8080/"
        },
        "id": "iIufbTIm0QVy",
        "outputId": "62dd2379-5e60-476f-a26a-f80d8b38e067"
      },
      "source": [
        "model.fit(X_train,Y_train)"
      ],
      "execution_count": null,
      "outputs": [
        {
          "output_type": "execute_result",
          "data": {
            "text/plain": [
              "SVC(C=1.0, break_ties=False, cache_size=200, class_weight=None, coef0=0.0,\n",
              "    decision_function_shape='ovr', degree=3, gamma='scale', kernel='linear',\n",
              "    max_iter=-1, probability=False, random_state=None, shrinking=True,\n",
              "    tol=0.001, verbose=False)"
            ]
          },
          "metadata": {},
          "execution_count": 74
        }
      ]
    },
    {
      "cell_type": "code",
      "metadata": {
        "id": "McxuKN430Uav"
      },
      "source": [
        "X_train_pred = model.predict(X_train)\n",
        "training_accuracy = accuracy_score(Y_train,X_train_pred)"
      ],
      "execution_count": null,
      "outputs": []
    },
    {
      "cell_type": "code",
      "metadata": {
        "colab": {
          "base_uri": "https://localhost:8080/"
        },
        "id": "-2v2xv-00pl8",
        "outputId": "36a74f3c-407f-40c0-ffba-d55bc4487aee"
      },
      "source": [
        "print(\"SVM training accuracy :-\")\n",
        "print(training_accuracy)"
      ],
      "execution_count": null,
      "outputs": [
        {
          "output_type": "stream",
          "name": "stdout",
          "text": [
            "SVM training accuracy :-\n",
            "0.896969696969697\n"
          ]
        }
      ]
    },
    {
      "cell_type": "code",
      "metadata": {
        "colab": {
          "base_uri": "https://localhost:8080/"
        },
        "id": "BvPvyi6N0tNU",
        "outputId": "20db4696-ec6a-44e7-be17-580b547f5730"
      },
      "source": [
        "X_test_pred = model.predict(X_test)\n",
        "testing_accuracy = accuracy_score(Y_test,X_test_pred)\n",
        "print(\"SVM testing accuracy :-\")\n",
        "print(testing_accuracy)"
      ],
      "execution_count": null,
      "outputs": [
        {
          "output_type": "stream",
          "name": "stdout",
          "text": [
            "SVM tresting accuracy :-\n",
            "0.8666666666666667\n"
          ]
        }
      ]
    },
    {
      "cell_type": "markdown",
      "metadata": {
        "id": "hPMiakKa2nq2"
      },
      "source": [
        "PREDICTION"
      ]
    },
    {
      "cell_type": "code",
      "metadata": {
        "id": "8t7W-o8z1WQ-"
      },
      "source": [
        "r_data = ()\n",
        "r_data_np = np.asarray(r_data)\n",
        "r_data_shape = r_data_np.reshape(1,-1)\n",
        "real_world_data = scaler.transfor(r_data_shape)\n",
        "prediction = model.predict(real_world_data)\n",
        "print(Prediction)"
      ],
      "execution_count": null,
      "outputs": []
    },
    {
      "cell_type": "markdown",
      "metadata": {
        "id": "8o-plxQt3Yz9"
      },
      "source": [
        "#MODEL : RANDOM FOREST CLASSIFIER"
      ]
    },
    {
      "cell_type": "code",
      "metadata": {
        "id": "rvOZc64v3bt8"
      },
      "source": [
        "from sklearn.ensemble import RandomForestClassifier\n",
        "from sklearn.metrics import accuracy_score\n",
        "from sklearn.preprocessing import StandardScaler, MinMaxScaler"
      ],
      "execution_count": null,
      "outputs": []
    },
    {
      "cell_type": "code",
      "metadata": {
        "colab": {
          "base_uri": "https://localhost:8080/"
        },
        "id": "CFPP8cLH3tkq",
        "outputId": "b0dda5b2-b4de-468c-e1e0-b4030c1c7eee"
      },
      "source": [
        "model_r = RandomForestClassifier(n_estimators=100)\n",
        "\n",
        "model_r.fit(X_train, Y_train)"
      ],
      "execution_count": null,
      "outputs": [
        {
          "output_type": "execute_result",
          "data": {
            "text/plain": [
              "RandomForestClassifier(bootstrap=True, ccp_alpha=0.0, class_weight=None,\n",
              "                       criterion='gini', max_depth=None, max_features='auto',\n",
              "                       max_leaf_nodes=None, max_samples=None,\n",
              "                       min_impurity_decrease=0.0, min_impurity_split=None,\n",
              "                       min_samples_leaf=1, min_samples_split=2,\n",
              "                       min_weight_fraction_leaf=0.0, n_estimators=100,\n",
              "                       n_jobs=None, oob_score=False, random_state=None,\n",
              "                       verbose=0, warm_start=False)"
            ]
          },
          "metadata": {},
          "execution_count": 89
        }
      ]
    },
    {
      "cell_type": "code",
      "metadata": {
        "colab": {
          "base_uri": "https://localhost:8080/"
        },
        "id": "Xj2uAaRG4JZO",
        "outputId": "00724859-d41d-49bc-e74f-9a02acb0c7ff"
      },
      "source": [
        "X_train_pred_r = model_r.predict(X_train)\n",
        "training_accuracy = accuracy_score(Y_train,X_train_pred_r)\n",
        "print(\"Randomforest training accuracy :-\")\n",
        "print(training_accuracy)"
      ],
      "execution_count": null,
      "outputs": [
        {
          "output_type": "stream",
          "name": "stdout",
          "text": [
            "Randomforest training accuracy :-\n",
            "1.0\n"
          ]
        }
      ]
    },
    {
      "cell_type": "code",
      "metadata": {
        "colab": {
          "base_uri": "https://localhost:8080/"
        },
        "id": "9u3jRgew4SKM",
        "outputId": "198ee3dd-c09a-4ba0-8b03-9c8e3f6fa346"
      },
      "source": [
        "X_test_pred_r = model_r.predict(X_test)\n",
        "testing_accuracy = accuracy_score(Y_test,X_test_pred_r)\n",
        "print(\"Randomforest testing accuracy :-\")\n",
        "print(testing_accuracy)"
      ],
      "execution_count": null,
      "outputs": [
        {
          "output_type": "stream",
          "name": "stdout",
          "text": [
            "Randomforest testing accuracy :-\n",
            "0.8333333333333334\n"
          ]
        }
      ]
    },
    {
      "cell_type": "markdown",
      "metadata": {
        "id": "G9P5x2ZK53_k"
      },
      "source": [
        "#MODEL : Naive Bayes"
      ]
    },
    {
      "cell_type": "code",
      "metadata": {
        "colab": {
          "base_uri": "https://localhost:8080/"
        },
        "id": "nchieRDT5A_x",
        "outputId": "d196a971-d475-4282-ea50-b2daa41c8470"
      },
      "source": [
        "from sklearn.naive_bayes import GaussianNB\n",
        "model_n = GaussianNB()\n",
        "model_n.fit(X_train,Y_train)\n"
      ],
      "execution_count": null,
      "outputs": [
        {
          "output_type": "execute_result",
          "data": {
            "text/plain": [
              "GaussianNB(priors=None, var_smoothing=1e-09)"
            ]
          },
          "metadata": {},
          "execution_count": 93
        }
      ]
    },
    {
      "cell_type": "code",
      "metadata": {
        "colab": {
          "base_uri": "https://localhost:8080/"
        },
        "id": "IEHZEa4A7g74",
        "outputId": "d0b6d256-068a-4dbb-af53-e8a167768571"
      },
      "source": [
        "X_train_pred_n = model_n.predict(X_train)\n",
        "training_accuracy = accuracy_score(Y_train,X_train_pred_n)\n",
        "print(\"Naive Bayes training accuracy :-\")\n",
        "print(training_accuracy)"
      ],
      "execution_count": null,
      "outputs": [
        {
          "output_type": "stream",
          "name": "stdout",
          "text": [
            "Naive Bayes training accuracy :-\n",
            "0.7272727272727273\n"
          ]
        }
      ]
    },
    {
      "cell_type": "code",
      "metadata": {
        "colab": {
          "base_uri": "https://localhost:8080/"
        },
        "id": "0rzJM8D87oYw",
        "outputId": "4d01c01e-31b2-4077-9dcf-e5e69aaa1fd9"
      },
      "source": [
        "X_test_pred_n = model_n.predict(X_test)\n",
        "testing_accuracy = accuracy_score(Y_test,X_test_pred_n)\n",
        "print(\"Naive Bayes testing accuracy :-\")\n",
        "print(testing_accuracy)"
      ],
      "execution_count": null,
      "outputs": [
        {
          "output_type": "stream",
          "name": "stdout",
          "text": [
            "Naive Bayes testing accuracy :-\n",
            "0.5666666666666667\n"
          ]
        }
      ]
    },
    {
      "cell_type": "markdown",
      "metadata": {
        "id": "KobGAZd670s_"
      },
      "source": [
        "#Model : KNN"
      ]
    },
    {
      "cell_type": "code",
      "metadata": {
        "colab": {
          "base_uri": "https://localhost:8080/"
        },
        "id": "FMrI-FWz7yzv",
        "outputId": "3f28dcb5-2fc3-4f03-a7a0-782a06ef1599"
      },
      "source": [
        "from sklearn.neighbors import KNeighborsClassifier\n",
        "model_k = KNeighborsClassifier(n_neighbors=13)\n",
        "model_k.fit(X_train,Y_train)"
      ],
      "execution_count": null,
      "outputs": [
        {
          "output_type": "execute_result",
          "data": {
            "text/plain": [
              "KNeighborsClassifier(algorithm='auto', leaf_size=30, metric='minkowski',\n",
              "                     metric_params=None, n_jobs=None, n_neighbors=13, p=2,\n",
              "                     weights='uniform')"
            ]
          },
          "metadata": {},
          "execution_count": 97
        }
      ]
    },
    {
      "cell_type": "code",
      "metadata": {
        "colab": {
          "base_uri": "https://localhost:8080/"
        },
        "id": "73accwgH88VS",
        "outputId": "d018d8bb-e8d2-449b-9d58-4c41d331277e"
      },
      "source": [
        "X_train_pred_k = model_k.predict(X_train)\n",
        "training_accuracy = accuracy_score(Y_train,X_train_pred_k)\n",
        "print(\"KNN training accuracy :-\")\n",
        "print(training_accuracy)"
      ],
      "execution_count": null,
      "outputs": [
        {
          "output_type": "stream",
          "name": "stdout",
          "text": [
            "KNN training accuracy :-\n",
            "0.9212121212121213\n"
          ]
        }
      ]
    },
    {
      "cell_type": "code",
      "metadata": {
        "colab": {
          "base_uri": "https://localhost:8080/"
        },
        "id": "OIOsrrSX898B",
        "outputId": "f5b39df5-d4d4-454f-e066-528707f0f737"
      },
      "source": [
        "X_test_pred_k = model_k.predict(X_test)\n",
        "testing_accuracy = accuracy_score(Y_test,X_test_pred_k)\n",
        "print(\"KNN testing accuracy :-\")\n",
        "print(testing_accuracy)"
      ],
      "execution_count": null,
      "outputs": [
        {
          "output_type": "stream",
          "name": "stdout",
          "text": [
            "KNN testing accuracy :-\n",
            "0.9\n"
          ]
        }
      ]
    },
    {
      "cell_type": "markdown",
      "metadata": {
        "id": "68nj_sVA9sDL"
      },
      "source": [
        "#MODEL : LOGISTIC REGRESSION"
      ]
    },
    {
      "cell_type": "code",
      "metadata": {
        "colab": {
          "base_uri": "https://localhost:8080/"
        },
        "id": "2idlEwCT9RZw",
        "outputId": "94b8eb4c-e04a-4a4c-d079-48e5dbc8c640"
      },
      "source": [
        "from sklearn.linear_model import LogisticRegression\n",
        "model_l = LogisticRegression()\n",
        "model_l.fit(X_train,Y_train)"
      ],
      "execution_count": null,
      "outputs": [
        {
          "output_type": "execute_result",
          "data": {
            "text/plain": [
              "LogisticRegression(C=1.0, class_weight=None, dual=False, fit_intercept=True,\n",
              "                   intercept_scaling=1, l1_ratio=None, max_iter=100,\n",
              "                   multi_class='auto', n_jobs=None, penalty='l2',\n",
              "                   random_state=None, solver='lbfgs', tol=0.0001, verbose=0,\n",
              "                   warm_start=False)"
            ]
          },
          "metadata": {},
          "execution_count": 102
        }
      ]
    },
    {
      "cell_type": "code",
      "metadata": {
        "colab": {
          "base_uri": "https://localhost:8080/"
        },
        "id": "mnvD_zdD-o-b",
        "outputId": "fed95bdf-907e-46ce-d032-05f7bfca7ae5"
      },
      "source": [
        "X_train_pred_l = model_l.predict(X_train)\n",
        "training_accuracy = accuracy_score(Y_train,X_train_pred_l)\n",
        "print(\"Logistic Regression training accuracy :-\")\n",
        "print(training_accuracy)"
      ],
      "execution_count": null,
      "outputs": [
        {
          "output_type": "stream",
          "name": "stdout",
          "text": [
            "Logistic Regression training accuracy :-\n",
            "0.8727272727272727\n"
          ]
        }
      ]
    },
    {
      "cell_type": "code",
      "metadata": {
        "colab": {
          "base_uri": "https://localhost:8080/"
        },
        "id": "TnnM_ujY-p-2",
        "outputId": "1355b862-1b61-4124-93f3-b27a5dcad94b"
      },
      "source": [
        "X_test_pred_l = model_l.predict(X_test)\n",
        "testing_accuracy = accuracy_score(Y_test,X_test_pred_l)\n",
        "print(\"Logistic Regression testing accuracy :-\")\n",
        "print(testing_accuracy)"
      ],
      "execution_count": null,
      "outputs": [
        {
          "output_type": "stream",
          "name": "stdout",
          "text": [
            "Logistic Regression testing accuracy :-\n",
            "0.7666666666666667\n"
          ]
        }
      ]
    },
    {
      "cell_type": "markdown",
      "metadata": {
        "id": "Ur-X74yK_agq"
      },
      "source": [
        "#MODEL : DECISION TREE"
      ]
    },
    {
      "cell_type": "code",
      "metadata": {
        "colab": {
          "base_uri": "https://localhost:8080/"
        },
        "id": "k2J009Oz_ZE3",
        "outputId": "9278302b-8984-4855-bda3-3d25e68cb671"
      },
      "source": [
        "from sklearn.tree import DecisionTreeClassifier\n",
        "model_d = DecisionTreeClassifier()\n",
        "model_d.fit(X_train,Y_train)"
      ],
      "execution_count": null,
      "outputs": [
        {
          "output_type": "execute_result",
          "data": {
            "text/plain": [
              "DecisionTreeClassifier(ccp_alpha=0.0, class_weight=None, criterion='gini',\n",
              "                       max_depth=None, max_features=None, max_leaf_nodes=None,\n",
              "                       min_impurity_decrease=0.0, min_impurity_split=None,\n",
              "                       min_samples_leaf=1, min_samples_split=2,\n",
              "                       min_weight_fraction_leaf=0.0, presort='deprecated',\n",
              "                       random_state=None, splitter='best')"
            ]
          },
          "metadata": {},
          "execution_count": 105
        }
      ]
    },
    {
      "cell_type": "code",
      "metadata": {
        "colab": {
          "base_uri": "https://localhost:8080/"
        },
        "id": "-ofMVhnBAEja",
        "outputId": "649e7aa3-9aff-44b9-e26f-af0de6e4b35d"
      },
      "source": [
        "X_train_pred_d = model_d.predict(X_train)\n",
        "training_accuracy = accuracy_score(Y_train,X_train_pred_d)\n",
        "print(\"Decision Tree training accuracy :-\")\n",
        "print(training_accuracy)"
      ],
      "execution_count": null,
      "outputs": [
        {
          "output_type": "stream",
          "name": "stdout",
          "text": [
            "Decision Tree training accuracy :-\n",
            "1.0\n"
          ]
        }
      ]
    },
    {
      "cell_type": "code",
      "metadata": {
        "colab": {
          "base_uri": "https://localhost:8080/"
        },
        "id": "q9oDdq1aAKQW",
        "outputId": "94f4c0b7-5eba-4682-ae89-4a36d61b6ada"
      },
      "source": [
        "X_test_pred_d = model_d.predict(X_test)\n",
        "testing_accuracy = accuracy_score(Y_test,X_test_pred_d)\n",
        "print(\"Decision Tree testing accuracy :-\")\n",
        "print(testing_accuracy)"
      ],
      "execution_count": null,
      "outputs": [
        {
          "output_type": "stream",
          "name": "stdout",
          "text": [
            "Decision Tree testing accuracy :-\n",
            "0.7333333333333333\n"
          ]
        }
      ]
    },
    {
      "cell_type": "markdown",
      "metadata": {
        "id": "tUJVf5zFBATV"
      },
      "source": [
        "#Training and Testing Accuracy Comparisions of various models"
      ]
    },
    {
      "cell_type": "markdown",
      "metadata": {
        "id": "6X8sD8zPB8eU"
      },
      "source": [
        "Model Name            | Training Accuracy  | Testing Accuracy   |\n",
        "----------------------|--------------------|--------------------|\n",
        "SVM                   | 0.896969696969697  | 0.8666666666666667 |\n",
        "RandomForestClassifier| 1.0                | 0.8333333333333334 |\n",
        "Naive Bayes           | 0.7272727272727273 | 0.5666666666666667 |\n",
        "KNN                   | 0.9212121212121213 | 0.9                |\n",
        "Logistic Regression   | 0.8727272727272727 | 0.7666666666666667 |\n",
        "Decision Tree         | 1.0                | 0.7333333333333333 |\n",
        "\n",
        "\n"
      ]
    }
  ]
}