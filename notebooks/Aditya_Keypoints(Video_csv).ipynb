{
  "nbformat": 4,
  "nbformat_minor": 0,
  "metadata": {
    "kernelspec": {
      "display_name": "Python 3",
      "language": "python",
      "name": "python3"
    },
    "language_info": {
      "codemirror_mode": {
        "name": "ipython",
        "version": 3
      },
      "file_extension": ".py",
      "mimetype": "text/x-python",
      "name": "python",
      "nbconvert_exporter": "python",
      "pygments_lexer": "ipython3",
      "version": "3.7.3"
    },
    "colab": {
      "provenance": []
    },
    "accelerator": "GPU"
  },
  "cells": [
    {
      "cell_type": "code",
      "metadata": {
        "colab": {
          "base_uri": "https://localhost:8080/"
        },
        "id": "WggjenxfRIP4",
        "outputId": "33372490-6638-43c5-a4a3-feda7ffbfd01"
      },
      "source": [
        "from google.colab import drive\n",
        "drive.mount('/content/drive')"
      ],
      "execution_count": null,
      "outputs": [
        {
          "output_type": "stream",
          "name": "stdout",
          "text": [
            "Mounted at /content/drive\n"
          ]
        }
      ]
    },
    {
      "cell_type": "code",
      "metadata": {
        "id": "zOW38z2OXoE3"
      },
      "source": [
        "import cv2\n",
        "import time\n",
        "import numpy as np\n",
        "from random import randint\n",
        "import argparse\n",
        "import json"
      ],
      "execution_count": null,
      "outputs": []
    },
    {
      "cell_type": "code",
      "metadata": {
        "id": "_nmc3GQgBRKI",
        "colab": {
          "base_uri": "https://localhost:8080/"
        },
        "outputId": "ad4a0156-7c0d-4d34-9871-7c90966195d1"
      },
      "source": [
        "%matplotlib inline\n",
        "import cv2\n",
        "import os\n",
        "import numpy as np\n",
        "import keras\n",
        "import matplotlib.pyplot as plt\n",
        "from random import shuffle\n",
        "from keras import backend as K\n",
        "from keras.models import Model, Sequential\n",
        "from keras.layers import Input\n",
        "from keras.layers import LSTM\n",
        "from keras.layers import Dense, Activation, Dropout\n",
        "import sys\n",
        "import h5py\n",
        "import timeit\n",
        "\n",
        "print (\"Done!\")"
      ],
      "execution_count": null,
      "outputs": [
        {
          "output_type": "stream",
          "name": "stdout",
          "text": [
            "Done!\n"
          ]
        }
      ]
    },
    {
      "cell_type": "code",
      "metadata": {
        "id": "2QnHthvIBU9t"
      },
      "source": [
        "import cv2     # for capturing videos\n",
        "import math   # for mathematical operations\n",
        "import matplotlib.pyplot as plt    # for plotting the images\n",
        "%matplotlib inline\n",
        "import pandas as pd\n",
        "from keras.preprocessing import image   # for preprocessing the images\n",
        "import numpy as np    # for mathematical operations\n",
        "from keras.utils import np_utils\n",
        "from skimage.transform import resize   # for resizing images\n",
        "from sklearn.model_selection import train_test_split\n",
        "from glob import glob\n",
        "from tqdm import tqdm\n",
        "import os"
      ],
      "execution_count": null,
      "outputs": []
    },
    {
      "cell_type": "code",
      "source": [
        "def print_progress(count, max_count):\n",
        "    # Percentage completion.\n",
        "    pct_complete = count / max_count\n",
        "\n",
        "    # Status-message. Note the \\r which means the line should\n",
        "    # overwrite itself.\n",
        "    msg = \"\\r- Progress: {0:.1%}\".format(pct_complete)\n",
        "\n",
        "    # Print it.\n",
        "    sys.stdout.write(msg)\n",
        "    sys.stdout.flush()\n",
        "\n",
        "print (\"Done!\")"
      ],
      "metadata": {
        "id": "R47tBzjl1jg4",
        "colab": {
          "base_uri": "https://localhost:8080/"
        },
        "outputId": "a3298a6d-7854-48b3-f56c-db5ed176cb7d"
      },
      "execution_count": null,
      "outputs": [
        {
          "output_type": "stream",
          "name": "stdout",
          "text": [
            "Done!\n"
          ]
        }
      ]
    },
    {
      "cell_type": "markdown",
      "metadata": {
        "id": "BTH4RzbR6j4M"
      },
      "source": [
        "CONVERSION OF VIDEO TO FRAMES"
      ]
    },
    {
      "cell_type": "code",
      "metadata": {
        "id": "I6Y46LLOBcWX",
        "colab": {
          "base_uri": "https://localhost:8080/",
          "height": 206
        },
        "outputId": "fc31c933-f465-4f77-eda0-f9aadc8e216d"
      },
      "source": [
        "start_frame = timeit.default_timer()\n",
        "\n",
        "# open the .txt file which have names of training videos\n",
        "f = open(\"/content/drive/MyDrive/MOTOR MOVEMENT/TEXT FILE/trainlist_Parkinson_Mild.txt\", \"r\")\n",
        "temp = f.read()\n",
        "videos = temp.split('\\n')\n",
        "\n",
        "# creating a dataframe having video names\n",
        "train = pd.DataFrame()\n",
        "train['video_name'] = videos\n",
        "# train = train[:-1]\n",
        "train.tail()"
      ],
      "execution_count": null,
      "outputs": [
        {
          "output_type": "execute_result",
          "data": {
            "text/html": [
              "\n",
              "  <div id=\"df-aff828e2-aa6d-46fd-8bf2-c347df021cdf\">\n",
              "    <div class=\"colab-df-container\">\n",
              "      <div>\n",
              "<style scoped>\n",
              "    .dataframe tbody tr th:only-of-type {\n",
              "        vertical-align: middle;\n",
              "    }\n",
              "\n",
              "    .dataframe tbody tr th {\n",
              "        vertical-align: top;\n",
              "    }\n",
              "\n",
              "    .dataframe thead th {\n",
              "        text-align: right;\n",
              "    }\n",
              "</style>\n",
              "<table border=\"1\" class=\"dataframe\">\n",
              "  <thead>\n",
              "    <tr style=\"text-align: right;\">\n",
              "      <th></th>\n",
              "      <th>video_name</th>\n",
              "    </tr>\n",
              "  </thead>\n",
              "  <tbody>\n",
              "    <tr>\n",
              "      <th>17</th>\n",
              "      <td>PARKINSON-MILD/Parkinson-Mild18.MOV</td>\n",
              "    </tr>\n",
              "    <tr>\n",
              "      <th>18</th>\n",
              "      <td>PARKINSON-MILD/Parkinson-Mild19.MOV</td>\n",
              "    </tr>\n",
              "    <tr>\n",
              "      <th>19</th>\n",
              "      <td>PARKINSON-MILD/Parkinson-Mild20.MOV</td>\n",
              "    </tr>\n",
              "    <tr>\n",
              "      <th>20</th>\n",
              "      <td>PARKINSON-MILD/Parkinson-Mild21.MOV</td>\n",
              "    </tr>\n",
              "    <tr>\n",
              "      <th>21</th>\n",
              "      <td>PARKINSON-MILD/Parkinson-Mild22.MOV</td>\n",
              "    </tr>\n",
              "  </tbody>\n",
              "</table>\n",
              "</div>\n",
              "      <button class=\"colab-df-convert\" onclick=\"convertToInteractive('df-aff828e2-aa6d-46fd-8bf2-c347df021cdf')\"\n",
              "              title=\"Convert this dataframe to an interactive table.\"\n",
              "              style=\"display:none;\">\n",
              "        \n",
              "  <svg xmlns=\"http://www.w3.org/2000/svg\" height=\"24px\"viewBox=\"0 0 24 24\"\n",
              "       width=\"24px\">\n",
              "    <path d=\"M0 0h24v24H0V0z\" fill=\"none\"/>\n",
              "    <path d=\"M18.56 5.44l.94 2.06.94-2.06 2.06-.94-2.06-.94-.94-2.06-.94 2.06-2.06.94zm-11 1L8.5 8.5l.94-2.06 2.06-.94-2.06-.94L8.5 2.5l-.94 2.06-2.06.94zm10 10l.94 2.06.94-2.06 2.06-.94-2.06-.94-.94-2.06-.94 2.06-2.06.94z\"/><path d=\"M17.41 7.96l-1.37-1.37c-.4-.4-.92-.59-1.43-.59-.52 0-1.04.2-1.43.59L10.3 9.45l-7.72 7.72c-.78.78-.78 2.05 0 2.83L4 21.41c.39.39.9.59 1.41.59.51 0 1.02-.2 1.41-.59l7.78-7.78 2.81-2.81c.8-.78.8-2.07 0-2.86zM5.41 20L4 18.59l7.72-7.72 1.47 1.35L5.41 20z\"/>\n",
              "  </svg>\n",
              "      </button>\n",
              "      \n",
              "  <style>\n",
              "    .colab-df-container {\n",
              "      display:flex;\n",
              "      flex-wrap:wrap;\n",
              "      gap: 12px;\n",
              "    }\n",
              "\n",
              "    .colab-df-convert {\n",
              "      background-color: #E8F0FE;\n",
              "      border: none;\n",
              "      border-radius: 50%;\n",
              "      cursor: pointer;\n",
              "      display: none;\n",
              "      fill: #1967D2;\n",
              "      height: 32px;\n",
              "      padding: 0 0 0 0;\n",
              "      width: 32px;\n",
              "    }\n",
              "\n",
              "    .colab-df-convert:hover {\n",
              "      background-color: #E2EBFA;\n",
              "      box-shadow: 0px 1px 2px rgba(60, 64, 67, 0.3), 0px 1px 3px 1px rgba(60, 64, 67, 0.15);\n",
              "      fill: #174EA6;\n",
              "    }\n",
              "\n",
              "    [theme=dark] .colab-df-convert {\n",
              "      background-color: #3B4455;\n",
              "      fill: #D2E3FC;\n",
              "    }\n",
              "\n",
              "    [theme=dark] .colab-df-convert:hover {\n",
              "      background-color: #434B5C;\n",
              "      box-shadow: 0px 1px 3px 1px rgba(0, 0, 0, 0.15);\n",
              "      filter: drop-shadow(0px 1px 2px rgba(0, 0, 0, 0.3));\n",
              "      fill: #FFFFFF;\n",
              "    }\n",
              "  </style>\n",
              "\n",
              "      <script>\n",
              "        const buttonEl =\n",
              "          document.querySelector('#df-aff828e2-aa6d-46fd-8bf2-c347df021cdf button.colab-df-convert');\n",
              "        buttonEl.style.display =\n",
              "          google.colab.kernel.accessAllowed ? 'block' : 'none';\n",
              "\n",
              "        async function convertToInteractive(key) {\n",
              "          const element = document.querySelector('#df-aff828e2-aa6d-46fd-8bf2-c347df021cdf');\n",
              "          const dataTable =\n",
              "            await google.colab.kernel.invokeFunction('convertToInteractive',\n",
              "                                                     [key], {});\n",
              "          if (!dataTable) return;\n",
              "\n",
              "          const docLinkHtml = 'Like what you see? Visit the ' +\n",
              "            '<a target=\"_blank\" href=https://colab.research.google.com/notebooks/data_table.ipynb>data table notebook</a>'\n",
              "            + ' to learn more about interactive tables.';\n",
              "          element.innerHTML = '';\n",
              "          dataTable['output_type'] = 'display_data';\n",
              "          await google.colab.output.renderOutput(dataTable, element);\n",
              "          const docLink = document.createElement('div');\n",
              "          docLink.innerHTML = docLinkHtml;\n",
              "          element.appendChild(docLink);\n",
              "        }\n",
              "      </script>\n",
              "    </div>\n",
              "  </div>\n",
              "  "
            ],
            "text/plain": [
              "                             video_name\n",
              "17  PARKINSON-MILD/Parkinson-Mild18.MOV\n",
              "18  PARKINSON-MILD/Parkinson-Mild19.MOV\n",
              "19  PARKINSON-MILD/Parkinson-Mild20.MOV\n",
              "20  PARKINSON-MILD/Parkinson-Mild21.MOV\n",
              "21  PARKINSON-MILD/Parkinson-Mild22.MOV"
            ]
          },
          "metadata": {},
          "execution_count": 5
        }
      ]
    },
    {
      "cell_type": "code",
      "metadata": {
        "id": "CeRLo984oSEO"
      },
      "source": [
        "#  videos[0]"
      ],
      "execution_count": null,
      "outputs": []
    },
    {
      "cell_type": "code",
      "metadata": {
        "id": "U-oIKxKdBoMB"
      },
      "source": [
        "# creating tags for training videos\n",
        "train_video_tag = []\n",
        "for i in range(train.shape[0]):\n",
        "    train_video_tag.append(train['video_name'][i].split('/')[0])\n",
        "\n",
        "train['tag'] = train_video_tag"
      ],
      "execution_count": null,
      "outputs": []
    },
    {
      "cell_type": "code",
      "metadata": {
        "id": "mtkofr2qB4Mf"
      },
      "source": [
        "# # storing the frames from training videos\n",
        "# for i in tqdm(range(train.shape[0])):\n",
        "#     count = 0\n",
        "#     videoFile = train['video_name'][i]\n",
        "\n",
        "#     os.makedirs('/content/drive/MyDrive/MOTOR MOVEMENT/FRAMES/' + videos[i])\n",
        "#     cap = cv2.VideoCapture('/content/drive/MyDrive/MOTOR MOVEMENT/DATASET/PARKINSON-MILD/'+videoFile.split(' ')[0].split('/')[1])   # capturing the video from the given path\n",
        "\n",
        "#     frameRate = (cap.get(5))/5 #frame rate'\n",
        "\n",
        "#     x=1\n",
        "#     while(cap.isOpened()):\n",
        "#         frameId = cap.get(1) #current frame number\n",
        "#         ret, frame = cap.read()\n",
        "#         if (ret != True):\n",
        "#             break\n",
        "#         if (frameId % math.floor(frameRate) == 0):\n",
        "#             # storing the frames in a new folder\n",
        "#             filename ='/content/drive/MyDrive/MOTOR MOVEMENT/FRAMES/' + videos[i] + '/' + videoFile.split('/')[1].split('.')[0] +\"_frame%d.jpg\" % count;\n",
        "#             count+=1\n",
        "#             cv2.imwrite(filename, frame)\n",
        "#     cap.release()\n",
        "\n",
        "# stop_frame = timeit.default_timer()\n",
        "\n",
        "# print('Time Frame: ', stop_frame - start_frame)"
      ],
      "execution_count": null,
      "outputs": []
    },
    {
      "cell_type": "code",
      "source": [
        "# print(frameRate)"
      ],
      "metadata": {
        "id": "_lfx9DVYuLMX"
      },
      "execution_count": null,
      "outputs": []
    },
    {
      "cell_type": "markdown",
      "metadata": {
        "id": "-2nWlmaJi2xn"
      },
      "source": [
        "END OF FRAME EXTARCTION"
      ]
    },
    {
      "cell_type": "code",
      "metadata": {
        "id": "JQ4VK2OYFDPX"
      },
      "source": [
        "def getVideoFrameList(VideoNumber):\n",
        "  VideoFolderName = videos[VideoNumber]\n",
        "  # getting the names of all the images\n",
        "  frameFolder = glob(\"/content/drive/MyDrive/MOTOR MOVEMENT/FRAMES/\" + VideoFolderName + '/' + \"*.jpg\")\n",
        "  return frameFolder"
      ],
      "execution_count": null,
      "outputs": []
    },
    {
      "cell_type": "code",
      "metadata": {
        "id": "Pu491HKEFg2x"
      },
      "source": [
        "# Number of Frames from each Video\n",
        "# len(images)"
      ],
      "execution_count": null,
      "outputs": []
    },
    {
      "cell_type": "markdown",
      "metadata": {
        "id": "5cavt-7p9VXA"
      },
      "source": [
        "KEY POINTS EXTRACTION"
      ]
    },
    {
      "cell_type": "code",
      "metadata": {
        "id": "tjA2WBA43O9U"
      },
      "source": [
        "protoFile = \"/content/drive/MyDrive/MOTOR MOVEMENT/MODEL/pose_deploy_linevec.prototxt.txt\"\n",
        "weightsFile = \"/content/drive/MyDrive/MOTOR MOVEMENT/MODEL/pose_iter_440000.caffemodel\"\n",
        "nPoints = 18"
      ],
      "execution_count": null,
      "outputs": []
    },
    {
      "cell_type": "code",
      "metadata": {
        "id": "e5FjlSNU3VxK"
      },
      "source": [
        "# Output Format\n",
        "keypointsMapping = ['Nose', 'Neck', 'R-Sho', 'R-Elb', 'R-Wr', 'L-Sho', 'L-Elb', 'L-Wr', 'R-Hip', 'R-Knee', 'R-Ank', 'L-Hip', 'L-Knee', 'L-Ank', 'R-Eye', 'L-Eye', 'R-Ear', 'L-Ear']\n",
        "\n",
        "POSE_PAIRS = [[1,2], [1,5], [2,3], [3,4], [5,6], [6,7],\n",
        "              [1,8], [8,9], [9,10], [1,11], [11,12], [12,13],\n",
        "              [1,0], [0,14], [14,16], [0,15], [15,17],\n",
        "              [2,17], [5,16] ]"
      ],
      "execution_count": null,
      "outputs": []
    },
    {
      "cell_type": "code",
      "metadata": {
        "id": "AIurLZWe3Zh4"
      },
      "source": [
        "# index of pafs correspoding to the POSE_PAIRS\n",
        "# For POSE_PAIR(1,2), the PAFs are located at indices (31,32) of output\n",
        "# Similarly, (1,5) -> (39,40) and so on.\n",
        "\n",
        "mapIdx = [[31,32], [39,40], [33,34], [35,36], [41,42], [43,44],\n",
        "          [19,20], [21,22], [23,24], [25,26], [27,28], [29,30],\n",
        "          [47,48], [49,50], [53,54], [51,52], [55,56],\n",
        "          [37,38], [45,46]]\n",
        "\n",
        "colors = [ [0,100,255], [0,100,255], [0,255,255], [0,100,255], [0,255,255], [0,100,255],\n",
        "         [0,255,0], [255,200,100], [255,0,255], [0,255,0], [255,200,100], [255,0,255],\n",
        "         [0,0,255], [255,0,0], [200,200,0], [255,0,0], [200,200,0], [0,0,0]]"
      ],
      "execution_count": null,
      "outputs": []
    },
    {
      "cell_type": "code",
      "metadata": {
        "id": "a2If6rvJ3dC-"
      },
      "source": [
        "def getKeypoints(probMap, threshold=0.1):\n",
        "\n",
        "    mapSmooth = cv2.GaussianBlur(probMap,(3,3),0,0)\n",
        "\n",
        "    mapMask = np.uint8(mapSmooth>threshold)\n",
        "    keypoints = []\n",
        "\n",
        "    #find the blobs\n",
        "    contours, _ = cv2.findContours(mapMask, cv2.RETR_TREE, cv2.CHAIN_APPROX_SIMPLE)\n",
        "\n",
        "    #for each blob find the maxima\n",
        "    for cnt in contours:\n",
        "        blobMask = np.zeros(mapMask.shape)\n",
        "        blobMask = cv2.fillConvexPoly(blobMask, cnt, 1)\n",
        "        maskedProbMap = mapSmooth * blobMask\n",
        "        _, maxVal, _, maxLoc = cv2.minMaxLoc(maskedProbMap)\n",
        "        keypoints.append(maxLoc + (probMap[maxLoc[1], maxLoc[0]],))\n",
        "\n",
        "    return keypoints"
      ],
      "execution_count": null,
      "outputs": []
    },
    {
      "cell_type": "code",
      "metadata": {
        "id": "6v0cT8Zc3dFs"
      },
      "source": [
        "# Find valid connections between the different joints of a all persons present\n",
        "def getValidPairs(output):\n",
        "    valid_pairs = []\n",
        "    invalid_pairs = []\n",
        "    n_interp_samples = 10\n",
        "    paf_score_th = 0.1\n",
        "    conf_th = 0.7\n",
        "    # loop for every POSE_PAIR\n",
        "    for k in range(len(mapIdx)):\n",
        "        # A->B constitute a limb\n",
        "        pafA = output[0, mapIdx[k][0], :, :]\n",
        "        pafB = output[0, mapIdx[k][1], :, :]\n",
        "        pafA = cv2.resize(pafA, (frameWidth, frameHeight))\n",
        "        pafB = cv2.resize(pafB, (frameWidth, frameHeight))\n",
        "\n",
        "        # Find the keypoints for the first and second limb\n",
        "        candA = detected_keypoints[POSE_PAIRS[k][0]]\n",
        "        candB = detected_keypoints[POSE_PAIRS[k][1]]\n",
        "        nA = len(candA)\n",
        "        nB = len(candB)\n",
        "\n",
        "        # If keypoints for the joint-pair is detected\n",
        "        # check every joint in candA with every joint in candB\n",
        "        # Calculate the distance vector between the two joints\n",
        "        # Find the PAF values at a set of interpolated points between the joints\n",
        "        # Use the above formula to compute a score to mark the connection valid\n",
        "\n",
        "        if( nA != 0 and nB != 0):\n",
        "            valid_pair = np.zeros((0,3))\n",
        "            for i in range(nA):\n",
        "                max_j=-1\n",
        "                maxScore = -1\n",
        "                found = 0\n",
        "                for j in range(nB):\n",
        "                    # Find d_ij\n",
        "                    d_ij = np.subtract(candB[j][:2], candA[i][:2])\n",
        "                    norm = np.linalg.norm(d_ij)\n",
        "                    if norm:\n",
        "                        d_ij = d_ij / norm\n",
        "                    else:\n",
        "                        continue\n",
        "                    # Find p(u)\n",
        "                    interp_coord = list(zip(np.linspace(candA[i][0], candB[j][0], num=n_interp_samples),\n",
        "                                            np.linspace(candA[i][1], candB[j][1], num=n_interp_samples)))\n",
        "                    # Find L(p(u))\n",
        "                    paf_interp = []\n",
        "                    for k in range(len(interp_coord)):\n",
        "                        paf_interp.append([pafA[int(round(interp_coord[k][1])), int(round(interp_coord[k][0]))],\n",
        "                                           pafB[int(round(interp_coord[k][1])), int(round(interp_coord[k][0]))] ])\n",
        "                    # Find E\n",
        "                    paf_scores = np.dot(paf_interp, d_ij)\n",
        "                    avg_paf_score = sum(paf_scores)/len(paf_scores)\n",
        "\n",
        "                    # Check if the connection is valid\n",
        "                    # If the fraction of interpolated vectors aligned with PAF is higher then threshold -> Valid Pair\n",
        "                    if ( len(np.where(paf_scores > paf_score_th)[0]) / n_interp_samples ) > conf_th :\n",
        "                        if avg_paf_score > maxScore:\n",
        "                            max_j = j\n",
        "                            maxScore = avg_paf_score\n",
        "                            found = 1\n",
        "                # Append the connection to the list\n",
        "                if found:\n",
        "                    valid_pair = np.append(valid_pair, [[candA[i][3], candB[max_j][3], maxScore]], axis=0)\n",
        "\n",
        "            # Append the detected connections to the global list\n",
        "            valid_pairs.append(valid_pair)\n",
        "        else: # If no keypoints are detected\n",
        "            print(\"No Connection : k = {}\".format(k))\n",
        "            invalid_pairs.append(k)\n",
        "            valid_pairs.append([])\n",
        "    return valid_pairs, invalid_pairs"
      ],
      "execution_count": null,
      "outputs": []
    },
    {
      "cell_type": "code",
      "metadata": {
        "id": "jYBb0f1R3dIM"
      },
      "source": [
        "# This function creates a list of keypoints belonging to each person\n",
        "# For each detected valid pair, it assigns the joint(s) to a person\n",
        "def getPersonwiseKeypoints(valid_pairs, invalid_pairs):\n",
        "    # the last number in each row is the overall score\n",
        "    personwiseKeypoints = -1 * np.ones((0, 19))\n",
        "\n",
        "    for k in range(len(mapIdx)):\n",
        "        if k not in invalid_pairs:\n",
        "            partAs = valid_pairs[k][:,0]\n",
        "            partBs = valid_pairs[k][:,1]\n",
        "            indexA, indexB = np.array(POSE_PAIRS[k])\n",
        "\n",
        "            for i in range(len(valid_pairs[k])):\n",
        "                found = 0\n",
        "                person_idx = -1\n",
        "                for j in range(len(personwiseKeypoints)):\n",
        "                    if personwiseKeypoints[j][indexA] == partAs[i]:\n",
        "                        person_idx = j\n",
        "                        found = 1\n",
        "                        break\n",
        "\n",
        "                if found:\n",
        "                    personwiseKeypoints[person_idx][indexB] = partBs[i]\n",
        "                    personwiseKeypoints[person_idx][-1] += keypoints_list[partBs[i].astype(int), 2] + valid_pairs[k][i][2]\n",
        "\n",
        "                # if find no partA in the subset, create a new subset\n",
        "                elif not found and k < 17:\n",
        "                    row = -1 * np.ones(19)\n",
        "                    row[indexA] = partAs[i]\n",
        "                    row[indexB] = partBs[i]\n",
        "                    # add the keypoint_scores for the two keypoints and the paf_score\n",
        "                    row[-1] = sum(keypoints_list[valid_pairs[k][i,:2].astype(int), 2]) + valid_pairs[k][i][2]\n",
        "                    personwiseKeypoints = np.vstack([personwiseKeypoints, row])\n",
        "    return personwiseKeypoints\n"
      ],
      "execution_count": null,
      "outputs": []
    },
    {
      "cell_type": "code",
      "metadata": {
        "id": "iPDm0qlvQ6RH"
      },
      "source": [
        "t = time.time()\n",
        "net = cv2.dnn.readNetFromCaffe(protoFile, weightsFile)"
      ],
      "execution_count": null,
      "outputs": []
    },
    {
      "cell_type": "markdown",
      "metadata": {
        "id": "Ru8xXiAX9mIE"
      },
      "source": [
        "KEY POINT EXTRACTION (SINGLE FRAME)"
      ]
    },
    {
      "cell_type": "code",
      "source": [
        "# VideoFolderName = videos[0]\n",
        "# images = glob(\"/content/drive/MyDrive/MOTOR MOVEMENT/FRAMES/\" + VideoFolderName + '/' + \"*.jpg\")\n"
      ],
      "metadata": {
        "id": "2djQ5ME9wDcJ"
      },
      "execution_count": null,
      "outputs": []
    },
    {
      "cell_type": "code",
      "metadata": {
        "id": "DNukX-wz3nOl"
      },
      "source": [
        "# imageframe = cv2.imread(images[0])\n",
        "# frameWidth = imageframe.shape[1]\n",
        "# frameHeight = imageframe.shape[0]"
      ],
      "execution_count": null,
      "outputs": []
    },
    {
      "cell_type": "code",
      "metadata": {
        "id": "ciAabpHC7kw3"
      },
      "source": [
        "# # # Fix the input Height and get the width according to the Aspect Ratio\n",
        "# # inHeight = 340\n",
        "# # # inWidth = int((inHeight/frameHeight)*frameWidth)\n",
        "# # inWidth = 256\n",
        "# inpBlob = cv2.dnn.blobFromImage(imageframe, 1.0 / 255, (frameWidth, frameHeight), (0, 0, 0), swapRB=False, crop=False)"
      ],
      "execution_count": null,
      "outputs": []
    },
    {
      "cell_type": "code",
      "metadata": {
        "id": "1MXPy7tX7kzt"
      },
      "source": [
        "# net.setInput(inpBlob)\n",
        "# output = net.forward()\n",
        "# print(\"Time Taken in forward pass = {}\".format(time.time() - t))"
      ],
      "execution_count": null,
      "outputs": []
    },
    {
      "cell_type": "code",
      "metadata": {
        "id": "Qzvjvn4n7k2b"
      },
      "source": [
        "# detected_keypoints = []\n",
        "# keypoints_list = np.zeros((0,3))\n",
        "# keypoint_id = 0\n",
        "# threshold = 0.1"
      ],
      "execution_count": null,
      "outputs": []
    },
    {
      "cell_type": "code",
      "metadata": {
        "id": "lOwmSVtW7k4u"
      },
      "source": [
        "# for part in range(nPoints):\n",
        "#     probMap = output[0,part,:,:]\n",
        "#     probMap = cv2.resize(probMap, (imageframe.shape[1], imageframe.shape[0]))\n",
        "#     keypoints = getKeypoints(probMap, threshold)\n",
        "#     print(\"Keypoints - {} : {}\".format(keypointsMapping[part], keypoints))\n",
        "#     keypoints_with_id = []\n",
        "#     for i in range(len(keypoints)):\n",
        "#         keypoints_with_id.append(keypoints[i] + (keypoint_id,))\n",
        "#         keypoints_list = np.vstack([keypoints_list, keypoints[i]])\n",
        "#         keypoint_id += 1\n",
        "\n",
        "#     detected_keypoints.append(keypoints_with_id)"
      ],
      "execution_count": null,
      "outputs": []
    },
    {
      "cell_type": "code",
      "source": [
        "# detected_keypoints"
      ],
      "metadata": {
        "id": "AI672J2ixXmm"
      },
      "execution_count": null,
      "outputs": []
    },
    {
      "cell_type": "code",
      "metadata": {
        "id": "ARRMQNzy3dKo"
      },
      "source": [
        "# # frameClone = imageframe.copy()\n",
        "# pose_keypoints = []"
      ],
      "execution_count": null,
      "outputs": []
    },
    {
      "cell_type": "code",
      "metadata": {
        "id": "gSQd-IO-73IM"
      },
      "source": [
        "# for i in range(nPoints):\n",
        "#     if detected_keypoints[i] ==[]:\n",
        "#         pose_keypoints.append(0)\n",
        "#         pose_keypoints.append(0)\n",
        "#         # pose_keypoints.append(0)\n",
        "\n",
        "#     for j in range(len(detected_keypoints[i])):\n",
        "\n",
        "#         pose_keypoints.append(detected_keypoints[i][j][0])\n",
        "#         pose_keypoints.append(detected_keypoints[i][j][1])\n",
        "#         # pose_keypoints.append(detected_keypoints[i][j][2].astype(float))\n",
        "#         # cv2.circle(frameClone, detected_keypoints[i][j][0:2], 5, colors[i], -1, cv2.LINE_AA)"
      ],
      "execution_count": null,
      "outputs": []
    },
    {
      "cell_type": "code",
      "source": [
        "# pose_keypoints.count(0)"
      ],
      "metadata": {
        "id": "LLtWzK1OxlaN"
      },
      "execution_count": null,
      "outputs": []
    },
    {
      "cell_type": "code",
      "metadata": {
        "id": "fdM1NxLL1Z5q"
      },
      "source": [
        "# pose_keypoints"
      ],
      "execution_count": null,
      "outputs": []
    },
    {
      "cell_type": "markdown",
      "metadata": {
        "id": "Y9d8SflZ936j"
      },
      "source": [
        "KEY POINT EXTRACTION VIDEO (MULTIPLE FRAMES)"
      ]
    },
    {
      "cell_type": "code",
      "metadata": {
        "id": "8sclSgUSvcQ1"
      },
      "source": [
        "VideoFolderName = videos[0]\n",
        "frameFolder = glob(\"/content/drive/MyDrive/MOTOR MOVEMENT/FRAMES/\" + VideoFolderName + '/' + \"*.jpg\")\n",
        "# imageframe = cv2.imread(frameFolder[0])\n",
        "# print(imageframe.shape[1])\n",
        "# print(imageframe.shape[0])\n"
      ],
      "execution_count": null,
      "outputs": []
    },
    {
      "cell_type": "code",
      "metadata": {
        "id": "R0xoinUDLYRG"
      },
      "source": [
        "def keyPointExtraction(images):\n",
        "      keypointlist = []\n",
        "      # for x in range(0,(len(images))):\n",
        "\n",
        "      # Load the Frame\n",
        "      imageframe = cv2.imread(images)\n",
        "      inHeight = imageframe.shape[0] #720\n",
        "      inWidth = imageframe.shape[1] #1280\n",
        "\n",
        "      # Key Point Extraction\n",
        "      inpBlob = cv2.dnn.blobFromImage(imageframe, 1.0 / 255, (inWidth, inHeight), (0, 0, 0), swapRB=False, crop=False)\n",
        "      net.setInput(inpBlob)\n",
        "      output = net.forward()\n",
        "\n",
        "      detected_keypoints = []\n",
        "      keypoints_list = np.zeros((0,3))\n",
        "      keypoint_id = 0\n",
        "      threshold = 0.1\n",
        "\n",
        "      for part in range(nPoints):\n",
        "        probMap = output[0,part,:,:]\n",
        "        probMap = cv2.resize(probMap, (imageframe.shape[1], imageframe.shape[0]))\n",
        "        keypoints = getKeypoints(probMap, threshold)\n",
        "        # print(\"Keypoints - {} : {}\".format(keypointsMapping[part], keypoints))\n",
        "        keypoints_with_id = []\n",
        "        for i in range(len(keypoints)):\n",
        "            keypoints_with_id.append(keypoints[i] + (keypoint_id,))\n",
        "            keypoints_list = np.vstack([keypoints_list, keypoints[i]])\n",
        "            keypoint_id += 1\n",
        "\n",
        "        detected_keypoints.append(keypoints_with_id)\n",
        "      # print('detected_keypoints')\n",
        "      # print(detected_keypoints)\n",
        "\n",
        "      pose_keypoints = []\n",
        "      frameClone = imageframe.copy()\n",
        "\n",
        "      for i in range(nPoints):\n",
        "        if detected_keypoints[i] ==[]:\n",
        "            pose_keypoints.append(-1)\n",
        "            pose_keypoints.append(-1)\n",
        "            # pose_keypoints.append(-1)\n",
        "\n",
        "        else:\n",
        "            pose_keypoints.append(detected_keypoints[i][0][0])\n",
        "            pose_keypoints.append(detected_keypoints[i][0][1])\n",
        "            # pose_keypoints.append(detected_keypoints[i][0][2].astype(float))\n",
        "      # print('pose_keypoints')\n",
        "      # print(pose_keypoints)\n",
        "\n",
        "      missing_keypoint = pose_keypoints.count(-1)\n",
        "      if (missing_keypoint > 12):\n",
        "        pass\n",
        "      else:\n",
        "        return pose_keypoints\n"
      ],
      "execution_count": null,
      "outputs": []
    },
    {
      "cell_type": "code",
      "metadata": {
        "id": "oHwnwa2Cryz5"
      },
      "source": [
        "# traindict = {}"
      ],
      "execution_count": null,
      "outputs": []
    },
    {
      "cell_type": "code",
      "source": [
        "final_images = []\n",
        "for i in tqdm(range(len(videos))):\n",
        "  images = getVideoFrameList(i)\n",
        "  for im in tqdm(range(len(images))):\n",
        "    final_images.append(images[im])"
      ],
      "metadata": {
        "colab": {
          "base_uri": "https://localhost:8080/"
        },
        "id": "8LY4SpSUzTQ3",
        "outputId": "bfdab28e-dae1-4b7f-f1ab-337adb4f2989"
      },
      "execution_count": null,
      "outputs": [
        {
          "output_type": "stream",
          "name": "stderr",
          "text": [
            "  0%|          | 0/22 [00:00<?, ?it/s]\n",
            "100%|██████████| 30/30 [00:00<00:00, 190939.48it/s]\n",
            "\n",
            "100%|██████████| 30/30 [00:00<00:00, 234318.66it/s]\n",
            "\n",
            "100%|██████████| 54/54 [00:00<00:00, 300387.82it/s]\n",
            "\n",
            "100%|██████████| 30/30 [00:00<00:00, 214359.66it/s]\n",
            "\n",
            "100%|██████████| 26/26 [00:00<00:00, 200095.24it/s]\n",
            "\n",
            "100%|██████████| 30/30 [00:00<00:00, 211833.54it/s]\n",
            "\n",
            "100%|██████████| 30/30 [00:00<00:00, 235635.06it/s]\n",
            "\n",
            "100%|██████████| 30/30 [00:00<00:00, 221530.14it/s]\n",
            "\n",
            "100%|██████████| 36/36 [00:00<00:00, 154391.56it/s]\n",
            "\n",
            "100%|██████████| 40/40 [00:00<00:00, 295894.46it/s]\n",
            " 45%|████▌     | 10/22 [00:00<00:00, 98.53it/s]\n",
            "100%|██████████| 35/35 [00:00<00:00, 266910.25it/s]\n",
            "\n",
            "100%|██████████| 30/30 [00:00<00:00, 152335.50it/s]\n",
            "\n",
            "100%|██████████| 30/30 [00:00<00:00, 243383.21it/s]\n",
            "\n",
            "100%|██████████| 30/30 [00:00<00:00, 241514.63it/s]\n",
            "\n",
            "100%|██████████| 40/40 [00:00<00:00, 287281.10it/s]\n",
            "\n",
            "100%|██████████| 40/40 [00:00<00:00, 221043.69it/s]\n",
            "\n",
            "100%|██████████| 34/34 [00:00<00:00, 149639.39it/s]\n",
            "\n",
            "100%|██████████| 41/41 [00:00<00:00, 260950.63it/s]\n",
            "\n",
            "100%|██████████| 35/35 [00:00<00:00, 227597.89it/s]\n",
            "\n",
            "100%|██████████| 30/30 [00:00<00:00, 214725.46it/s]\n",
            "\n",
            "100%|██████████| 30/30 [00:00<00:00, 211122.68it/s]\n",
            " 95%|█████████▌| 21/22 [00:00<00:00, 103.95it/s]\n",
            "100%|██████████| 36/36 [00:00<00:00, 274038.01it/s]\n",
            "100%|██████████| 22/22 [00:00<00:00, 102.70it/s]\n"
          ]
        }
      ]
    },
    {
      "cell_type": "code",
      "source": [
        "len(final_images)"
      ],
      "metadata": {
        "colab": {
          "base_uri": "https://localhost:8080/"
        },
        "id": "hJSSchmCHupN",
        "outputId": "59be4501-9489-4edc-9dc0-e7e6382b3eac"
      },
      "execution_count": null,
      "outputs": [
        {
          "output_type": "execute_result",
          "data": {
            "text/plain": [
              "747"
            ]
          },
          "metadata": {},
          "execution_count": 34
        }
      ]
    },
    {
      "cell_type": "code",
      "source": [
        "final_keypoints = []\n",
        "Time_average = []\n",
        "for x in tqdm(range(151,300)):\n",
        "\n",
        "  start_kp = timeit.default_timer()\n",
        "\n",
        "  kp = keyPointExtraction(final_images[x])\n",
        "  final_keypoints.append(kp)\n",
        "\n",
        "  stop_kp = timeit.default_timer()\n",
        "  Time_kp = stop_kp - start_kp\n",
        "  print('Time Keypoints: ', Time_kp)\n",
        "\n",
        "  Time_average.append(Time_kp)\n",
        "\n",
        "  # print_progress(x,len(final_images))"
      ],
      "metadata": {
        "colab": {
          "base_uri": "https://localhost:8080/"
        },
        "id": "vQYqYB7v0M9H",
        "outputId": "2b94c790-0093-40a6-af5a-31198676cdc7"
      },
      "execution_count": null,
      "outputs": [
        {
          "output_type": "stream",
          "name": "stderr",
          "text": [
            "  1%|          | 1/150 [02:10<5:22:54, 130.03s/it]"
          ]
        },
        {
          "output_type": "stream",
          "name": "stdout",
          "text": [
            "Time Keypoints:  130.03159097800017\n"
          ]
        },
        {
          "output_type": "stream",
          "name": "stderr",
          "text": [
            "\r  1%|▏         | 2/150 [04:19<5:19:15, 129.43s/it]"
          ]
        },
        {
          "output_type": "stream",
          "name": "stdout",
          "text": [
            "Time Keypoints:  129.0010623359999\n"
          ]
        },
        {
          "output_type": "stream",
          "name": "stderr",
          "text": [
            "\r  2%|▏         | 3/150 [06:31<5:20:52, 130.97s/it]"
          ]
        },
        {
          "output_type": "stream",
          "name": "stdout",
          "text": [
            "Time Keypoints:  132.80601561100002\n"
          ]
        },
        {
          "output_type": "stream",
          "name": "stderr",
          "text": [
            "\r  3%|▎         | 4/150 [08:42<5:17:54, 130.65s/it]"
          ]
        },
        {
          "output_type": "stream",
          "name": "stdout",
          "text": [
            "Time Keypoints:  130.1559827369997\n"
          ]
        },
        {
          "output_type": "stream",
          "name": "stderr",
          "text": [
            "\r  3%|▎         | 5/150 [10:52<5:16:00, 130.77s/it]"
          ]
        },
        {
          "output_type": "stream",
          "name": "stdout",
          "text": [
            "Time Keypoints:  130.96645331000036\n"
          ]
        },
        {
          "output_type": "stream",
          "name": "stderr",
          "text": [
            "\r  4%|▍         | 6/150 [13:04<5:14:11, 130.91s/it]"
          ]
        },
        {
          "output_type": "stream",
          "name": "stdout",
          "text": [
            "Time Keypoints:  131.18926016299974\n"
          ]
        },
        {
          "output_type": "stream",
          "name": "stderr",
          "text": [
            "\r  5%|▍         | 7/150 [15:15<5:12:24, 131.08s/it]"
          ]
        },
        {
          "output_type": "stream",
          "name": "stdout",
          "text": [
            "Time Keypoints:  131.43721633999985\n"
          ]
        },
        {
          "output_type": "stream",
          "name": "stderr",
          "text": [
            "\r  5%|▌         | 8/150 [17:25<5:09:32, 130.79s/it]"
          ]
        },
        {
          "output_type": "stream",
          "name": "stdout",
          "text": [
            "Time Keypoints:  130.1748084410001\n"
          ]
        },
        {
          "output_type": "stream",
          "name": "stderr",
          "text": [
            "\r  6%|▌         | 9/150 [19:35<5:06:54, 130.60s/it]"
          ]
        },
        {
          "output_type": "stream",
          "name": "stdout",
          "text": [
            "Time Keypoints:  130.16239196199967\n"
          ]
        },
        {
          "output_type": "stream",
          "name": "stderr",
          "text": [
            "\r  7%|▋         | 10/150 [21:46<5:04:34, 130.53s/it]"
          ]
        },
        {
          "output_type": "stream",
          "name": "stdout",
          "text": [
            "Time Keypoints:  130.39021230700018\n"
          ]
        },
        {
          "output_type": "stream",
          "name": "stderr",
          "text": [
            "\r  7%|▋         | 11/150 [23:56<5:02:04, 130.39s/it]"
          ]
        },
        {
          "output_type": "stream",
          "name": "stdout",
          "text": [
            "Time Keypoints:  130.06493436599976\n"
          ]
        },
        {
          "output_type": "stream",
          "name": "stderr",
          "text": [
            "\r  8%|▊         | 12/150 [26:06<4:59:22, 130.16s/it]"
          ]
        },
        {
          "output_type": "stream",
          "name": "stdout",
          "text": [
            "Time Keypoints:  129.64041425100004\n"
          ]
        },
        {
          "output_type": "stream",
          "name": "stderr",
          "text": [
            "\r  9%|▊         | 13/150 [28:13<4:55:18, 129.33s/it]"
          ]
        },
        {
          "output_type": "stream",
          "name": "stdout",
          "text": [
            "Time Keypoints:  127.417109342\n"
          ]
        },
        {
          "output_type": "stream",
          "name": "stderr",
          "text": [
            "\r  9%|▉         | 14/150 [30:21<4:52:02, 128.84s/it]"
          ]
        },
        {
          "output_type": "stream",
          "name": "stdout",
          "text": [
            "Time Keypoints:  127.70877433300029\n"
          ]
        },
        {
          "output_type": "stream",
          "name": "stderr",
          "text": [
            "\r 10%|█         | 15/150 [32:29<4:49:32, 128.68s/it]"
          ]
        },
        {
          "output_type": "stream",
          "name": "stdout",
          "text": [
            "Time Keypoints:  128.30835438099984\n"
          ]
        },
        {
          "output_type": "stream",
          "name": "stderr",
          "text": [
            "\r 11%|█         | 16/150 [34:38<4:47:16, 128.63s/it]"
          ]
        },
        {
          "output_type": "stream",
          "name": "stdout",
          "text": [
            "Time Keypoints:  128.51129025699993\n"
          ]
        },
        {
          "output_type": "stream",
          "name": "stderr",
          "text": [
            "\r 11%|█▏        | 17/150 [36:46<4:45:11, 128.66s/it]"
          ]
        },
        {
          "output_type": "stream",
          "name": "stdout",
          "text": [
            "Time Keypoints:  128.70916528500038\n"
          ]
        },
        {
          "output_type": "stream",
          "name": "stderr",
          "text": [
            "\r 12%|█▏        | 18/150 [38:54<4:42:28, 128.39s/it]"
          ]
        },
        {
          "output_type": "stream",
          "name": "stdout",
          "text": [
            "Time Keypoints:  127.78423685899998\n"
          ]
        },
        {
          "output_type": "stream",
          "name": "stderr",
          "text": [
            "\r 13%|█▎        | 19/150 [41:02<4:40:01, 128.26s/it]"
          ]
        },
        {
          "output_type": "stream",
          "name": "stdout",
          "text": [
            "Time Keypoints:  127.93765467100002\n"
          ]
        },
        {
          "output_type": "stream",
          "name": "stderr",
          "text": [
            "\r 13%|█▎        | 20/150 [43:10<4:37:38, 128.14s/it]"
          ]
        },
        {
          "output_type": "stream",
          "name": "stdout",
          "text": [
            "Time Keypoints:  127.87230030800038\n"
          ]
        },
        {
          "output_type": "stream",
          "name": "stderr",
          "text": [
            "\r 14%|█▍        | 21/150 [45:18<4:35:13, 128.01s/it]"
          ]
        },
        {
          "output_type": "stream",
          "name": "stdout",
          "text": [
            "Time Keypoints:  127.71172474499963\n"
          ]
        },
        {
          "output_type": "stream",
          "name": "stderr",
          "text": [
            "\r 15%|█▍        | 22/150 [47:27<4:33:55, 128.40s/it]"
          ]
        },
        {
          "output_type": "stream",
          "name": "stdout",
          "text": [
            "Time Keypoints:  129.30933011700017\n"
          ]
        },
        {
          "output_type": "stream",
          "name": "stderr",
          "text": [
            "\r 15%|█▌        | 23/150 [49:37<4:32:35, 128.78s/it]"
          ]
        },
        {
          "output_type": "stream",
          "name": "stdout",
          "text": [
            "Time Keypoints:  129.65671671600012\n"
          ]
        },
        {
          "output_type": "stream",
          "name": "stderr",
          "text": [
            "\r 16%|█▌        | 24/150 [51:44<4:29:44, 128.45s/it]"
          ]
        },
        {
          "output_type": "stream",
          "name": "stdout",
          "text": [
            "Time Keypoints:  127.66197226500026\n"
          ]
        },
        {
          "output_type": "stream",
          "name": "stderr",
          "text": [
            "\r 17%|█▋        | 25/150 [53:53<4:27:42, 128.50s/it]"
          ]
        },
        {
          "output_type": "stream",
          "name": "stdout",
          "text": [
            "Time Keypoints:  128.61205008199977\n"
          ]
        },
        {
          "output_type": "stream",
          "name": "stderr",
          "text": [
            "\r 17%|█▋        | 26/150 [56:00<4:24:50, 128.15s/it]"
          ]
        },
        {
          "output_type": "stream",
          "name": "stdout",
          "text": [
            "Time Keypoints:  127.32468918599989\n"
          ]
        },
        {
          "output_type": "stream",
          "name": "stderr",
          "text": [
            "\r 18%|█▊        | 27/150 [58:10<4:23:37, 128.60s/it]"
          ]
        },
        {
          "output_type": "stream",
          "name": "stdout",
          "text": [
            "Time Keypoints:  129.65503623899986\n"
          ]
        },
        {
          "output_type": "stream",
          "name": "stderr",
          "text": [
            "\r 19%|█▊        | 28/150 [1:00:19<4:21:45, 128.73s/it]"
          ]
        },
        {
          "output_type": "stream",
          "name": "stdout",
          "text": [
            "Time Keypoints:  129.03579817799982\n"
          ]
        },
        {
          "output_type": "stream",
          "name": "stderr",
          "text": [
            "\r 19%|█▉        | 29/150 [1:02:29<4:20:18, 129.08s/it]"
          ]
        },
        {
          "output_type": "stream",
          "name": "stdout",
          "text": [
            "Time Keypoints:  129.89300029100013\n"
          ]
        },
        {
          "output_type": "stream",
          "name": "stderr",
          "text": [
            "\r 20%|██        | 30/150 [1:04:38<4:18:16, 129.14s/it]"
          ]
        },
        {
          "output_type": "stream",
          "name": "stdout",
          "text": [
            "Time Keypoints:  129.28227317900019\n"
          ]
        },
        {
          "output_type": "stream",
          "name": "stderr",
          "text": [
            "\r 21%|██        | 31/150 [1:06:48<4:16:33, 129.36s/it]"
          ]
        },
        {
          "output_type": "stream",
          "name": "stdout",
          "text": [
            "Time Keypoints:  129.85157605400036\n"
          ]
        },
        {
          "output_type": "stream",
          "name": "stderr",
          "text": [
            "\r 21%|██▏       | 32/150 [1:08:57<4:14:25, 129.37s/it]"
          ]
        },
        {
          "output_type": "stream",
          "name": "stdout",
          "text": [
            "Time Keypoints:  129.40556003099937\n"
          ]
        },
        {
          "output_type": "stream",
          "name": "stderr",
          "text": [
            "\r 22%|██▏       | 33/150 [1:11:05<4:11:18, 128.88s/it]"
          ]
        },
        {
          "output_type": "stream",
          "name": "stdout",
          "text": [
            "Time Keypoints:  127.71797015299944\n"
          ]
        },
        {
          "output_type": "stream",
          "name": "stderr",
          "text": [
            "\r 23%|██▎       | 34/150 [1:13:14<4:08:58, 128.78s/it]"
          ]
        },
        {
          "output_type": "stream",
          "name": "stdout",
          "text": [
            "Time Keypoints:  128.5667866069998\n"
          ]
        },
        {
          "output_type": "stream",
          "name": "stderr",
          "text": [
            "\r 23%|██▎       | 35/150 [1:15:22<4:06:29, 128.61s/it]"
          ]
        },
        {
          "output_type": "stream",
          "name": "stdout",
          "text": [
            "Time Keypoints:  128.19496021600025\n"
          ]
        },
        {
          "output_type": "stream",
          "name": "stderr",
          "text": [
            "\r 24%|██▍       | 36/150 [1:17:29<4:03:45, 128.29s/it]"
          ]
        },
        {
          "output_type": "stream",
          "name": "stdout",
          "text": [
            "Time Keypoints:  127.55039827700057\n"
          ]
        },
        {
          "output_type": "stream",
          "name": "stderr",
          "text": [
            "\r 25%|██▍       | 37/150 [1:19:36<4:00:57, 127.94s/it]"
          ]
        },
        {
          "output_type": "stream",
          "name": "stdout",
          "text": [
            "Time Keypoints:  127.11470668499987\n"
          ]
        },
        {
          "output_type": "stream",
          "name": "stderr",
          "text": [
            "\r 25%|██▌       | 38/150 [1:21:43<3:58:19, 127.67s/it]"
          ]
        },
        {
          "output_type": "stream",
          "name": "stdout",
          "text": [
            "Time Keypoints:  127.04567719099941\n"
          ]
        },
        {
          "output_type": "stream",
          "name": "stderr",
          "text": [
            "\r 26%|██▌       | 39/150 [1:23:51<3:55:55, 127.52s/it]"
          ]
        },
        {
          "output_type": "stream",
          "name": "stdout",
          "text": [
            "Time Keypoints:  127.17581696800062\n"
          ]
        },
        {
          "output_type": "stream",
          "name": "stderr",
          "text": [
            "\r 27%|██▋       | 40/150 [1:25:58<3:53:28, 127.35s/it]"
          ]
        },
        {
          "output_type": "stream",
          "name": "stdout",
          "text": [
            "Time Keypoints:  126.94720434700139\n"
          ]
        },
        {
          "output_type": "stream",
          "name": "stderr",
          "text": [
            "\r 27%|██▋       | 41/150 [1:28:04<3:51:04, 127.20s/it]"
          ]
        },
        {
          "output_type": "stream",
          "name": "stdout",
          "text": [
            "Time Keypoints:  126.84938836299989\n"
          ]
        },
        {
          "output_type": "stream",
          "name": "stderr",
          "text": [
            "\r 28%|██▊       | 42/150 [1:30:13<3:49:29, 127.49s/it]"
          ]
        },
        {
          "output_type": "stream",
          "name": "stdout",
          "text": [
            "Time Keypoints:  128.16366567299883\n"
          ]
        },
        {
          "output_type": "stream",
          "name": "stderr",
          "text": [
            "\r 29%|██▊       | 43/150 [1:32:20<3:47:20, 127.48s/it]"
          ]
        },
        {
          "output_type": "stream",
          "name": "stdout",
          "text": [
            "Time Keypoints:  127.45584914000028\n"
          ]
        },
        {
          "output_type": "stream",
          "name": "stderr",
          "text": [
            "\r 29%|██▉       | 44/150 [1:34:28<3:45:16, 127.52s/it]"
          ]
        },
        {
          "output_type": "stream",
          "name": "stdout",
          "text": [
            "Time Keypoints:  127.60006229700048\n"
          ]
        },
        {
          "output_type": "stream",
          "name": "stderr",
          "text": [
            "\r 30%|███       | 45/150 [1:36:35<3:43:03, 127.46s/it]"
          ]
        },
        {
          "output_type": "stream",
          "name": "stdout",
          "text": [
            "Time Keypoints:  127.33452643599958\n"
          ]
        },
        {
          "output_type": "stream",
          "name": "stderr",
          "text": [
            "\r 31%|███       | 46/150 [1:38:43<3:41:01, 127.52s/it]"
          ]
        },
        {
          "output_type": "stream",
          "name": "stdout",
          "text": [
            "Time Keypoints:  127.64646232799896\n"
          ]
        },
        {
          "output_type": "stream",
          "name": "stderr",
          "text": [
            "\r 31%|███▏      | 47/150 [1:40:53<3:40:36, 128.51s/it]"
          ]
        },
        {
          "output_type": "stream",
          "name": "stdout",
          "text": [
            "Time Keypoints:  130.81268215099954\n"
          ]
        },
        {
          "output_type": "stream",
          "name": "stderr",
          "text": [
            "\r 32%|███▏      | 48/150 [1:43:03<3:38:53, 128.76s/it]"
          ]
        },
        {
          "output_type": "stream",
          "name": "stdout",
          "text": [
            "Time Keypoints:  129.34123868400093\n"
          ]
        },
        {
          "output_type": "stream",
          "name": "stderr",
          "text": [
            "\r 33%|███▎      | 49/150 [1:45:13<3:37:40, 129.31s/it]"
          ]
        },
        {
          "output_type": "stream",
          "name": "stdout",
          "text": [
            "Time Keypoints:  130.60320144399884\n"
          ]
        },
        {
          "output_type": "stream",
          "name": "stderr",
          "text": [
            "\r 33%|███▎      | 50/150 [1:47:24<3:36:01, 129.62s/it]"
          ]
        },
        {
          "output_type": "stream",
          "name": "stdout",
          "text": [
            "Time Keypoints:  130.32457389299998\n"
          ]
        },
        {
          "output_type": "stream",
          "name": "stderr",
          "text": [
            "\r 34%|███▍      | 51/150 [1:49:36<3:35:11, 130.41s/it]"
          ]
        },
        {
          "output_type": "stream",
          "name": "stdout",
          "text": [
            "Time Keypoints:  132.27234919900002\n"
          ]
        },
        {
          "output_type": "stream",
          "name": "stderr",
          "text": [
            "\r 35%|███▍      | 52/150 [1:51:49<3:34:07, 131.10s/it]"
          ]
        },
        {
          "output_type": "stream",
          "name": "stdout",
          "text": [
            "Time Keypoints:  132.68438615800005\n"
          ]
        },
        {
          "output_type": "stream",
          "name": "stderr",
          "text": [
            "\r 35%|███▌      | 53/150 [1:53:59<3:31:32, 130.85s/it]"
          ]
        },
        {
          "output_type": "stream",
          "name": "stdout",
          "text": [
            "Time Keypoints:  130.26336659799927\n"
          ]
        },
        {
          "output_type": "stream",
          "name": "stderr",
          "text": [
            "\r 36%|███▌      | 54/150 [1:56:09<3:28:50, 130.52s/it]"
          ]
        },
        {
          "output_type": "stream",
          "name": "stdout",
          "text": [
            "Time Keypoints:  129.75972089700008\n"
          ]
        },
        {
          "output_type": "stream",
          "name": "stderr",
          "text": [
            "\r 37%|███▋      | 55/150 [1:58:19<3:26:19, 130.31s/it]"
          ]
        },
        {
          "output_type": "stream",
          "name": "stdout",
          "text": [
            "Time Keypoints:  129.81634963800025\n"
          ]
        },
        {
          "output_type": "stream",
          "name": "stderr",
          "text": [
            "\r 37%|███▋      | 56/150 [2:00:28<3:23:41, 130.01s/it]"
          ]
        },
        {
          "output_type": "stream",
          "name": "stdout",
          "text": [
            "Time Keypoints:  129.319103505999\n"
          ]
        },
        {
          "output_type": "stream",
          "name": "stderr",
          "text": [
            "\r 38%|███▊      | 57/150 [2:02:37<3:21:10, 129.79s/it]"
          ]
        },
        {
          "output_type": "stream",
          "name": "stdout",
          "text": [
            "Time Keypoints:  129.25360300099965\n"
          ]
        },
        {
          "output_type": "stream",
          "name": "stderr",
          "text": [
            "\r 39%|███▊      | 58/150 [2:04:44<3:17:46, 128.98s/it]"
          ]
        },
        {
          "output_type": "stream",
          "name": "stdout",
          "text": [
            "Time Keypoints:  127.09624069100028\n"
          ]
        },
        {
          "output_type": "stream",
          "name": "stderr",
          "text": [
            "\r 39%|███▉      | 59/150 [2:06:54<3:16:01, 129.25s/it]"
          ]
        },
        {
          "output_type": "stream",
          "name": "stdout",
          "text": [
            "Time Keypoints:  129.86229051100054\n"
          ]
        },
        {
          "output_type": "stream",
          "name": "stderr",
          "text": [
            "\r 40%|████      | 60/150 [2:09:05<3:14:34, 129.72s/it]"
          ]
        },
        {
          "output_type": "stream",
          "name": "stdout",
          "text": [
            "Time Keypoints:  130.82110319300045\n"
          ]
        },
        {
          "output_type": "stream",
          "name": "stderr",
          "text": [
            "\r 41%|████      | 61/150 [2:11:14<3:11:55, 129.39s/it]"
          ]
        },
        {
          "output_type": "stream",
          "name": "stdout",
          "text": [
            "Time Keypoints:  128.6100408250004\n"
          ]
        },
        {
          "output_type": "stream",
          "name": "stderr",
          "text": [
            "\r 41%|████▏     | 62/150 [2:13:23<3:09:52, 129.46s/it]"
          ]
        },
        {
          "output_type": "stream",
          "name": "stdout",
          "text": [
            "Time Keypoints:  129.61245783499908\n"
          ]
        },
        {
          "output_type": "stream",
          "name": "stderr",
          "text": [
            "\r 42%|████▏     | 63/150 [2:15:33<3:07:59, 129.65s/it]"
          ]
        },
        {
          "output_type": "stream",
          "name": "stdout",
          "text": [
            "Time Keypoints:  130.09729185700053\n"
          ]
        },
        {
          "output_type": "stream",
          "name": "stderr",
          "text": [
            "\r 43%|████▎     | 64/150 [2:17:43<3:05:59, 129.77s/it]"
          ]
        },
        {
          "output_type": "stream",
          "name": "stdout",
          "text": [
            "Time Keypoints:  130.03377591400022\n"
          ]
        },
        {
          "output_type": "stream",
          "name": "stderr",
          "text": [
            "\r 43%|████▎     | 65/150 [2:19:54<3:04:08, 129.98s/it]"
          ]
        },
        {
          "output_type": "stream",
          "name": "stdout",
          "text": [
            "Time Keypoints:  130.47459027200057\n"
          ]
        },
        {
          "output_type": "stream",
          "name": "stderr",
          "text": [
            "\r 44%|████▍     | 66/150 [2:22:05<3:02:31, 130.37s/it]"
          ]
        },
        {
          "output_type": "stream",
          "name": "stdout",
          "text": [
            "Time Keypoints:  131.28134450300058\n"
          ]
        },
        {
          "output_type": "stream",
          "name": "stderr",
          "text": [
            "\r 45%|████▍     | 67/150 [2:24:15<3:00:21, 130.38s/it]"
          ]
        },
        {
          "output_type": "stream",
          "name": "stdout",
          "text": [
            "Time Keypoints:  130.39775283199924\n"
          ]
        },
        {
          "output_type": "stream",
          "name": "stderr",
          "text": [
            "\r 45%|████▌     | 68/150 [2:26:27<2:58:45, 130.80s/it]"
          ]
        },
        {
          "output_type": "stream",
          "name": "stdout",
          "text": [
            "Time Keypoints:  131.77259996800058\n"
          ]
        },
        {
          "output_type": "stream",
          "name": "stderr",
          "text": [
            "\r 46%|████▌     | 69/150 [2:28:39<2:57:02, 131.14s/it]"
          ]
        },
        {
          "output_type": "stream",
          "name": "stdout",
          "text": [
            "Time Keypoints:  131.92351953700017\n"
          ]
        },
        {
          "output_type": "stream",
          "name": "stderr",
          "text": [
            "\r 47%|████▋     | 70/150 [2:30:51<2:55:09, 131.36s/it]"
          ]
        },
        {
          "output_type": "stream",
          "name": "stdout",
          "text": [
            "Time Keypoints:  131.89204117199915\n"
          ]
        },
        {
          "output_type": "stream",
          "name": "stderr",
          "text": [
            "\r 47%|████▋     | 71/150 [2:33:03<2:53:09, 131.51s/it]"
          ]
        },
        {
          "output_type": "stream",
          "name": "stdout",
          "text": [
            "Time Keypoints:  131.8597482669993\n"
          ]
        },
        {
          "output_type": "stream",
          "name": "stderr",
          "text": [
            "\r 48%|████▊     | 72/150 [2:35:14<2:50:55, 131.48s/it]"
          ]
        },
        {
          "output_type": "stream",
          "name": "stdout",
          "text": [
            "Time Keypoints:  131.40869001399915\n"
          ]
        },
        {
          "output_type": "stream",
          "name": "stderr",
          "text": [
            "\r 49%|████▊     | 73/150 [2:37:25<2:48:32, 131.34s/it]"
          ]
        },
        {
          "output_type": "stream",
          "name": "stdout",
          "text": [
            "Time Keypoints:  130.98951595400104\n"
          ]
        },
        {
          "output_type": "stream",
          "name": "stderr",
          "text": [
            "\r 49%|████▉     | 74/150 [2:39:36<2:46:09, 131.18s/it]"
          ]
        },
        {
          "output_type": "stream",
          "name": "stdout",
          "text": [
            "Time Keypoints:  130.82054091899954\n"
          ]
        },
        {
          "output_type": "stream",
          "name": "stderr",
          "text": [
            "\r 50%|█████     | 75/150 [2:41:47<2:43:42, 130.96s/it]"
          ]
        },
        {
          "output_type": "stream",
          "name": "stdout",
          "text": [
            "Time Keypoints:  130.44673630599937\n"
          ]
        },
        {
          "output_type": "stream",
          "name": "stderr",
          "text": [
            "\r 51%|█████     | 76/150 [2:43:57<2:41:18, 130.79s/it]"
          ]
        },
        {
          "output_type": "stream",
          "name": "stdout",
          "text": [
            "Time Keypoints:  130.38218315199993\n"
          ]
        },
        {
          "output_type": "stream",
          "name": "stderr",
          "text": [
            "\r 51%|█████▏    | 77/150 [2:46:07<2:39:01, 130.71s/it]"
          ]
        },
        {
          "output_type": "stream",
          "name": "stdout",
          "text": [
            "Time Keypoints:  130.51537401399946\n"
          ]
        },
        {
          "output_type": "stream",
          "name": "stderr",
          "text": [
            "\r 52%|█████▏    | 78/150 [2:48:18<2:36:42, 130.60s/it]"
          ]
        },
        {
          "output_type": "stream",
          "name": "stdout",
          "text": [
            "Time Keypoints:  130.32740367299994\n"
          ]
        },
        {
          "output_type": "stream",
          "name": "stderr",
          "text": [
            "\r 53%|█████▎    | 79/150 [2:50:29<2:34:48, 130.83s/it]"
          ]
        },
        {
          "output_type": "stream",
          "name": "stdout",
          "text": [
            "Time Keypoints:  131.36985023000125\n"
          ]
        },
        {
          "output_type": "stream",
          "name": "stderr",
          "text": [
            "\r 53%|█████▎    | 80/150 [2:52:41<2:32:51, 131.03s/it]"
          ]
        },
        {
          "output_type": "stream",
          "name": "stdout",
          "text": [
            "Time Keypoints:  131.4884353590005\n"
          ]
        },
        {
          "output_type": "stream",
          "name": "stderr",
          "text": [
            "\r 54%|█████▍    | 81/150 [2:54:52<2:30:48, 131.13s/it]"
          ]
        },
        {
          "output_type": "stream",
          "name": "stdout",
          "text": [
            "Time Keypoints:  131.37208609000118\n"
          ]
        },
        {
          "output_type": "stream",
          "name": "stderr",
          "text": [
            "\r 55%|█████▍    | 82/150 [2:57:04<2:28:49, 131.32s/it]"
          ]
        },
        {
          "output_type": "stream",
          "name": "stdout",
          "text": [
            "Time Keypoints:  131.75375766300021\n"
          ]
        },
        {
          "output_type": "stream",
          "name": "stderr",
          "text": [
            "\r 55%|█████▌    | 83/150 [2:59:15<2:26:38, 131.32s/it]"
          ]
        },
        {
          "output_type": "stream",
          "name": "stdout",
          "text": [
            "Time Keypoints:  131.311516234\n"
          ]
        },
        {
          "output_type": "stream",
          "name": "stderr",
          "text": [
            "\r 56%|█████▌    | 84/150 [3:01:26<2:24:13, 131.12s/it]"
          ]
        },
        {
          "output_type": "stream",
          "name": "stdout",
          "text": [
            "Time Keypoints:  130.65570015699996\n"
          ]
        },
        {
          "output_type": "stream",
          "name": "stderr",
          "text": [
            "\r 57%|█████▋    | 85/150 [3:03:36<2:21:46, 130.87s/it]"
          ]
        },
        {
          "output_type": "stream",
          "name": "stdout",
          "text": [
            "Time Keypoints:  130.2893852369998\n"
          ]
        },
        {
          "output_type": "stream",
          "name": "stderr",
          "text": [
            "\r 57%|█████▋    | 86/150 [3:05:47<2:19:36, 130.89s/it]"
          ]
        },
        {
          "output_type": "stream",
          "name": "stdout",
          "text": [
            "Time Keypoints:  130.9196190519997\n"
          ]
        },
        {
          "output_type": "stream",
          "name": "stderr",
          "text": [
            "\r 58%|█████▊    | 87/150 [3:07:59<2:17:47, 131.23s/it]"
          ]
        },
        {
          "output_type": "stream",
          "name": "stdout",
          "text": [
            "Time Keypoints:  132.03754733700043\n"
          ]
        },
        {
          "output_type": "stream",
          "name": "stderr",
          "text": [
            "\r 59%|█████▊    | 88/150 [3:10:10<2:15:39, 131.27s/it]"
          ]
        },
        {
          "output_type": "stream",
          "name": "stdout",
          "text": [
            "Time Keypoints:  131.36885023799914\n"
          ]
        },
        {
          "output_type": "stream",
          "name": "stderr",
          "text": [
            "\r 59%|█████▉    | 89/150 [3:12:22<2:13:37, 131.44s/it]"
          ]
        },
        {
          "output_type": "stream",
          "name": "stdout",
          "text": [
            "Time Keypoints:  131.8164556699994\n"
          ]
        },
        {
          "output_type": "stream",
          "name": "stderr",
          "text": [
            "\r 60%|██████    | 90/150 [3:14:34<2:11:29, 131.49s/it]"
          ]
        },
        {
          "output_type": "stream",
          "name": "stdout",
          "text": [
            "Time Keypoints:  131.59984939700007\n"
          ]
        },
        {
          "output_type": "stream",
          "name": "stderr",
          "text": [
            "\r 61%|██████    | 91/150 [3:16:46<2:09:31, 131.72s/it]"
          ]
        },
        {
          "output_type": "stream",
          "name": "stdout",
          "text": [
            "Time Keypoints:  132.26461924499927\n"
          ]
        },
        {
          "output_type": "stream",
          "name": "stderr",
          "text": [
            "\r 61%|██████▏   | 92/150 [3:18:59<2:07:39, 132.06s/it]"
          ]
        },
        {
          "output_type": "stream",
          "name": "stdout",
          "text": [
            "Time Keypoints:  132.84833747000084\n"
          ]
        },
        {
          "output_type": "stream",
          "name": "stderr",
          "text": [
            "\r 62%|██████▏   | 93/150 [3:21:11<2:05:25, 132.03s/it]"
          ]
        },
        {
          "output_type": "stream",
          "name": "stdout",
          "text": [
            "Time Keypoints:  131.9728868479997\n"
          ]
        },
        {
          "output_type": "stream",
          "name": "stderr",
          "text": [
            "\r 63%|██████▎   | 94/150 [3:23:22<2:03:02, 131.84s/it]"
          ]
        },
        {
          "output_type": "stream",
          "name": "stdout",
          "text": [
            "Time Keypoints:  131.37730202199964\n"
          ]
        },
        {
          "output_type": "stream",
          "name": "stderr",
          "text": [
            "\r 63%|██████▎   | 95/150 [3:25:34<2:00:43, 131.70s/it]"
          ]
        },
        {
          "output_type": "stream",
          "name": "stdout",
          "text": [
            "Time Keypoints:  131.37230545700004\n"
          ]
        },
        {
          "output_type": "stream",
          "name": "stderr",
          "text": [
            "\r 64%|██████▍   | 96/150 [3:27:45<1:58:27, 131.63s/it]"
          ]
        },
        {
          "output_type": "stream",
          "name": "stdout",
          "text": [
            "Time Keypoints:  131.4544174799994\n"
          ]
        },
        {
          "output_type": "stream",
          "name": "stderr",
          "text": [
            "\r 65%|██████▍   | 97/150 [3:29:57<1:56:20, 131.72s/it]"
          ]
        },
        {
          "output_type": "stream",
          "name": "stdout",
          "text": [
            "Time Keypoints:  131.92337358799887\n"
          ]
        },
        {
          "output_type": "stream",
          "name": "stderr",
          "text": [
            "\r 65%|██████▌   | 98/150 [3:32:10<1:54:23, 131.99s/it]"
          ]
        },
        {
          "output_type": "stream",
          "name": "stdout",
          "text": [
            "Time Keypoints:  132.63986549500078\n"
          ]
        },
        {
          "output_type": "stream",
          "name": "stderr",
          "text": [
            "\r 66%|██████▌   | 99/150 [3:34:22<1:52:19, 132.15s/it]"
          ]
        },
        {
          "output_type": "stream",
          "name": "stdout",
          "text": [
            "Time Keypoints:  132.50878607499908\n"
          ]
        },
        {
          "output_type": "stream",
          "name": "stderr",
          "text": [
            "\r 67%|██████▋   | 100/150 [3:36:34<1:50:08, 132.18s/it]"
          ]
        },
        {
          "output_type": "stream",
          "name": "stdout",
          "text": [
            "Time Keypoints:  132.24106839800152\n"
          ]
        },
        {
          "output_type": "stream",
          "name": "stderr",
          "text": [
            "\r 67%|██████▋   | 101/150 [3:38:47<1:47:58, 132.22s/it]"
          ]
        },
        {
          "output_type": "stream",
          "name": "stdout",
          "text": [
            "Time Keypoints:  132.3196445930007\n"
          ]
        },
        {
          "output_type": "stream",
          "name": "stderr",
          "text": [
            "\r 68%|██████▊   | 102/150 [3:41:00<1:46:00, 132.50s/it]"
          ]
        },
        {
          "output_type": "stream",
          "name": "stdout",
          "text": [
            "Time Keypoints:  133.1619136349982\n"
          ]
        },
        {
          "output_type": "stream",
          "name": "stderr",
          "text": [
            "\r 69%|██████▊   | 103/150 [3:43:12<1:43:41, 132.37s/it]"
          ]
        },
        {
          "output_type": "stream",
          "name": "stdout",
          "text": [
            "Time Keypoints:  132.07021225399876\n"
          ]
        },
        {
          "output_type": "stream",
          "name": "stderr",
          "text": [
            "\r 69%|██████▉   | 104/150 [3:45:24<1:41:25, 132.30s/it]"
          ]
        },
        {
          "output_type": "stream",
          "name": "stdout",
          "text": [
            "Time Keypoints:  132.11455683999884\n"
          ]
        },
        {
          "output_type": "stream",
          "name": "stderr",
          "text": [
            "\r 70%|███████   | 105/150 [3:47:36<1:39:08, 132.20s/it]"
          ]
        },
        {
          "output_type": "stream",
          "name": "stdout",
          "text": [
            "Time Keypoints:  131.96593945399945\n"
          ]
        },
        {
          "output_type": "stream",
          "name": "stderr",
          "text": [
            "\r 71%|███████   | 106/150 [3:49:49<1:36:59, 132.26s/it]"
          ]
        },
        {
          "output_type": "stream",
          "name": "stdout",
          "text": [
            "Time Keypoints:  132.4132851610011\n"
          ]
        },
        {
          "output_type": "stream",
          "name": "stderr",
          "text": [
            "\r 71%|███████▏  | 107/150 [3:52:01<1:34:51, 132.37s/it]"
          ]
        },
        {
          "output_type": "stream",
          "name": "stdout",
          "text": [
            "Time Keypoints:  132.60806617699927\n"
          ]
        },
        {
          "output_type": "stream",
          "name": "stderr",
          "text": [
            "\r 72%|███████▏  | 108/150 [3:54:14<1:32:48, 132.59s/it]"
          ]
        },
        {
          "output_type": "stream",
          "name": "stdout",
          "text": [
            "Time Keypoints:  133.0991188980006\n"
          ]
        },
        {
          "output_type": "stream",
          "name": "stderr",
          "text": [
            "\r 73%|███████▎  | 109/150 [3:56:28<1:30:54, 133.03s/it]"
          ]
        },
        {
          "output_type": "stream",
          "name": "stdout",
          "text": [
            "Time Keypoints:  134.0645358949987\n"
          ]
        },
        {
          "output_type": "stream",
          "name": "stderr",
          "text": [
            "\r 73%|███████▎  | 110/150 [3:58:42<1:28:48, 133.21s/it]"
          ]
        },
        {
          "output_type": "stream",
          "name": "stdout",
          "text": [
            "Time Keypoints:  133.62986734999868\n"
          ]
        },
        {
          "output_type": "stream",
          "name": "stderr",
          "text": [
            "\r 74%|███████▍  | 111/150 [4:00:56<1:26:45, 133.47s/it]"
          ]
        },
        {
          "output_type": "stream",
          "name": "stdout",
          "text": [
            "Time Keypoints:  134.06681553700037\n"
          ]
        },
        {
          "output_type": "stream",
          "name": "stderr",
          "text": [
            "\r 75%|███████▍  | 112/150 [4:03:10<1:24:32, 133.49s/it]"
          ]
        },
        {
          "output_type": "stream",
          "name": "stdout",
          "text": [
            "Time Keypoints:  133.53773299199747\n"
          ]
        },
        {
          "output_type": "stream",
          "name": "stderr",
          "text": [
            "\r 75%|███████▌  | 113/150 [4:05:23<1:22:18, 133.48s/it]"
          ]
        },
        {
          "output_type": "stream",
          "name": "stdout",
          "text": [
            "Time Keypoints:  133.43748427199898\n"
          ]
        },
        {
          "output_type": "stream",
          "name": "stderr",
          "text": [
            "\r 76%|███████▌  | 114/150 [4:07:36<1:20:04, 133.47s/it]"
          ]
        },
        {
          "output_type": "stream",
          "name": "stdout",
          "text": [
            "Time Keypoints:  133.44039717499982\n"
          ]
        },
        {
          "output_type": "stream",
          "name": "stderr",
          "text": [
            "\r 77%|███████▋  | 115/150 [4:09:50<1:17:51, 133.46s/it]"
          ]
        },
        {
          "output_type": "stream",
          "name": "stdout",
          "text": [
            "Time Keypoints:  133.4517020759995\n"
          ]
        },
        {
          "output_type": "stream",
          "name": "stderr",
          "text": [
            "\r 77%|███████▋  | 116/150 [4:12:04<1:15:42, 133.60s/it]"
          ]
        },
        {
          "output_type": "stream",
          "name": "stdout",
          "text": [
            "Time Keypoints:  133.93191569100236\n"
          ]
        },
        {
          "output_type": "stream",
          "name": "stderr",
          "text": [
            "\r 78%|███████▊  | 117/150 [4:14:15<1:13:07, 132.97s/it]"
          ]
        },
        {
          "output_type": "stream",
          "name": "stdout",
          "text": [
            "Time Keypoints:  131.48499038299997\n"
          ]
        },
        {
          "output_type": "stream",
          "name": "stderr",
          "text": [
            "\r 79%|███████▊  | 118/150 [4:16:26<1:10:36, 132.38s/it]"
          ]
        },
        {
          "output_type": "stream",
          "name": "stdout",
          "text": [
            "Time Keypoints:  131.00073524300024\n"
          ]
        },
        {
          "output_type": "stream",
          "name": "stderr",
          "text": [
            "\r 79%|███████▉  | 119/150 [4:18:36<1:08:03, 131.72s/it]"
          ]
        },
        {
          "output_type": "stream",
          "name": "stdout",
          "text": [
            "Time Keypoints:  130.18323901500116\n"
          ]
        },
        {
          "output_type": "stream",
          "name": "stderr",
          "text": [
            "\r 80%|████████  | 120/150 [4:20:47<1:05:37, 131.26s/it]"
          ]
        },
        {
          "output_type": "stream",
          "name": "stdout",
          "text": [
            "Time Keypoints:  130.16756879999957\n"
          ]
        },
        {
          "output_type": "stream",
          "name": "stderr",
          "text": [
            "\r 81%|████████  | 121/150 [4:22:57<1:03:16, 130.92s/it]"
          ]
        },
        {
          "output_type": "stream",
          "name": "stdout",
          "text": [
            "Time Keypoints:  130.138493931001\n"
          ]
        },
        {
          "output_type": "stream",
          "name": "stderr",
          "text": [
            "\r 81%|████████▏ | 122/150 [4:25:09<1:01:16, 131.29s/it]"
          ]
        },
        {
          "output_type": "stream",
          "name": "stdout",
          "text": [
            "Time Keypoints:  132.14404145799926\n"
          ]
        },
        {
          "output_type": "stream",
          "name": "stderr",
          "text": [
            "\r 82%|████████▏ | 123/150 [4:27:21<59:14, 131.65s/it]  "
          ]
        },
        {
          "output_type": "stream",
          "name": "stdout",
          "text": [
            "Time Keypoints:  132.48697666700173\n"
          ]
        },
        {
          "output_type": "stream",
          "name": "stderr",
          "text": [
            "\r 83%|████████▎ | 124/150 [4:29:34<57:07, 131.82s/it]"
          ]
        },
        {
          "output_type": "stream",
          "name": "stdout",
          "text": [
            "Time Keypoints:  132.20475531400007\n"
          ]
        },
        {
          "output_type": "stream",
          "name": "stderr",
          "text": [
            "\r 83%|████████▎ | 125/150 [4:31:45<54:53, 131.73s/it]"
          ]
        },
        {
          "output_type": "stream",
          "name": "stdout",
          "text": [
            "Time Keypoints:  131.53280654899936\n"
          ]
        },
        {
          "output_type": "stream",
          "name": "stderr",
          "text": [
            "\r 84%|████████▍ | 126/150 [4:33:56<52:35, 131.49s/it]"
          ]
        },
        {
          "output_type": "stream",
          "name": "stdout",
          "text": [
            "Time Keypoints:  130.92824257100074\n"
          ]
        },
        {
          "output_type": "stream",
          "name": "stderr",
          "text": [
            "\r 85%|████████▍ | 127/150 [4:36:07<50:22, 131.40s/it]"
          ]
        },
        {
          "output_type": "stream",
          "name": "stdout",
          "text": [
            "Time Keypoints:  131.18988129799982\n"
          ]
        },
        {
          "output_type": "stream",
          "name": "stderr",
          "text": [
            "\r 85%|████████▌ | 128/150 [4:38:20<48:16, 131.66s/it]"
          ]
        },
        {
          "output_type": "stream",
          "name": "stdout",
          "text": [
            "Time Keypoints:  132.24188688600043\n"
          ]
        },
        {
          "output_type": "stream",
          "name": "stderr",
          "text": [
            "\r 86%|████████▌ | 129/150 [4:40:31<46:03, 131.60s/it]"
          ]
        },
        {
          "output_type": "stream",
          "name": "stdout",
          "text": [
            "Time Keypoints:  131.45952681999916\n"
          ]
        },
        {
          "output_type": "stream",
          "name": "stderr",
          "text": [
            "\r 87%|████████▋ | 130/150 [4:42:43<43:55, 131.77s/it]"
          ]
        },
        {
          "output_type": "stream",
          "name": "stdout",
          "text": [
            "Time Keypoints:  132.18102359000113\n"
          ]
        },
        {
          "output_type": "stream",
          "name": "stderr",
          "text": [
            "\r 87%|████████▋ | 131/150 [4:44:54<41:40, 131.62s/it]"
          ]
        },
        {
          "output_type": "stream",
          "name": "stdout",
          "text": [
            "Time Keypoints:  131.25533507400178\n"
          ]
        },
        {
          "output_type": "stream",
          "name": "stderr",
          "text": [
            "\r 88%|████████▊ | 132/150 [4:47:05<39:23, 131.31s/it]"
          ]
        },
        {
          "output_type": "stream",
          "name": "stdout",
          "text": [
            "Time Keypoints:  130.578029307002\n"
          ]
        },
        {
          "output_type": "stream",
          "name": "stderr",
          "text": [
            "\r 89%|████████▊ | 133/150 [4:49:17<37:15, 131.48s/it]"
          ]
        },
        {
          "output_type": "stream",
          "name": "stdout",
          "text": [
            "Time Keypoints:  131.8878122210008\n"
          ]
        },
        {
          "output_type": "stream",
          "name": "stderr",
          "text": [
            "\r 89%|████████▉ | 134/150 [4:51:25<34:48, 130.55s/it]"
          ]
        },
        {
          "output_type": "stream",
          "name": "stdout",
          "text": [
            "Time Keypoints:  128.36268736800048\n"
          ]
        },
        {
          "output_type": "stream",
          "name": "stderr",
          "text": [
            "\r 90%|█████████ | 135/150 [4:53:33<32:26, 129.77s/it]"
          ]
        },
        {
          "output_type": "stream",
          "name": "stdout",
          "text": [
            "Time Keypoints:  127.96347340699867\n"
          ]
        },
        {
          "output_type": "stream",
          "name": "stderr",
          "text": [
            "\r 91%|█████████ | 136/150 [4:55:41<30:09, 129.28s/it]"
          ]
        },
        {
          "output_type": "stream",
          "name": "stdout",
          "text": [
            "Time Keypoints:  128.11622223000086\n"
          ]
        },
        {
          "output_type": "stream",
          "name": "stderr",
          "text": [
            "\r 91%|█████████▏| 137/150 [4:57:50<27:56, 128.99s/it]"
          ]
        },
        {
          "output_type": "stream",
          "name": "stdout",
          "text": [
            "Time Keypoints:  128.31945285099937\n"
          ]
        },
        {
          "output_type": "stream",
          "name": "stderr",
          "text": [
            "\r 92%|█████████▏| 138/150 [4:59:59<25:49, 129.16s/it]"
          ]
        },
        {
          "output_type": "stream",
          "name": "stdout",
          "text": [
            "Time Keypoints:  129.5630891990004\n"
          ]
        },
        {
          "output_type": "stream",
          "name": "stderr",
          "text": [
            "\r 93%|█████████▎| 139/150 [5:02:10<23:46, 129.66s/it]"
          ]
        },
        {
          "output_type": "stream",
          "name": "stdout",
          "text": [
            "Time Keypoints:  130.82208095299939\n"
          ]
        },
        {
          "output_type": "stream",
          "name": "stderr",
          "text": [
            "\r 93%|█████████▎| 140/150 [5:04:20<21:37, 129.77s/it]"
          ]
        },
        {
          "output_type": "stream",
          "name": "stdout",
          "text": [
            "Time Keypoints:  130.0243624249997\n"
          ]
        },
        {
          "output_type": "stream",
          "name": "stderr",
          "text": [
            "\r 94%|█████████▍| 141/150 [5:06:32<19:33, 130.44s/it]"
          ]
        },
        {
          "output_type": "stream",
          "name": "stdout",
          "text": [
            "Time Keypoints:  131.98536189600054\n"
          ]
        },
        {
          "output_type": "stream",
          "name": "stderr",
          "text": [
            "\r 95%|█████████▍| 142/150 [5:08:44<17:26, 130.79s/it]"
          ]
        },
        {
          "output_type": "stream",
          "name": "stdout",
          "text": [
            "Time Keypoints:  131.6113056590002\n"
          ]
        },
        {
          "output_type": "stream",
          "name": "stderr",
          "text": [
            "\r 95%|█████████▌| 143/150 [5:10:53<15:12, 130.29s/it]"
          ]
        },
        {
          "output_type": "stream",
          "name": "stdout",
          "text": [
            "Time Keypoints:  129.13456574999873\n"
          ]
        },
        {
          "output_type": "stream",
          "name": "stderr",
          "text": [
            "\r 96%|█████████▌| 144/150 [5:13:03<13:01, 130.31s/it]"
          ]
        },
        {
          "output_type": "stream",
          "name": "stdout",
          "text": [
            "Time Keypoints:  130.35416426899974\n"
          ]
        },
        {
          "output_type": "stream",
          "name": "stderr",
          "text": [
            "\r 97%|█████████▋| 145/150 [5:15:12<10:48, 129.79s/it]"
          ]
        },
        {
          "output_type": "stream",
          "name": "stdout",
          "text": [
            "Time Keypoints:  128.57101696099926\n"
          ]
        },
        {
          "output_type": "stream",
          "name": "stderr",
          "text": [
            "\r 97%|█████████▋| 146/150 [5:17:20<08:37, 129.39s/it]"
          ]
        },
        {
          "output_type": "stream",
          "name": "stdout",
          "text": [
            "Time Keypoints:  128.44096033700043\n"
          ]
        },
        {
          "output_type": "stream",
          "name": "stderr",
          "text": [
            "\r 98%|█████████▊| 147/150 [5:19:29<06:27, 129.29s/it]"
          ]
        },
        {
          "output_type": "stream",
          "name": "stdout",
          "text": [
            "Time Keypoints:  129.06114120499842\n"
          ]
        },
        {
          "output_type": "stream",
          "name": "stderr",
          "text": [
            "\r 99%|█████████▊| 148/150 [5:21:39<04:18, 129.32s/it]"
          ]
        },
        {
          "output_type": "stream",
          "name": "stdout",
          "text": [
            "Time Keypoints:  129.40310795200276\n"
          ]
        },
        {
          "output_type": "stream",
          "name": "stderr",
          "text": [
            "\r 99%|█████████▉| 149/150 [5:23:47<02:09, 129.09s/it]"
          ]
        },
        {
          "output_type": "stream",
          "name": "stdout",
          "text": [
            "Time Keypoints:  128.55527160000202\n"
          ]
        },
        {
          "output_type": "stream",
          "name": "stderr",
          "text": [
            "100%|██████████| 150/150 [5:25:52<00:00, 130.35s/it]"
          ]
        },
        {
          "output_type": "stream",
          "name": "stdout",
          "text": [
            "Time Keypoints:  125.17839591200027\n"
          ]
        },
        {
          "output_type": "stream",
          "name": "stderr",
          "text": [
            "\n"
          ]
        }
      ]
    },
    {
      "cell_type": "code",
      "source": [
        "keypoint_final = []\n",
        "keypoint_final = final_keypoints\n",
        "print(keypoint_final)\n",
        "\n",
        "keypoint_final = [x for x in keypoint_final if x is not None]\n",
        "\n",
        "print(keypoint_final)"
      ],
      "metadata": {
        "colab": {
          "base_uri": "https://localhost:8080/"
        },
        "id": "Db7EL1t-39Qr",
        "outputId": "95408932-0b4e-4846-8909-ce5d010f4827"
      },
      "execution_count": null,
      "outputs": [
        {
          "output_type": "stream",
          "name": "stdout",
          "text": [
            "[[1892, 914, 1379, 755, 1644, 467, 1875, 868, 1834, 891, 1828, 308, 1875, 875, 1827, 891, -1, -1, -1, -1, -1, -1, -1, -1, -1, -1, -1, -1, 1708, 803, 1724, 804, 1668, 411, 533, 692], None, None, None, None, None, None, None, None, None, None, None, None, [1373, 667, 1788, 557, 1740, 155, -1, -1, -1, -1, 1652, 189, -1, -1, 1868, 523, 138, 746, 139, 803, 131, 851, 140, 747, 139, 803, 1763, 891, 1364, 651, 1139, 540, 1475, 644, 1636, 460], [1380, 676, 1612, 660, -1, -1, 1107, 850, -1, -1, 131, 747, 1868, 411, 1812, 524, 1739, 676, 1747, 779, 1667, 891, -1, -1, 1716, 869, 1660, 891, 1379, 660, 1619, 604, -1, -1, 1636, 618], [1380, 676, 1772, 283, 1731, 283, 1100, 850, -1, -1, 1820, 283, 1836, 410, 1780, 531, 1708, 676, 1700, 787, 1660, 891, -1, -1, 1699, 788, 1659, 892, 1371, 660, 1394, 660, -1, -1, 1810, 212], [1644, 525, 1708, 556, 1684, 292, -1, -1, -1, -1, 1674, 556, 1812, 396, 1779, 523, 1724, 684, 1699, 787, 1659, 892, 1676, 675, 1724, 891, 1659, 892, 1372, 652, 1651, 522, -1, -1, 1764, 213], [1379, 682, 1699, 284, 1652, 292, 1107, 851, -1, -1, 1748, 283, 1733, 652, 1771, 516, 1661, 674, -1, -1, -1, -1, 1700, 675, 1731, 893, 1724, 876, 1356, 645, 1395, 668, 1499, 499, 1413, 676], [1380, 676, 1140, 629, 1676, 610, -1, -1, -1, -1, 1715, 635, 1588, 588, 1731, 524, 1637, 690, 1635, 820, 1611, 898, 1691, 693, 1730, 892, 1716, 860, 1379, 659, 1396, 667, 1723, 572, 1419, 683], [1363, 675, 1629, 276, 140, 754, -1, -1, -1, -1, 1772, 515, 1700, 394, 1676, 515, -1, -1, 1627, 706, 1676, 867, -1, -1, 1604, 700, 1676, 866, 1363, 659, 1380, 666, -1, -1, 1404, 675], [1357, 660, 1588, 268, 1756, 453, 1107, 851, -1, -1, 1645, 275, 1660, 389, 1619, 500, 1539, 667, 1556, 772, 1540, 890, 1619, 907, 1628, 836, 1556, 908, 1356, 651, 1371, 652, 1763, 620, -1, -1], [1755, 700, 1613, 867, 139, 749, 1108, 851, -1, -1, 1619, 874, 1619, 388, 1556, 909, 1499, 668, 1483, 771, 1419, 884, -1, -1, 1484, 891, 1556, 915, 1747, 692, 1396, 637, 1356, 643, -1, -1], [1244, 660, 1644, 652, 133, 749, 1100, 850, 1186, 852, 1619, 651, 1580, 394, 1405, 893, 1461, 669, 1620, 877, 1564, 915, 1533, 691, 1627, 883, 1563, 915, 1362, 650, 1730, 804, 1644, 612, -1, -1], [1716, 818, 1589, 587, 1549, 580, -1, -1, -1, -1, 1636, 588, 1547, 388, 1484, 899, -1, -1, 1459, 876, 1410, 898, -1, -1, 1460, 883, 1404, 898, 1708, 796, 1732, 804, -1, -1, 1763, 563], [226, 748, 1619, 556, 1571, 539, 1107, 851, -1, -1, 1675, 578, 1508, 386, 1491, 508, 1427, 674, 1388, 884, 1466, 876, 1387, 652, 1378, 741, 1316, 908, 220, 739, 1772, 651, 1635, 484, 1787, 659], [1644, 739, 1523, 604, 1619, 780, 1108, 851, -1, -1, 1572, 611, 1459, 388, 1436, 515, 1348, 661, 1348, 892, 1277, 916, 1411, 675, 1476, 890, 1283, 915, 1643, 724, 1653, 731, 1629, 731, 1781, 708], [476, 701, 1587, 612, 803, 643, 1100, 850, -1, -1, 299, 635, 764, 708, -1, -1, 1300, 667, -1, -1, 1403, 843, 1339, 676, -1, -1, -1, -1, 843, 804, 1764, 370, 1507, 259, 1660, 252], [1539, 652, 212, 235, 139, 755, 1100, 844, -1, -1, 1675, 690, -1, -1, -1, -1, 1349, 900, 1251, 772, -1, -1, 1339, 900, 1226, 883, 1187, 892, 860, 779, 1819, 404, 835, 779, -1, -1], [1747, 643, 1275, 252, 1475, 675, -1, -1, -1, -1, 1307, 252, -1, -1, -1, -1, -1, -1, 1284, 700, 1179, 875, -1, -1, 1347, 900, 1283, 915, 1642, 732, 1716, 532, 1108, 421, 884, 373], [1356, 660, 1540, 476, 1477, 469, 1099, 844, -1, -1, 1268, 603, -1, -1, -1, -1, 1172, 675, 1172, 788, 1283, 914, 1227, 684, 1332, 860, 1283, 915, 1341, 644, 1371, 645, 1642, 619, 1395, 658], [1635, 508, 1195, 251, 1043, 740, 1099, 843, -1, -1, 1226, 251, 1236, 371, 1172, 900, -1, -1, 1250, 851, 1116, 900, -1, -1, 1187, 866, 1115, 899, 1515, 636, 211, 460, -1, -1, 1188, 172], [260, 732, 524, 636, 140, 756, 1188, 898, -1, -1, 499, 635, 1187, 643, 1162, 659, 1098, 668, 1084, 892, -1, -1, 1147, 676, 1163, 788, -1, -1, 252, 723, 1716, 699, 1571, 100, 1618, 540], [242, 746, 1093, 604, 186, 772, -1, -1, -1, -1, 1132, 604, 1155, 643, -1, -1, 1058, 676, 1060, 762, -1, -1, 1123, 683, 1187, 892, 987, 908, 235, 732, 1115, 547, 1076, 555, 796, 466], [1659, 747, 1763, 651, 1620, 787, 467, 684, 1019, 684, 1780, 652, 1163, 843, 1108, 883, 1020, 682, 1051, 899, 979, 914, 1066, 683, 1116, 787, 1155, 836, 1645, 738, 1779, 603, 1629, 740, 1788, 610], [1603, 651, 588, 635, 508, 628, 468, 683, -1, -1, 1068, 803, 1075, 843, 1027, 843, 1020, 861, 987, 860, 933, 891, 1052, 884, 988, 860, 939, 890, 1292, 531, 1612, 643, 186, 179, -1, -1], [1331, 548, 1043, 804, 1026, 805, 1013, 844, 1050, 836, 1066, 803, 1068, 837, 1029, 842, 1036, 885, 988, 915, 972, 915, 1060, 885, 907, 772, 836, 890, 1101, 691, 1340, 540, 1091, 533, 1355, 547], [228, 741, 819, 666, 795, 660, -1, -1, -1, -1, 1669, 300, -1, -1, -1, -1, -1, -1, 1035, 845, 980, 908, -1, -1, 901, 884, 980, 908, 221, 732, 1596, 516, 1733, 331, 1659, 251], [228, 748, 883, 756, 155, 235, 860, 235, 827, 228, 532, 755, 915, 795, -1, -1, 891, 844, 907, 899, 835, 899, 907, 843, 908, 899, 828, 898, 220, 740, 229, 739, 1572, 523, 1412, 658], [1363, 659, 1667, 667, 1635, 651, 1100, 850, 443, 730, 1621, 603, 883, 643, 781, 228, 771, 684, 738, 890, -1, -1, 866, 692, 748, 892, 827, 893, 1363, 651, 1580, 651, 797, 548, 1612, 539], [1378, 676, 1611, 675, 1580, 660, 1100, 851, -1, -1, 1443, 779, -1, -1, -1, -1, 730, 692, 739, 892, 644, 908, 797, 675, 877, 860, 650, 908, 1364, 652, 1396, 667, 739, 563, 1413, 685], [1786, 811, 1146, 603, 1037, 772, 1107, 851, 1187, 852, 1650, 597, -1, -1, -1, -1, -1, -1, -1, -1, 644, 914, -1, -1, -1, -1, 651, 908, 1364, 651, 1387, 653, 180, 172, 1659, 533], [876, 794, 1388, 772, 876, 700, 1100, 845, -1, -1, 1444, 780, -1, -1, -1, -1, 619, 659, 605, 755, 540, 882, 691, 699, 604, 883, 539, 882, 866, 779, 884, 780, 836, 795, 1412, 707], [252, 740, 1387, 284, 1349, 291, 1106, 851, -1, -1, 284, 756, -1, -1, -1, -1, 572, 652, 557, 884, 499, 891, -1, -1, -1, -1, 498, 891, 1692, 700, 748, 627, 1348, 251, 1637, 612], [348, 724, 346, 780, 285, 763, 1100, 845, -1, -1, 1660, 692, -1, -1, 619, 892, 533, 308, 667, 820, 492, 892, 602, 340, 564, 884, 492, 892, 348, 707, 387, 716, 332, 716, 1395, 660], [898, 669, 484, 579, 453, 580, 1107, 850, 506, 819, -1, -1, -1, -1, 515, 476, 492, 860, 564, 891, -1, -1, 539, 852, 419, 907, -1, -1, 892, 660, 901, 660, 971, 235, 1411, 676], [852, 819, 1140, 604, 764, 851, 1107, 851, 1179, 860, -1, -1, -1, -1, -1, -1, 146, 741, 554, 877, 307, 900, 141, 746, 396, 891, 301, 900, 851, 789, 1708, 715, 828, 794, 1412, 675], [787, 708, 1572, 796, 763, 733, 1107, 851, 357, 667, -1, -1, 476, 596, 379, 275, 372, 676, 379, 891, 492, 890, 420, 667, 395, 892, 307, 907, 786, 693, 804, 699, 356, 555, 820, 707], [211, 764, 1372, 724, 124, 835, 1108, 851, 394, 843, 1612, 603, -1, -1, -1, -1, -1, -1, 380, 892, 300, 908, -1, -1, 403, 899, 301, 908, 202, 747, 227, 741, 1571, 523, 1412, 674], [852, 819, 346, 220, 467, 180, 1107, 851, -1, -1, -1, -1, -1, -1, 235, 508, 338, 684, 388, 890, 196, 868, 276, 652, 395, 891, 307, 907, 1701, 803, 1724, 803, 1788, 411, 1411, 701], [1707, 700, 1196, 564, 963, 764, 1100, 844, 212, 507, 539, 764, -1, -1, 307, 908, -1, -1, -1, -1, 179, 885, -1, -1, 243, 877, 179, 884, 482, 691, 1371, 645, 467, 692, 1643, 604], [1260, 659, 275, 219, 363, 554, 1106, 851, -1, -1, 269, 220, 315, 827, 259, 876, 227, 779, 235, 868, 180, 884, -1, -1, -1, -1, -1, -1, 1252, 645, 1276, 650, -1, -1, 1754, 483], [1700, 716, 1379, 723, 964, 762, 1099, 845, 180, 826, 1195, 571, -1, -1, 196, 483, 155, 867, -1, -1, -1, -1, -1, -1, 250, 885, -1, -1, 1699, 708, 1714, 715, 1124, 541, 1724, 723], [477, 700, 499, 755, 460, 733, 1100, 850, -1, -1, 539, 763, 196, 356, 156, 469, -1, -1, 228, 875, 189, 884, -1, -1, 251, 884, 186, 884, 476, 691, 1714, 659, 467, 693, 1738, 666], [852, 804, 845, 859, 763, 828, 1100, 845, -1, -1, 532, 764, 268, 595, -1, -1, -1, -1, 227, 852, 187, 884, -1, -1, 251, 867, 186, 884, 844, 780, 875, 780, 821, 780, 523, 698], None, None, None, None, [1379, 675, 1661, 676, 1611, 659, 1099, 845, 443, 732, 1722, 692, 467, 683, 0, 475, -1, -1, -1, -1, -1, -1, -1, -1, -1, -1, -1, -1, 1269, 651, 1395, 659, 1658, 604, 1420, 676], None, None, None, None, None, None, None, None, None, None, None, None, [251, 620, 267, 652, 227, 666, 243, 746, 307, 804, 1692, 404, -1, -1, -1, -1, 11, 635, -1, -1, -1, -1, 68, 651, 59, 763, 59, 859, 243, 611, 260, 604, -1, -1, -1, -1], None, [1747, 820, 139, 180, -1, -1, -1, -1, -1, -1, 1698, 411, -1, -1, -1, -1, 186, 498, 196, 723, 59, 852, -1, -1, 90, 765, 60, 852, 1740, 811, 1755, 812, 163, 123, 1548, 756], None, [1507, 756, 1491, 812, -1, -1, -1, -1, -1, -1, -1, -1, 275, 579, 250, 636, 189, 636, 132, 748, 348, 884, 267, 651, 268, 868, 348, 884, 1507, 746, 1524, 748, -1, -1, 1546, 771], [1747, 826, 1492, 804, 1460, 780, 202, 388, -1, -1, 1539, 828, 203, 388, -1, -1, -1, -1, 291, 868, 354, 884, 291, 652, 203, 731, 283, 836, 1741, 812, 1524, 756, 1492, 748, 1540, 772], None, None, [1500, 748, 1499, 813, 356, 532, 340, 602, 347, 643, 1547, 834, -1, -1, -1, -1, 427, 682, 443, 764, 515, 890, -1, -1, 316, 747, 290, 828, 1501, 739, 1516, 747, 964, 538, 1547, 763], [1780, 819, 1491, 804, -1, -1, 397, 619, -1, -1, 1539, 828, -1, -1, -1, -1, 419, 660, 132, 827, 524, 892, 475, 660, 467, 764, 331, 869, 1779, 810, 1788, 805, -1, -1, 1547, 756], [1787, 820, 1436, 810, 460, 562, 419, 402, 436, 404, 1531, 835, -1, -1, -1, -1, 476, 667, 475, 764, 451, 859, 540, 651, 475, 764, 452, 852, 1780, 811, 1797, 811, -1, -1, 506, 490], [1779, 820, 571, 555, 563, 556, -1, -1, -1, -1, 507, 212, -1, -1, -1, -1, 602, 651, 483, 763, 693, 867, 587, 658, 484, 764, 458, 852, 1779, 811, 1787, 811, 1163, 92, 1548, 756], [1515, 732, 1164, 140, 1131, 131, -1, -1, -1, -1, 629, 563, -1, -1, -1, -1, 546, 651, 492, 755, 453, 851, 620, 674, 516, 763, 467, 844, 1516, 723, 1533, 730, 1163, 92, 1555, 757], [1772, 843, 1491, 668, 1603, 419, 236, 732, 300, 795, 1533, 690, -1, -1, 690, 212, -1, -1, 564, 739, 716, 883, 660, 661, 651, 739, 651, 836, 1379, 629, 1787, 835, 1348, 636, 1546, 618], [1787, 821, 1659, 412, 1612, 412, 237, 732, 731, 226, 1700, 411, 611, 418, -1, -1, 667, 651, 659, 867, 707, 883, 715, 659, 644, 746, 707, 884, 1780, 810, 1796, 811, 1628, 362, 1812, 827], [1772, 844, 1436, 818, 596, 268, 243, 738, -1, -1, -1, -1, 772, 227, -1, -1, 683, 660, 644, 747, 1611, 850, 762, 666, 756, 755, 1611, 851, 1772, 835, 1787, 836, -1, -1, 1547, 762], [1788, 820, 1652, 413, 1612, 413, 691, 426, -1, -1, 1692, 411, -1, -1, -1, -1, 715, 499, 804, 771, 811, 853, -1, -1, 804, 771, 812, 851, 1780, 804, 1804, 811, -1, -1, 1547, 763], [1780, 819, 1434, 819, 1100, 764, 741, 428, 755, 427, -1, -1, -1, -1, -1, -1, 787, 652, 724, 724, 691, 796, 843, 652, 827, 764, 819, 852, 1779, 804, 1787, 804, -1, -1, 1548, 763], [1436, 748, 1427, 818, 564, 476, 787, 428, 900, 236, -1, -1, -1, -1, 893, 236, 812, 500, 851, 772, 819, 859, -1, -1, 851, 772, 827, 859, 1508, 716, 1531, 723, -1, -1, 1556, 748], None, [1781, 820, 572, 626, 1604, 411, 891, 547, -1, -1, 1698, 411, -1, -1, 980, 563, -1, -1, 996, 763, 827, 845, 980, 675, 972, 771, 1011, 845, 1780, 811, 1788, 811, 1652, 348, 1555, 748], [1781, 820, 1652, 411, 1612, 410, 931, 436, 1036, 251, 1691, 404, 1060, 539, 1035, 548, 932, 516, 995, 763, 1076, 891, 1012, 676, 1003, 763, 883, 891, 1779, 811, 642, 763, -1, -1, 1549, 755], [1780, 819, 1659, 405, 1618, 404, 971, 442, -1, -1, 595, 755, -1, -1, -1, -1, 1084, 675, 1020, 875, 1075, 891, 1076, 668, 1027, 875, 1075, 891, 1778, 804, 1788, 804, 1651, 348, 1548, 756], [1786, 820, 1370, 474, 1618, 410, 1003, 442, -1, -1, 1339, 475, -1, -1, -1, -1, 1042, 675, 1100, 763, 1100, 845, 1036, 675, 1115, 764, 1100, 852, 1780, 811, 1794, 811, 1642, 363, 1547, 755], [1501, 748, 1435, 812, 1612, 412, 1043, 450, -1, -1, 1699, 412, -1, -1, -1, -1, -1, -1, 1043, 756, 1226, 891, 1139, 539, 1029, 755, 1611, 852, 1507, 733, 1523, 747, -1, -1, 1675, 362], [1780, 820, 891, 341, 1275, 155, 1091, 451, -1, -1, 1691, 404, 1091, 451, 1203, 555, 1139, 659, 1098, 740, 1044, 812, 1196, 660, 1188, 764, 1172, 860, 1780, 811, 1523, 732, -1, -1, 1547, 755], [1755, 812, 1484, 803, 1619, 412, 1131, 452, -1, -1, 1692, 404, -1, -1, 1251, 556, -1, -1, 1164, 747, -1, -1, 1146, 516, 1197, 764, 1171, 867, 1748, 803, 668, 756, -1, -1, 1546, 763], [1748, 812, 699, 828, 1572, 684, -1, -1, -1, -1, 1685, 403, 1164, 458, -1, -1, 1236, 531, 1196, 772, 1172, 860, 1275, 675, 1276, 763, 1291, 844, 1747, 803, 1756, 803, -1, -1, 1540, 762], [636, 773, 1491, 797, 1612, 419, 1211, 459, -1, -1, 1698, 412, -1, -1, 1324, 563, 1299, 677, 1212, 764, 1348, 875, 1252, 683, 1219, 764, 1180, 844, 635, 763, 684, 755, 652, 772, 1546, 756], [1749, 819, 1491, 787, 1139, 132, 1244, 459, -1, -1, 1691, 404, -1, -1, 1363, 556, 1277, 531, 1315, 756, 1323, 850, 1340, 547, 1259, 755, 1330, 868, 1748, 804, 1124, 780, -1, -1, 1548, 748], [1780, 820, 1659, 419, 1139, 124, 1275, 459, -1, -1, 1692, 410, -1, -1, -1, -1, 1300, 532, 1316, 756, 1370, 884, 1371, 539, 1339, 763, 1331, 844, 1779, 810, 1788, 810, -1, -1, 1667, 371], [1755, 819, 1644, 412, 1588, 411, 1301, 459, -1, -1, 1699, 412, -1, -1, -1, -1, -1, -1, 1410, 764, 1461, 883, -1, -1, 1412, 770, 1412, 852, 1748, 804, 1764, 804, 1621, 354, 1243, 765], [1180, 100, 1802, 907, 1124, 140, -1, -1, -1, -1, -1, -1, 1332, 467, 1453, 556, -1, -1, 1332, 763, 1450, 860, 1348, 532, 1340, 764, 1452, 860, 1748, 804, 1195, 92, 1163, 92, -1, -1], [1755, 813, -1, -1, 1139, 131, -1, -1, -1, -1, -1, -1, 1372, 467, 1371, 884, -1, -1, 1610, 796, 1587, 836, 1483, 676, 1467, 772, 1452, 866, 1779, 803, 1780, 803, -1, -1, 1220, 763], [1788, 820, 1803, 908, 1133, 130, -1, -1, 1525, 563, -1, -1, 1404, 468, -1, -1, 1492, 555, 1605, 796, 1581, 843, 1427, 539, 1611, 797, 1459, 860, 1780, 804, 1803, 811, 244, 522, -1, -1], None, [1754, 818, 275, 588, 1131, 124, 236, 732, -1, -1, -1, -1, 1467, 467, 1588, 579, 1515, 691, 1483, 780, 1620, 884, 1563, 677, 1571, 772, 1619, 884, 1748, 804, 796, 611, 243, 524, -1, -1], [275, 172, -1, -1, 243, 211, 1500, 468, -1, -1, -1, -1, -1, -1, 1612, 572, 1580, 691, 1588, 875, 1636, 891, 1565, 692, 1588, 868, 1636, 891, 395, 579, 283, 170, -1, -1, 292, 172], [1443, 771, 1644, 292, 1571, 315, 243, 740, -1, -1, -1, -1, -1, -1, -1, -1, 1548, 539, 1556, 628, 1635, 891, 1611, 540, 1612, 627, 1629, 691, 1443, 755, 1460, 771, -1, -1, 1475, 788], [1787, 819, 1626, 300, 1604, 300, 243, 740, -1, -1, -1, -1, -1, -1, 1651, 571, 1557, 546, 1571, 765, 1676, 891, -1, -1, 1612, 779, 1675, 891, 1779, 805, 1796, 810, 244, 524, -1, -1], [995, 683, 188, 290, 490, 605, -1, -1, -1, -1, -1, -1, -1, -1, 1668, 579, 1603, 691, 1580, 764, 1573, 845, 1619, 692, 1588, 771, 1580, 845, 980, 675, 195, 211, 243, 523, 219, 226], None, [180, 219, 1700, 452, 1731, 450, -1, -1, -1, -1, 1635, 492, -1, -1, -1, -1, 1683, 684, 1675, 779, 1660, 867, 1732, 684, 1716, 778, 1668, 869, 179, 204, 195, 211, 164, 204, -1, -1], None, None, [1739, 828, 1388, 747, 1340, 715, 1099, 868, 386, 747, 1747, 459, 1747, 499, 1868, 539, -1, -1, 1899, 413, -1, -1, 1724, 524, -1, -1, -1, -1, 1739, 812, 1397, 668, -1, -1, 1420, 684], None, [1283, 668, 467, 699, 132, 804, 1859, 492, 1836, 548, 500, 707, -1, -1, -1, -1, 1860, 564, 1180, 876, -1, -1, -1, -1, -1, -1, -1, -1, 139, 763, 1299, 651, 1260, 659, 1667, 618], [1380, 715, 779, 677, 755, 677, 730, 723, 1884, 931, -1, -1, -1, -1, 1917, 940, 1853, 571, -1, -1, 1868, 940, 787, 772, -1, -1, -1, -1, 452, 652, 1396, 708, 1219, 115, 1428, 716], None, [348, 708, 771, 771, 723, 755, 1100, 867, -1, -1, 1771, 739, -1, -1, 1908, 940, 1892, 716, 1867, 796, 1899, 915, -1, -1, -1, -1, 1875, 900, 347, 699, 364, 700, 194, 492, 1684, 228], [1371, 659, 1596, 739, 1330, 691, 1100, 867, 1876, 939, -1, -1, -1, -1, 1917, 940, 1787, 581, 1901, 868, 1890, 924, 1844, 571, -1, -1, 1716, 923, 1371, 643, 1380, 644, 875, 100, 1660, 683], None, [1371, 652, 260, 645, 220, 644, 1099, 866, -1, -1, 483, 779, 1835, 387, 1794, 562, -1, -1, 1717, 780, 1714, 891, -1, -1, 1692, 788, 1876, 930, 1365, 643, 268, 595, 244, 596, 283, 603], [1564, 514, 1714, 267, 1483, 554, 1107, 868, -1, -1, 1764, 244, 1787, 387, 1628, 563, 1708, 555, 1693, 788, 1707, 891, 1755, 715, 1819, 836, 1706, 885, 1562, 500, 1572, 506, -1, -1, -1, -1], [747, 708, 453, 692, 419, 691, 1093, 867, 1572, 564, -1, -1, 1747, 380, 1699, 547, -1, -1, -1, -1, -1, -1, -1, -1, 1682, 740, 1706, 899, 747, 699, 778, 700, 156, 635, 1428, 716], [146, 756, 476, 651, 940, 779, 1098, 866, 1555, 555, 444, 643, 411, 692, 1682, 515, -1, -1, 1604, 882, 1587, 923, -1, -1, 1691, 805, 1707, 884, 140, 747, 1372, 660, 716, 492, 1396, 668], [1380, 707, 469, 644, 444, 642, 1099, 867, -1, -1, -1, -1, -1, -1, -1, -1, -1, -1, 1588, 891, 1562, 939, -1, -1, 1676, 836, 1667, 915, 1381, 692, 1395, 699, 1235, 660, 1419, 715], [1371, 659, 1323, 701, 858, 691, -1, -1, -1, -1, 451, 637, 411, 700, 380, 748, -1, -1, 1516, 707, 1588, 901, 420, 764, -1, -1, 1589, 907, 1332, 637, 1379, 651, -1, -1, 1283, 547], [1364, 660, 1739, 700, 1693, 692, 1100, 867, -1, -1, 1786, 707, 1588, 388, -1, -1, 1484, 675, 1498, 794, 1492, 876, -1, -1, 1492, 795, 1588, 907, 1356, 644, 1379, 652, 1332, 644, 1395, 660], [1347, 547, 483, 643, 1011, 788, 1100, 867, -1, -1, 452, 635, 412, 699, 386, 740, 491, 772, 1403, 923, 1580, 908, 429, 763, 1427, 780, 1588, 907, 436, 531, 1356, 532, 1331, 539, 1372, 541], [964, 707, 797, 674, 851, 708, 1099, 867, 1427, 220, -1, -1, -1, -1, -1, -1, -1, -1, 1187, 875, 1380, 890, -1, -1, 1379, 786, 1580, 907, 956, 692, 452, 683, 796, 627, 483, 700], [236, 715, 196, 644, 1019, 787, 1100, 867, 1373, 219, 219, 770, -1, -1, 1356, 683, 1372, 700, 1372, 787, 1380, 891, 1428, 692, 1507, 828, 1524, 867, 228, 707, 453, 658, 213, 709, 476, 660], [444, 675, 460, 715, 940, 779, 1099, 867, 1340, 213, 499, 731, 1420, 372, -1, -1, 1308, 412, 1315, 579, 1387, 891, -1, -1, 1356, 693, 1266, 562, 1077, 530, 459, 667, 195, 468, 1660, 619], [827, 836, 476, 643, 940, 773, -1, -1, 1236, 539, 445, 636, 419, 684, 1242, 539, -1, -1, 1284, 835, 1266, 900, -1, -1, 1372, 803, 1380, 891, 812, 820, 843, 827, 795, 820, 1778, 828], [1676, 772, 868, 706, 940, 780, 387, 740, -1, -1, 506, 723, 476, 796, -1, -1, -1, -1, 1252, 811, 1244, 901, 1309, 707, 1341, 786, 1339, 923, 1675, 763, 1698, 763, 436, 660, 1717, 770], [1692, 780, 868, 714, 892, 715, -1, -1, -1, -1, 500, 723, 818, 747, -1, -1, -1, -1, 1268, 770, 1324, 851, -1, -1, 1236, 772, 1188, 949, 139, 764, 1714, 765, 1395, 547, 1732, 772], [229, 699, 877, 707, 851, 699, -1, -1, -1, -1, 450, 636, 412, 692, -1, -1, -1, -1, 1148, 795, 1077, 931, -1, -1, 1156, 796, 1076, 930, 219, 684, 236, 683, 187, 692, 930, 659], [1699, 612, 483, 637, 132, 804, 787, 611, -1, -1, 451, 636, -1, -1, -1, -1, 803, 636, 1083, 786, 1236, 908, 963, 756, 1075, 780, 1243, 908, 1692, 603, 348, 683, 1682, 604, 356, 685], [1748, 795, 1372, 738, 610, 715, 836, 717, -1, -1, 1436, 748, -1, -1, 819, 755, 851, 756, 1051, 931, 1229, 898, 868, 763, 1052, 931, 1236, 899, 1740, 779, 1763, 786, 1660, 732, 580, 540], [1372, 715, 851, 412, 810, 413, 803, 476, -1, -1, 891, 405, 1107, 364, 1004, 675, 826, 524, 1035, 797, 1163, 932, 883, 516, 1171, 835, 1164, 938, 188, 732, 1388, 707, 915, 724, 1435, 715], [844, 803, 435, 668, 428, 668, 419, 683, 412, 693, 436, 675, 428, 691, -1, -1, 413, 699, 1052, 923, 1036, 899, 419, 700, 403, 723, 979, 939, 835, 788, 858, 789, 437, 659, 914, 331], [1668, 779, 1381, 732, 515, 650, -1, -1, 947, 195, 452, 636, 412, 699, 387, 748, 900, 483, 1044, 924, 979, 931, 428, 763, 1051, 924, 979, 931, 1660, 764, 1683, 764, 1483, 524, 460, 588], [197, 732, 187, 795, 1164, 685, -1, -1, -1, -1, 235, 773, -1, -1, -1, -1, 843, 500, 884, 835, 980, 925, 956, 691, 995, 794, 987, 924, 180, 724, 563, 666, 163, 740, 1188, 219], [195, 740, 620, 772, 156, 779, -1, -1, -1, -1, 1436, 787, -1, -1, -1, -1, 1203, 387, 956, 828, 954, 907, 1236, 388, -1, -1, 811, 948, 180, 739, 196, 732, 171, 740, 204, 739], [1171, 724, 1348, 611, 220, 636, -1, -1, -1, -1, 1451, 795, -1, -1, -1, -1, 771, 659, 796, 772, 739, 930, -1, -1, 852, 746, 740, 925, 1141, 707, 1178, 709, 580, 707, 1188, 715], [195, 740, 476, 643, 452, 635, 419, 692, 388, 739, 460, 636, 420, 691, -1, -1, 940, 763, 730, 779, 868, 907, 740, 667, 717, 779, 876, 907, 187, 732, 379, 708, 348, 699, 1420, 715], [1740, 827, 156, 803, 124, 804, -1, -1, -1, -1, 1372, 580, -1, -1, -1, -1, -1, -1, 1093, 867, 811, 948, -1, -1, 1099, 867, 811, 949, 1739, 804, 1763, 819, 210, 739, 1772, 835], [1723, 771, 195, 781, 155, 795, -1, -1, -1, -1, 949, 779, 418, 690, -1, -1, -1, -1, 707, 923, 636, 923, 755, 508, 707, 923, 636, 923, 172, 732, 195, 732, 163, 741, 204, 739]]\n",
            "[[1892, 914, 1379, 755, 1644, 467, 1875, 868, 1834, 891, 1828, 308, 1875, 875, 1827, 891, -1, -1, -1, -1, -1, -1, -1, -1, -1, -1, -1, -1, 1708, 803, 1724, 804, 1668, 411, 533, 692], [1373, 667, 1788, 557, 1740, 155, -1, -1, -1, -1, 1652, 189, -1, -1, 1868, 523, 138, 746, 139, 803, 131, 851, 140, 747, 139, 803, 1763, 891, 1364, 651, 1139, 540, 1475, 644, 1636, 460], [1380, 676, 1612, 660, -1, -1, 1107, 850, -1, -1, 131, 747, 1868, 411, 1812, 524, 1739, 676, 1747, 779, 1667, 891, -1, -1, 1716, 869, 1660, 891, 1379, 660, 1619, 604, -1, -1, 1636, 618], [1380, 676, 1772, 283, 1731, 283, 1100, 850, -1, -1, 1820, 283, 1836, 410, 1780, 531, 1708, 676, 1700, 787, 1660, 891, -1, -1, 1699, 788, 1659, 892, 1371, 660, 1394, 660, -1, -1, 1810, 212], [1644, 525, 1708, 556, 1684, 292, -1, -1, -1, -1, 1674, 556, 1812, 396, 1779, 523, 1724, 684, 1699, 787, 1659, 892, 1676, 675, 1724, 891, 1659, 892, 1372, 652, 1651, 522, -1, -1, 1764, 213], [1379, 682, 1699, 284, 1652, 292, 1107, 851, -1, -1, 1748, 283, 1733, 652, 1771, 516, 1661, 674, -1, -1, -1, -1, 1700, 675, 1731, 893, 1724, 876, 1356, 645, 1395, 668, 1499, 499, 1413, 676], [1380, 676, 1140, 629, 1676, 610, -1, -1, -1, -1, 1715, 635, 1588, 588, 1731, 524, 1637, 690, 1635, 820, 1611, 898, 1691, 693, 1730, 892, 1716, 860, 1379, 659, 1396, 667, 1723, 572, 1419, 683], [1363, 675, 1629, 276, 140, 754, -1, -1, -1, -1, 1772, 515, 1700, 394, 1676, 515, -1, -1, 1627, 706, 1676, 867, -1, -1, 1604, 700, 1676, 866, 1363, 659, 1380, 666, -1, -1, 1404, 675], [1357, 660, 1588, 268, 1756, 453, 1107, 851, -1, -1, 1645, 275, 1660, 389, 1619, 500, 1539, 667, 1556, 772, 1540, 890, 1619, 907, 1628, 836, 1556, 908, 1356, 651, 1371, 652, 1763, 620, -1, -1], [1755, 700, 1613, 867, 139, 749, 1108, 851, -1, -1, 1619, 874, 1619, 388, 1556, 909, 1499, 668, 1483, 771, 1419, 884, -1, -1, 1484, 891, 1556, 915, 1747, 692, 1396, 637, 1356, 643, -1, -1], [1244, 660, 1644, 652, 133, 749, 1100, 850, 1186, 852, 1619, 651, 1580, 394, 1405, 893, 1461, 669, 1620, 877, 1564, 915, 1533, 691, 1627, 883, 1563, 915, 1362, 650, 1730, 804, 1644, 612, -1, -1], [1716, 818, 1589, 587, 1549, 580, -1, -1, -1, -1, 1636, 588, 1547, 388, 1484, 899, -1, -1, 1459, 876, 1410, 898, -1, -1, 1460, 883, 1404, 898, 1708, 796, 1732, 804, -1, -1, 1763, 563], [226, 748, 1619, 556, 1571, 539, 1107, 851, -1, -1, 1675, 578, 1508, 386, 1491, 508, 1427, 674, 1388, 884, 1466, 876, 1387, 652, 1378, 741, 1316, 908, 220, 739, 1772, 651, 1635, 484, 1787, 659], [1644, 739, 1523, 604, 1619, 780, 1108, 851, -1, -1, 1572, 611, 1459, 388, 1436, 515, 1348, 661, 1348, 892, 1277, 916, 1411, 675, 1476, 890, 1283, 915, 1643, 724, 1653, 731, 1629, 731, 1781, 708], [476, 701, 1587, 612, 803, 643, 1100, 850, -1, -1, 299, 635, 764, 708, -1, -1, 1300, 667, -1, -1, 1403, 843, 1339, 676, -1, -1, -1, -1, 843, 804, 1764, 370, 1507, 259, 1660, 252], [1539, 652, 212, 235, 139, 755, 1100, 844, -1, -1, 1675, 690, -1, -1, -1, -1, 1349, 900, 1251, 772, -1, -1, 1339, 900, 1226, 883, 1187, 892, 860, 779, 1819, 404, 835, 779, -1, -1], [1747, 643, 1275, 252, 1475, 675, -1, -1, -1, -1, 1307, 252, -1, -1, -1, -1, -1, -1, 1284, 700, 1179, 875, -1, -1, 1347, 900, 1283, 915, 1642, 732, 1716, 532, 1108, 421, 884, 373], [1356, 660, 1540, 476, 1477, 469, 1099, 844, -1, -1, 1268, 603, -1, -1, -1, -1, 1172, 675, 1172, 788, 1283, 914, 1227, 684, 1332, 860, 1283, 915, 1341, 644, 1371, 645, 1642, 619, 1395, 658], [1635, 508, 1195, 251, 1043, 740, 1099, 843, -1, -1, 1226, 251, 1236, 371, 1172, 900, -1, -1, 1250, 851, 1116, 900, -1, -1, 1187, 866, 1115, 899, 1515, 636, 211, 460, -1, -1, 1188, 172], [260, 732, 524, 636, 140, 756, 1188, 898, -1, -1, 499, 635, 1187, 643, 1162, 659, 1098, 668, 1084, 892, -1, -1, 1147, 676, 1163, 788, -1, -1, 252, 723, 1716, 699, 1571, 100, 1618, 540], [242, 746, 1093, 604, 186, 772, -1, -1, -1, -1, 1132, 604, 1155, 643, -1, -1, 1058, 676, 1060, 762, -1, -1, 1123, 683, 1187, 892, 987, 908, 235, 732, 1115, 547, 1076, 555, 796, 466], [1659, 747, 1763, 651, 1620, 787, 467, 684, 1019, 684, 1780, 652, 1163, 843, 1108, 883, 1020, 682, 1051, 899, 979, 914, 1066, 683, 1116, 787, 1155, 836, 1645, 738, 1779, 603, 1629, 740, 1788, 610], [1603, 651, 588, 635, 508, 628, 468, 683, -1, -1, 1068, 803, 1075, 843, 1027, 843, 1020, 861, 987, 860, 933, 891, 1052, 884, 988, 860, 939, 890, 1292, 531, 1612, 643, 186, 179, -1, -1], [1331, 548, 1043, 804, 1026, 805, 1013, 844, 1050, 836, 1066, 803, 1068, 837, 1029, 842, 1036, 885, 988, 915, 972, 915, 1060, 885, 907, 772, 836, 890, 1101, 691, 1340, 540, 1091, 533, 1355, 547], [228, 741, 819, 666, 795, 660, -1, -1, -1, -1, 1669, 300, -1, -1, -1, -1, -1, -1, 1035, 845, 980, 908, -1, -1, 901, 884, 980, 908, 221, 732, 1596, 516, 1733, 331, 1659, 251], [228, 748, 883, 756, 155, 235, 860, 235, 827, 228, 532, 755, 915, 795, -1, -1, 891, 844, 907, 899, 835, 899, 907, 843, 908, 899, 828, 898, 220, 740, 229, 739, 1572, 523, 1412, 658], [1363, 659, 1667, 667, 1635, 651, 1100, 850, 443, 730, 1621, 603, 883, 643, 781, 228, 771, 684, 738, 890, -1, -1, 866, 692, 748, 892, 827, 893, 1363, 651, 1580, 651, 797, 548, 1612, 539], [1378, 676, 1611, 675, 1580, 660, 1100, 851, -1, -1, 1443, 779, -1, -1, -1, -1, 730, 692, 739, 892, 644, 908, 797, 675, 877, 860, 650, 908, 1364, 652, 1396, 667, 739, 563, 1413, 685], [1786, 811, 1146, 603, 1037, 772, 1107, 851, 1187, 852, 1650, 597, -1, -1, -1, -1, -1, -1, -1, -1, 644, 914, -1, -1, -1, -1, 651, 908, 1364, 651, 1387, 653, 180, 172, 1659, 533], [876, 794, 1388, 772, 876, 700, 1100, 845, -1, -1, 1444, 780, -1, -1, -1, -1, 619, 659, 605, 755, 540, 882, 691, 699, 604, 883, 539, 882, 866, 779, 884, 780, 836, 795, 1412, 707], [252, 740, 1387, 284, 1349, 291, 1106, 851, -1, -1, 284, 756, -1, -1, -1, -1, 572, 652, 557, 884, 499, 891, -1, -1, -1, -1, 498, 891, 1692, 700, 748, 627, 1348, 251, 1637, 612], [348, 724, 346, 780, 285, 763, 1100, 845, -1, -1, 1660, 692, -1, -1, 619, 892, 533, 308, 667, 820, 492, 892, 602, 340, 564, 884, 492, 892, 348, 707, 387, 716, 332, 716, 1395, 660], [898, 669, 484, 579, 453, 580, 1107, 850, 506, 819, -1, -1, -1, -1, 515, 476, 492, 860, 564, 891, -1, -1, 539, 852, 419, 907, -1, -1, 892, 660, 901, 660, 971, 235, 1411, 676], [852, 819, 1140, 604, 764, 851, 1107, 851, 1179, 860, -1, -1, -1, -1, -1, -1, 146, 741, 554, 877, 307, 900, 141, 746, 396, 891, 301, 900, 851, 789, 1708, 715, 828, 794, 1412, 675], [787, 708, 1572, 796, 763, 733, 1107, 851, 357, 667, -1, -1, 476, 596, 379, 275, 372, 676, 379, 891, 492, 890, 420, 667, 395, 892, 307, 907, 786, 693, 804, 699, 356, 555, 820, 707], [211, 764, 1372, 724, 124, 835, 1108, 851, 394, 843, 1612, 603, -1, -1, -1, -1, -1, -1, 380, 892, 300, 908, -1, -1, 403, 899, 301, 908, 202, 747, 227, 741, 1571, 523, 1412, 674], [852, 819, 346, 220, 467, 180, 1107, 851, -1, -1, -1, -1, -1, -1, 235, 508, 338, 684, 388, 890, 196, 868, 276, 652, 395, 891, 307, 907, 1701, 803, 1724, 803, 1788, 411, 1411, 701], [1707, 700, 1196, 564, 963, 764, 1100, 844, 212, 507, 539, 764, -1, -1, 307, 908, -1, -1, -1, -1, 179, 885, -1, -1, 243, 877, 179, 884, 482, 691, 1371, 645, 467, 692, 1643, 604], [1260, 659, 275, 219, 363, 554, 1106, 851, -1, -1, 269, 220, 315, 827, 259, 876, 227, 779, 235, 868, 180, 884, -1, -1, -1, -1, -1, -1, 1252, 645, 1276, 650, -1, -1, 1754, 483], [1700, 716, 1379, 723, 964, 762, 1099, 845, 180, 826, 1195, 571, -1, -1, 196, 483, 155, 867, -1, -1, -1, -1, -1, -1, 250, 885, -1, -1, 1699, 708, 1714, 715, 1124, 541, 1724, 723], [477, 700, 499, 755, 460, 733, 1100, 850, -1, -1, 539, 763, 196, 356, 156, 469, -1, -1, 228, 875, 189, 884, -1, -1, 251, 884, 186, 884, 476, 691, 1714, 659, 467, 693, 1738, 666], [852, 804, 845, 859, 763, 828, 1100, 845, -1, -1, 532, 764, 268, 595, -1, -1, -1, -1, 227, 852, 187, 884, -1, -1, 251, 867, 186, 884, 844, 780, 875, 780, 821, 780, 523, 698], [1379, 675, 1661, 676, 1611, 659, 1099, 845, 443, 732, 1722, 692, 467, 683, 0, 475, -1, -1, -1, -1, -1, -1, -1, -1, -1, -1, -1, -1, 1269, 651, 1395, 659, 1658, 604, 1420, 676], [251, 620, 267, 652, 227, 666, 243, 746, 307, 804, 1692, 404, -1, -1, -1, -1, 11, 635, -1, -1, -1, -1, 68, 651, 59, 763, 59, 859, 243, 611, 260, 604, -1, -1, -1, -1], [1747, 820, 139, 180, -1, -1, -1, -1, -1, -1, 1698, 411, -1, -1, -1, -1, 186, 498, 196, 723, 59, 852, -1, -1, 90, 765, 60, 852, 1740, 811, 1755, 812, 163, 123, 1548, 756], [1507, 756, 1491, 812, -1, -1, -1, -1, -1, -1, -1, -1, 275, 579, 250, 636, 189, 636, 132, 748, 348, 884, 267, 651, 268, 868, 348, 884, 1507, 746, 1524, 748, -1, -1, 1546, 771], [1747, 826, 1492, 804, 1460, 780, 202, 388, -1, -1, 1539, 828, 203, 388, -1, -1, -1, -1, 291, 868, 354, 884, 291, 652, 203, 731, 283, 836, 1741, 812, 1524, 756, 1492, 748, 1540, 772], [1500, 748, 1499, 813, 356, 532, 340, 602, 347, 643, 1547, 834, -1, -1, -1, -1, 427, 682, 443, 764, 515, 890, -1, -1, 316, 747, 290, 828, 1501, 739, 1516, 747, 964, 538, 1547, 763], [1780, 819, 1491, 804, -1, -1, 397, 619, -1, -1, 1539, 828, -1, -1, -1, -1, 419, 660, 132, 827, 524, 892, 475, 660, 467, 764, 331, 869, 1779, 810, 1788, 805, -1, -1, 1547, 756], [1787, 820, 1436, 810, 460, 562, 419, 402, 436, 404, 1531, 835, -1, -1, -1, -1, 476, 667, 475, 764, 451, 859, 540, 651, 475, 764, 452, 852, 1780, 811, 1797, 811, -1, -1, 506, 490], [1779, 820, 571, 555, 563, 556, -1, -1, -1, -1, 507, 212, -1, -1, -1, -1, 602, 651, 483, 763, 693, 867, 587, 658, 484, 764, 458, 852, 1779, 811, 1787, 811, 1163, 92, 1548, 756], [1515, 732, 1164, 140, 1131, 131, -1, -1, -1, -1, 629, 563, -1, -1, -1, -1, 546, 651, 492, 755, 453, 851, 620, 674, 516, 763, 467, 844, 1516, 723, 1533, 730, 1163, 92, 1555, 757], [1772, 843, 1491, 668, 1603, 419, 236, 732, 300, 795, 1533, 690, -1, -1, 690, 212, -1, -1, 564, 739, 716, 883, 660, 661, 651, 739, 651, 836, 1379, 629, 1787, 835, 1348, 636, 1546, 618], [1787, 821, 1659, 412, 1612, 412, 237, 732, 731, 226, 1700, 411, 611, 418, -1, -1, 667, 651, 659, 867, 707, 883, 715, 659, 644, 746, 707, 884, 1780, 810, 1796, 811, 1628, 362, 1812, 827], [1772, 844, 1436, 818, 596, 268, 243, 738, -1, -1, -1, -1, 772, 227, -1, -1, 683, 660, 644, 747, 1611, 850, 762, 666, 756, 755, 1611, 851, 1772, 835, 1787, 836, -1, -1, 1547, 762], [1788, 820, 1652, 413, 1612, 413, 691, 426, -1, -1, 1692, 411, -1, -1, -1, -1, 715, 499, 804, 771, 811, 853, -1, -1, 804, 771, 812, 851, 1780, 804, 1804, 811, -1, -1, 1547, 763], [1780, 819, 1434, 819, 1100, 764, 741, 428, 755, 427, -1, -1, -1, -1, -1, -1, 787, 652, 724, 724, 691, 796, 843, 652, 827, 764, 819, 852, 1779, 804, 1787, 804, -1, -1, 1548, 763], [1436, 748, 1427, 818, 564, 476, 787, 428, 900, 236, -1, -1, -1, -1, 893, 236, 812, 500, 851, 772, 819, 859, -1, -1, 851, 772, 827, 859, 1508, 716, 1531, 723, -1, -1, 1556, 748], [1781, 820, 572, 626, 1604, 411, 891, 547, -1, -1, 1698, 411, -1, -1, 980, 563, -1, -1, 996, 763, 827, 845, 980, 675, 972, 771, 1011, 845, 1780, 811, 1788, 811, 1652, 348, 1555, 748], [1781, 820, 1652, 411, 1612, 410, 931, 436, 1036, 251, 1691, 404, 1060, 539, 1035, 548, 932, 516, 995, 763, 1076, 891, 1012, 676, 1003, 763, 883, 891, 1779, 811, 642, 763, -1, -1, 1549, 755], [1780, 819, 1659, 405, 1618, 404, 971, 442, -1, -1, 595, 755, -1, -1, -1, -1, 1084, 675, 1020, 875, 1075, 891, 1076, 668, 1027, 875, 1075, 891, 1778, 804, 1788, 804, 1651, 348, 1548, 756], [1786, 820, 1370, 474, 1618, 410, 1003, 442, -1, -1, 1339, 475, -1, -1, -1, -1, 1042, 675, 1100, 763, 1100, 845, 1036, 675, 1115, 764, 1100, 852, 1780, 811, 1794, 811, 1642, 363, 1547, 755], [1501, 748, 1435, 812, 1612, 412, 1043, 450, -1, -1, 1699, 412, -1, -1, -1, -1, -1, -1, 1043, 756, 1226, 891, 1139, 539, 1029, 755, 1611, 852, 1507, 733, 1523, 747, -1, -1, 1675, 362], [1780, 820, 891, 341, 1275, 155, 1091, 451, -1, -1, 1691, 404, 1091, 451, 1203, 555, 1139, 659, 1098, 740, 1044, 812, 1196, 660, 1188, 764, 1172, 860, 1780, 811, 1523, 732, -1, -1, 1547, 755], [1755, 812, 1484, 803, 1619, 412, 1131, 452, -1, -1, 1692, 404, -1, -1, 1251, 556, -1, -1, 1164, 747, -1, -1, 1146, 516, 1197, 764, 1171, 867, 1748, 803, 668, 756, -1, -1, 1546, 763], [1748, 812, 699, 828, 1572, 684, -1, -1, -1, -1, 1685, 403, 1164, 458, -1, -1, 1236, 531, 1196, 772, 1172, 860, 1275, 675, 1276, 763, 1291, 844, 1747, 803, 1756, 803, -1, -1, 1540, 762], [636, 773, 1491, 797, 1612, 419, 1211, 459, -1, -1, 1698, 412, -1, -1, 1324, 563, 1299, 677, 1212, 764, 1348, 875, 1252, 683, 1219, 764, 1180, 844, 635, 763, 684, 755, 652, 772, 1546, 756], [1749, 819, 1491, 787, 1139, 132, 1244, 459, -1, -1, 1691, 404, -1, -1, 1363, 556, 1277, 531, 1315, 756, 1323, 850, 1340, 547, 1259, 755, 1330, 868, 1748, 804, 1124, 780, -1, -1, 1548, 748], [1780, 820, 1659, 419, 1139, 124, 1275, 459, -1, -1, 1692, 410, -1, -1, -1, -1, 1300, 532, 1316, 756, 1370, 884, 1371, 539, 1339, 763, 1331, 844, 1779, 810, 1788, 810, -1, -1, 1667, 371], [1755, 819, 1644, 412, 1588, 411, 1301, 459, -1, -1, 1699, 412, -1, -1, -1, -1, -1, -1, 1410, 764, 1461, 883, -1, -1, 1412, 770, 1412, 852, 1748, 804, 1764, 804, 1621, 354, 1243, 765], [1180, 100, 1802, 907, 1124, 140, -1, -1, -1, -1, -1, -1, 1332, 467, 1453, 556, -1, -1, 1332, 763, 1450, 860, 1348, 532, 1340, 764, 1452, 860, 1748, 804, 1195, 92, 1163, 92, -1, -1], [1755, 813, -1, -1, 1139, 131, -1, -1, -1, -1, -1, -1, 1372, 467, 1371, 884, -1, -1, 1610, 796, 1587, 836, 1483, 676, 1467, 772, 1452, 866, 1779, 803, 1780, 803, -1, -1, 1220, 763], [1788, 820, 1803, 908, 1133, 130, -1, -1, 1525, 563, -1, -1, 1404, 468, -1, -1, 1492, 555, 1605, 796, 1581, 843, 1427, 539, 1611, 797, 1459, 860, 1780, 804, 1803, 811, 244, 522, -1, -1], [1754, 818, 275, 588, 1131, 124, 236, 732, -1, -1, -1, -1, 1467, 467, 1588, 579, 1515, 691, 1483, 780, 1620, 884, 1563, 677, 1571, 772, 1619, 884, 1748, 804, 796, 611, 243, 524, -1, -1], [275, 172, -1, -1, 243, 211, 1500, 468, -1, -1, -1, -1, -1, -1, 1612, 572, 1580, 691, 1588, 875, 1636, 891, 1565, 692, 1588, 868, 1636, 891, 395, 579, 283, 170, -1, -1, 292, 172], [1443, 771, 1644, 292, 1571, 315, 243, 740, -1, -1, -1, -1, -1, -1, -1, -1, 1548, 539, 1556, 628, 1635, 891, 1611, 540, 1612, 627, 1629, 691, 1443, 755, 1460, 771, -1, -1, 1475, 788], [1787, 819, 1626, 300, 1604, 300, 243, 740, -1, -1, -1, -1, -1, -1, 1651, 571, 1557, 546, 1571, 765, 1676, 891, -1, -1, 1612, 779, 1675, 891, 1779, 805, 1796, 810, 244, 524, -1, -1], [995, 683, 188, 290, 490, 605, -1, -1, -1, -1, -1, -1, -1, -1, 1668, 579, 1603, 691, 1580, 764, 1573, 845, 1619, 692, 1588, 771, 1580, 845, 980, 675, 195, 211, 243, 523, 219, 226], [180, 219, 1700, 452, 1731, 450, -1, -1, -1, -1, 1635, 492, -1, -1, -1, -1, 1683, 684, 1675, 779, 1660, 867, 1732, 684, 1716, 778, 1668, 869, 179, 204, 195, 211, 164, 204, -1, -1], [1739, 828, 1388, 747, 1340, 715, 1099, 868, 386, 747, 1747, 459, 1747, 499, 1868, 539, -1, -1, 1899, 413, -1, -1, 1724, 524, -1, -1, -1, -1, 1739, 812, 1397, 668, -1, -1, 1420, 684], [1283, 668, 467, 699, 132, 804, 1859, 492, 1836, 548, 500, 707, -1, -1, -1, -1, 1860, 564, 1180, 876, -1, -1, -1, -1, -1, -1, -1, -1, 139, 763, 1299, 651, 1260, 659, 1667, 618], [1380, 715, 779, 677, 755, 677, 730, 723, 1884, 931, -1, -1, -1, -1, 1917, 940, 1853, 571, -1, -1, 1868, 940, 787, 772, -1, -1, -1, -1, 452, 652, 1396, 708, 1219, 115, 1428, 716], [348, 708, 771, 771, 723, 755, 1100, 867, -1, -1, 1771, 739, -1, -1, 1908, 940, 1892, 716, 1867, 796, 1899, 915, -1, -1, -1, -1, 1875, 900, 347, 699, 364, 700, 194, 492, 1684, 228], [1371, 659, 1596, 739, 1330, 691, 1100, 867, 1876, 939, -1, -1, -1, -1, 1917, 940, 1787, 581, 1901, 868, 1890, 924, 1844, 571, -1, -1, 1716, 923, 1371, 643, 1380, 644, 875, 100, 1660, 683], [1371, 652, 260, 645, 220, 644, 1099, 866, -1, -1, 483, 779, 1835, 387, 1794, 562, -1, -1, 1717, 780, 1714, 891, -1, -1, 1692, 788, 1876, 930, 1365, 643, 268, 595, 244, 596, 283, 603], [1564, 514, 1714, 267, 1483, 554, 1107, 868, -1, -1, 1764, 244, 1787, 387, 1628, 563, 1708, 555, 1693, 788, 1707, 891, 1755, 715, 1819, 836, 1706, 885, 1562, 500, 1572, 506, -1, -1, -1, -1], [747, 708, 453, 692, 419, 691, 1093, 867, 1572, 564, -1, -1, 1747, 380, 1699, 547, -1, -1, -1, -1, -1, -1, -1, -1, 1682, 740, 1706, 899, 747, 699, 778, 700, 156, 635, 1428, 716], [146, 756, 476, 651, 940, 779, 1098, 866, 1555, 555, 444, 643, 411, 692, 1682, 515, -1, -1, 1604, 882, 1587, 923, -1, -1, 1691, 805, 1707, 884, 140, 747, 1372, 660, 716, 492, 1396, 668], [1380, 707, 469, 644, 444, 642, 1099, 867, -1, -1, -1, -1, -1, -1, -1, -1, -1, -1, 1588, 891, 1562, 939, -1, -1, 1676, 836, 1667, 915, 1381, 692, 1395, 699, 1235, 660, 1419, 715], [1371, 659, 1323, 701, 858, 691, -1, -1, -1, -1, 451, 637, 411, 700, 380, 748, -1, -1, 1516, 707, 1588, 901, 420, 764, -1, -1, 1589, 907, 1332, 637, 1379, 651, -1, -1, 1283, 547], [1364, 660, 1739, 700, 1693, 692, 1100, 867, -1, -1, 1786, 707, 1588, 388, -1, -1, 1484, 675, 1498, 794, 1492, 876, -1, -1, 1492, 795, 1588, 907, 1356, 644, 1379, 652, 1332, 644, 1395, 660], [1347, 547, 483, 643, 1011, 788, 1100, 867, -1, -1, 452, 635, 412, 699, 386, 740, 491, 772, 1403, 923, 1580, 908, 429, 763, 1427, 780, 1588, 907, 436, 531, 1356, 532, 1331, 539, 1372, 541], [964, 707, 797, 674, 851, 708, 1099, 867, 1427, 220, -1, -1, -1, -1, -1, -1, -1, -1, 1187, 875, 1380, 890, -1, -1, 1379, 786, 1580, 907, 956, 692, 452, 683, 796, 627, 483, 700], [236, 715, 196, 644, 1019, 787, 1100, 867, 1373, 219, 219, 770, -1, -1, 1356, 683, 1372, 700, 1372, 787, 1380, 891, 1428, 692, 1507, 828, 1524, 867, 228, 707, 453, 658, 213, 709, 476, 660], [444, 675, 460, 715, 940, 779, 1099, 867, 1340, 213, 499, 731, 1420, 372, -1, -1, 1308, 412, 1315, 579, 1387, 891, -1, -1, 1356, 693, 1266, 562, 1077, 530, 459, 667, 195, 468, 1660, 619], [827, 836, 476, 643, 940, 773, -1, -1, 1236, 539, 445, 636, 419, 684, 1242, 539, -1, -1, 1284, 835, 1266, 900, -1, -1, 1372, 803, 1380, 891, 812, 820, 843, 827, 795, 820, 1778, 828], [1676, 772, 868, 706, 940, 780, 387, 740, -1, -1, 506, 723, 476, 796, -1, -1, -1, -1, 1252, 811, 1244, 901, 1309, 707, 1341, 786, 1339, 923, 1675, 763, 1698, 763, 436, 660, 1717, 770], [1692, 780, 868, 714, 892, 715, -1, -1, -1, -1, 500, 723, 818, 747, -1, -1, -1, -1, 1268, 770, 1324, 851, -1, -1, 1236, 772, 1188, 949, 139, 764, 1714, 765, 1395, 547, 1732, 772], [229, 699, 877, 707, 851, 699, -1, -1, -1, -1, 450, 636, 412, 692, -1, -1, -1, -1, 1148, 795, 1077, 931, -1, -1, 1156, 796, 1076, 930, 219, 684, 236, 683, 187, 692, 930, 659], [1699, 612, 483, 637, 132, 804, 787, 611, -1, -1, 451, 636, -1, -1, -1, -1, 803, 636, 1083, 786, 1236, 908, 963, 756, 1075, 780, 1243, 908, 1692, 603, 348, 683, 1682, 604, 356, 685], [1748, 795, 1372, 738, 610, 715, 836, 717, -1, -1, 1436, 748, -1, -1, 819, 755, 851, 756, 1051, 931, 1229, 898, 868, 763, 1052, 931, 1236, 899, 1740, 779, 1763, 786, 1660, 732, 580, 540], [1372, 715, 851, 412, 810, 413, 803, 476, -1, -1, 891, 405, 1107, 364, 1004, 675, 826, 524, 1035, 797, 1163, 932, 883, 516, 1171, 835, 1164, 938, 188, 732, 1388, 707, 915, 724, 1435, 715], [844, 803, 435, 668, 428, 668, 419, 683, 412, 693, 436, 675, 428, 691, -1, -1, 413, 699, 1052, 923, 1036, 899, 419, 700, 403, 723, 979, 939, 835, 788, 858, 789, 437, 659, 914, 331], [1668, 779, 1381, 732, 515, 650, -1, -1, 947, 195, 452, 636, 412, 699, 387, 748, 900, 483, 1044, 924, 979, 931, 428, 763, 1051, 924, 979, 931, 1660, 764, 1683, 764, 1483, 524, 460, 588], [197, 732, 187, 795, 1164, 685, -1, -1, -1, -1, 235, 773, -1, -1, -1, -1, 843, 500, 884, 835, 980, 925, 956, 691, 995, 794, 987, 924, 180, 724, 563, 666, 163, 740, 1188, 219], [195, 740, 620, 772, 156, 779, -1, -1, -1, -1, 1436, 787, -1, -1, -1, -1, 1203, 387, 956, 828, 954, 907, 1236, 388, -1, -1, 811, 948, 180, 739, 196, 732, 171, 740, 204, 739], [1171, 724, 1348, 611, 220, 636, -1, -1, -1, -1, 1451, 795, -1, -1, -1, -1, 771, 659, 796, 772, 739, 930, -1, -1, 852, 746, 740, 925, 1141, 707, 1178, 709, 580, 707, 1188, 715], [195, 740, 476, 643, 452, 635, 419, 692, 388, 739, 460, 636, 420, 691, -1, -1, 940, 763, 730, 779, 868, 907, 740, 667, 717, 779, 876, 907, 187, 732, 379, 708, 348, 699, 1420, 715], [1740, 827, 156, 803, 124, 804, -1, -1, -1, -1, 1372, 580, -1, -1, -1, -1, -1, -1, 1093, 867, 811, 948, -1, -1, 1099, 867, 811, 949, 1739, 804, 1763, 819, 210, 739, 1772, 835], [1723, 771, 195, 781, 155, 795, -1, -1, -1, -1, 949, 779, 418, 690, -1, -1, -1, -1, 707, 923, 636, 923, 755, 508, 707, 923, 636, 923, 172, 732, 195, 732, 163, 741, 204, 739]]\n"
          ]
        }
      ]
    },
    {
      "cell_type": "code",
      "source": [
        "import csv\n",
        "\n",
        "with open(\"/content/drive/MyDrive/MOTOR MOVEMENT/CSV/Keypoint_Parkinson_Mildb.csv\", \"w\") as f:\n",
        "    writer = csv.writer(f)\n",
        "    writer.writerows(keypoint_final)"
      ],
      "metadata": {
        "id": "k7lnunLM1sMG"
      },
      "execution_count": null,
      "outputs": []
    },
    {
      "cell_type": "code",
      "source": [
        "# Python program to get average of a list\n",
        "def Average(lst):\n",
        "    return sum(lst) / len(lst)\n",
        "\n",
        "# Driver Code\n",
        "average = Average(Time_average)\n",
        "\n",
        "# Printing average of the list\n",
        "print(\"Average of the Keypoint Extraction per frame =\", round(average, 5))"
      ],
      "metadata": {
        "id": "6-UwWyjx4YTU",
        "colab": {
          "base_uri": "https://localhost:8080/"
        },
        "outputId": "d45e46a9-21b7-452c-bd75-7e0a294139b9"
      },
      "execution_count": null,
      "outputs": [
        {
          "output_type": "stream",
          "name": "stdout",
          "text": [
            "Average of the Keypoint Extraction per frame = 130.35026\n"
          ]
        }
      ]
    },
    {
      "cell_type": "code",
      "source": [
        "import statistics\n",
        "\n",
        "# initializing list\n",
        "\n",
        "# printing list\n",
        "# print(\"The original list : \" + str(t))\n",
        "\n",
        "# Standard deviation of list\n",
        "# Using pstdev()\n",
        "sd = statistics.pstdev(Time_average)\n",
        "\n",
        "# Printing result\n",
        "print(\"Standard deviation of the Keypoint Extraction per frame : \" + str(sd))"
      ],
      "metadata": {
        "id": "paLNODyQ492e",
        "colab": {
          "base_uri": "https://localhost:8080/"
        },
        "outputId": "504359d8-e575-49b7-99d1-c2049c128e4e"
      },
      "execution_count": null,
      "outputs": [
        {
          "output_type": "stream",
          "name": "stdout",
          "text": [
            "Standard deviation of the Keypoint Extraction per frame : 1.8404393976199858\n"
          ]
        }
      ]
    },
    {
      "cell_type": "code",
      "source": [],
      "metadata": {
        "id": "cctQlA-I3-cp"
      },
      "execution_count": null,
      "outputs": []
    }
  ]
}