{
  "cells": [
    {
      "cell_type": "code",
      "execution_count": null,
      "metadata": {
        "id": "kZvl0tQIqHyE"
      },
      "outputs": [],
      "source": [
        "#Measure pitch of all wav files in directory\n",
        "import glob\n",
        "import numpy as np\n",
        "import pandas as pd\n",
        "import parselmouth\n",
        "\n",
        "from parselmouth.praat import call\n",
        "from sklearn.decomposition import PCA\n",
        "from sklearn.preprocessing import StandardScaler\n"
      ]
    },
    {
      "cell_type": "code",
      "source": [
        "!pip install praat-parselmouth\n"
      ],
      "metadata": {
        "colab": {
          "base_uri": "https://localhost:8080/"
        },
        "id": "7dJacXaSq5Zc",
        "outputId": "b39b3415-82d8-4b2a-cc48-1caa24acb35b"
      },
      "execution_count": null,
      "outputs": [
        {
          "output_type": "stream",
          "name": "stdout",
          "text": [
            "Collecting praat-parselmouth\n",
            "  Downloading praat_parselmouth-0.4.1-cp37-cp37m-manylinux_2_12_x86_64.manylinux2010_x86_64.whl (10.7 MB)\n",
            "\u001b[K     |████████████████████████████████| 10.7 MB 26.9 MB/s \n",
            "\u001b[?25hRequirement already satisfied: numpy>=1.7.0 in /usr/local/lib/python3.7/dist-packages (from praat-parselmouth) (1.21.5)\n",
            "Installing collected packages: praat-parselmouth\n",
            "Successfully installed praat-parselmouth-0.4.1\n"
          ]
        }
      ]
    },
    {
      "cell_type": "code",
      "execution_count": null,
      "metadata": {
        "id": "v_ojHRzhqHyI"
      },
      "outputs": [],
      "source": [
        "# This is the function to measure voice pitch\n",
        "def measurePitch(voiceID, f0min, f0max, unit):\n",
        "    sound = parselmouth.Sound(voiceID) # read the sound\n",
        "    pitch = call(sound, \"To Pitch\", 0.0, f0min, f0max) #create a praat pitch object\n",
        "    meanF0 = call(pitch, \"Get mean\", 0, 0, unit) # get mean pitch\n",
        "    stdevF0 = call(pitch, \"Get standard deviation\", 0 ,0, unit) # get standard deviation\n",
        "    harmonicity = call(sound, \"To Harmonicity (cc)\", 0.01, 75, 0.1, 1.0)\n",
        "    hnr = call(harmonicity, \"Get mean\", 0, 0)\n",
        "    pointProcess = call(sound, \"To PointProcess (periodic, cc)\", f0min, f0max)\n",
        "    localJitter = call(pointProcess, \"Get jitter (local)\", 0, 0, 0.0001, 0.02, 1.3)\n",
        "    localabsoluteJitter = call(pointProcess, \"Get jitter (local, absolute)\", 0, 0, 0.0001, 0.02, 1.3)\n",
        "    rapJitter = call(pointProcess, \"Get jitter (rap)\", 0, 0, 0.0001, 0.02, 1.3)\n",
        "    ppq5Jitter = call(pointProcess, \"Get jitter (ppq5)\", 0, 0, 0.0001, 0.02, 1.3)\n",
        "    ddpJitter = call(pointProcess, \"Get jitter (ddp)\", 0, 0, 0.0001, 0.02, 1.3)\n",
        "    localShimmer =  call([sound, pointProcess], \"Get shimmer (local)\", 0, 0, 0.0001, 0.02, 1.3, 1.6)\n",
        "    localdbShimmer = call([sound, pointProcess], \"Get shimmer (local_dB)\", 0, 0, 0.0001, 0.02, 1.3, 1.6)\n",
        "    apq3Shimmer = call([sound, pointProcess], \"Get shimmer (apq3)\", 0, 0, 0.0001, 0.02, 1.3, 1.6)\n",
        "    aqpq5Shimmer = call([sound, pointProcess], \"Get shimmer (apq5)\", 0, 0, 0.0001, 0.02, 1.3, 1.6)\n",
        "    apq11Shimmer =  call([sound, pointProcess], \"Get shimmer (apq11)\", 0, 0, 0.0001, 0.02, 1.3, 1.6)\n",
        "    ddaShimmer = call([sound, pointProcess], \"Get shimmer (dda)\", 0, 0, 0.0001, 0.02, 1.3, 1.6)\n",
        "\n",
        "\n",
        "    return meanF0, stdevF0, hnr, localJitter, localabsoluteJitter, rapJitter, ppq5Jitter, ddpJitter, localShimmer, localdbShimmer, apq3Shimmer, aqpq5Shimmer, apq11Shimmer, ddaShimmer"
      ]
    },
    {
      "cell_type": "code",
      "execution_count": null,
      "metadata": {
        "id": "4GIitK2eqHyJ"
      },
      "outputs": [],
      "source": [
        "def runPCA(df):\n",
        "    #Z-score the Jitter and Shimmer measurements\n",
        "    # features = ['localJitter', 'localabsoluteJitter', 'rapJitter', 'ppq5Jitter', 'ddpJitter',\n",
        "    #             'localShimmer', 'localdbShimmer', 'apq3Shimmer', 'apq5Shimmer', 'apq11Shimmer', 'ddaShimmer']\n",
        "    features = ['MDVP:Jitter(%)', 'MDVP:Jitter(Abs)', 'Jitter:DDP',\n",
        "                'MDVP:Shimmer', 'MDVP:Shimmer(dB)', 'Shimmer:APQ3', 'Shimmer:APQ5', 'Shimmer:DDA']\n",
        "\n",
        "\n",
        "    # Separating out the features\n",
        "    x = df.loc[:, features].values\n",
        "    # Separating out the target\n",
        "    #y = df.loc[:,['target']].values\n",
        "    # Standardizing the features\n",
        "    x = StandardScaler().fit_transform(x)\n",
        "    #PCA\n",
        "    pca = PCA(n_components=1)\n",
        "    principalComponents = pca.fit_transform(x)\n",
        "    principalDf = pd.DataFrame(data = principalComponents, columns = ['JitterPCA'])\n",
        "    principalDf\n",
        "    return principalDf"
      ]
    },
    {
      "cell_type": "code",
      "execution_count": null,
      "metadata": {
        "colab": {
          "base_uri": "https://localhost:8080/"
        },
        "id": "F50b9KKuqHyJ",
        "outputId": "71652bfc-787f-4349-a046-de7a188537cc"
      },
      "outputs": [
        {
          "output_type": "stream",
          "name": "stdout",
          "text": [
            "Hello\n"
          ]
        },
        {
          "output_type": "stream",
          "name": "stderr",
          "text": [
            "/usr/local/lib/python3.7/dist-packages/sklearn/decomposition/_pca.py:499: RuntimeWarning: invalid value encountered in true_divide\n",
            "  explained_variance_ = (S ** 2) / (n_samples - 1)\n"
          ]
        }
      ],
      "source": [
        "# create lists to put the results\n",
        "file_list = []\n",
        "mean_F0_list = []\n",
        "sd_F0_list = []\n",
        "hnr_list = []\n",
        "localJitter_list = []\n",
        "localabsoluteJitter_list = []\n",
        "rapJitter_list = []\n",
        "ppq5Jitter_list = []\n",
        "ddpJitter_list = []\n",
        "localShimmer_list = []\n",
        "localdbShimmer_list = []\n",
        "apq3Shimmer_list = []\n",
        "aqpq5Shimmer_list = []\n",
        "apq11Shimmer_list = []\n",
        "ddaShimmer_list = []\n",
        "\n",
        "# Go through all the wave files in the folder and measure pitch\n",
        "for wave_file in glob.glob(\"/content/ID32_pd_3_1_1.wav\"):\n",
        "    sound = parselmouth.Sound(wave_file)\n",
        "    (meanF0, stdevF0, hnr, localJitter, localabsoluteJitter, rapJitter, ppq5Jitter, ddpJitter, localShimmer, localdbShimmer, apq3Shimmer, aqpq5Shimmer, apq11Shimmer, ddaShimmer) = measurePitch(sound, 75, 500, \"Hertz\")\n",
        "    file_list.append(wave_file) # make an ID list\n",
        "    mean_F0_list.append(meanF0) # make a mean F0 list\n",
        "    sd_F0_list.append(stdevF0) # make a sd F0 list\n",
        "    hnr_list.append(hnr)\n",
        "    localJitter_list.append(localJitter)\n",
        "    localabsoluteJitter_list.append(localabsoluteJitter)\n",
        "    rapJitter_list.append(rapJitter)\n",
        "    ppq5Jitter_list.append(ppq5Jitter)\n",
        "    ddpJitter_list.append(ddpJitter)\n",
        "    localShimmer_list.append(localShimmer)\n",
        "    localdbShimmer_list.append(localdbShimmer)\n",
        "    apq3Shimmer_list.append(apq3Shimmer)\n",
        "    aqpq5Shimmer_list.append(aqpq5Shimmer)\n",
        "    apq11Shimmer_list.append(apq11Shimmer)\n",
        "    ddaShimmer_list.append(ddaShimmer)\n",
        "# df = pd.DataFrame(np.column_stack([file_list, mean_F0_list, sd_F0_list, hnr_list, localJitter_list, localabsoluteJitter_list, rapJitter_list, ppq5Jitter_list, ddpJitter_list, localShimmer_list, localdbShimmer_list, apq3Shimmer_list, aqpq5Shimmer_list, apq11Shimmer_list, ddaShimmer_list]),\n",
        "#                                columns=['voiceID', 'meanF0Hz', 'stdevF0Hz', 'HNR', 'localJitter', 'localabsoluteJitter', 'rapJitter',\n",
        "#                                         'ppq5Jitter', 'ddpJitter', 'localShimmer', 'localdbShimmer', 'apq3Shimmer', 'apq5Shimmer',\n",
        "#                                         'apq11Shimmer', 'ddaShimmer'])  #add these lists to pandas in the right order\n",
        "\n",
        "df = pd.DataFrame(np.column_stack([mean_F0_list, hnr_list, localJitter_list, localabsoluteJitter_list, ddpJitter_list, localShimmer_list, localdbShimmer_list, apq3Shimmer_list, aqpq5Shimmer_list, ddaShimmer_list]),\n",
        "                               columns=['MDVP:Fo(Hz)', 'HNR', 'MDVP:Jitter(%)', 'MDVP:Jitter(Abs)',\n",
        "                                        'Jitter:DDP', 'MDVP:Shimmer', 'MDVP:Shimmer(dB)', 'Shimmer:APQ3', 'Shimmer:APQ5',\n",
        "                                        'Shimmer:DDA'])  #add these lists to pandas in the right order\n",
        "\n",
        "# name\tMDVP:Fo(Hz)\tMDVP:Fhi(Hz)\tMDVP:Flo(Hz)\tMDVP:Jitter(%)\tMDVP:Jitter(Abs)\tMDVP:RAP\tMDVP:PPQ\tJitter:DDP\tMDVP:Shimmer\n",
        "# MDVP:Shimmer(dB)\tShimmer:APQ3\tShimmer:APQ5\tMDVP:APQ\tShimmer:DDA\tNHR\tHNR\tstatus\tRPDE\tDFA\tspread1\tspread2\tD2\tPPE\n",
        "df.reset_index(drop=True, inplace=True)\n",
        "pcaData = runPCA(df)\n",
        "print(\"Hello\")\n",
        "pcaData\n",
        "# pcaData.reset_index(drop=True, inplace=True)\n",
        "\n",
        "df = pd.concat([df, pcaData], axis=1)\n",
        "\n",
        "# Write out the updated dataframe\n",
        "df.to_csv(\"processed_results.csv\", index=False)"
      ]
    },
    {
      "cell_type": "code",
      "execution_count": null,
      "metadata": {
        "id": "tgckPrtsqHyL",
        "outputId": "557a2cda-fa50-468a-b16d-06ecb7c9dde5",
        "colab": {
          "base_uri": "https://localhost:8080/",
          "height": 81
        }
      },
      "outputs": [
        {
          "output_type": "execute_result",
          "data": {
            "text/html": [
              "\n",
              "  <div id=\"df-347688e6-f8bb-4ffb-b5d5-9169fe25b47e\">\n",
              "    <div class=\"colab-df-container\">\n",
              "      <div>\n",
              "<style scoped>\n",
              "    .dataframe tbody tr th:only-of-type {\n",
              "        vertical-align: middle;\n",
              "    }\n",
              "\n",
              "    .dataframe tbody tr th {\n",
              "        vertical-align: top;\n",
              "    }\n",
              "\n",
              "    .dataframe thead th {\n",
              "        text-align: right;\n",
              "    }\n",
              "</style>\n",
              "<table border=\"1\" class=\"dataframe\">\n",
              "  <thead>\n",
              "    <tr style=\"text-align: right;\">\n",
              "      <th></th>\n",
              "      <th>MDVP:Fo(Hz)</th>\n",
              "      <th>HNR</th>\n",
              "      <th>MDVP:Jitter(%)</th>\n",
              "      <th>MDVP:Jitter(Abs)</th>\n",
              "      <th>Jitter:DDP</th>\n",
              "      <th>MDVP:Shimmer</th>\n",
              "      <th>MDVP:Shimmer(dB)</th>\n",
              "      <th>Shimmer:APQ3</th>\n",
              "      <th>Shimmer:APQ5</th>\n",
              "      <th>Shimmer:DDA</th>\n",
              "      <th>JitterPCA</th>\n",
              "    </tr>\n",
              "  </thead>\n",
              "  <tbody>\n",
              "    <tr>\n",
              "      <th>0</th>\n",
              "      <td>166.779713</td>\n",
              "      <td>11.148522</td>\n",
              "      <td>0.025417</td>\n",
              "      <td>0.000153</td>\n",
              "      <td>0.039923</td>\n",
              "      <td>0.107019</td>\n",
              "      <td>1.000508</td>\n",
              "      <td>0.049595</td>\n",
              "      <td>0.057682</td>\n",
              "      <td>0.148784</td>\n",
              "      <td>0.0</td>\n",
              "    </tr>\n",
              "  </tbody>\n",
              "</table>\n",
              "</div>\n",
              "      <button class=\"colab-df-convert\" onclick=\"convertToInteractive('df-347688e6-f8bb-4ffb-b5d5-9169fe25b47e')\"\n",
              "              title=\"Convert this dataframe to an interactive table.\"\n",
              "              style=\"display:none;\">\n",
              "        \n",
              "  <svg xmlns=\"http://www.w3.org/2000/svg\" height=\"24px\"viewBox=\"0 0 24 24\"\n",
              "       width=\"24px\">\n",
              "    <path d=\"M0 0h24v24H0V0z\" fill=\"none\"/>\n",
              "    <path d=\"M18.56 5.44l.94 2.06.94-2.06 2.06-.94-2.06-.94-.94-2.06-.94 2.06-2.06.94zm-11 1L8.5 8.5l.94-2.06 2.06-.94-2.06-.94L8.5 2.5l-.94 2.06-2.06.94zm10 10l.94 2.06.94-2.06 2.06-.94-2.06-.94-.94-2.06-.94 2.06-2.06.94z\"/><path d=\"M17.41 7.96l-1.37-1.37c-.4-.4-.92-.59-1.43-.59-.52 0-1.04.2-1.43.59L10.3 9.45l-7.72 7.72c-.78.78-.78 2.05 0 2.83L4 21.41c.39.39.9.59 1.41.59.51 0 1.02-.2 1.41-.59l7.78-7.78 2.81-2.81c.8-.78.8-2.07 0-2.86zM5.41 20L4 18.59l7.72-7.72 1.47 1.35L5.41 20z\"/>\n",
              "  </svg>\n",
              "      </button>\n",
              "      \n",
              "  <style>\n",
              "    .colab-df-container {\n",
              "      display:flex;\n",
              "      flex-wrap:wrap;\n",
              "      gap: 12px;\n",
              "    }\n",
              "\n",
              "    .colab-df-convert {\n",
              "      background-color: #E8F0FE;\n",
              "      border: none;\n",
              "      border-radius: 50%;\n",
              "      cursor: pointer;\n",
              "      display: none;\n",
              "      fill: #1967D2;\n",
              "      height: 32px;\n",
              "      padding: 0 0 0 0;\n",
              "      width: 32px;\n",
              "    }\n",
              "\n",
              "    .colab-df-convert:hover {\n",
              "      background-color: #E2EBFA;\n",
              "      box-shadow: 0px 1px 2px rgba(60, 64, 67, 0.3), 0px 1px 3px 1px rgba(60, 64, 67, 0.15);\n",
              "      fill: #174EA6;\n",
              "    }\n",
              "\n",
              "    [theme=dark] .colab-df-convert {\n",
              "      background-color: #3B4455;\n",
              "      fill: #D2E3FC;\n",
              "    }\n",
              "\n",
              "    [theme=dark] .colab-df-convert:hover {\n",
              "      background-color: #434B5C;\n",
              "      box-shadow: 0px 1px 3px 1px rgba(0, 0, 0, 0.15);\n",
              "      filter: drop-shadow(0px 1px 2px rgba(0, 0, 0, 0.3));\n",
              "      fill: #FFFFFF;\n",
              "    }\n",
              "  </style>\n",
              "\n",
              "      <script>\n",
              "        const buttonEl =\n",
              "          document.querySelector('#df-347688e6-f8bb-4ffb-b5d5-9169fe25b47e button.colab-df-convert');\n",
              "        buttonEl.style.display =\n",
              "          google.colab.kernel.accessAllowed ? 'block' : 'none';\n",
              "\n",
              "        async function convertToInteractive(key) {\n",
              "          const element = document.querySelector('#df-347688e6-f8bb-4ffb-b5d5-9169fe25b47e');\n",
              "          const dataTable =\n",
              "            await google.colab.kernel.invokeFunction('convertToInteractive',\n",
              "                                                     [key], {});\n",
              "          if (!dataTable) return;\n",
              "\n",
              "          const docLinkHtml = 'Like what you see? Visit the ' +\n",
              "            '<a target=\"_blank\" href=https://colab.research.google.com/notebooks/data_table.ipynb>data table notebook</a>'\n",
              "            + ' to learn more about interactive tables.';\n",
              "          element.innerHTML = '';\n",
              "          dataTable['output_type'] = 'display_data';\n",
              "          await google.colab.output.renderOutput(dataTable, element);\n",
              "          const docLink = document.createElement('div');\n",
              "          docLink.innerHTML = docLinkHtml;\n",
              "          element.appendChild(docLink);\n",
              "        }\n",
              "      </script>\n",
              "    </div>\n",
              "  </div>\n",
              "  "
            ],
            "text/plain": [
              "   MDVP:Fo(Hz)        HNR  MDVP:Jitter(%)  MDVP:Jitter(Abs)  Jitter:DDP  \\\n",
              "0   166.779713  11.148522        0.025417          0.000153    0.039923   \n",
              "\n",
              "   MDVP:Shimmer  MDVP:Shimmer(dB)  Shimmer:APQ3  Shimmer:APQ5  Shimmer:DDA  \\\n",
              "0      0.107019          1.000508      0.049595      0.057682     0.148784   \n",
              "\n",
              "   JitterPCA  \n",
              "0        0.0  "
            ]
          },
          "metadata": {},
          "execution_count": 9
        }
      ],
      "source": [
        "df"
      ]
    },
    {
      "cell_type": "code",
      "execution_count": null,
      "metadata": {
        "id": "kpA6eFUKqHyL"
      },
      "outputs": [],
      "source": []
    }
  ],
  "metadata": {
    "kernelspec": {
      "display_name": "Python 3",
      "language": "python",
      "name": "python3"
    },
    "language_info": {
      "codemirror_mode": {
        "name": "ipython",
        "version": 3
      },
      "file_extension": ".py",
      "mimetype": "text/x-python",
      "name": "python",
      "nbconvert_exporter": "python",
      "pygments_lexer": "ipython3",
      "version": "3.6.4"
    },
    "colab": {
      "provenance": []
    }
  },
  "nbformat": 4,
  "nbformat_minor": 0
}