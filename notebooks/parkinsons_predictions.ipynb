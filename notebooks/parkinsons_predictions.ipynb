{
  "cells": [
    {
      "metadata": {
        "id": "lqSSHhzUit_W"
      },
      "cell_type": "markdown",
      "source": [
        "# 1) Set up\n",
        "\n",
        "* import necessary modules\n",
        "* locate filepath of data"
      ]
    },
    {
      "metadata": {
        "_uuid": "8f2839f25d086af736a60e9eeb907d3b93b6e0e5",
        "_cell_guid": "b1076dfc-b9ad-4769-8c92-a6c4dae69d19",
        "trusted": true,
        "id": "IchTjBI-it_Z"
      },
      "cell_type": "code",
      "source": [
        "# This Python 3 environment comes with many helpful analytics libraries installed\n",
        "# It is defined by the kaggle/python Docker image: https://github.com/kaggle/docker-python\n",
        "# For example, here's several helpful packages to load\n",
        "\n",
        "import numpy as np # linear algebra\n",
        "import pandas as pd # data processing, CSV file I/O (e.g. pd.read_csv)\n",
        "from tensorflow import keras\n",
        "from tensorflow.keras import layers\n",
        "import matplotlib.pyplot as plt\n",
        "\n",
        "# Input data files are available in the read-only \"../input/\" directory\n",
        "# For example, running this (by clicking run or pressing Shift+Enter) will list all files under the input directory\n",
        "\n",
        "import os\n",
        "\n",
        "\n",
        "# You can write up to 20GB to the current directory (/kaggle/working/) that gets preserved as output when you create a version using \"Save & Run All\"\n",
        "# You can also write temporary files to /kaggle/temp/, but they won't be saved outside of the current session"
      ],
      "execution_count": null,
      "outputs": []
    },
    {
      "metadata": {
        "id": "-QdPVoP5it_a"
      },
      "cell_type": "markdown",
      "source": [
        "# 2) Sample Data\n",
        "* use pandas to turn csv into dataframe\n",
        "* view first 5 rows to get a feel for the data\n",
        "\n"
      ]
    },
    {
      "metadata": {
        "_uuid": "d629ff2d2480ee46fbb7e2d37f6b5fab8052498a",
        "_cell_guid": "79c7e3d0-c299-4dcb-8224-4455121ee9b0",
        "trusted": true,
        "colab": {
          "base_uri": "https://localhost:8080/",
          "height": 270
        },
        "id": "5jFIJ1FNit_b",
        "outputId": "2843411d-0c88-41df-fa12-dce805e468da"
      },
      "cell_type": "code",
      "source": [
        "# read data in from csv\n",
        "speech_data = pd.read_csv(\"/content/parkinson_sp.csv\")\n",
        "speech_data.head() # display first 5 rows"
      ],
      "execution_count": null,
      "outputs": [
        {
          "output_type": "execute_result",
          "data": {
            "text/html": [
              "\n",
              "  <div id=\"df-9171f049-b6cc-4381-909b-bbe49cc8a138\">\n",
              "    <div class=\"colab-df-container\">\n",
              "      <div>\n",
              "<style scoped>\n",
              "    .dataframe tbody tr th:only-of-type {\n",
              "        vertical-align: middle;\n",
              "    }\n",
              "\n",
              "    .dataframe tbody tr th {\n",
              "        vertical-align: top;\n",
              "    }\n",
              "\n",
              "    .dataframe thead th {\n",
              "        text-align: right;\n",
              "    }\n",
              "</style>\n",
              "<table border=\"1\" class=\"dataframe\">\n",
              "  <thead>\n",
              "    <tr style=\"text-align: right;\">\n",
              "      <th></th>\n",
              "      <th>MDVP:Fo(Hz)</th>\n",
              "      <th>MDVP:Fhi(Hz)</th>\n",
              "      <th>MDVP:Flo(Hz)</th>\n",
              "      <th>MDVP:Jitter(%)</th>\n",
              "      <th>MDVP:Jitter(Abs)</th>\n",
              "      <th>MDVP:RAP</th>\n",
              "      <th>MDVP:PPQ</th>\n",
              "      <th>Jitter:DDP</th>\n",
              "      <th>MDVP:Shimmer</th>\n",
              "      <th>MDVP:Shimmer(dB)</th>\n",
              "      <th>Shimmer:APQ3</th>\n",
              "      <th>Shimmer:APQ5</th>\n",
              "      <th>MDVP:APQ</th>\n",
              "      <th>Shimmer:DDA</th>\n",
              "      <th>NHR</th>\n",
              "      <th>HNR</th>\n",
              "      <th>RPDE</th>\n",
              "      <th>DFA</th>\n",
              "      <th>spread1</th>\n",
              "      <th>spread2</th>\n",
              "      <th>D2</th>\n",
              "      <th>PPE</th>\n",
              "      <th>status</th>\n",
              "    </tr>\n",
              "  </thead>\n",
              "  <tbody>\n",
              "    <tr>\n",
              "      <th>0</th>\n",
              "      <td>119.992</td>\n",
              "      <td>157.302</td>\n",
              "      <td>74.997</td>\n",
              "      <td>0.00784</td>\n",
              "      <td>0.00007</td>\n",
              "      <td>0.00370</td>\n",
              "      <td>0.00554</td>\n",
              "      <td>0.01109</td>\n",
              "      <td>0.04374</td>\n",
              "      <td>0.426</td>\n",
              "      <td>0.02182</td>\n",
              "      <td>0.03130</td>\n",
              "      <td>0.02971</td>\n",
              "      <td>0.06545</td>\n",
              "      <td>0.02211</td>\n",
              "      <td>21.033</td>\n",
              "      <td>0.414783</td>\n",
              "      <td>0.815285</td>\n",
              "      <td>-4.813031</td>\n",
              "      <td>0.266482</td>\n",
              "      <td>2.301442</td>\n",
              "      <td>0.284654</td>\n",
              "      <td>1</td>\n",
              "    </tr>\n",
              "    <tr>\n",
              "      <th>1</th>\n",
              "      <td>122.400</td>\n",
              "      <td>148.650</td>\n",
              "      <td>113.819</td>\n",
              "      <td>0.00968</td>\n",
              "      <td>0.00008</td>\n",
              "      <td>0.00465</td>\n",
              "      <td>0.00696</td>\n",
              "      <td>0.01394</td>\n",
              "      <td>0.06134</td>\n",
              "      <td>0.626</td>\n",
              "      <td>0.03134</td>\n",
              "      <td>0.04518</td>\n",
              "      <td>0.04368</td>\n",
              "      <td>0.09403</td>\n",
              "      <td>0.01929</td>\n",
              "      <td>19.085</td>\n",
              "      <td>0.458359</td>\n",
              "      <td>0.819521</td>\n",
              "      <td>-4.075192</td>\n",
              "      <td>0.335590</td>\n",
              "      <td>2.486855</td>\n",
              "      <td>0.368674</td>\n",
              "      <td>1</td>\n",
              "    </tr>\n",
              "    <tr>\n",
              "      <th>2</th>\n",
              "      <td>116.682</td>\n",
              "      <td>131.111</td>\n",
              "      <td>111.555</td>\n",
              "      <td>0.01050</td>\n",
              "      <td>0.00009</td>\n",
              "      <td>0.00544</td>\n",
              "      <td>0.00781</td>\n",
              "      <td>0.01633</td>\n",
              "      <td>0.05233</td>\n",
              "      <td>0.482</td>\n",
              "      <td>0.02757</td>\n",
              "      <td>0.03858</td>\n",
              "      <td>0.03590</td>\n",
              "      <td>0.08270</td>\n",
              "      <td>0.01309</td>\n",
              "      <td>20.651</td>\n",
              "      <td>0.429895</td>\n",
              "      <td>0.825288</td>\n",
              "      <td>-4.443179</td>\n",
              "      <td>0.311173</td>\n",
              "      <td>2.342259</td>\n",
              "      <td>0.332634</td>\n",
              "      <td>1</td>\n",
              "    </tr>\n",
              "    <tr>\n",
              "      <th>3</th>\n",
              "      <td>116.676</td>\n",
              "      <td>137.871</td>\n",
              "      <td>111.366</td>\n",
              "      <td>0.00997</td>\n",
              "      <td>0.00009</td>\n",
              "      <td>0.00502</td>\n",
              "      <td>0.00698</td>\n",
              "      <td>0.01505</td>\n",
              "      <td>0.05492</td>\n",
              "      <td>0.517</td>\n",
              "      <td>0.02924</td>\n",
              "      <td>0.04005</td>\n",
              "      <td>0.03772</td>\n",
              "      <td>0.08771</td>\n",
              "      <td>0.01353</td>\n",
              "      <td>20.644</td>\n",
              "      <td>0.434969</td>\n",
              "      <td>0.819235</td>\n",
              "      <td>-4.117501</td>\n",
              "      <td>0.334147</td>\n",
              "      <td>2.405554</td>\n",
              "      <td>0.368975</td>\n",
              "      <td>1</td>\n",
              "    </tr>\n",
              "    <tr>\n",
              "      <th>4</th>\n",
              "      <td>116.014</td>\n",
              "      <td>141.781</td>\n",
              "      <td>110.655</td>\n",
              "      <td>0.01284</td>\n",
              "      <td>0.00011</td>\n",
              "      <td>0.00655</td>\n",
              "      <td>0.00908</td>\n",
              "      <td>0.01966</td>\n",
              "      <td>0.06425</td>\n",
              "      <td>0.584</td>\n",
              "      <td>0.03490</td>\n",
              "      <td>0.04825</td>\n",
              "      <td>0.04465</td>\n",
              "      <td>0.10470</td>\n",
              "      <td>0.01767</td>\n",
              "      <td>19.649</td>\n",
              "      <td>0.417356</td>\n",
              "      <td>0.823484</td>\n",
              "      <td>-3.747787</td>\n",
              "      <td>0.234513</td>\n",
              "      <td>2.332180</td>\n",
              "      <td>0.410335</td>\n",
              "      <td>1</td>\n",
              "    </tr>\n",
              "  </tbody>\n",
              "</table>\n",
              "</div>\n",
              "      <button class=\"colab-df-convert\" onclick=\"convertToInteractive('df-9171f049-b6cc-4381-909b-bbe49cc8a138')\"\n",
              "              title=\"Convert this dataframe to an interactive table.\"\n",
              "              style=\"display:none;\">\n",
              "        \n",
              "  <svg xmlns=\"http://www.w3.org/2000/svg\" height=\"24px\"viewBox=\"0 0 24 24\"\n",
              "       width=\"24px\">\n",
              "    <path d=\"M0 0h24v24H0V0z\" fill=\"none\"/>\n",
              "    <path d=\"M18.56 5.44l.94 2.06.94-2.06 2.06-.94-2.06-.94-.94-2.06-.94 2.06-2.06.94zm-11 1L8.5 8.5l.94-2.06 2.06-.94-2.06-.94L8.5 2.5l-.94 2.06-2.06.94zm10 10l.94 2.06.94-2.06 2.06-.94-2.06-.94-.94-2.06-.94 2.06-2.06.94z\"/><path d=\"M17.41 7.96l-1.37-1.37c-.4-.4-.92-.59-1.43-.59-.52 0-1.04.2-1.43.59L10.3 9.45l-7.72 7.72c-.78.78-.78 2.05 0 2.83L4 21.41c.39.39.9.59 1.41.59.51 0 1.02-.2 1.41-.59l7.78-7.78 2.81-2.81c.8-.78.8-2.07 0-2.86zM5.41 20L4 18.59l7.72-7.72 1.47 1.35L5.41 20z\"/>\n",
              "  </svg>\n",
              "      </button>\n",
              "      \n",
              "  <style>\n",
              "    .colab-df-container {\n",
              "      display:flex;\n",
              "      flex-wrap:wrap;\n",
              "      gap: 12px;\n",
              "    }\n",
              "\n",
              "    .colab-df-convert {\n",
              "      background-color: #E8F0FE;\n",
              "      border: none;\n",
              "      border-radius: 50%;\n",
              "      cursor: pointer;\n",
              "      display: none;\n",
              "      fill: #1967D2;\n",
              "      height: 32px;\n",
              "      padding: 0 0 0 0;\n",
              "      width: 32px;\n",
              "    }\n",
              "\n",
              "    .colab-df-convert:hover {\n",
              "      background-color: #E2EBFA;\n",
              "      box-shadow: 0px 1px 2px rgba(60, 64, 67, 0.3), 0px 1px 3px 1px rgba(60, 64, 67, 0.15);\n",
              "      fill: #174EA6;\n",
              "    }\n",
              "\n",
              "    [theme=dark] .colab-df-convert {\n",
              "      background-color: #3B4455;\n",
              "      fill: #D2E3FC;\n",
              "    }\n",
              "\n",
              "    [theme=dark] .colab-df-convert:hover {\n",
              "      background-color: #434B5C;\n",
              "      box-shadow: 0px 1px 3px 1px rgba(0, 0, 0, 0.15);\n",
              "      filter: drop-shadow(0px 1px 2px rgba(0, 0, 0, 0.3));\n",
              "      fill: #FFFFFF;\n",
              "    }\n",
              "  </style>\n",
              "\n",
              "      <script>\n",
              "        const buttonEl =\n",
              "          document.querySelector('#df-9171f049-b6cc-4381-909b-bbe49cc8a138 button.colab-df-convert');\n",
              "        buttonEl.style.display =\n",
              "          google.colab.kernel.accessAllowed ? 'block' : 'none';\n",
              "\n",
              "        async function convertToInteractive(key) {\n",
              "          const element = document.querySelector('#df-9171f049-b6cc-4381-909b-bbe49cc8a138');\n",
              "          const dataTable =\n",
              "            await google.colab.kernel.invokeFunction('convertToInteractive',\n",
              "                                                     [key], {});\n",
              "          if (!dataTable) return;\n",
              "\n",
              "          const docLinkHtml = 'Like what you see? Visit the ' +\n",
              "            '<a target=\"_blank\" href=https://colab.research.google.com/notebooks/data_table.ipynb>data table notebook</a>'\n",
              "            + ' to learn more about interactive tables.';\n",
              "          element.innerHTML = '';\n",
              "          dataTable['output_type'] = 'display_data';\n",
              "          await google.colab.output.renderOutput(dataTable, element);\n",
              "          const docLink = document.createElement('div');\n",
              "          docLink.innerHTML = docLinkHtml;\n",
              "          element.appendChild(docLink);\n",
              "        }\n",
              "      </script>\n",
              "    </div>\n",
              "  </div>\n",
              "  "
            ],
            "text/plain": [
              "   MDVP:Fo(Hz)  MDVP:Fhi(Hz)  MDVP:Flo(Hz)  ...        D2       PPE  status\n",
              "0      119.992       157.302        74.997  ...  2.301442  0.284654       1\n",
              "1      122.400       148.650       113.819  ...  2.486855  0.368674       1\n",
              "2      116.682       131.111       111.555  ...  2.342259  0.332634       1\n",
              "3      116.676       137.871       111.366  ...  2.405554  0.368975       1\n",
              "4      116.014       141.781       110.655  ...  2.332180  0.410335       1\n",
              "\n",
              "[5 rows x 23 columns]"
            ]
          },
          "metadata": {},
          "execution_count": 12
        }
      ]
    },
    {
      "metadata": {
        "id": "FS8iclRBit_b"
      },
      "cell_type": "markdown",
      "source": [
        "# 3) Data Processing\n",
        "* training data is used to train the model\n",
        "* cross validation is used to make sure we're not overfitting the data\n",
        "* test set is to make predictions on"
      ]
    },
    {
      "metadata": {
        "trusted": true,
        "colab": {
          "base_uri": "https://localhost:8080/"
        },
        "id": "Q2Vde6sHit_b",
        "outputId": "28afd197-699d-4314-ca19-2d4796829ec2"
      },
      "cell_type": "code",
      "source": [
        "from sklearn.model_selection import train_test_split\n",
        "from sklearn.preprocessing import StandardScaler\n",
        "from sklearn.compose import make_column_transformer\n",
        "\n",
        "# form X matrix of data and y vector of outcomes\n",
        "X = speech_data.copy()\n",
        "y = X.pop('status') # pop last column off from X\n",
        "\n",
        "# normalise X so all features are within similar range\n",
        "preprocessor = make_column_transformer((StandardScaler(),list(X.columns)))\n",
        "\n",
        "# split into training, cross validation set\n",
        "X_train, X_valid, y_train, y_valid = \\\n",
        "    train_test_split(X, y, stratify=y, train_size=0.7) #stratify makes sure classes are represented evenly across splits\n",
        "\n",
        "# split cross validation set into cross val and test set\n",
        "X_valid, X_test, y_valid, y_test = \\\n",
        "    train_test_split(X_valid, y_valid, stratify=y_valid, train_size=0.8)\n",
        "\n",
        "X_train = preprocessor.fit_transform(X_train)\n",
        "X_valid = preprocessor.transform(X_valid)\n",
        "X_test = preprocessor.transform(X_test)\n",
        "print(X_train.shape)\n",
        "input_shape = [X_train.shape[1]] # gives number of features == number of input nodes"
      ],
      "execution_count": null,
      "outputs": [
        {
          "output_type": "stream",
          "name": "stdout",
          "text": [
            "(136, 22)\n"
          ]
        }
      ]
    },
    {
      "metadata": {
        "id": "GmyJiqipit_c"
      },
      "cell_type": "markdown",
      "source": [
        "# 4) Define Network Architecture\n",
        "* 4 Dense hidden layers\n",
        "* each dense layer is normalized\n",
        "* each layer has 10% of nodes dropped out\n",
        "* final layer uses sigmoid activation function --> 0 or 1"
      ]
    },
    {
      "metadata": {
        "trusted": true,
        "id": "MYzapHvlit_d"
      },
      "cell_type": "code",
      "source": [
        "# use keras to define network architecture\n",
        "model = keras.Sequential([\n",
        "    layers.Dense(256,activation=\"relu\",input_shape=input_shape), # hidden layer 1 with 70 nodes and relu activation fnc\n",
        "    layers.BatchNormalization(), # normalize hidden layer --> more stability\n",
        "    layers.Dropout(0.1), # randomly drop 10% of nodes to prevent overfitting\n",
        "    layers.Dense(64,activation=\"relu\"), # same as before\n",
        "    layers.BatchNormalization(), #same as before\n",
        "    layers.Dropout(0.1),\n",
        "    layers.Dense(64,activation=\"relu\"), # same as before\n",
        "    layers.BatchNormalization(), #same as before\n",
        "    layers.Dropout(0.1),\n",
        "    layers.Dense(32,activation=\"relu\"), # same as before\n",
        "    layers.BatchNormalization(), #same as before\n",
        "    layers.Dropout(0.1),\n",
        "    layers.Dense(1,activation=\"sigmoid\") # binary output so only 1 output node, activation function is sigmoid\n",
        "])\n"
      ],
      "execution_count": null,
      "outputs": []
    },
    {
      "metadata": {
        "id": "LX-Ssqw1it_d"
      },
      "cell_type": "markdown",
      "source": [
        "# 5) compile the model\n",
        "* using \"adam\" optimizing algorithm which uses stochastic gradient descent\n",
        "* using cross entropy loss function which defines probablity\n",
        "* also define accuracy metrics"
      ]
    },
    {
      "metadata": {
        "trusted": true,
        "id": "fky_poyyit_e"
      },
      "cell_type": "code",
      "source": [
        "# compile model with optimizing algorithm, loss function and accuracy function\n",
        "model.compile(optimizer=\"adam\", loss=\"binary_crossentropy\", metrics=[\"binary_accuracy\"])\n",
        "# initialize the initial learning rate, number of epochs to train for,\n",
        "# and batch size\n"
      ],
      "execution_count": null,
      "outputs": []
    },
    {
      "metadata": {
        "id": "kHEl-Jg9it_e"
      },
      "cell_type": "markdown",
      "source": [
        "# 6) Train the model\n",
        "* use early stopping call back to prevent overfitting"
      ]
    },
    {
      "metadata": {
        "trusted": true,
        "colab": {
          "base_uri": "https://localhost:8080/",
          "height": 1000
        },
        "id": "r2hGyqmZit_e",
        "outputId": "84dbfed2-e336-4f94-d44d-f973279b0715"
      },
      "cell_type": "code",
      "source": [
        "early_stopping = keras.callbacks.EarlyStopping(\n",
        "    patience=20,\n",
        "    min_delta=0.001,\n",
        "    restore_best_weights=True,\n",
        ")\n",
        "history = model.fit(\n",
        "    X_train, y_train,\n",
        "    validation_data=(X_valid, y_valid),\n",
        "    batch_size=8,\n",
        "    epochs=100,\n",
        "    callbacks=[early_stopping],\n",
        "    verbose=2\n",
        ")\n",
        "\n",
        "history_df = pd.DataFrame(history.history)\n",
        "history_df.loc[:, ['loss', 'val_loss']].plot(title=\"Cross-entropy\")\n",
        "history_df.loc[:, ['binary_accuracy', 'val_binary_accuracy']].plot(title=\"Accuracy\")"
      ],
      "execution_count": null,
      "outputs": [
        {
          "output_type": "stream",
          "name": "stdout",
          "text": [
            "Epoch 1/100\n",
            "17/17 - 1s - loss: 0.7897 - binary_accuracy: 0.5662 - val_loss: 0.6309 - val_binary_accuracy: 0.7660 - 1s/epoch - 84ms/step\n",
            "Epoch 2/100\n",
            "17/17 - 0s - loss: 0.6167 - binary_accuracy: 0.7059 - val_loss: 0.5609 - val_binary_accuracy: 0.7872 - 87ms/epoch - 5ms/step\n",
            "Epoch 3/100\n",
            "17/17 - 0s - loss: 0.4695 - binary_accuracy: 0.8015 - val_loss: 0.5091 - val_binary_accuracy: 0.8298 - 75ms/epoch - 4ms/step\n",
            "Epoch 4/100\n",
            "17/17 - 0s - loss: 0.5358 - binary_accuracy: 0.8015 - val_loss: 0.4882 - val_binary_accuracy: 0.8298 - 99ms/epoch - 6ms/step\n",
            "Epoch 5/100\n",
            "17/17 - 0s - loss: 0.4596 - binary_accuracy: 0.8309 - val_loss: 0.4714 - val_binary_accuracy: 0.8298 - 97ms/epoch - 6ms/step\n",
            "Epoch 6/100\n",
            "17/17 - 0s - loss: 0.4364 - binary_accuracy: 0.7941 - val_loss: 0.4742 - val_binary_accuracy: 0.8298 - 90ms/epoch - 5ms/step\n",
            "Epoch 7/100\n",
            "17/17 - 0s - loss: 0.4293 - binary_accuracy: 0.8309 - val_loss: 0.4706 - val_binary_accuracy: 0.8085 - 95ms/epoch - 6ms/step\n",
            "Epoch 8/100\n",
            "17/17 - 0s - loss: 0.3686 - binary_accuracy: 0.8603 - val_loss: 0.4325 - val_binary_accuracy: 0.8511 - 114ms/epoch - 7ms/step\n",
            "Epoch 9/100\n",
            "17/17 - 0s - loss: 0.3330 - binary_accuracy: 0.8603 - val_loss: 0.4218 - val_binary_accuracy: 0.8511 - 90ms/epoch - 5ms/step\n",
            "Epoch 10/100\n",
            "17/17 - 0s - loss: 0.3545 - binary_accuracy: 0.8603 - val_loss: 0.4345 - val_binary_accuracy: 0.8298 - 76ms/epoch - 4ms/step\n",
            "Epoch 11/100\n",
            "17/17 - 0s - loss: 0.2785 - binary_accuracy: 0.8971 - val_loss: 0.3916 - val_binary_accuracy: 0.8723 - 85ms/epoch - 5ms/step\n",
            "Epoch 12/100\n",
            "17/17 - 0s - loss: 0.3024 - binary_accuracy: 0.8750 - val_loss: 0.3513 - val_binary_accuracy: 0.8511 - 85ms/epoch - 5ms/step\n",
            "Epoch 13/100\n",
            "17/17 - 0s - loss: 0.3241 - binary_accuracy: 0.8676 - val_loss: 0.3707 - val_binary_accuracy: 0.8511 - 85ms/epoch - 5ms/step\n",
            "Epoch 14/100\n",
            "17/17 - 0s - loss: 0.2755 - binary_accuracy: 0.8750 - val_loss: 0.3469 - val_binary_accuracy: 0.8511 - 76ms/epoch - 4ms/step\n",
            "Epoch 15/100\n",
            "17/17 - 0s - loss: 0.2764 - binary_accuracy: 0.9265 - val_loss: 0.3438 - val_binary_accuracy: 0.8723 - 91ms/epoch - 5ms/step\n",
            "Epoch 16/100\n",
            "17/17 - 0s - loss: 0.3142 - binary_accuracy: 0.8603 - val_loss: 0.3323 - val_binary_accuracy: 0.8511 - 88ms/epoch - 5ms/step\n",
            "Epoch 17/100\n",
            "17/17 - 0s - loss: 0.2352 - binary_accuracy: 0.9191 - val_loss: 0.3125 - val_binary_accuracy: 0.8511 - 93ms/epoch - 5ms/step\n",
            "Epoch 18/100\n",
            "17/17 - 0s - loss: 0.2781 - binary_accuracy: 0.8971 - val_loss: 0.3027 - val_binary_accuracy: 0.8723 - 90ms/epoch - 5ms/step\n",
            "Epoch 19/100\n",
            "17/17 - 0s - loss: 0.1803 - binary_accuracy: 0.9559 - val_loss: 0.2911 - val_binary_accuracy: 0.8723 - 108ms/epoch - 6ms/step\n",
            "Epoch 20/100\n",
            "17/17 - 0s - loss: 0.2256 - binary_accuracy: 0.9044 - val_loss: 0.2743 - val_binary_accuracy: 0.8936 - 92ms/epoch - 5ms/step\n",
            "Epoch 21/100\n",
            "17/17 - 0s - loss: 0.2395 - binary_accuracy: 0.9265 - val_loss: 0.2604 - val_binary_accuracy: 0.8511 - 87ms/epoch - 5ms/step\n",
            "Epoch 22/100\n",
            "17/17 - 0s - loss: 0.2614 - binary_accuracy: 0.9191 - val_loss: 0.2919 - val_binary_accuracy: 0.8723 - 83ms/epoch - 5ms/step\n",
            "Epoch 23/100\n",
            "17/17 - 0s - loss: 0.2451 - binary_accuracy: 0.9118 - val_loss: 0.2770 - val_binary_accuracy: 0.8511 - 77ms/epoch - 5ms/step\n",
            "Epoch 24/100\n",
            "17/17 - 0s - loss: 0.2220 - binary_accuracy: 0.9191 - val_loss: 0.2444 - val_binary_accuracy: 0.8936 - 86ms/epoch - 5ms/step\n",
            "Epoch 25/100\n",
            "17/17 - 0s - loss: 0.1961 - binary_accuracy: 0.9191 - val_loss: 0.2474 - val_binary_accuracy: 0.9149 - 84ms/epoch - 5ms/step\n",
            "Epoch 26/100\n",
            "17/17 - 0s - loss: 0.2012 - binary_accuracy: 0.9118 - val_loss: 0.2691 - val_binary_accuracy: 0.8936 - 88ms/epoch - 5ms/step\n",
            "Epoch 27/100\n",
            "17/17 - 0s - loss: 0.1743 - binary_accuracy: 0.9338 - val_loss: 0.2443 - val_binary_accuracy: 0.8936 - 95ms/epoch - 6ms/step\n",
            "Epoch 28/100\n",
            "17/17 - 0s - loss: 0.1188 - binary_accuracy: 0.9706 - val_loss: 0.2727 - val_binary_accuracy: 0.8936 - 72ms/epoch - 4ms/step\n",
            "Epoch 29/100\n",
            "17/17 - 0s - loss: 0.1895 - binary_accuracy: 0.9118 - val_loss: 0.2424 - val_binary_accuracy: 0.8723 - 83ms/epoch - 5ms/step\n",
            "Epoch 30/100\n",
            "17/17 - 0s - loss: 0.1635 - binary_accuracy: 0.9412 - val_loss: 0.2547 - val_binary_accuracy: 0.8723 - 86ms/epoch - 5ms/step\n",
            "Epoch 31/100\n",
            "17/17 - 0s - loss: 0.1460 - binary_accuracy: 0.9706 - val_loss: 0.3092 - val_binary_accuracy: 0.8511 - 79ms/epoch - 5ms/step\n",
            "Epoch 32/100\n",
            "17/17 - 0s - loss: 0.1303 - binary_accuracy: 0.9485 - val_loss: 0.3139 - val_binary_accuracy: 0.8511 - 70ms/epoch - 4ms/step\n",
            "Epoch 33/100\n",
            "17/17 - 0s - loss: 0.1666 - binary_accuracy: 0.9412 - val_loss: 0.2622 - val_binary_accuracy: 0.8298 - 76ms/epoch - 4ms/step\n",
            "Epoch 34/100\n",
            "17/17 - 0s - loss: 0.1676 - binary_accuracy: 0.9412 - val_loss: 0.2576 - val_binary_accuracy: 0.8723 - 86ms/epoch - 5ms/step\n",
            "Epoch 35/100\n",
            "17/17 - 0s - loss: 0.1491 - binary_accuracy: 0.9118 - val_loss: 0.2610 - val_binary_accuracy: 0.8936 - 97ms/epoch - 6ms/step\n",
            "Epoch 36/100\n",
            "17/17 - 0s - loss: 0.1420 - binary_accuracy: 0.9485 - val_loss: 0.2659 - val_binary_accuracy: 0.9149 - 78ms/epoch - 5ms/step\n",
            "Epoch 37/100\n",
            "17/17 - 0s - loss: 0.1429 - binary_accuracy: 0.9485 - val_loss: 0.2475 - val_binary_accuracy: 0.8723 - 89ms/epoch - 5ms/step\n",
            "Epoch 38/100\n",
            "17/17 - 0s - loss: 0.2179 - binary_accuracy: 0.8971 - val_loss: 0.3243 - val_binary_accuracy: 0.8511 - 87ms/epoch - 5ms/step\n",
            "Epoch 39/100\n",
            "17/17 - 0s - loss: 0.1583 - binary_accuracy: 0.9485 - val_loss: 0.2706 - val_binary_accuracy: 0.8723 - 79ms/epoch - 5ms/step\n",
            "Epoch 40/100\n",
            "17/17 - 0s - loss: 0.1536 - binary_accuracy: 0.9118 - val_loss: 0.3062 - val_binary_accuracy: 0.8723 - 81ms/epoch - 5ms/step\n",
            "Epoch 41/100\n",
            "17/17 - 0s - loss: 0.1885 - binary_accuracy: 0.9191 - val_loss: 0.2595 - val_binary_accuracy: 0.8511 - 76ms/epoch - 4ms/step\n",
            "Epoch 42/100\n",
            "17/17 - 0s - loss: 0.2038 - binary_accuracy: 0.9265 - val_loss: 0.2486 - val_binary_accuracy: 0.8936 - 84ms/epoch - 5ms/step\n",
            "Epoch 43/100\n",
            "17/17 - 0s - loss: 0.1226 - binary_accuracy: 0.9559 - val_loss: 0.2358 - val_binary_accuracy: 0.9149 - 81ms/epoch - 5ms/step\n",
            "Epoch 44/100\n",
            "17/17 - 0s - loss: 0.1180 - binary_accuracy: 0.9706 - val_loss: 0.2213 - val_binary_accuracy: 0.8936 - 91ms/epoch - 5ms/step\n",
            "Epoch 45/100\n",
            "17/17 - 0s - loss: 0.1443 - binary_accuracy: 0.9485 - val_loss: 0.2675 - val_binary_accuracy: 0.8723 - 80ms/epoch - 5ms/step\n",
            "Epoch 46/100\n",
            "17/17 - 0s - loss: 0.2201 - binary_accuracy: 0.9338 - val_loss: 0.2555 - val_binary_accuracy: 0.8723 - 90ms/epoch - 5ms/step\n",
            "Epoch 47/100\n",
            "17/17 - 0s - loss: 0.1859 - binary_accuracy: 0.9191 - val_loss: 0.2356 - val_binary_accuracy: 0.8936 - 78ms/epoch - 5ms/step\n",
            "Epoch 48/100\n",
            "17/17 - 0s - loss: 0.1222 - binary_accuracy: 0.9485 - val_loss: 0.2431 - val_binary_accuracy: 0.9149 - 77ms/epoch - 5ms/step\n",
            "Epoch 49/100\n",
            "17/17 - 0s - loss: 0.1140 - binary_accuracy: 0.9632 - val_loss: 0.2103 - val_binary_accuracy: 0.9362 - 77ms/epoch - 5ms/step\n",
            "Epoch 50/100\n",
            "17/17 - 0s - loss: 0.1641 - binary_accuracy: 0.9485 - val_loss: 0.2607 - val_binary_accuracy: 0.8723 - 83ms/epoch - 5ms/step\n",
            "Epoch 51/100\n",
            "17/17 - 0s - loss: 0.1034 - binary_accuracy: 0.9559 - val_loss: 0.2076 - val_binary_accuracy: 0.9149 - 92ms/epoch - 5ms/step\n",
            "Epoch 52/100\n",
            "17/17 - 0s - loss: 0.0967 - binary_accuracy: 0.9706 - val_loss: 0.1730 - val_binary_accuracy: 0.9574 - 75ms/epoch - 4ms/step\n",
            "Epoch 53/100\n",
            "17/17 - 0s - loss: 0.1922 - binary_accuracy: 0.9412 - val_loss: 0.1892 - val_binary_accuracy: 0.9362 - 89ms/epoch - 5ms/step\n",
            "Epoch 54/100\n",
            "17/17 - 0s - loss: 0.1089 - binary_accuracy: 0.9559 - val_loss: 0.1670 - val_binary_accuracy: 0.9574 - 86ms/epoch - 5ms/step\n",
            "Epoch 55/100\n",
            "17/17 - 0s - loss: 0.1392 - binary_accuracy: 0.9338 - val_loss: 0.1917 - val_binary_accuracy: 0.9149 - 78ms/epoch - 5ms/step\n",
            "Epoch 56/100\n",
            "17/17 - 0s - loss: 0.1535 - binary_accuracy: 0.9412 - val_loss: 0.1782 - val_binary_accuracy: 0.8936 - 89ms/epoch - 5ms/step\n",
            "Epoch 57/100\n",
            "17/17 - 0s - loss: 0.1136 - binary_accuracy: 0.9779 - val_loss: 0.1730 - val_binary_accuracy: 0.9362 - 75ms/epoch - 4ms/step\n",
            "Epoch 58/100\n",
            "17/17 - 0s - loss: 0.1405 - binary_accuracy: 0.9485 - val_loss: 0.1742 - val_binary_accuracy: 0.9149 - 91ms/epoch - 5ms/step\n",
            "Epoch 59/100\n",
            "17/17 - 0s - loss: 0.0911 - binary_accuracy: 0.9706 - val_loss: 0.1681 - val_binary_accuracy: 0.9149 - 76ms/epoch - 4ms/step\n",
            "Epoch 60/100\n",
            "17/17 - 0s - loss: 0.1388 - binary_accuracy: 0.9632 - val_loss: 0.1586 - val_binary_accuracy: 0.8936 - 92ms/epoch - 5ms/step\n",
            "Epoch 61/100\n",
            "17/17 - 0s - loss: 0.1445 - binary_accuracy: 0.9485 - val_loss: 0.1817 - val_binary_accuracy: 0.8723 - 79ms/epoch - 5ms/step\n",
            "Epoch 62/100\n",
            "17/17 - 0s - loss: 0.1535 - binary_accuracy: 0.9485 - val_loss: 0.2183 - val_binary_accuracy: 0.8723 - 80ms/epoch - 5ms/step\n",
            "Epoch 63/100\n",
            "17/17 - 0s - loss: 0.1469 - binary_accuracy: 0.9485 - val_loss: 0.2275 - val_binary_accuracy: 0.8723 - 76ms/epoch - 4ms/step\n",
            "Epoch 64/100\n",
            "17/17 - 0s - loss: 0.1015 - binary_accuracy: 0.9706 - val_loss: 0.1973 - val_binary_accuracy: 0.8936 - 77ms/epoch - 5ms/step\n",
            "Epoch 65/100\n",
            "17/17 - 0s - loss: 0.1205 - binary_accuracy: 0.9412 - val_loss: 0.2440 - val_binary_accuracy: 0.8936 - 76ms/epoch - 4ms/step\n",
            "Epoch 66/100\n",
            "17/17 - 0s - loss: 0.1331 - binary_accuracy: 0.9559 - val_loss: 0.2222 - val_binary_accuracy: 0.9149 - 101ms/epoch - 6ms/step\n",
            "Epoch 67/100\n",
            "17/17 - 0s - loss: 0.1564 - binary_accuracy: 0.9485 - val_loss: 0.2291 - val_binary_accuracy: 0.9149 - 84ms/epoch - 5ms/step\n",
            "Epoch 68/100\n",
            "17/17 - 0s - loss: 0.1009 - binary_accuracy: 0.9779 - val_loss: 0.2326 - val_binary_accuracy: 0.9149 - 85ms/epoch - 5ms/step\n",
            "Epoch 69/100\n",
            "17/17 - 0s - loss: 0.1072 - binary_accuracy: 0.9559 - val_loss: 0.2138 - val_binary_accuracy: 0.8936 - 74ms/epoch - 4ms/step\n",
            "Epoch 70/100\n",
            "17/17 - 0s - loss: 0.1365 - binary_accuracy: 0.9559 - val_loss: 0.3039 - val_binary_accuracy: 0.8298 - 80ms/epoch - 5ms/step\n",
            "Epoch 71/100\n",
            "17/17 - 0s - loss: 0.0984 - binary_accuracy: 0.9706 - val_loss: 0.2585 - val_binary_accuracy: 0.8723 - 73ms/epoch - 4ms/step\n",
            "Epoch 72/100\n",
            "17/17 - 0s - loss: 0.1710 - binary_accuracy: 0.9412 - val_loss: 0.2429 - val_binary_accuracy: 0.9149 - 73ms/epoch - 4ms/step\n",
            "Epoch 73/100\n",
            "17/17 - 0s - loss: 0.1203 - binary_accuracy: 0.9559 - val_loss: 0.2663 - val_binary_accuracy: 0.8936 - 79ms/epoch - 5ms/step\n",
            "Epoch 74/100\n",
            "17/17 - 0s - loss: 0.0629 - binary_accuracy: 0.9926 - val_loss: 0.2374 - val_binary_accuracy: 0.9149 - 95ms/epoch - 6ms/step\n",
            "Epoch 75/100\n",
            "17/17 - 0s - loss: 0.0840 - binary_accuracy: 0.9779 - val_loss: 0.2220 - val_binary_accuracy: 0.9149 - 75ms/epoch - 4ms/step\n",
            "Epoch 76/100\n",
            "17/17 - 0s - loss: 0.0994 - binary_accuracy: 0.9559 - val_loss: 0.2163 - val_binary_accuracy: 0.8936 - 71ms/epoch - 4ms/step\n",
            "Epoch 77/100\n",
            "17/17 - 0s - loss: 0.0502 - binary_accuracy: 0.9926 - val_loss: 0.2157 - val_binary_accuracy: 0.9149 - 78ms/epoch - 5ms/step\n",
            "Epoch 78/100\n",
            "17/17 - 0s - loss: 0.0929 - binary_accuracy: 0.9632 - val_loss: 0.1938 - val_binary_accuracy: 0.9149 - 95ms/epoch - 6ms/step\n",
            "Epoch 79/100\n",
            "17/17 - 0s - loss: 0.0807 - binary_accuracy: 0.9632 - val_loss: 0.2165 - val_binary_accuracy: 0.9149 - 76ms/epoch - 4ms/step\n",
            "Epoch 80/100\n",
            "17/17 - 0s - loss: 0.1280 - binary_accuracy: 0.9559 - val_loss: 0.2379 - val_binary_accuracy: 0.8936 - 85ms/epoch - 5ms/step\n"
          ]
        },
        {
          "output_type": "execute_result",
          "data": {
            "text/plain": [
              "<matplotlib.axes._subplots.AxesSubplot at 0x7f543fb6a7d0>"
            ]
          },
          "metadata": {},
          "execution_count": 71
        },
        {
          "output_type": "display_data",
          "data": {
            "image/png": "[encoded data removed]",
            "text/plain": [
              "<Figure size 432x288 with 1 Axes>"
            ]
          },
          "metadata": {
            "needs_background": "light"
          }
        },
        {
          "output_type": "display_data",
          "data": {
            "image/png": "[encoded data removed]",
            "text/plain": [
              "<Figure size 432x288 with 1 Axes>"
            ]
          },
          "metadata": {
            "needs_background": "light"
          }
        }
      ]
    },
    {
      "metadata": {
        "id": "NEqC8o6Kit_f"
      },
      "cell_type": "markdown",
      "source": [
        "# 7) Use parameters learnt by model to make predictions on test set"
      ]
    },
    {
      "metadata": {
        "trusted": true,
        "colab": {
          "base_uri": "https://localhost:8080/"
        },
        "id": "QOgXOJi4it_f",
        "outputId": "73f1e456-cbf8-4bd4-e2f7-843328fec2b4"
      },
      "cell_type": "code",
      "source": [
        "predictions = [round(x[0]) for x in model.predict(X_test)]\n",
        "y = [x for x in y_test]\n",
        "num_true = 0\n",
        "total = len(predictions)\n",
        "print(total)\n",
        "for i in range(len(predictions)):\n",
        "    if predictions[i] == y[i]:\n",
        "        num_true += 1\n",
        "accuracy = (num_true/total)*100\n",
        "\n",
        "print(\"Percent of correct predictions: {}%\".format(accuracy))"
      ],
      "execution_count": null,
      "outputs": [
        {
          "output_type": "stream",
          "name": "stdout",
          "text": [
            "12\n",
            "Percent of correct predictions: 91.66666666666666%\n"
          ]
        }
      ]
    },
    {
      "cell_type": "code",
      "source": [],
      "metadata": {
        "id": "MeioDDnnxz7x"
      },
      "execution_count": null,
      "outputs": []
    }
  ],
  "metadata": {
    "kernelspec": {
      "name": "python3",
      "display_name": "Python 3",
      "language": "python"
    },
    "language_info": {
      "name": "python",
      "version": "3.7.6",
      "mimetype": "text/x-python",
      "codemirror_mode": {
        "name": "ipython",
        "version": 3
      },
      "pygments_lexer": "ipython3",
      "nbconvert_exporter": "python",
      "file_extension": ".py"
    },
    "colab": {
      "provenance": [],
      "collapsed_sections": [
        "lqSSHhzUit_W",
        "-QdPVoP5it_a"
      ]
    }
  },
  "nbformat": 4,
  "nbformat_minor": 0
}